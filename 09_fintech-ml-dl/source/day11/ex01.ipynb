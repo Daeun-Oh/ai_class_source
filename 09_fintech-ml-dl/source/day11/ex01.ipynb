{
 "cells": [
  {
   "cell_type": "markdown",
   "id": "a93c670a",
   "metadata": {},
   "source": [
    "# 딥러닝 - 이미지를 위한 인공 신경망\n",
    "\n",
    "# 합성곱 신경망의 구성 요소\n",
    "\n",
    "## 키워드 정리\n",
    "\n",
    "- **합성곱**\n",
    "    - 이미지의 지역적인 특징(특성)을 추출하기 위한 연산 방법\n",
    "    - 밀집층과 비슷하게 입력과 가중치를 곱하고 절편을 더하는 선형 계산\n",
    "    - 하지만 밀집층과 달리 각 합성곱은 입력 전체가 아니라 **일부만 사용**하여 선형 계산을 수행함\n",
    "    > <span style=\"font-size:20px;\"><b>왜 사용하는가?</b></span>\\\n",
    "    전체 이미지를 한꺼번에 처리하는 대신, 작은 영역에서 중요한 특징을 추출해 학습의 효율을 높임.\\\n",
    "    같은 필터를 전체 이미지에 공유하기 때문에, 파라미터 수를 줄이고 일반화 성능도 좋아짐.\\\n",
    "    이후 단계(예: 분류기)에 전달할 중요한 특징들을 자동으로 학습할 수 있다.\\\n",
    "    궁극적으로 합성곱을 통해 <span style=\"color:violet\"><b>각 필터(커널)의 가중치들과 절편을 구하는 것이 목적</b></span>이다.\n",
    "    \n",
    "- **필터**\n",
    "    - 필터(커널): 특성맵을 만들기 위해 가중치와 절편을 모아놓은 것\n",
    "    - 합성곱 층의 필터는 밀집층의 뉴런에 해당함\n",
    "    - 필터의 가중치와 절편을 종종 **커널**이라고 부름\n",
    "    - 자주 사용되는 커널의 크기는 (3,3) 또는 (5,5)\n",
    "    - 커널의 깊이는 입력의 깊이와 같다\n",
    "\n",
    "- **특성 맵**\n",
    "    - 합성곱 층이나 풀링 층의 출력 배열을 의미함\n",
    "    - **필터 하나**가 **하나의 특성 맵**을 만든다. 즉, `필터의 개수 = 특성맵의 개수`\\\n",
    "    ex) 합성곱 층에서 5개의 필터를 적용하면 5개의 특성 맵이 만들어짐\n",
    "\n",
    "- **패딩**\n",
    "    - 합성곱 층의 입력 주위에 추가한 0으로 채워진 픽셀\n",
    "    - **밸리드 패딩**: 패딩을 사용하지 않는 것\n",
    "    - **세임 패딩(Same Padding)**: 합성곱 층의 출력 크기를 입력과 동일하게 만들기 위해 입력에 패딩을 추가하는 것\\\n",
    "    즉, `이미지(입력) 크기 = 특성맵(출력) 크기`로 만드는 것\n",
    "\n",
    "- **스트라이드**\n",
    "    - 합성곱 층에서 필터가 입력 위를 이동하는 크기\n",
    "    - 일반적으로 스트라이드는 1픽셀을 사용함\n",
    "\n",
    "- **풀링**\n",
    "    - 특성맵에서 **대표값**을 가져와서 차원 축소\n",
    "    - 풀링은 가중치가 없고 특성 맵의 가로세로 크기를 줄이는 역할을 수행\n",
    "    - 대표적으로 최대 풀링과 평균 풀링이 있으며 (2, 2) 풀링으로 입력을 절반으로 줄임\n",
    "    - 방식:\n",
    "        - max pooling😀: <span style=\"color:limegreen\"><u>최댓값</u></span>이 대표값\n",
    "        - min pooling: <span style=\"color:limegreen\"><u>최솟값</u></span>이 대표값\n",
    "        - average pooling: <span style=\"color:limegreen\"><u>평균</u></span>이 대표값\n",
    "    - 장점: 전체적으로 볼 수 있고, 양이 줄어 학습의 효율이 올라감\n",
    "\n",
    "- **합성곱**\n",
    "    - 합성곱(convolution)은 마치 입력 데이터에 마법의 도장을 찍어서 **유용한 특성만 드러나게 하는 것**으로 비유할 수 있다\n",
    "    - 합성곱의 동작 원리는 아래와 같다\n",
    "\n",
    "## 합성곱의 동작 원리\n",
    "\n",
    "<div align=\"center\">\n",
    "    <br>\n",
    "    <img src=\"../lecture_images/day11_dl_convolution_1.png\" alt=\"convolution1\" width=\"700\"/>\n",
    "</div>\n",
    "\n",
    "### 그림 설명\n",
    "- 왼쪽 아래 행렬: 이미지\n",
    "- 3D 구조: 필터, 커널 (필터의 사이즈(개수)는 하이퍼파라미터, 일반적으로는 32, 64, 128, ... / 커널의 사이즈(3*3)도 하이퍼파라미터)\n",
    "\n",
    "### 특성맵 만드는 과정\n",
    "- 필터의 크기만큼(3*3) 이동하며 필터의 가중치를 같은 위치의 픽셀값끼리 곱해서 더한다. → 하나의 특성\n",
    "$$\n",
    "3 \\times w_1 + 1 \\times w_2 + 0 \\times w_3 + 6 \\times w_4 + 4 \\times w_5 + 8 \\times w_6 + 4 \\times w_7 + 5 \\times w_8 + 1 \\times w_9 + b\n",
    "$$\n",
    "- 위의 과정을 총 4번 할 것이다. → 특성맵\n",
    "```text\n",
    "[예시 그림]\n",
    "\n",
    "   특성맵\n",
    "┌────┬────┐\n",
    "│  7 │ 10 │\n",
    "├────┼────┤\n",
    "│ 20 │  3 │\n",
    "└────┴────┘\n",
    "```\n",
    "- 필터(커널)의 가중치는 **학습**을 통해 **경사 하강법(GD)**으로 loss를 구하고 지속적으로 업데이트된다.\n",
    "- 풀링을 통해 차원 축소 (보통 반으로 줄어듦)\n",
    "```text\n",
    "[예시 그림]\n",
    "max pooling: 일반적인 방법\n",
    "\n",
    "   특성맵         풀링 후\n",
    "┌────┬────┐\n",
    "│  7 │ 10 │      ┌────┐\n",
    "├────┼────┤  ->  │ 20 │\n",
    "│ 20 │  3 │      └────┘\n",
    "└────┴────┘\n",
    "```\n",
    "- 패딩을 통해 입력 차원(이미지)와 출력 차원(특성맵)을 같게 만들어 준다.\\\n",
    "모서리 부분을 좀 더 면밀하게 학습할 수 있다\n",
    "\n",
    "```text\n",
    "[예시 그림]\n",
    "\n",
    "0. 이미지 입력 및 필터 설정\n",
    "이미지 크기: 3 x 3\n",
    "필터 크기: 2 x 2\n",
    "\n",
    "[입력 이미지 예시]\n",
    "┌────┬────┬────┐\n",
    "│  7 │ 10 │  5 │\n",
    "├────┼────┼────┤\n",
    "│ 20 │  3 │  6 │\n",
    "├────┼────┼────┤\n",
    "│  9 │ 43 │ 39 │\n",
    "└────┴────┴────┘\n",
    "\n",
    "1-1. 그대로 합성곱을 하면?\n",
    "이미지 크기: 3 x 3\n",
    "특성맵 크기: 2 x 2\n",
    "\n",
    "문제점❗\n",
    "- 모서리 픽셀(7, 5, 9, 39)은 딱 한 번만 필터에 포함됨\n",
    "- 중앙 쪽 픽셀값(3)은 무려 4번이나 반복 검증됨\n",
    "→ 가장자리 정보가 충분히 반영되지 않는다\n",
    "\n",
    "1-2. 패딩을 넣어주면?\n",
    "이미지 크기: 3 x 3 → 5 x 5\n",
    "특성맵 크기: 3 x 3\n",
    "\n",
    "장점✨\n",
    "- 모서리 픽셀(7, 5, 9, 39)은 이제 2번씩 필터에 포함됨\n",
    "- 중앙 픽셀(3)은 또 9번 검증되긴 하지만, 입력 이미지 크기가 커질수록 횟수가 줄어들 것이다\n",
    "→ 가장자리 정보도 더 학습에 반영되므로, 전체 인식이 더 정교해졌다\n",
    "\n",
    "2. 풀링하면?\n",
    "특성맵 크기: 1 x 1\n",
    "\n",
    "   입력 이미지            패딩이 추가된 입력 이미지             특성 맵             풀링 후\n",
    "                      ┌────┬────┬────┬────┬────┐                 \n",
    "                      │  0 │  0 │  0 │  0 │  0 │                            \n",
    "┌────┬────┬────┐      ├────┼────┼────┼────┼────┤      ┌────┬────┬────┐\n",
    "│  7 │ 10 │  5 │      │  0 │  7 │ 10 │  5 │  0 │      │ 20 │ 20 │ 10 │\n",
    "├────┼────┼────┤      ├────┼────┼────┼────┼────┤      ├────┼────┼────┤        ┌────┐\n",
    "│ 20 │  3 │  6 │  ->  │  0 │ 20 │  3 │  6 │  0 │  ->  │ 43 │ 43 │ 43 │   ->   │ 43 │\n",
    "├────┼────┼────┤      ├────┼────┼────┼────┼────┤      ├────┼────┼────┤        └────┘\n",
    "│  9 │ 43 │ 39 │      │  0 │  9 │ 43 │ 39 │  0 │      │ 43 │ 43 │ 43 │\n",
    "└────┴────┴────┘      ├────┼────┼────┼────┼────┤      └────┴────┴────┘\n",
    "                      │  0 │  0 │  0 │  0 │  0 │\n",
    "                      └────┴────┴────┴────┴────┘\n",
    "```\n",
    "\n",
    "<div align=\"center\">\n",
    "    <br>\n",
    "    <img src=\"../lecture_images/day11_dl_convolution_2.png\" alt=\"convolution2\" width=\"700\"/>\n",
    "</div>"
   ]
  },
  {
   "cell_type": "markdown",
   "id": "767d6c1a",
   "metadata": {},
   "source": [
    "# 합성곱 신경망을 사용한 이미지 분류\n",
    "## 키워드 정리\n",
    "- Tensorflow\n",
    "Conv2D : 입력의 너비와 높이 방향의 합성곱 연산을 구현한 클래스입니다.\n",
    "첫 번째 매개변수는 합성곱 필터의 개수입니다.\n",
    "kernel_size 매개변수는 필터의 커널 크기를 지정합니다. 가로세로 크기가 같은 경우 정수 하나로, 다른 경우 정수의 튜플로 지정할 수 있습니다. 일반적으로 커널의 가로세로 크기는 동일합니다. 커널의 깊이는 입력의 깊이와 동일하게 때문에 따로 지정하지 않습니다.\n",
    "strides 매개변수는 필터의 이동 간격을 지정합니다. 가로세로 크기가 같은 경우 정수 하나로, 다른 경우 정수의 튜플로 지정할 수 있습니다. 일반적으로 가로세로 스트라이드 크기는 동일합니다. 기본값은 1입니다.\n",
    "padding 매개변수는 입력의 패딩 타입을 지정합니다. 기본값 valid는 패딩을 하지 않습니다. same은 합성곱 층의 출력의 가로세로 크기를 입력과 동일하게 맞추도록 입력에 패딩을 추가합니다.\n",
    "activation 매개변수는 합성곱 층에 적용할 활성화 함수를 지정합니다.\n",
    "MaxPooling2D : 입력의 너비와 높이를 줄이는 풀링 연산을 구현한 클래스입니다.\n",
    "첫 번째 매개변수는 풀링의 크기를 지정하며, 가로세로 크기가 같은 경우 정수 하나로, 다른 경우 정수의 튜플로 지정할 수 있습니다. 일반적으로 풀링의 가로세로 크기는 같게 지정합니다.\n",
    "strides 매개변수는 풀링의 이동 간격을 지정합니다. 기본값은 풀링의 크기와 동일합니다. 즉 입력 위를 겹쳐서 풀링하지 않습니다.\n",
    "padding 매개변수는 입력의 패딩 타입을 지정합니다. 기본값은 valid는 패딩을 하지 않습니다. same은 합성곱 층의 출력의 가로세로 크기를 입력과 동일하게 맞추도록 입력에 패딩을 추가합니다.\n",
    "plot_model() : 케라스 모델 구조를 주피터 노트북에 그리거나 파일로 저장합니다.\n",
    "첫 번째 매개변수에 케라스 모델 객체를 전달합니다.\n",
    "to_file 매개변수에 파일 이름을 지정하면 그림을 파일로 저장합니다.\n",
    "show_shapes 매개변수를 True로 지정하면 층의 입력, 출력 크기를 표시합니다. 기본값은 False입니다.\n",
    "show_layer_names 매개변수를 True로 지정하면 층 이름을 출력합니다. 기본값이 True입니다.\n",
    "matplotlib\n",
    "**bar()**는 막대그래프를 출력합니다.\n",
    "첫 번쨰 매개변수에 x축의 값을 리스트나 넘파이 배열로 전달합니다.\n",
    "두 번째 매개변수에 막대의 y축 값을 리스트나 넘파이 배열로 전달합니다.\n",
    "width 매개변수에서 막대의 두께를 지정할 수 있습니다. 기본값은 0.8입니다."
   ]
  },
  {
   "cell_type": "code",
   "execution_count": 35,
   "id": "d09df3b1",
   "metadata": {},
   "outputs": [],
   "source": [
    "# Fashion MNIST 데이터 불러오기\n",
    "\n",
    "import tensorflow as tf\n",
    "\n",
    "(train_input, train_target), (test_input, test_target) =\\\n",
    "    tf.keras.datasets.fashion_mnist.load_data()"
   ]
  },
  {
   "cell_type": "code",
   "execution_count": 36,
   "id": "d5c096ef",
   "metadata": {},
   "outputs": [],
   "source": [
    "# Conv2D 데이터는 반드시 채널 차원 정보를 명시\n",
    "train_input = train_input.reshape(-1, 28, 28, 1)  # 1: 흑백 채널 수, 3: 컬러 채널 수"
   ]
  },
  {
   "cell_type": "code",
   "execution_count": 37,
   "id": "9fed6052",
   "metadata": {},
   "outputs": [],
   "source": [
    "# 정규화 (0~1)\n",
    "train_scaled = train_input / 255.0"
   ]
  },
  {
   "cell_type": "code",
   "execution_count": 38,
   "id": "81ef7d4d",
   "metadata": {},
   "outputs": [],
   "source": [
    "# 학습/검증 세트 분리\n",
    "\n",
    "from sklearn.model_selection import train_test_split\n",
    "\n",
    "train_scaled, val_scaled, train_target, val_target = train_test_split(\n",
    "    train_scaled, train_target, test_size=0.2, random_state=42\n",
    ")"
   ]
  },
  {
   "cell_type": "code",
   "execution_count": 39,
   "id": "3ca89d5d",
   "metadata": {},
   "outputs": [
    {
     "data": {
      "text/html": [
       "<pre style=\"white-space:pre;overflow-x:auto;line-height:normal;font-family:Menlo,'DejaVu Sans Mono',consolas,'Courier New',monospace\"><span style=\"font-weight: bold\">Model: \"sequential_7\"</span>\n",
       "</pre>\n"
      ],
      "text/plain": [
       "\u001b[1mModel: \"sequential_7\"\u001b[0m\n"
      ]
     },
     "metadata": {},
     "output_type": "display_data"
    },
    {
     "data": {
      "text/html": [
       "<pre style=\"white-space:pre;overflow-x:auto;line-height:normal;font-family:Menlo,'DejaVu Sans Mono',consolas,'Courier New',monospace\">┏━━━━━━━━━━━━━━━━━━━━━━━━━━━━━━━━━┳━━━━━━━━━━━━━━━━━━━━━━━━┳━━━━━━━━━━━━━━━┓\n",
       "┃<span style=\"font-weight: bold\"> Layer (type)                    </span>┃<span style=\"font-weight: bold\"> Output Shape           </span>┃<span style=\"font-weight: bold\">       Param # </span>┃\n",
       "┡━━━━━━━━━━━━━━━━━━━━━━━━━━━━━━━━━╇━━━━━━━━━━━━━━━━━━━━━━━━╇━━━━━━━━━━━━━━━┩\n",
       "│ conv2d_12 (<span style=\"color: #0087ff; text-decoration-color: #0087ff\">Conv2D</span>)              │ (<span style=\"color: #00d7ff; text-decoration-color: #00d7ff\">None</span>, <span style=\"color: #00af00; text-decoration-color: #00af00\">28</span>, <span style=\"color: #00af00; text-decoration-color: #00af00\">28</span>, <span style=\"color: #00af00; text-decoration-color: #00af00\">32</span>)     │           <span style=\"color: #00af00; text-decoration-color: #00af00\">320</span> │\n",
       "├─────────────────────────────────┼────────────────────────┼───────────────┤\n",
       "│ max_pooling2d_9 (<span style=\"color: #0087ff; text-decoration-color: #0087ff\">MaxPooling2D</span>)  │ (<span style=\"color: #00d7ff; text-decoration-color: #00d7ff\">None</span>, <span style=\"color: #00af00; text-decoration-color: #00af00\">14</span>, <span style=\"color: #00af00; text-decoration-color: #00af00\">14</span>, <span style=\"color: #00af00; text-decoration-color: #00af00\">32</span>)     │             <span style=\"color: #00af00; text-decoration-color: #00af00\">0</span> │\n",
       "├─────────────────────────────────┼────────────────────────┼───────────────┤\n",
       "│ conv2d_13 (<span style=\"color: #0087ff; text-decoration-color: #0087ff\">Conv2D</span>)              │ (<span style=\"color: #00d7ff; text-decoration-color: #00d7ff\">None</span>, <span style=\"color: #00af00; text-decoration-color: #00af00\">14</span>, <span style=\"color: #00af00; text-decoration-color: #00af00\">14</span>, <span style=\"color: #00af00; text-decoration-color: #00af00\">64</span>)     │        <span style=\"color: #00af00; text-decoration-color: #00af00\">18,496</span> │\n",
       "├─────────────────────────────────┼────────────────────────┼───────────────┤\n",
       "│ max_pooling2d_10 (<span style=\"color: #0087ff; text-decoration-color: #0087ff\">MaxPooling2D</span>) │ (<span style=\"color: #00d7ff; text-decoration-color: #00d7ff\">None</span>, <span style=\"color: #00af00; text-decoration-color: #00af00\">7</span>, <span style=\"color: #00af00; text-decoration-color: #00af00\">7</span>, <span style=\"color: #00af00; text-decoration-color: #00af00\">64</span>)       │             <span style=\"color: #00af00; text-decoration-color: #00af00\">0</span> │\n",
       "└─────────────────────────────────┴────────────────────────┴───────────────┘\n",
       "</pre>\n"
      ],
      "text/plain": [
       "┏━━━━━━━━━━━━━━━━━━━━━━━━━━━━━━━━━┳━━━━━━━━━━━━━━━━━━━━━━━━┳━━━━━━━━━━━━━━━┓\n",
       "┃\u001b[1m \u001b[0m\u001b[1mLayer (type)                   \u001b[0m\u001b[1m \u001b[0m┃\u001b[1m \u001b[0m\u001b[1mOutput Shape          \u001b[0m\u001b[1m \u001b[0m┃\u001b[1m \u001b[0m\u001b[1m      Param #\u001b[0m\u001b[1m \u001b[0m┃\n",
       "┡━━━━━━━━━━━━━━━━━━━━━━━━━━━━━━━━━╇━━━━━━━━━━━━━━━━━━━━━━━━╇━━━━━━━━━━━━━━━┩\n",
       "│ conv2d_12 (\u001b[38;5;33mConv2D\u001b[0m)              │ (\u001b[38;5;45mNone\u001b[0m, \u001b[38;5;34m28\u001b[0m, \u001b[38;5;34m28\u001b[0m, \u001b[38;5;34m32\u001b[0m)     │           \u001b[38;5;34m320\u001b[0m │\n",
       "├─────────────────────────────────┼────────────────────────┼───────────────┤\n",
       "│ max_pooling2d_9 (\u001b[38;5;33mMaxPooling2D\u001b[0m)  │ (\u001b[38;5;45mNone\u001b[0m, \u001b[38;5;34m14\u001b[0m, \u001b[38;5;34m14\u001b[0m, \u001b[38;5;34m32\u001b[0m)     │             \u001b[38;5;34m0\u001b[0m │\n",
       "├─────────────────────────────────┼────────────────────────┼───────────────┤\n",
       "│ conv2d_13 (\u001b[38;5;33mConv2D\u001b[0m)              │ (\u001b[38;5;45mNone\u001b[0m, \u001b[38;5;34m14\u001b[0m, \u001b[38;5;34m14\u001b[0m, \u001b[38;5;34m64\u001b[0m)     │        \u001b[38;5;34m18,496\u001b[0m │\n",
       "├─────────────────────────────────┼────────────────────────┼───────────────┤\n",
       "│ max_pooling2d_10 (\u001b[38;5;33mMaxPooling2D\u001b[0m) │ (\u001b[38;5;45mNone\u001b[0m, \u001b[38;5;34m7\u001b[0m, \u001b[38;5;34m7\u001b[0m, \u001b[38;5;34m64\u001b[0m)       │             \u001b[38;5;34m0\u001b[0m │\n",
       "└─────────────────────────────────┴────────────────────────┴───────────────┘\n"
      ]
     },
     "metadata": {},
     "output_type": "display_data"
    },
    {
     "data": {
      "text/html": [
       "<pre style=\"white-space:pre;overflow-x:auto;line-height:normal;font-family:Menlo,'DejaVu Sans Mono',consolas,'Courier New',monospace\"><span style=\"font-weight: bold\"> Total params: </span><span style=\"color: #00af00; text-decoration-color: #00af00\">18,816</span> (73.50 KB)\n",
       "</pre>\n"
      ],
      "text/plain": [
       "\u001b[1m Total params: \u001b[0m\u001b[38;5;34m18,816\u001b[0m (73.50 KB)\n"
      ]
     },
     "metadata": {},
     "output_type": "display_data"
    },
    {
     "data": {
      "text/html": [
       "<pre style=\"white-space:pre;overflow-x:auto;line-height:normal;font-family:Menlo,'DejaVu Sans Mono',consolas,'Courier New',monospace\"><span style=\"font-weight: bold\"> Trainable params: </span><span style=\"color: #00af00; text-decoration-color: #00af00\">18,816</span> (73.50 KB)\n",
       "</pre>\n"
      ],
      "text/plain": [
       "\u001b[1m Trainable params: \u001b[0m\u001b[38;5;34m18,816\u001b[0m (73.50 KB)\n"
      ]
     },
     "metadata": {},
     "output_type": "display_data"
    },
    {
     "data": {
      "text/html": [
       "<pre style=\"white-space:pre;overflow-x:auto;line-height:normal;font-family:Menlo,'DejaVu Sans Mono',consolas,'Courier New',monospace\"><span style=\"font-weight: bold\"> Non-trainable params: </span><span style=\"color: #00af00; text-decoration-color: #00af00\">0</span> (0.00 B)\n",
       "</pre>\n"
      ],
      "text/plain": [
       "\u001b[1m Non-trainable params: \u001b[0m\u001b[38;5;34m0\u001b[0m (0.00 B)\n"
      ]
     },
     "metadata": {},
     "output_type": "display_data"
    }
   ],
   "source": [
    "# 층 구성 (합성곱 + 은닉층 + 출력층)\n",
    "\n",
    "model = tf.keras.Sequential()\n",
    "\n",
    "# 입력 층\n",
    "model.add(tf.keras.layers.Input(shape=(28, 28, 1)))  # 합성곱 사용 시 채널 차원 지정이 필수! (1: 흑백)\n",
    "\n",
    "# 합성곱 층 1\n",
    "# : 필터 개수 32, 커널 사이즈 3x3, same padding 적용, 활성화 함수 relu\n",
    "model.add(tf.keras.layers.Conv2D(32, kernel_size=3, padding='same', activation='relu'))\n",
    "\n",
    "# 풀링 층 1\n",
    "model.add(tf.keras.layers.MaxPooling2D())  # 풀링 크기 2x2 (기본값)\n",
    "\n",
    "# 합성곱 층 2 - 모델의 신뢰성을 높이기 위해 합성곱 층 추가\n",
    "# : 필터 개수 64, 커널 사이즈 3x3, same padding 적용, 활성화 함수 relu\n",
    "model.add(tf.keras.layers.Conv2D(64, kernel_size=3, padding='same', activation='relu'))\n",
    "\n",
    "# 풀링 층 2\n",
    "model.add(tf.keras.layers.MaxPooling2D())\n",
    "\n",
    "model.summary()"
   ]
  },
  {
   "cell_type": "markdown",
   "id": "68d993a9",
   "metadata": {},
   "source": [
    "- 합성곱 층 1\n",
    "    - 커널 크기 = 3 x 3\n",
    "    - 입력 채널 수 = 1 (흑백 채널)\n",
    "    - 필터 개수 = 32\n",
    "    - 총 커널 가중치 개수 = 3 x 3 x 1 x 32 = 288\n",
    "    - 총 모델 파라미터 개수 = 커널 가중치 개수 + bias = 288 + 32 = 320\n",
    "- 합성곱 층 2\n",
    "    - 커널 크기 = 3 x 3\n",
    "    - 입력 채널 수 = 32 (이전 층에서 넘어 온 출력 채널 수)\n",
    "    - 필터 개수 = 64\n",
    "    - 총 커널 가중치 개수 = 3 x 3 x 32 x 64 = 18,432\n",
    "    - 총 모델 파라미터 개수 = 커널 가중치 개수 + bias = 18,432 + 64 = 18,496"
   ]
  },
  {
   "cell_type": "code",
   "execution_count": 40,
   "id": "e69590d8",
   "metadata": {},
   "outputs": [
    {
     "data": {
      "text/html": [
       "<pre style=\"white-space:pre;overflow-x:auto;line-height:normal;font-family:Menlo,'DejaVu Sans Mono',consolas,'Courier New',monospace\"><span style=\"font-weight: bold\">Model: \"sequential_7\"</span>\n",
       "</pre>\n"
      ],
      "text/plain": [
       "\u001b[1mModel: \"sequential_7\"\u001b[0m\n"
      ]
     },
     "metadata": {},
     "output_type": "display_data"
    },
    {
     "data": {
      "text/html": [
       "<pre style=\"white-space:pre;overflow-x:auto;line-height:normal;font-family:Menlo,'DejaVu Sans Mono',consolas,'Courier New',monospace\">┏━━━━━━━━━━━━━━━━━━━━━━━━━━━━━━━━━┳━━━━━━━━━━━━━━━━━━━━━━━━┳━━━━━━━━━━━━━━━┓\n",
       "┃<span style=\"font-weight: bold\"> Layer (type)                    </span>┃<span style=\"font-weight: bold\"> Output Shape           </span>┃<span style=\"font-weight: bold\">       Param # </span>┃\n",
       "┡━━━━━━━━━━━━━━━━━━━━━━━━━━━━━━━━━╇━━━━━━━━━━━━━━━━━━━━━━━━╇━━━━━━━━━━━━━━━┩\n",
       "│ conv2d_12 (<span style=\"color: #0087ff; text-decoration-color: #0087ff\">Conv2D</span>)              │ (<span style=\"color: #00d7ff; text-decoration-color: #00d7ff\">None</span>, <span style=\"color: #00af00; text-decoration-color: #00af00\">28</span>, <span style=\"color: #00af00; text-decoration-color: #00af00\">28</span>, <span style=\"color: #00af00; text-decoration-color: #00af00\">32</span>)     │           <span style=\"color: #00af00; text-decoration-color: #00af00\">320</span> │\n",
       "├─────────────────────────────────┼────────────────────────┼───────────────┤\n",
       "│ max_pooling2d_9 (<span style=\"color: #0087ff; text-decoration-color: #0087ff\">MaxPooling2D</span>)  │ (<span style=\"color: #00d7ff; text-decoration-color: #00d7ff\">None</span>, <span style=\"color: #00af00; text-decoration-color: #00af00\">14</span>, <span style=\"color: #00af00; text-decoration-color: #00af00\">14</span>, <span style=\"color: #00af00; text-decoration-color: #00af00\">32</span>)     │             <span style=\"color: #00af00; text-decoration-color: #00af00\">0</span> │\n",
       "├─────────────────────────────────┼────────────────────────┼───────────────┤\n",
       "│ conv2d_13 (<span style=\"color: #0087ff; text-decoration-color: #0087ff\">Conv2D</span>)              │ (<span style=\"color: #00d7ff; text-decoration-color: #00d7ff\">None</span>, <span style=\"color: #00af00; text-decoration-color: #00af00\">14</span>, <span style=\"color: #00af00; text-decoration-color: #00af00\">14</span>, <span style=\"color: #00af00; text-decoration-color: #00af00\">64</span>)     │        <span style=\"color: #00af00; text-decoration-color: #00af00\">18,496</span> │\n",
       "├─────────────────────────────────┼────────────────────────┼───────────────┤\n",
       "│ max_pooling2d_10 (<span style=\"color: #0087ff; text-decoration-color: #0087ff\">MaxPooling2D</span>) │ (<span style=\"color: #00d7ff; text-decoration-color: #00d7ff\">None</span>, <span style=\"color: #00af00; text-decoration-color: #00af00\">7</span>, <span style=\"color: #00af00; text-decoration-color: #00af00\">7</span>, <span style=\"color: #00af00; text-decoration-color: #00af00\">64</span>)       │             <span style=\"color: #00af00; text-decoration-color: #00af00\">0</span> │\n",
       "├─────────────────────────────────┼────────────────────────┼───────────────┤\n",
       "│ flatten_6 (<span style=\"color: #0087ff; text-decoration-color: #0087ff\">Flatten</span>)             │ (<span style=\"color: #00d7ff; text-decoration-color: #00d7ff\">None</span>, <span style=\"color: #00af00; text-decoration-color: #00af00\">3136</span>)           │             <span style=\"color: #00af00; text-decoration-color: #00af00\">0</span> │\n",
       "├─────────────────────────────────┼────────────────────────┼───────────────┤\n",
       "│ dense_11 (<span style=\"color: #0087ff; text-decoration-color: #0087ff\">Dense</span>)                │ (<span style=\"color: #00d7ff; text-decoration-color: #00d7ff\">None</span>, <span style=\"color: #00af00; text-decoration-color: #00af00\">100</span>)            │       <span style=\"color: #00af00; text-decoration-color: #00af00\">313,700</span> │\n",
       "├─────────────────────────────────┼────────────────────────┼───────────────┤\n",
       "│ dropout_5 (<span style=\"color: #0087ff; text-decoration-color: #0087ff\">Dropout</span>)             │ (<span style=\"color: #00d7ff; text-decoration-color: #00d7ff\">None</span>, <span style=\"color: #00af00; text-decoration-color: #00af00\">100</span>)            │             <span style=\"color: #00af00; text-decoration-color: #00af00\">0</span> │\n",
       "├─────────────────────────────────┼────────────────────────┼───────────────┤\n",
       "│ dense_12 (<span style=\"color: #0087ff; text-decoration-color: #0087ff\">Dense</span>)                │ (<span style=\"color: #00d7ff; text-decoration-color: #00d7ff\">None</span>, <span style=\"color: #00af00; text-decoration-color: #00af00\">10</span>)             │         <span style=\"color: #00af00; text-decoration-color: #00af00\">1,010</span> │\n",
       "└─────────────────────────────────┴────────────────────────┴───────────────┘\n",
       "</pre>\n"
      ],
      "text/plain": [
       "┏━━━━━━━━━━━━━━━━━━━━━━━━━━━━━━━━━┳━━━━━━━━━━━━━━━━━━━━━━━━┳━━━━━━━━━━━━━━━┓\n",
       "┃\u001b[1m \u001b[0m\u001b[1mLayer (type)                   \u001b[0m\u001b[1m \u001b[0m┃\u001b[1m \u001b[0m\u001b[1mOutput Shape          \u001b[0m\u001b[1m \u001b[0m┃\u001b[1m \u001b[0m\u001b[1m      Param #\u001b[0m\u001b[1m \u001b[0m┃\n",
       "┡━━━━━━━━━━━━━━━━━━━━━━━━━━━━━━━━━╇━━━━━━━━━━━━━━━━━━━━━━━━╇━━━━━━━━━━━━━━━┩\n",
       "│ conv2d_12 (\u001b[38;5;33mConv2D\u001b[0m)              │ (\u001b[38;5;45mNone\u001b[0m, \u001b[38;5;34m28\u001b[0m, \u001b[38;5;34m28\u001b[0m, \u001b[38;5;34m32\u001b[0m)     │           \u001b[38;5;34m320\u001b[0m │\n",
       "├─────────────────────────────────┼────────────────────────┼───────────────┤\n",
       "│ max_pooling2d_9 (\u001b[38;5;33mMaxPooling2D\u001b[0m)  │ (\u001b[38;5;45mNone\u001b[0m, \u001b[38;5;34m14\u001b[0m, \u001b[38;5;34m14\u001b[0m, \u001b[38;5;34m32\u001b[0m)     │             \u001b[38;5;34m0\u001b[0m │\n",
       "├─────────────────────────────────┼────────────────────────┼───────────────┤\n",
       "│ conv2d_13 (\u001b[38;5;33mConv2D\u001b[0m)              │ (\u001b[38;5;45mNone\u001b[0m, \u001b[38;5;34m14\u001b[0m, \u001b[38;5;34m14\u001b[0m, \u001b[38;5;34m64\u001b[0m)     │        \u001b[38;5;34m18,496\u001b[0m │\n",
       "├─────────────────────────────────┼────────────────────────┼───────────────┤\n",
       "│ max_pooling2d_10 (\u001b[38;5;33mMaxPooling2D\u001b[0m) │ (\u001b[38;5;45mNone\u001b[0m, \u001b[38;5;34m7\u001b[0m, \u001b[38;5;34m7\u001b[0m, \u001b[38;5;34m64\u001b[0m)       │             \u001b[38;5;34m0\u001b[0m │\n",
       "├─────────────────────────────────┼────────────────────────┼───────────────┤\n",
       "│ flatten_6 (\u001b[38;5;33mFlatten\u001b[0m)             │ (\u001b[38;5;45mNone\u001b[0m, \u001b[38;5;34m3136\u001b[0m)           │             \u001b[38;5;34m0\u001b[0m │\n",
       "├─────────────────────────────────┼────────────────────────┼───────────────┤\n",
       "│ dense_11 (\u001b[38;5;33mDense\u001b[0m)                │ (\u001b[38;5;45mNone\u001b[0m, \u001b[38;5;34m100\u001b[0m)            │       \u001b[38;5;34m313,700\u001b[0m │\n",
       "├─────────────────────────────────┼────────────────────────┼───────────────┤\n",
       "│ dropout_5 (\u001b[38;5;33mDropout\u001b[0m)             │ (\u001b[38;5;45mNone\u001b[0m, \u001b[38;5;34m100\u001b[0m)            │             \u001b[38;5;34m0\u001b[0m │\n",
       "├─────────────────────────────────┼────────────────────────┼───────────────┤\n",
       "│ dense_12 (\u001b[38;5;33mDense\u001b[0m)                │ (\u001b[38;5;45mNone\u001b[0m, \u001b[38;5;34m10\u001b[0m)             │         \u001b[38;5;34m1,010\u001b[0m │\n",
       "└─────────────────────────────────┴────────────────────────┴───────────────┘\n"
      ]
     },
     "metadata": {},
     "output_type": "display_data"
    },
    {
     "data": {
      "text/html": [
       "<pre style=\"white-space:pre;overflow-x:auto;line-height:normal;font-family:Menlo,'DejaVu Sans Mono',consolas,'Courier New',monospace\"><span style=\"font-weight: bold\"> Total params: </span><span style=\"color: #00af00; text-decoration-color: #00af00\">333,526</span> (1.27 MB)\n",
       "</pre>\n"
      ],
      "text/plain": [
       "\u001b[1m Total params: \u001b[0m\u001b[38;5;34m333,526\u001b[0m (1.27 MB)\n"
      ]
     },
     "metadata": {},
     "output_type": "display_data"
    },
    {
     "data": {
      "text/html": [
       "<pre style=\"white-space:pre;overflow-x:auto;line-height:normal;font-family:Menlo,'DejaVu Sans Mono',consolas,'Courier New',monospace\"><span style=\"font-weight: bold\"> Trainable params: </span><span style=\"color: #00af00; text-decoration-color: #00af00\">333,526</span> (1.27 MB)\n",
       "</pre>\n"
      ],
      "text/plain": [
       "\u001b[1m Trainable params: \u001b[0m\u001b[38;5;34m333,526\u001b[0m (1.27 MB)\n"
      ]
     },
     "metadata": {},
     "output_type": "display_data"
    },
    {
     "data": {
      "text/html": [
       "<pre style=\"white-space:pre;overflow-x:auto;line-height:normal;font-family:Menlo,'DejaVu Sans Mono',consolas,'Courier New',monospace\"><span style=\"font-weight: bold\"> Non-trainable params: </span><span style=\"color: #00af00; text-decoration-color: #00af00\">0</span> (0.00 B)\n",
       "</pre>\n"
      ],
      "text/plain": [
       "\u001b[1m Non-trainable params: \u001b[0m\u001b[38;5;34m0\u001b[0m (0.00 B)\n"
      ]
     },
     "metadata": {},
     "output_type": "display_data"
    }
   ],
   "source": [
    "# DNN(Deep Neural Network), FFNN(Feedforward Neural Network)\n",
    "model.add(tf.keras.layers.Flatten())\n",
    "model.add(tf.keras.layers.Dense(100, activation='relu'))\n",
    "model.add(tf.keras.layers.Dropout(rate=0.3))  # 랜덤으로 은닉층 유닛을 꺼준다 (과적합 방지)\n",
    "model.add(tf.keras.layers.Dense(10, activation='softmax'))\n",
    "\n",
    "model.summary()"
   ]
  },
  {
   "cell_type": "markdown",
   "id": "411e7fa2",
   "metadata": {},
   "source": [
    "- 합성곱 층 1\n",
    "    - 커널 크기 = 3 x 3\n",
    "    - 입력 채널 수 = 1 (흑백 채널)\n",
    "    - 필터 개수 = 32\n",
    "    - 총 커널 가중치 개수 = 3 x 3 x 1 x 32 = 288\n",
    "    - 총 모델 파라미터 개수 = 커널 가중치 개수 + bias = 288 + 32 = 320\n",
    "\n",
    "- 합성곱 층 2\n",
    "    - 커널 크기 = 3 x 3\n",
    "    - 입력 채널 수 = 32 (이전 층에서 넘어 온 출력 채널 수)\n",
    "    - 필터 개수 = 64\n",
    "    - 총 커널 가중치 개수 = 3 x 3 x 32 x 64 = 18,432\n",
    "    - 총 모델 파라미터 개수 = 커널 가중치 개수 + bias = 18,432 + 64 = 18,496\n",
    "\n",
    "- 은닉층\n",
    "    - 3136 x 100 + 100 = 313,600 + 100 = 313,700\n",
    "\n",
    "- 출력층\n",
    "    - 100 x 10 + 10 = 1,000 + 10 = 1,010\n",
    "\n",
    "- 총 모델 파라미터 개수: 320 + 18,496 + 313,700 + 1,010 = 333,526개"
   ]
  },
  {
   "cell_type": "code",
   "execution_count": 1,
   "id": "cfb551ac",
   "metadata": {},
   "outputs": [
    {
     "name": "stdout",
     "output_type": "stream",
     "text": [
      "Collecting pydot\n",
      "  Using cached pydot-4.0.1-py3-none-any.whl.metadata (11 kB)\n",
      "Requirement already satisfied: pyparsing>=3.1.0 in c:\\users\\admin\\desktop\\daeun-ai\\09 fintech-ml-dl\\source\\.venv\\lib\\site-packages (from pydot) (3.2.3)\n",
      "Using cached pydot-4.0.1-py3-none-any.whl (37 kB)\n",
      "Installing collected packages: pydot\n",
      "Successfully installed pydot-4.0.1\n",
      "Note: you may need to restart the kernel to use updated packages.\n",
      "Collecting graphviz\n",
      "  Using cached graphviz-0.21-py3-none-any.whl.metadata (12 kB)\n",
      "Using cached graphviz-0.21-py3-none-any.whl (47 kB)\n",
      "Installing collected packages: graphviz\n",
      "Successfully installed graphviz-0.21\n",
      "Note: you may need to restart the kernel to use updated packages.\n"
     ]
    }
   ],
   "source": [
    "%pip install pydot\n",
    "%pip install graphviz\n",
    "# 설치하고 컴퓨터 재부팅 필요 - 아래 코드 실행시키기 위함"
   ]
  },
  {
   "cell_type": "code",
   "execution_count": null,
   "id": "165ce8ac",
   "metadata": {},
   "outputs": [
    {
     "name": "stdout",
     "output_type": "stream",
     "text": [
      "You must install pydot (`pip install pydot`) for `plot_model` to work.\n"
     ]
    }
   ],
   "source": [
    "tf.keras.utils.plot_model(model)"
   ]
  },
  {
   "cell_type": "code",
   "execution_count": null,
   "id": "e23c056d",
   "metadata": {},
   "outputs": [
    {
     "name": "stdout",
     "output_type": "stream",
     "text": [
      "Epoch 1/20\n",
      "\u001b[1m1500/1500\u001b[0m \u001b[32m━━━━━━━━━━━━━━━━━━━━\u001b[0m\u001b[37m\u001b[0m \u001b[1m9s\u001b[0m 5ms/step - accuracy: 0.7536 - loss: 0.6754 - val_accuracy: 0.8772 - val_loss: 0.3243\n",
      "Epoch 2/20\n",
      "\u001b[1m1500/1500\u001b[0m \u001b[32m━━━━━━━━━━━━━━━━━━━━\u001b[0m\u001b[37m\u001b[0m \u001b[1m8s\u001b[0m 5ms/step - accuracy: 0.8805 - loss: 0.3324 - val_accuracy: 0.8998 - val_loss: 0.2707\n",
      "Epoch 3/20\n",
      "\u001b[1m1500/1500\u001b[0m \u001b[32m━━━━━━━━━━━━━━━━━━━━\u001b[0m\u001b[37m\u001b[0m \u001b[1m8s\u001b[0m 5ms/step - accuracy: 0.8966 - loss: 0.2823 - val_accuracy: 0.9022 - val_loss: 0.2568\n",
      "Epoch 4/20\n",
      "\u001b[1m1500/1500\u001b[0m \u001b[32m━━━━━━━━━━━━━━━━━━━━\u001b[0m\u001b[37m\u001b[0m \u001b[1m8s\u001b[0m 5ms/step - accuracy: 0.9086 - loss: 0.2505 - val_accuracy: 0.9100 - val_loss: 0.2473\n",
      "Epoch 5/20\n",
      "\u001b[1m1500/1500\u001b[0m \u001b[32m━━━━━━━━━━━━━━━━━━━━\u001b[0m\u001b[37m\u001b[0m \u001b[1m8s\u001b[0m 5ms/step - accuracy: 0.9176 - loss: 0.2217 - val_accuracy: 0.9112 - val_loss: 0.2370\n",
      "Epoch 6/20\n",
      "\u001b[1m1500/1500\u001b[0m \u001b[32m━━━━━━━━━━━━━━━━━━━━\u001b[0m\u001b[37m\u001b[0m \u001b[1m8s\u001b[0m 5ms/step - accuracy: 0.9263 - loss: 0.2002 - val_accuracy: 0.9198 - val_loss: 0.2244\n",
      "Epoch 7/20\n",
      "\u001b[1m1500/1500\u001b[0m \u001b[32m━━━━━━━━━━━━━━━━━━━━\u001b[0m\u001b[37m\u001b[0m \u001b[1m8s\u001b[0m 5ms/step - accuracy: 0.9340 - loss: 0.1795 - val_accuracy: 0.9165 - val_loss: 0.2242\n",
      "Epoch 8/20\n",
      "\u001b[1m1500/1500\u001b[0m \u001b[32m━━━━━━━━━━━━━━━━━━━━\u001b[0m\u001b[37m\u001b[0m \u001b[1m8s\u001b[0m 6ms/step - accuracy: 0.9397 - loss: 0.1625 - val_accuracy: 0.9203 - val_loss: 0.2266\n",
      "Epoch 9/20\n",
      "\u001b[1m1500/1500\u001b[0m \u001b[32m━━━━━━━━━━━━━━━━━━━━\u001b[0m\u001b[37m\u001b[0m \u001b[1m8s\u001b[0m 5ms/step - accuracy: 0.9447 - loss: 0.1443 - val_accuracy: 0.9208 - val_loss: 0.2340\n"
     ]
    }
   ],
   "source": [
    "# 훈련\n",
    "\n",
    "# 컴파일 설정\n",
    "model.compile(optimizer='adam', loss='sparse_categorical_crossentropy', metrics=['accuracy'])\n",
    "\n",
    "# 조기종료 설정 (ModelCheckpoint: 가장 적은 손실을 도출한 최적의 모델 저장, EarlyStopping: patience만큼 손실 상승을 참아줌)\n",
    "checkpoint_cb = tf.keras.callbacks.ModelCheckpoint('best-cnn-model.keras', save_best_only=True)\n",
    "early_stopping_cb = tf.keras.callbacks.EarlyStopping(patience=2, restore_best_weights=True)\n",
    "\n",
    "hist = model.fit(train_scaled, train_target, epochs=20, validation_data=(val_scaled, val_target), callbacks=[checkpoint_cb, early_stopping_cb])"
   ]
  },
  {
   "cell_type": "code",
   "execution_count": 45,
   "id": "88bd82e2",
   "metadata": {},
   "outputs": [
    {
     "data": {
      "image/png": "[encoded data removed]",
      "text/plain": [
       "<Figure size 640x480 with 1 Axes>"
      ]
     },
     "metadata": {},
     "output_type": "display_data"
    }
   ],
   "source": [
    "import matplotlib.pyplot as plt\n",
    "\n",
    "plt.plot(hist.history['loss'], label='train')\n",
    "plt.plot(hist.history['val_loss'], label='val')\n",
    "plt.xlabel('epoch')\n",
    "plt.ylabel('loss')\n",
    "plt.legend()\n",
    "plt.show()"
   ]
  },
  {
   "cell_type": "markdown",
   "id": "5b2ab380",
   "metadata": {},
   "source": [
    "3 epochs 이후 과대적합이 일어난 것을 확인할 수 있다."
   ]
  },
  {
   "cell_type": "code",
   "execution_count": 46,
   "id": "422b0534",
   "metadata": {},
   "outputs": [
    {
     "name": "stdout",
     "output_type": "stream",
     "text": [
      "\u001b[1m375/375\u001b[0m \u001b[32m━━━━━━━━━━━━━━━━━━━━\u001b[0m\u001b[37m\u001b[0m \u001b[1m1s\u001b[0m 2ms/step - accuracy: 0.9197 - loss: 0.2179\n"
     ]
    },
    {
     "data": {
      "text/plain": [
       "[0.22420090436935425, 0.9164999723434448]"
      ]
     },
     "execution_count": 46,
     "metadata": {},
     "output_type": "execute_result"
    }
   ],
   "source": [
    "# 검증 세트로 평가\n",
    "model.evaluate(val_scaled, val_target)"
   ]
  },
  {
   "cell_type": "markdown",
   "id": "3a678f3a",
   "metadata": {},
   "source": [
    "손실: 0.22\n",
    "정확도: 0.92"
   ]
  },
  {
   "cell_type": "code",
   "execution_count": 47,
   "id": "7c230a97",
   "metadata": {},
   "outputs": [
    {
     "name": "stdout",
     "output_type": "stream",
     "text": [
      "\u001b[1m313/313\u001b[0m \u001b[32m━━━━━━━━━━━━━━━━━━━━\u001b[0m\u001b[37m\u001b[0m \u001b[1m1s\u001b[0m 2ms/step - accuracy: 0.9080 - loss: 0.2562\n"
     ]
    },
    {
     "data": {
      "text/plain": [
       "[0.24354052543640137, 0.9125000238418579]"
      ]
     },
     "execution_count": 47,
     "metadata": {},
     "output_type": "execute_result"
    }
   ],
   "source": [
    "# 테스트 세트로 최종 평가\n",
    "test_scaled = test_input.reshape(-1, 28, 28, 1) / 255.0\n",
    "model.evaluate(test_scaled, test_target)"
   ]
  },
  {
   "cell_type": "markdown",
   "id": "7b53723b",
   "metadata": {},
   "source": [
    "손실: 0.24\n",
    "정확도: 0.91"
   ]
  },
  {
   "cell_type": "code",
   "execution_count": null,
   "id": "9966f0e0",
   "metadata": {},
   "outputs": [
    {
     "name": "stdout",
     "output_type": "stream",
     "text": [
      "\u001b[1m1/1\u001b[0m \u001b[32m━━━━━━━━━━━━━━━━━━━━\u001b[0m\u001b[37m\u001b[0m \u001b[1m0s\u001b[0m 26ms/step\n"
     ]
    },
    {
     "data": {
      "text/plain": [
       "array([9, 2, 1, 1, 6, 1, 4, 6, 5, 7])"
      ]
     },
     "execution_count": 49,
     "metadata": {},
     "output_type": "execute_result"
    }
   ],
   "source": [
    "# 실제로 이 모델을 가지고 예측해보자\n",
    "\n",
    "import numpy as np\n",
    "\n",
    "predictions = model.predict(test_scaled[:10])\n",
    "# np.round(predictions, decimals=3)\n",
    "np.argmax(predictions, axis=1)  # 예측 결과 인덱스"
   ]
  },
  {
   "cell_type": "markdown",
   "id": "ee8c7ee4",
   "metadata": {},
   "source": [
    "1이 많다 -> 확신에 가득 참"
   ]
  },
  {
   "cell_type": "code",
   "execution_count": null,
   "id": "d1aaeec3",
   "metadata": {},
   "outputs": [],
   "source": []
  }
 ],
 "metadata": {
  "kernelspec": {
   "display_name": ".venv",
   "language": "python",
   "name": "python3"
  },
  "language_info": {
   "codemirror_mode": {
    "name": "ipython",
    "version": 3
   },
   "file_extension": ".py",
   "mimetype": "text/x-python",
   "name": "python",
   "nbconvert_exporter": "python",
   "pygments_lexer": "ipython3",
   "version": "3.12.10"
  }
 },
 "nbformat": 4,
 "nbformat_minor": 5
}
