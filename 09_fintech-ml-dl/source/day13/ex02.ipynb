{
 "cells": [
  {
   "cell_type": "code",
   "execution_count": null,
   "id": "5a1fc43b",
   "metadata": {},
   "outputs": [
    {
     "name": "stdout",
     "output_type": "stream",
     "text": [
      "Downloading data from https://storage.googleapis.com/keras-applications/efficientnetb0_notop.h5\n",
      "\u001b[1m16705208/16705208\u001b[0m \u001b[32m━━━━━━━━━━━━━━━━━━━━\u001b[0m\u001b[37m\u001b[0m \u001b[1m2s\u001b[0m 0us/step\n"
     ]
    }
   ],
   "source": [
    "import keras\n",
    "\n",
    "# 사전 훈련된 EfficientNetB0 모델 불러오기 (최상단 분류층은 제외)\n",
    "base_model = keras.applications.EfficientNetB0(include_top=False)"
   ]
  },
  {
   "cell_type": "code",
   "execution_count": 6,
   "id": "ed4bbd96",
   "metadata": {},
   "outputs": [
    {
     "name": "stdout",
     "output_type": "stream",
     "text": [
      "Found 2148 files belonging to 2 classes.\n",
      "Using 1719 files for training.\n",
      "Using 429 files for validation.\n"
     ]
    }
   ],
   "source": [
    "from keras.utils import image_dataset_from_directory\n",
    "\n",
    "# 폴더에서 이미지를 불러와서 훈련/검증 데이터셋으로 나눈다\n",
    "# - validation_split=0.2: 전체 데이터의 20%를 검증용으로 사용\n",
    "# - subset='both': 훈련(train)과 검증(validation) 데이터를 동시에 반환\n",
    "# - image_size=(224, 224): 이미지를 모델 입력 크기에 맞게 리사이즈\n",
    "# - seed=42: 동일한 분할을 위해 시드 고정 (수업에서만 사용)\n",
    "train_ds, val_ds = image_dataset_from_directory(\n",
    "    \"../ex_images/Pistachio_Image_Dataset\", image_size=(224, 224),\n",
    "    validation_split=0.2, subset='both', seed=42\n",
    ")"
   ]
  },
  {
   "cell_type": "code",
   "execution_count": 9,
   "id": "4410ab04",
   "metadata": {},
   "outputs": [],
   "source": [
    "# 기존에 학습된 EfficientNetB0의 가중치를 고정 (미세조정하지 않음)\n",
    "# 즉, 이 층들의 weight는 훈련 중에 변경되지 않음\n",
    "base_model.trainable=False\n",
    "\n",
    "# 입력층 정의 필수 (이미지 크기 224x224, 컬러 채널)\n",
    "inputs = keras.layers.Input(shape=(224, 224, 3))\n",
    "\n",
    "# 입력을 EfficientNetB0 모델에 통과시킴 (특징 추출만 수행)\n",
    "x = base_model(inputs)\n",
    "\n",
    "# 출력 특성맵을 전역 평균 풀링으로 1차원 벡터로 변환 (따로 Stride 필요 X)\n",
    "# - Flatten 대신 사용되며, 공간 정보를 평균으로 요약\n",
    "x = keras.layers.GlobalAveragePooling2D()(x)\n",
    "\n",
    "# 밀집층\n",
    "x = keras.layers.Dense(128, activation='relu')(x)\n",
    "\n",
    "# 출력층 - 이진분류 문제이기 때문에 sigmoid\n",
    "outputs = keras.layers.Dense(1, activation='sigmoid')(x)\n",
    "\n",
    "# 모델 생성\n",
    "model = keras.Model(inputs, outputs)"
   ]
  },
  {
   "cell_type": "code",
   "execution_count": 11,
   "id": "99fab57f",
   "metadata": {},
   "outputs": [
    {
     "name": "stdout",
     "output_type": "stream",
     "text": [
      "Epoch 1/20\n",
      "\u001b[1m54/54\u001b[0m \u001b[32m━━━━━━━━━━━━━━━━━━━━\u001b[0m\u001b[37m\u001b[0m \u001b[1m22s\u001b[0m 323ms/step - accuracy: 0.8030 - loss: 0.3753 - val_accuracy: 0.9720 - val_loss: 0.1016\n",
      "Epoch 2/20\n",
      "\u001b[1m54/54\u001b[0m \u001b[32m━━━━━━━━━━━━━━━━━━━━\u001b[0m\u001b[37m\u001b[0m \u001b[1m15s\u001b[0m 272ms/step - accuracy: 0.9619 - loss: 0.1037 - val_accuracy: 0.9767 - val_loss: 0.0761\n",
      "Epoch 3/20\n",
      "\u001b[1m54/54\u001b[0m \u001b[32m━━━━━━━━━━━━━━━━━━━━\u001b[0m\u001b[37m\u001b[0m \u001b[1m15s\u001b[0m 274ms/step - accuracy: 0.9842 - loss: 0.0659 - val_accuracy: 0.9720 - val_loss: 0.0678\n",
      "Epoch 4/20\n",
      "\u001b[1m54/54\u001b[0m \u001b[32m━━━━━━━━━━━━━━━━━━━━\u001b[0m\u001b[37m\u001b[0m \u001b[1m15s\u001b[0m 274ms/step - accuracy: 0.9875 - loss: 0.0456 - val_accuracy: 0.9790 - val_loss: 0.0545\n",
      "Epoch 5/20\n",
      "\u001b[1m54/54\u001b[0m \u001b[32m━━━━━━━━━━━━━━━━━━━━\u001b[0m\u001b[37m\u001b[0m \u001b[1m15s\u001b[0m 277ms/step - accuracy: 0.9863 - loss: 0.0403 - val_accuracy: 0.9814 - val_loss: 0.0483\n",
      "Epoch 6/20\n",
      "\u001b[1m54/54\u001b[0m \u001b[32m━━━━━━━━━━━━━━━━━━━━\u001b[0m\u001b[37m\u001b[0m \u001b[1m15s\u001b[0m 272ms/step - accuracy: 0.9923 - loss: 0.0301 - val_accuracy: 0.9790 - val_loss: 0.0600\n",
      "Epoch 7/20\n",
      "\u001b[1m54/54\u001b[0m \u001b[32m━━━━━━━━━━━━━━━━━━━━\u001b[0m\u001b[37m\u001b[0m \u001b[1m15s\u001b[0m 271ms/step - accuracy: 0.9799 - loss: 0.0434 - val_accuracy: 0.9790 - val_loss: 0.0559\n",
      "Epoch 8/20\n",
      "\u001b[1m54/54\u001b[0m \u001b[32m━━━━━━━━━━━━━━━━━━━━\u001b[0m\u001b[37m\u001b[0m \u001b[1m14s\u001b[0m 268ms/step - accuracy: 0.9952 - loss: 0.0191 - val_accuracy: 0.9744 - val_loss: 0.0707\n",
      "Epoch 9/20\n",
      "\u001b[1m54/54\u001b[0m \u001b[32m━━━━━━━━━━━━━━━━━━━━\u001b[0m\u001b[37m\u001b[0m \u001b[1m14s\u001b[0m 268ms/step - accuracy: 0.9901 - loss: 0.0309 - val_accuracy: 0.9860 - val_loss: 0.0503\n",
      "Epoch 10/20\n",
      "\u001b[1m54/54\u001b[0m \u001b[32m━━━━━━━━━━━━━━━━━━━━\u001b[0m\u001b[37m\u001b[0m \u001b[1m15s\u001b[0m 280ms/step - accuracy: 0.9912 - loss: 0.0217 - val_accuracy: 0.9837 - val_loss: 0.0486\n"
     ]
    }
   ],
   "source": [
    "# Adam 학습률 정의\n",
    "adam = keras.optimizers.Adam(learning_rate=0.001)\n",
    "\n",
    "# 컴파일 설정\n",
    "model.compile(optimizer=adam, loss='binary_crossentropy', metrics=['accuracy'])\n",
    "\n",
    "checkpoint_cb = keras.callbacks.ModelCheckpoint('best-model.keras', save_best_only=True)\n",
    "early_stopping_cb = keras.callbacks.EarlyStopping(patience=5, restore_best_weights=True)\n",
    "\n",
    "hist = model.fit(train_ds, epochs=20, validation_data=val_ds, callbacks=[checkpoint_cb, early_stopping_cb])"
   ]
  },
  {
   "cell_type": "code",
   "execution_count": 12,
   "id": "8ac400a3",
   "metadata": {},
   "outputs": [
    {
     "data": {
      "image/png": "[encoded data removed]",
      "text/plain": [
       "<Figure size 640x480 with 1 Axes>"
      ]
     },
     "metadata": {},
     "output_type": "display_data"
    }
   ],
   "source": [
    "import matplotlib.pyplot as plt\n",
    "\n",
    "plt.plot(hist.history['loss'], label='Train Loss')\n",
    "plt.plot(hist.history['val_loss'], label='Validation Loss')\n",
    "plt.xlabel('Epoch')\n",
    "plt.ylabel('Loss')\n",
    "plt.legend()\n",
    "plt.show()"
   ]
  },
  {
   "cell_type": "code",
   "execution_count": 13,
   "id": "5c2bbb67",
   "metadata": {},
   "outputs": [
    {
     "name": "stdout",
     "output_type": "stream",
     "text": [
      "\u001b[1m14/14\u001b[0m \u001b[32m━━━━━━━━━━━━━━━━━━━━\u001b[0m\u001b[37m\u001b[0m \u001b[1m5s\u001b[0m 214ms/step - accuracy: 0.9831 - loss: 0.0454\n"
     ]
    },
    {
     "data": {
      "text/plain": [
       "[0.04827484115958214, 0.9813519716262817]"
      ]
     },
     "execution_count": 13,
     "metadata": {},
     "output_type": "execute_result"
    }
   ],
   "source": [
    "model2 = keras.models.load_model(\"best-model.keras\")\n",
    "\n",
    "model2.evaluate(val_ds)"
   ]
  },
  {
   "cell_type": "code",
   "execution_count": 16,
   "id": "7ab720a9",
   "metadata": {},
   "outputs": [
    {
     "data": {
      "text/plain": [
       "(224, 224, 3)"
      ]
     },
     "execution_count": 16,
     "metadata": {},
     "output_type": "execute_result"
    }
   ],
   "source": [
    "import numpy as np\n",
    "from PIL import Image\n",
    "img = Image.open(\"../ex_images/Pistachio_Image_Dataset/Siirt_Pistachio/siirt (1).jpg\")\n",
    "img = np.array(img.resize((224, 224)))\n",
    "img.shape"
   ]
  },
  {
   "cell_type": "code",
   "execution_count": 17,
   "id": "9d5fbc94",
   "metadata": {},
   "outputs": [
    {
     "data": {
      "text/plain": [
       "(1, 224, 224, 3)"
      ]
     },
     "execution_count": 17,
     "metadata": {},
     "output_type": "execute_result"
    }
   ],
   "source": [
    "img = img[np.newaxis, :]\n",
    "img.shape"
   ]
  },
  {
   "cell_type": "code",
   "execution_count": 18,
   "id": "30c92830",
   "metadata": {},
   "outputs": [
    {
     "name": "stdout",
     "output_type": "stream",
     "text": [
      "\u001b[1m1/1\u001b[0m \u001b[32m━━━━━━━━━━━━━━━━━━━━\u001b[0m\u001b[37m\u001b[0m \u001b[1m1s\u001b[0m 959ms/step\n"
     ]
    },
    {
     "data": {
      "text/plain": [
       "array([[0.9723153]], dtype=float32)"
      ]
     },
     "execution_count": 18,
     "metadata": {},
     "output_type": "execute_result"
    }
   ],
   "source": [
    "model2.predict(img)"
   ]
  },
  {
   "cell_type": "code",
   "execution_count": null,
   "id": "45489fe4",
   "metadata": {},
   "outputs": [],
   "source": []
  }
 ],
 "metadata": {
  "kernelspec": {
   "display_name": "Python 3",
   "language": "python",
   "name": "python3"
  },
  "language_info": {
   "codemirror_mode": {
    "name": "ipython",
    "version": 3
   },
   "file_extension": ".py",
   "mimetype": "text/x-python",
   "name": "python",
   "nbconvert_exporter": "python",
   "pygments_lexer": "ipython3",
   "version": "3.12.10"
  }
 },
 "nbformat": 4,
 "nbformat_minor": 5
}
