{
 "cells": [
  {
   "cell_type": "markdown",
   "id": "36770e4e",
   "metadata": {},
   "source": [
    "# 트리의 앙상블\n",
    "- 트리 여러 개로 예측\n",
    "- 과대적합 감소"
   ]
  },
  {
   "cell_type": "code",
   "execution_count": 2,
   "id": "1b1cd77d",
   "metadata": {},
   "outputs": [
    {
     "data": {
      "text/html": [
       "<div>\n",
       "<style scoped>\n",
       "    .dataframe tbody tr th:only-of-type {\n",
       "        vertical-align: middle;\n",
       "    }\n",
       "\n",
       "    .dataframe tbody tr th {\n",
       "        vertical-align: top;\n",
       "    }\n",
       "\n",
       "    .dataframe thead th {\n",
       "        text-align: right;\n",
       "    }\n",
       "</style>\n",
       "<table border=\"1\" class=\"dataframe\">\n",
       "  <thead>\n",
       "    <tr style=\"text-align: right;\">\n",
       "      <th></th>\n",
       "      <th>alcohol</th>\n",
       "      <th>sugar</th>\n",
       "      <th>pH</th>\n",
       "      <th>class</th>\n",
       "    </tr>\n",
       "  </thead>\n",
       "  <tbody>\n",
       "    <tr>\n",
       "      <th>0</th>\n",
       "      <td>9.4</td>\n",
       "      <td>1.9</td>\n",
       "      <td>3.51</td>\n",
       "      <td>0.0</td>\n",
       "    </tr>\n",
       "    <tr>\n",
       "      <th>1</th>\n",
       "      <td>9.8</td>\n",
       "      <td>2.6</td>\n",
       "      <td>3.20</td>\n",
       "      <td>0.0</td>\n",
       "    </tr>\n",
       "    <tr>\n",
       "      <th>2</th>\n",
       "      <td>9.8</td>\n",
       "      <td>2.3</td>\n",
       "      <td>3.26</td>\n",
       "      <td>0.0</td>\n",
       "    </tr>\n",
       "    <tr>\n",
       "      <th>3</th>\n",
       "      <td>9.8</td>\n",
       "      <td>1.9</td>\n",
       "      <td>3.16</td>\n",
       "      <td>0.0</td>\n",
       "    </tr>\n",
       "    <tr>\n",
       "      <th>4</th>\n",
       "      <td>9.4</td>\n",
       "      <td>1.9</td>\n",
       "      <td>3.51</td>\n",
       "      <td>0.0</td>\n",
       "    </tr>\n",
       "  </tbody>\n",
       "</table>\n",
       "</div>"
      ],
      "text/plain": [
       "   alcohol  sugar    pH  class\n",
       "0      9.4    1.9  3.51    0.0\n",
       "1      9.8    2.6  3.20    0.0\n",
       "2      9.8    2.3  3.26    0.0\n",
       "3      9.8    1.9  3.16    0.0\n",
       "4      9.4    1.9  3.51    0.0"
      ]
     },
     "execution_count": 2,
     "metadata": {},
     "output_type": "execute_result"
    }
   ],
   "source": [
    "import pandas as pd\n",
    "df = pd.read_csv('https://bit.ly/wine_csv_data')\n",
    "df.head()"
   ]
  },
  {
   "cell_type": "code",
   "execution_count": 3,
   "id": "65d73a8f",
   "metadata": {},
   "outputs": [],
   "source": [
    "wine_data = df[['alcohol', 'sugar', 'pH']].to_numpy()\n",
    "wine_target = df['class'].to_numpy()"
   ]
  },
  {
   "cell_type": "code",
   "execution_count": 4,
   "id": "84c4080d",
   "metadata": {},
   "outputs": [],
   "source": [
    "# 훈련 세트와 테스트 세트 분리\n",
    "from sklearn.model_selection import train_test_split\n",
    "\n",
    "train_input, test_input, train_target, test_target = train_test_split(\n",
    "    wine_data, wine_target, test_size=0.2, random_state=42\n",
    ")"
   ]
  },
  {
   "cell_type": "code",
   "execution_count": null,
   "id": "717af13e",
   "metadata": {},
   "outputs": [
    {
     "data": {
      "text/plain": [
       "{'fit_time': array([0.16475987, 0.16475987, 0.16321993, 0.15869188, 0.15869188]),\n",
       " 'score_time': array([0.02560115, 0.01607013, 0.02714109, 0.02513742, 0.02513742]),\n",
       " 'test_score': array([0.88461538, 0.88942308, 0.90279115, 0.88931665, 0.88642926]),\n",
       " 'train_score': array([0.9971133 , 0.99663219, 0.9978355 , 0.9973545 , 0.9978355 ])}"
      ]
     },
     "execution_count": 6,
     "metadata": {},
     "output_type": "execute_result"
    }
   ],
   "source": [
    "# Random Forest 분류기를 학습, 교차 검증(cross-validation)을 통해 모델의 성능(정확도 등)을 평가\n",
    "# Forest -> Tree가 여러 개라...\n",
    "\n",
    "from sklearn.ensemble import RandomForestClassifier\n",
    "from sklearn.model_selection import cross_validate\n",
    "\n",
    "rf = RandomForestClassifier(random_state=42, n_jobs=-1)\n",
    "scores = cross_validate(rf, train_input, train_target, return_train_score=True, n_jobs=-1)\n",
    "scores"
   ]
  },
  {
   "cell_type": "code",
   "execution_count": 7,
   "id": "f1ebdaf4",
   "metadata": {},
   "outputs": [
    {
     "name": "stdout",
     "output_type": "stream",
     "text": [
      "train_score: 0.9973541965122431\n",
      "test_score: 0.8905151032797809\n"
     ]
    }
   ],
   "source": [
    "import numpy as np\n",
    "print(\"train_score:\", np.mean(scores['train_score']))\n",
    "print(\"test_score:\", np.mean(scores['test_score']))"
   ]
  },
  {
   "cell_type": "code",
   "execution_count": 10,
   "id": "3265d318",
   "metadata": {},
   "outputs": [
    {
     "data": {
      "text/plain": [
       "array([0.23167441, 0.50039841, 0.26792718])"
      ]
     },
     "execution_count": 10,
     "metadata": {},
     "output_type": "execute_result"
    }
   ],
   "source": [
    "rf.fit(train_input, train_target)  # 학습\n",
    "rf.feature_importances_  # 특성의 중요도가 적절히 분배됨"
   ]
  },
  {
   "cell_type": "code",
   "execution_count": 13,
   "id": "9ad38800",
   "metadata": {},
   "outputs": [
    {
     "data": {
      "text/plain": [
       "0.8934000384837406"
      ]
     },
     "execution_count": 13,
     "metadata": {},
     "output_type": "execute_result"
    }
   ],
   "source": [
    "rf = RandomForestClassifier(random_state=42, n_jobs=-1, oob_score=True)  # oob_score: 샘플로 한 번도 뽑히지 않은 샘플로 검증\n",
    "\n",
    "rf.fit(train_input, train_target)\n",
    "\n",
    "rf.oob_score_  # 훈련에 사용되지 않은 샘플을 가지고 검증한 점수"
   ]
  },
  {
   "cell_type": "markdown",
   "id": "9d1bdd63",
   "metadata": {},
   "source": [
    "# 엑스트라 트리\n",
    "- 부트스트랩 샘플 X\n",
    "- 전체 샘플 사용\n",
    "- 노드를 나눈 기준이 랜덤"
   ]
  },
  {
   "cell_type": "code",
   "execution_count": 14,
   "id": "c08dbe4e",
   "metadata": {},
   "outputs": [
    {
     "name": "stdout",
     "output_type": "stream",
     "text": [
      "train_score: 0.9974503966084433\n",
      "test_score: 0.8887848893166506\n"
     ]
    }
   ],
   "source": [
    "from sklearn.ensemble import ExtraTreesClassifier\n",
    "\n",
    "et = ExtraTreesClassifier(random_state=42, n_jobs=-1)\n",
    "scores = cross_validate(et, train_input, train_target, return_train_score=True, n_jobs=-1)\n",
    "\n",
    "print(\"train_score:\", np.mean(scores['train_score']))\n",
    "print(\"test_score:\", np.mean(scores['test_score']))"
   ]
  },
  {
   "cell_type": "markdown",
   "id": "0c2e62f9",
   "metadata": {},
   "source": [
    "# 그레디언트 부스팅 (GradientBoostingClassifier)\n",
    "- 이전 트리의 오차를 보완하는 방식 - 경사하강법 사용\n",
    "- 점진적인 학습을 위해서 얕은 트리 사용 (max_depth - 기본값 3)\n",
    "- **과대적합(overfitting)을 보완**하고, 보다 일반적인 경향의 모델을 만듦\n",
    "- 1개의 cpu만 사용(n_jobs 설정 불가) -> 느림"
   ]
  },
  {
   "cell_type": "code",
   "execution_count": 15,
   "id": "a8f0296a",
   "metadata": {},
   "outputs": [
    {
     "name": "stdout",
     "output_type": "stream",
     "text": [
      "train_score: 0.8881086892152563\n",
      "test_score: 0.8720430147331015\n"
     ]
    }
   ],
   "source": [
    "from sklearn.ensemble import GradientBoostingClassifier\n",
    "\n",
    "gb = GradientBoostingClassifier(random_state=42)\n",
    "scores = cross_validate(gb, train_input, train_target, return_train_score=True, n_jobs=-1)\n",
    "\n",
    "print(\"train_score:\", np.mean(scores['train_score']))\n",
    "print(\"test_score:\", np.mean(scores['test_score']))"
   ]
  },
  {
   "cell_type": "code",
   "execution_count": 17,
   "id": "e40c1c6f",
   "metadata": {},
   "outputs": [
    {
     "data": {
      "text/plain": [
       "array([0.11949946, 0.74871836, 0.13178218])"
      ]
     },
     "execution_count": 17,
     "metadata": {},
     "output_type": "execute_result"
    }
   ],
   "source": [
    "gb.fit(train_input, train_target)\n",
    "gb.feature_importances_"
   ]
  },
  {
   "cell_type": "markdown",
   "id": "ad4472fe",
   "metadata": {},
   "source": [
    "엑스트라 트리의 R^2:\n",
    "> train_score: 0.9974503966084433\\\n",
    "test_score: 0.8887848893166506\n",
    "\\\n",
    "그레디언트 부스팅 사용 후: \\\n",
    "> train_score: 0.8881086892152563\\\n",
    "test_score: 0.8720430147331015\\\n",
    "--> overfitting 보완됨"
   ]
  },
  {
   "cell_type": "markdown",
   "id": "120fe953",
   "metadata": {},
   "source": [
    "# 히스토그램 기반 그래디언트 부스팅\n",
    "- 훈련세트의 입력 특성을 256개의 구간으로 나누고, 1개 - 누락 데이터에 대한 처리 사용\\\n",
    "- 빈도수를 가지고"
   ]
  },
  {
   "cell_type": "code",
   "execution_count": 18,
   "id": "e20d3d44",
   "metadata": {},
   "outputs": [
    {
     "name": "stdout",
     "output_type": "stream",
     "text": [
      "train_score: 0.9321723946453317\n",
      "test_score: 0.8801241948619236\n"
     ]
    }
   ],
   "source": [
    "from sklearn.ensemble import HistGradientBoostingClassifier\n",
    "\n",
    "hgb = HistGradientBoostingClassifier(random_state=42)\n",
    "\n",
    "scores = cross_validate(hgb, train_input, train_target, return_train_score=True, n_jobs=-1)\n",
    "\n",
    "print(\"train_score:\", np.mean(scores['train_score']))\n",
    "print(\"test_score:\", np.mean(scores['test_score']))"
   ]
  },
  {
   "cell_type": "code",
   "execution_count": null,
   "id": "f2e8875a",
   "metadata": {},
   "outputs": [],
   "source": []
  }
 ],
 "metadata": {
  "kernelspec": {
   "display_name": ".venv",
   "language": "python",
   "name": "python3"
  },
  "language_info": {
   "codemirror_mode": {
    "name": "ipython",
    "version": 3
   },
   "file_extension": ".py",
   "mimetype": "text/x-python",
   "name": "python",
   "nbconvert_exporter": "python",
   "pygments_lexer": "ipython3",
   "version": "3.12.10"
  }
 },
 "nbformat": 4,
 "nbformat_minor": 5
}
