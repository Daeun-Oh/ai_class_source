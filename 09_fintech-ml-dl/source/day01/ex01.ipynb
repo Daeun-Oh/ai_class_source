{
 "cells": [
  {
   "cell_type": "code",
   "execution_count": 16,
   "id": "e04eab0d",
   "metadata": {},
   "outputs": [],
   "source": [
    "from selenium import webdriver\n",
    "from selenium.webdriver.common.by import By\n",
    "from selenium.webdriver.common.keys import Keys\n",
    "import time\n",
    "\n",
    "driver = webdriver.Chrome()\n",
    "\n",
    "# 브라우저의 주소창을 변경하고 이동\n",
    "driver.get('https://www.naver.com')\n",
    "\n",
    "time.sleep(3)"
   ]
  },
  {
   "cell_type": "code",
   "execution_count": 17,
   "id": "c3007a7a",
   "metadata": {},
   "outputs": [
    {
     "data": {
      "text/plain": [
       "<selenium.webdriver.remote.webelement.WebElement (session=\"c13d4d833dd288a543f827f25877aa17\", element=\"f.D0237DAC639DDA65263DD444574F8183.d.554143EADDDB5555EB7ECC4159D5197C.e.4\")>"
      ]
     },
     "execution_count": 17,
     "metadata": {},
     "output_type": "execute_result"
    }
   ],
   "source": [
    "# search_box = driver.find_element(By.ID, \"query\")\n",
    "search_box = driver.find_element(By.XPATH, \"//form[@id='sform']/fieldset/div/input\")\n",
    "search_box"
   ]
  },
  {
   "cell_type": "code",
   "execution_count": 13,
   "id": "7e178833",
   "metadata": {},
   "outputs": [],
   "source": [
    "search_box.send_keys(\"블로그\")\n",
    "search_box.send_keys(Keys.ENTER)"
   ]
  },
  {
   "cell_type": "code",
   "execution_count": 14,
   "id": "d8e00ef8",
   "metadata": {},
   "outputs": [],
   "source": [
    "# search_btn = driver.find_element(By.CLASS_NAME, 'btn_search')\n",
    "# search_btn.click()"
   ]
  },
  {
   "cell_type": "code",
   "execution_count": null,
   "id": "0906f60c",
   "metadata": {},
   "outputs": [],
   "source": []
  }
 ],
 "metadata": {
  "kernelspec": {
   "display_name": ".venv",
   "language": "python",
   "name": "python3"
  },
  "language_info": {
   "codemirror_mode": {
    "name": "ipython",
    "version": 3
   },
   "file_extension": ".py",
   "mimetype": "text/x-python",
   "name": "python",
   "nbconvert_exporter": "python",
   "pygments_lexer": "ipython3",
   "version": "3.12.10"
  }
 },
 "nbformat": 4,
 "nbformat_minor": 5
}
