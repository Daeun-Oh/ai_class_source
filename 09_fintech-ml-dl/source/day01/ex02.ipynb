{
 "cells": [
  {
   "cell_type": "code",
   "execution_count": 16,
   "id": "2b10c995",
   "metadata": {},
   "outputs": [],
   "source": [
    "from selenium import webdriver\n",
    "from selenium.webdriver.common.by import By\n",
    "import time"
   ]
  },
  {
   "cell_type": "code",
   "execution_count": 17,
   "id": "a191a1d3",
   "metadata": {},
   "outputs": [],
   "source": [
    "driver = webdriver.Chrome()\n",
    "driver.get('https://news.naver.com/section/105')\n",
    "time.sleep(3)"
   ]
  },
  {
   "cell_type": "code",
   "execution_count": 18,
   "id": "7d0bb07a",
   "metadata": {},
   "outputs": [
    {
     "data": {
      "text/plain": [
       "<selenium.webdriver.remote.webelement.WebElement (session=\"bbf7a5d5a3f9fa042e42f46b1948e328\", element=\"f.5B3A437FF0111F87774A7BBD3F891C67.d.E360C0CCC38B42FAECA75C2D2E1B4AF4.e.78\")>"
      ]
     },
     "execution_count": 18,
     "metadata": {},
     "output_type": "execute_result"
    }
   ],
   "source": [
    "headline_section = driver.find_element(By.CLASS_NAME, 'as_headline')\n",
    "headline_section"
   ]
  },
  {
   "cell_type": "code",
   "execution_count": 19,
   "id": "6ed0c4c9",
   "metadata": {},
   "outputs": [
    {
     "data": {
      "text/plain": [
       "[<selenium.webdriver.remote.webelement.WebElement (session=\"bbf7a5d5a3f9fa042e42f46b1948e328\", element=\"f.5B3A437FF0111F87774A7BBD3F891C67.d.E360C0CCC38B42FAECA75C2D2E1B4AF4.e.79\")>,\n",
       " <selenium.webdriver.remote.webelement.WebElement (session=\"bbf7a5d5a3f9fa042e42f46b1948e328\", element=\"f.5B3A437FF0111F87774A7BBD3F891C67.d.E360C0CCC38B42FAECA75C2D2E1B4AF4.e.80\")>,\n",
       " <selenium.webdriver.remote.webelement.WebElement (session=\"bbf7a5d5a3f9fa042e42f46b1948e328\", element=\"f.5B3A437FF0111F87774A7BBD3F891C67.d.E360C0CCC38B42FAECA75C2D2E1B4AF4.e.81\")>,\n",
       " <selenium.webdriver.remote.webelement.WebElement (session=\"bbf7a5d5a3f9fa042e42f46b1948e328\", element=\"f.5B3A437FF0111F87774A7BBD3F891C67.d.E360C0CCC38B42FAECA75C2D2E1B4AF4.e.82\")>,\n",
       " <selenium.webdriver.remote.webelement.WebElement (session=\"bbf7a5d5a3f9fa042e42f46b1948e328\", element=\"f.5B3A437FF0111F87774A7BBD3F891C67.d.E360C0CCC38B42FAECA75C2D2E1B4AF4.e.83\")>,\n",
       " <selenium.webdriver.remote.webelement.WebElement (session=\"bbf7a5d5a3f9fa042e42f46b1948e328\", element=\"f.5B3A437FF0111F87774A7BBD3F891C67.d.E360C0CCC38B42FAECA75C2D2E1B4AF4.e.84\")>,\n",
       " <selenium.webdriver.remote.webelement.WebElement (session=\"bbf7a5d5a3f9fa042e42f46b1948e328\", element=\"f.5B3A437FF0111F87774A7BBD3F891C67.d.E360C0CCC38B42FAECA75C2D2E1B4AF4.e.85\")>,\n",
       " <selenium.webdriver.remote.webelement.WebElement (session=\"bbf7a5d5a3f9fa042e42f46b1948e328\", element=\"f.5B3A437FF0111F87774A7BBD3F891C67.d.E360C0CCC38B42FAECA75C2D2E1B4AF4.e.86\")>]"
      ]
     },
     "execution_count": 19,
     "metadata": {},
     "output_type": "execute_result"
    }
   ],
   "source": [
    "items = headline_section.find_elements(By.CLASS_NAME, 'sa_text_strong')\n",
    "items"
   ]
  },
  {
   "cell_type": "code",
   "execution_count": 20,
   "id": "8195d8ec",
   "metadata": {},
   "outputs": [
    {
     "name": "stdout",
     "output_type": "stream",
     "text": [
      "메가존클라우드, '래빗워크' 고성능 콘텐츠 제작 지원\n",
      "\"쇠구슬 굴려 이산화탄소→천연가스\"…UNIST, 메탄 생산 신기술 개발\n",
      "NHN클라우드, 올해 공공 클라우드 전환사업 7개 중 5개 맡아\n",
      "전화 오면 AI가 먼저 확인…애플, '인텔리전스' 경쟁사보다 뒤쳐져\n",
      "프렌들리AI, 글로벌 시장 공략 가속\n",
      "“이러면 다들 삼성폰 산다” 중국에 밀려 역대급 ‘추락’ 난리였는데, 대반전\n",
      "맥OS서 韓 게임 즐긴다…애플, WWDC서 붉은사막·인조이 소개\n",
      "\"카피는 AI가 씁니다\"…LG U+ 임직원 절반 이상 마케팅 문구 AI에 맡겨\n"
     ]
    }
   ],
   "source": [
    "for item in items:\n",
    "    print(item.text)"
   ]
  },
  {
   "cell_type": "code",
   "execution_count": 21,
   "id": "56a006ed",
   "metadata": {},
   "outputs": [
    {
     "data": {
      "text/plain": [
       "[<selenium.webdriver.remote.webelement.WebElement (session=\"bbf7a5d5a3f9fa042e42f46b1948e328\", element=\"f.5B3A437FF0111F87774A7BBD3F891C67.d.E360C0CCC38B42FAECA75C2D2E1B4AF4.e.16\")>,\n",
       " <selenium.webdriver.remote.webelement.WebElement (session=\"bbf7a5d5a3f9fa042e42f46b1948e328\", element=\"f.5B3A437FF0111F87774A7BBD3F891C67.d.E360C0CCC38B42FAECA75C2D2E1B4AF4.e.17\")>,\n",
       " <selenium.webdriver.remote.webelement.WebElement (session=\"bbf7a5d5a3f9fa042e42f46b1948e328\", element=\"f.5B3A437FF0111F87774A7BBD3F891C67.d.E360C0CCC38B42FAECA75C2D2E1B4AF4.e.18\")>,\n",
       " <selenium.webdriver.remote.webelement.WebElement (session=\"bbf7a5d5a3f9fa042e42f46b1948e328\", element=\"f.5B3A437FF0111F87774A7BBD3F891C67.d.E360C0CCC38B42FAECA75C2D2E1B4AF4.e.19\")>,\n",
       " <selenium.webdriver.remote.webelement.WebElement (session=\"bbf7a5d5a3f9fa042e42f46b1948e328\", element=\"f.5B3A437FF0111F87774A7BBD3F891C67.d.E360C0CCC38B42FAECA75C2D2E1B4AF4.e.20\")>,\n",
       " <selenium.webdriver.remote.webelement.WebElement (session=\"bbf7a5d5a3f9fa042e42f46b1948e328\", element=\"f.5B3A437FF0111F87774A7BBD3F891C67.d.E360C0CCC38B42FAECA75C2D2E1B4AF4.e.21\")>,\n",
       " <selenium.webdriver.remote.webelement.WebElement (session=\"bbf7a5d5a3f9fa042e42f46b1948e328\", element=\"f.5B3A437FF0111F87774A7BBD3F891C67.d.E360C0CCC38B42FAECA75C2D2E1B4AF4.e.22\")>,\n",
       " <selenium.webdriver.remote.webelement.WebElement (session=\"bbf7a5d5a3f9fa042e42f46b1948e328\", element=\"f.5B3A437FF0111F87774A7BBD3F891C67.d.E360C0CCC38B42FAECA75C2D2E1B4AF4.e.23\")>,\n",
       " <selenium.webdriver.remote.webelement.WebElement (session=\"bbf7a5d5a3f9fa042e42f46b1948e328\", element=\"f.5B3A437FF0111F87774A7BBD3F891C67.d.E360C0CCC38B42FAECA75C2D2E1B4AF4.e.95\")>,\n",
       " <selenium.webdriver.remote.webelement.WebElement (session=\"bbf7a5d5a3f9fa042e42f46b1948e328\", element=\"f.5B3A437FF0111F87774A7BBD3F891C67.d.E360C0CCC38B42FAECA75C2D2E1B4AF4.e.97\")>,\n",
       " <selenium.webdriver.remote.webelement.WebElement (session=\"bbf7a5d5a3f9fa042e42f46b1948e328\", element=\"f.5B3A437FF0111F87774A7BBD3F891C67.d.E360C0CCC38B42FAECA75C2D2E1B4AF4.e.99\")>,\n",
       " <selenium.webdriver.remote.webelement.WebElement (session=\"bbf7a5d5a3f9fa042e42f46b1948e328\", element=\"f.5B3A437FF0111F87774A7BBD3F891C67.d.E360C0CCC38B42FAECA75C2D2E1B4AF4.e.101\")>,\n",
       " <selenium.webdriver.remote.webelement.WebElement (session=\"bbf7a5d5a3f9fa042e42f46b1948e328\", element=\"f.5B3A437FF0111F87774A7BBD3F891C67.d.E360C0CCC38B42FAECA75C2D2E1B4AF4.e.103\")>,\n",
       " <selenium.webdriver.remote.webelement.WebElement (session=\"bbf7a5d5a3f9fa042e42f46b1948e328\", element=\"f.5B3A437FF0111F87774A7BBD3F891C67.d.E360C0CCC38B42FAECA75C2D2E1B4AF4.e.105\")>,\n",
       " <selenium.webdriver.remote.webelement.WebElement (session=\"bbf7a5d5a3f9fa042e42f46b1948e328\", element=\"f.5B3A437FF0111F87774A7BBD3F891C67.d.E360C0CCC38B42FAECA75C2D2E1B4AF4.e.107\")>,\n",
       " <selenium.webdriver.remote.webelement.WebElement (session=\"bbf7a5d5a3f9fa042e42f46b1948e328\", element=\"f.5B3A437FF0111F87774A7BBD3F891C67.d.E360C0CCC38B42FAECA75C2D2E1B4AF4.e.109\")>,\n",
       " <selenium.webdriver.remote.webelement.WebElement (session=\"bbf7a5d5a3f9fa042e42f46b1948e328\", element=\"f.5B3A437FF0111F87774A7BBD3F891C67.d.E360C0CCC38B42FAECA75C2D2E1B4AF4.e.111\")>,\n",
       " <selenium.webdriver.remote.webelement.WebElement (session=\"bbf7a5d5a3f9fa042e42f46b1948e328\", element=\"f.5B3A437FF0111F87774A7BBD3F891C67.d.E360C0CCC38B42FAECA75C2D2E1B4AF4.e.113\")>,\n",
       " <selenium.webdriver.remote.webelement.WebElement (session=\"bbf7a5d5a3f9fa042e42f46b1948e328\", element=\"f.5B3A437FF0111F87774A7BBD3F891C67.d.E360C0CCC38B42FAECA75C2D2E1B4AF4.e.115\")>,\n",
       " <selenium.webdriver.remote.webelement.WebElement (session=\"bbf7a5d5a3f9fa042e42f46b1948e328\", element=\"f.5B3A437FF0111F87774A7BBD3F891C67.d.E360C0CCC38B42FAECA75C2D2E1B4AF4.e.117\")>,\n",
       " <selenium.webdriver.remote.webelement.WebElement (session=\"bbf7a5d5a3f9fa042e42f46b1948e328\", element=\"f.5B3A437FF0111F87774A7BBD3F891C67.d.E360C0CCC38B42FAECA75C2D2E1B4AF4.e.119\")>,\n",
       " <selenium.webdriver.remote.webelement.WebElement (session=\"bbf7a5d5a3f9fa042e42f46b1948e328\", element=\"f.5B3A437FF0111F87774A7BBD3F891C67.d.E360C0CCC38B42FAECA75C2D2E1B4AF4.e.121\")>,\n",
       " <selenium.webdriver.remote.webelement.WebElement (session=\"bbf7a5d5a3f9fa042e42f46b1948e328\", element=\"f.5B3A437FF0111F87774A7BBD3F891C67.d.E360C0CCC38B42FAECA75C2D2E1B4AF4.e.123\")>,\n",
       " <selenium.webdriver.remote.webelement.WebElement (session=\"bbf7a5d5a3f9fa042e42f46b1948e328\", element=\"f.5B3A437FF0111F87774A7BBD3F891C67.d.E360C0CCC38B42FAECA75C2D2E1B4AF4.e.125\")>,\n",
       " <selenium.webdriver.remote.webelement.WebElement (session=\"bbf7a5d5a3f9fa042e42f46b1948e328\", element=\"f.5B3A437FF0111F87774A7BBD3F891C67.d.E360C0CCC38B42FAECA75C2D2E1B4AF4.e.127\")>,\n",
       " <selenium.webdriver.remote.webelement.WebElement (session=\"bbf7a5d5a3f9fa042e42f46b1948e328\", element=\"f.5B3A437FF0111F87774A7BBD3F891C67.d.E360C0CCC38B42FAECA75C2D2E1B4AF4.e.129\")>,\n",
       " <selenium.webdriver.remote.webelement.WebElement (session=\"bbf7a5d5a3f9fa042e42f46b1948e328\", element=\"f.5B3A437FF0111F87774A7BBD3F891C67.d.E360C0CCC38B42FAECA75C2D2E1B4AF4.e.131\")>,\n",
       " <selenium.webdriver.remote.webelement.WebElement (session=\"bbf7a5d5a3f9fa042e42f46b1948e328\", element=\"f.5B3A437FF0111F87774A7BBD3F891C67.d.E360C0CCC38B42FAECA75C2D2E1B4AF4.e.133\")>,\n",
       " <selenium.webdriver.remote.webelement.WebElement (session=\"bbf7a5d5a3f9fa042e42f46b1948e328\", element=\"f.5B3A437FF0111F87774A7BBD3F891C67.d.E360C0CCC38B42FAECA75C2D2E1B4AF4.e.135\")>,\n",
       " <selenium.webdriver.remote.webelement.WebElement (session=\"bbf7a5d5a3f9fa042e42f46b1948e328\", element=\"f.5B3A437FF0111F87774A7BBD3F891C67.d.E360C0CCC38B42FAECA75C2D2E1B4AF4.e.137\")>,\n",
       " <selenium.webdriver.remote.webelement.WebElement (session=\"bbf7a5d5a3f9fa042e42f46b1948e328\", element=\"f.5B3A437FF0111F87774A7BBD3F891C67.d.E360C0CCC38B42FAECA75C2D2E1B4AF4.e.139\")>,\n",
       " <selenium.webdriver.remote.webelement.WebElement (session=\"bbf7a5d5a3f9fa042e42f46b1948e328\", element=\"f.5B3A437FF0111F87774A7BBD3F891C67.d.E360C0CCC38B42FAECA75C2D2E1B4AF4.e.141\")>,\n",
       " <selenium.webdriver.remote.webelement.WebElement (session=\"bbf7a5d5a3f9fa042e42f46b1948e328\", element=\"f.5B3A437FF0111F87774A7BBD3F891C67.d.E360C0CCC38B42FAECA75C2D2E1B4AF4.e.143\")>,\n",
       " <selenium.webdriver.remote.webelement.WebElement (session=\"bbf7a5d5a3f9fa042e42f46b1948e328\", element=\"f.5B3A437FF0111F87774A7BBD3F891C67.d.E360C0CCC38B42FAECA75C2D2E1B4AF4.e.145\")>,\n",
       " <selenium.webdriver.remote.webelement.WebElement (session=\"bbf7a5d5a3f9fa042e42f46b1948e328\", element=\"f.5B3A437FF0111F87774A7BBD3F891C67.d.E360C0CCC38B42FAECA75C2D2E1B4AF4.e.147\")>,\n",
       " <selenium.webdriver.remote.webelement.WebElement (session=\"bbf7a5d5a3f9fa042e42f46b1948e328\", element=\"f.5B3A437FF0111F87774A7BBD3F891C67.d.E360C0CCC38B42FAECA75C2D2E1B4AF4.e.149\")>,\n",
       " <selenium.webdriver.remote.webelement.WebElement (session=\"bbf7a5d5a3f9fa042e42f46b1948e328\", element=\"f.5B3A437FF0111F87774A7BBD3F891C67.d.E360C0CCC38B42FAECA75C2D2E1B4AF4.e.151\")>,\n",
       " <selenium.webdriver.remote.webelement.WebElement (session=\"bbf7a5d5a3f9fa042e42f46b1948e328\", element=\"f.5B3A437FF0111F87774A7BBD3F891C67.d.E360C0CCC38B42FAECA75C2D2E1B4AF4.e.153\")>,\n",
       " <selenium.webdriver.remote.webelement.WebElement (session=\"bbf7a5d5a3f9fa042e42f46b1948e328\", element=\"f.5B3A437FF0111F87774A7BBD3F891C67.d.E360C0CCC38B42FAECA75C2D2E1B4AF4.e.155\")>,\n",
       " <selenium.webdriver.remote.webelement.WebElement (session=\"bbf7a5d5a3f9fa042e42f46b1948e328\", element=\"f.5B3A437FF0111F87774A7BBD3F891C67.d.E360C0CCC38B42FAECA75C2D2E1B4AF4.e.157\")>,\n",
       " <selenium.webdriver.remote.webelement.WebElement (session=\"bbf7a5d5a3f9fa042e42f46b1948e328\", element=\"f.5B3A437FF0111F87774A7BBD3F891C67.d.E360C0CCC38B42FAECA75C2D2E1B4AF4.e.159\")>,\n",
       " <selenium.webdriver.remote.webelement.WebElement (session=\"bbf7a5d5a3f9fa042e42f46b1948e328\", element=\"f.5B3A437FF0111F87774A7BBD3F891C67.d.E360C0CCC38B42FAECA75C2D2E1B4AF4.e.161\")>,\n",
       " <selenium.webdriver.remote.webelement.WebElement (session=\"bbf7a5d5a3f9fa042e42f46b1948e328\", element=\"f.5B3A437FF0111F87774A7BBD3F891C67.d.E360C0CCC38B42FAECA75C2D2E1B4AF4.e.163\")>,\n",
       " <selenium.webdriver.remote.webelement.WebElement (session=\"bbf7a5d5a3f9fa042e42f46b1948e328\", element=\"f.5B3A437FF0111F87774A7BBD3F891C67.d.E360C0CCC38B42FAECA75C2D2E1B4AF4.e.165\")>]"
      ]
     },
     "execution_count": 21,
     "metadata": {},
     "output_type": "execute_result"
    }
   ],
   "source": [
    "images = driver.find_elements(By.CSS_SELECTOR, \".sa_thumb_link img\")\n",
    "images"
   ]
  },
  {
   "cell_type": "code",
   "execution_count": 22,
   "id": "605f6e53",
   "metadata": {},
   "outputs": [],
   "source": [
    "from urllib.request import urlretrieve\n",
    "\n",
    "for i, image in enumerate(images):\n",
    "    image_url = image.get_attribute('src')\n",
    "    urlretrieve(image_url, f\"C:/uploads/{i}.jpg\")"
   ]
  },
  {
   "cell_type": "code",
   "execution_count": 23,
   "id": "fb54edf4",
   "metadata": {},
   "outputs": [],
   "source": [
    "from bs4 import BeautifulSoup as bs\n",
    "\n",
    "html= driver.page_source\n",
    "soup = bs(html, 'html.parser')"
   ]
  },
  {
   "cell_type": "code",
   "execution_count": 24,
   "id": "52717fe3",
   "metadata": {},
   "outputs": [],
   "source": [
    "# 자바스크립트 실행\n",
    "driver.execute_script(\"alert('자바스크립트 실행!');\")"
   ]
  },
  {
   "cell_type": "code",
   "execution_count": null,
   "id": "6868cb86",
   "metadata": {},
   "outputs": [],
   "source": []
  }
 ],
 "metadata": {
  "kernelspec": {
   "display_name": ".venv",
   "language": "python",
   "name": "python3"
  },
  "language_info": {
   "codemirror_mode": {
    "name": "ipython",
    "version": 3
   },
   "file_extension": ".py",
   "mimetype": "text/x-python",
   "name": "python",
   "nbconvert_exporter": "python",
   "pygments_lexer": "ipython3",
   "version": "3.12.10"
  }
 },
 "nbformat": 4,
 "nbformat_minor": 5
}
