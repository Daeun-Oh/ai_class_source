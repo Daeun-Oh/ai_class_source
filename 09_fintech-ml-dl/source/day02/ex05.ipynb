{
 "cells": [
  {
   "cell_type": "code",
   "execution_count": 4,
   "id": "ba3822fe",
   "metadata": {},
   "outputs": [],
   "source": [
    "import numpy as np\n",
    "\n",
    "fish_length = np.array([25.4, 26.3, 26.5, 29.0, 29.0, 29.7, 29.7, 30.0, 30.0, 30.7, 31.0, 31.0,\n",
    "                31.5, 32.0, 32.0, 32.0, 33.0, 33.0, 33.5, 33.5, 34.0, 34.0, 34.5, 35.0,\n",
    "                35.0, 35.0, 35.0, 36.0, 36.0, 37.0, 38.5, 38.5, 39.5, 41.0, 41.0, 9.8,\n",
    "                10.5, 10.6, 11.0, 11.2, 11.3, 11.8, 11.8, 12.0, 12.2, 12.4, 13.0, 14.3, 15.0])\n",
    "fish_weight = np.array([242.0, 290.0, 340.0, 363.0, 430.0, 450.0, 500.0, 390.0, 450.0, 500.0, 475.0, 500.0,\n",
    "                500.0, 340.0, 600.0, 600.0, 700.0, 700.0, 610.0, 650.0, 575.0, 685.0, 620.0, 680.0,\n",
    "                700.0, 725.0, 720.0, 714.0, 850.0, 1000.0, 920.0, 955.0, 925.0, 975.0, 950.0, 6.7,\n",
    "                7.5, 7.0, 9.7, 9.8, 8.7, 10.0, 9.9, 9.8, 12.2, 13.4, 12.2, 19.7, 19.9])"
   ]
  },
  {
   "cell_type": "code",
   "execution_count": 5,
   "id": "95e5f6f2",
   "metadata": {},
   "outputs": [],
   "source": [
    "fish_data = np.column_stack((fish_length, fish_weight))\n",
    "fish_target = np.concatenate((np.ones(35), np.zeros(14)))"
   ]
  },
  {
   "cell_type": "code",
   "execution_count": 7,
   "id": "851ebde5",
   "metadata": {},
   "outputs": [
    {
     "data": {
      "text/plain": [
       "array([[ 0.20441915, -0.06135618],\n",
       "       [ 1.15585816,  1.33125149],\n",
       "       [ 0.30150477,  0.0852341 ],\n",
       "       [ 1.05877255,  1.41920566],\n",
       "       [-1.47516196, -1.34138251]])"
      ]
     },
     "execution_count": 7,
     "metadata": {},
     "output_type": "execute_result"
    }
   ],
   "source": [
    "from sklearn.model_selection import train_test_split\n",
    "\n",
    "train_input, test_input, train_target, test_target = train_test_split(\n",
    "    fish_data, fish_target, stratify=fish_target\n",
    ")\n",
    "\n",
    "# 정규화(표준화) -> 표준함수 만들기\n",
    "\n",
    "from sklearn.preprocessing import StandardScaler\n",
    "\n",
    "# fit(...): 데이터 준비, transform(...): 표준점수 변환 작업, fit_transform(...): fit + transform\n",
    "ss = StandardScaler()\n",
    "ss.fit(train_input)  # 표준 점수 기준은 훈련 데이터!\n",
    "train_scaled = ss.transform(train_input)\n",
    "test_scaled = ss.transform(test_input)\n",
    "\n",
    "train_scaled[:5]"
   ]
  },
  {
   "cell_type": "code",
   "execution_count": 9,
   "id": "19fbe50f",
   "metadata": {},
   "outputs": [
    {
     "data": {
      "text/plain": [
       "array([[-0.25188323, -0.94089786]])"
      ]
     },
     "execution_count": 9,
     "metadata": {},
     "output_type": "execute_result"
    }
   ],
   "source": [
    "from sklearn.neighbors import KNeighborsClassifier\n",
    "\n",
    "kn = KNeighborsClassifier()  # t=1 -> 맨헤튼\n",
    "kn.fit(train_scaled, train_target)  # 학습\n",
    "fish = ss.transform(np.array([[25, 150]]))\n",
    "fish"
   ]
  },
  {
   "cell_type": "code",
   "execution_count": 10,
   "id": "7f4a53f4",
   "metadata": {},
   "outputs": [
    {
     "data": {
      "text/plain": [
       "array([1.])"
      ]
     },
     "execution_count": 10,
     "metadata": {},
     "output_type": "execute_result"
    }
   ],
   "source": [
    "# 예측\n",
    "kn.predict(fish)  # 도미로 예측"
   ]
  },
  {
   "cell_type": "code",
   "execution_count": 11,
   "id": "8c0387f4",
   "metadata": {},
   "outputs": [
    {
     "data": {
      "image/png": "[encoded data removed]",
      "text/plain": [
       "<Figure size 640x480 with 1 Axes>"
      ]
     },
     "metadata": {},
     "output_type": "display_data"
    }
   ],
   "source": [
    "import matplotlib.pyplot as plt\n",
    "\n",
    "_, indexes = kn.kneighbors(fish)\n",
    "plt.scatter(train_scaled[:,0], train_scaled[:,1])\n",
    "plt.scatter(train_scaled[indexes, 0], train_scaled[indexes, 1], marker='D')\n",
    "plt.scatter(fish[0][0], fish[0][1], marker='^')\n",
    "plt.xlabel('length')\n",
    "plt.ylabel('weight')\n",
    "plt.show()"
   ]
  },
  {
   "cell_type": "code",
   "execution_count": null,
   "id": "64713554",
   "metadata": {},
   "outputs": [],
   "source": []
  }
 ],
 "metadata": {
  "kernelspec": {
   "display_name": ".venv",
   "language": "python",
   "name": "python3"
  },
  "language_info": {
   "codemirror_mode": {
    "name": "ipython",
    "version": 3
   },
   "file_extension": ".py",
   "mimetype": "text/x-python",
   "name": "python",
   "nbconvert_exporter": "python",
   "pygments_lexer": "ipython3",
   "version": "3.12.10"
  }
 },
 "nbformat": 4,
 "nbformat_minor": 5
}
