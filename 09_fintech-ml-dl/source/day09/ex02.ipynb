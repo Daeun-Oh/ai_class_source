{
 "cells": [
  {
   "cell_type": "markdown",
   "id": "fc466636",
   "metadata": {},
   "source": [
    "#### 원-핫 인코딩 (One-Hot Encoding) 예제\n",
    "- `loss='categorical_crossentropy'`(다중 분류)일 때 타겟값을 0, 1로 변경하는 기법"
   ]
  },
  {
   "cell_type": "code",
   "execution_count": 2,
   "id": "0705a27e",
   "metadata": {},
   "outputs": [],
   "source": [
    "import keras\n",
    "import numpy as np"
   ]
  },
  {
   "cell_type": "code",
   "execution_count": 11,
   "id": "098e792f",
   "metadata": {},
   "outputs": [
    {
     "data": {
      "text/plain": [
       "array([[0., 1., 0., 0.],\n",
       "       [1., 0., 0., 0.],\n",
       "       [0., 0., 0., 1.],\n",
       "       [0., 0., 1., 0.]])"
      ]
     },
     "execution_count": 11,
     "metadata": {},
     "output_type": "execute_result"
    }
   ],
   "source": [
    "targets = np.array([1, 0, 3, 2])\n",
    "targets_encoded = keras.utils.to_categorical(targets)  # 원-핫 인코딩 변환\n",
    "\n",
    "targets_encoded"
   ]
  },
  {
   "cell_type": "markdown",
   "id": "44ae7f0c",
   "metadata": {},
   "source": [
    "원-핫 인코딩의 목적:\n",
    "\n",
    "ex) 파인애플 - 0, 바나나 - 1, 사과 - 2일 때\\\n",
    "파인애플 - [1, 0, 0]\\\n",
    "바나나 - [0, 1, 0]\\\n",
    "사과 - [0, 0, 1]\n",
    "\n",
    "이렇게 범주형 데이터를 숫자로 표현할 때 발생하는 순서나 연속성이 있다는 오해를 피하기 위해서\\\n",
    "각 범주를 서로 완전히 독립된 차원으로 만든다."
   ]
  }
 ],
 "metadata": {
  "kernelspec": {
   "display_name": ".venv",
   "language": "python",
   "name": "python3"
  },
  "language_info": {
   "codemirror_mode": {
    "name": "ipython",
    "version": 3
   },
   "file_extension": ".py",
   "mimetype": "text/x-python",
   "name": "python",
   "nbconvert_exporter": "python",
   "pygments_lexer": "ipython3",
   "version": "3.12.10"
  }
 },
 "nbformat": 4,
 "nbformat_minor": 5
}
