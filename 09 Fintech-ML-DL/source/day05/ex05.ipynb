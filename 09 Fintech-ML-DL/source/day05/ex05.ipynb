{
 "cells": [
  {
   "cell_type": "code",
   "execution_count": 4,
   "id": "980afc15",
   "metadata": {},
   "outputs": [
    {
     "data": {
      "text/plain": [
       "array([2, 1, 9, 8, 0, 9, 1, 0, 7, 1, 2])"
      ]
     },
     "execution_count": 4,
     "metadata": {},
     "output_type": "execute_result"
    }
   ],
   "source": [
    "from scipy.stats import randint, uniform\n",
    "\n",
    "ri = randint(0, 10)  # 0~9 랜덤 숫자\n",
    "ri.rvs(11)           # 0~9 랜덤 숫자 11개 생성"
   ]
  },
  {
   "cell_type": "code",
   "execution_count": 5,
   "id": "81b3e05d",
   "metadata": {},
   "outputs": [
    {
     "data": {
      "text/plain": [
       "(array([0, 1, 2, 3, 4, 5, 6, 7, 8, 9]),\n",
       " array([123, 107,  94, 102, 100,  84, 107,  82,  96, 105]))"
      ]
     },
     "execution_count": 5,
     "metadata": {},
     "output_type": "execute_result"
    }
   ],
   "source": [
    "import numpy as np\n",
    "\n",
    "np.unique(ri.rvs(1000), return_counts=True)  # 중복된 개수 함께 반환"
   ]
  },
  {
   "cell_type": "code",
   "execution_count": 6,
   "id": "eab62f1a",
   "metadata": {},
   "outputs": [
    {
     "data": {
      "text/plain": [
       "array([0.67009234, 0.10316376, 0.32198995, 0.06300531, 0.88566601])"
      ]
     },
     "execution_count": 6,
     "metadata": {},
     "output_type": "execute_result"
    }
   ],
   "source": [
    "ui = uniform(0, 1)  # 0~1 랜덤 실수\n",
    "ui.rvs(5)           # 0~1 랜덤 실수 5개 생성"
   ]
  },
  {
   "cell_type": "code",
   "execution_count": null,
   "id": "f4aa13af",
   "metadata": {},
   "outputs": [],
   "source": []
  }
 ],
 "metadata": {
  "kernelspec": {
   "display_name": ".venv",
   "language": "python",
   "name": "python3"
  },
  "language_info": {
   "codemirror_mode": {
    "name": "ipython",
    "version": 3
   },
   "file_extension": ".py",
   "mimetype": "text/x-python",
   "name": "python",
   "nbconvert_exporter": "python",
   "pygments_lexer": "ipython3",
   "version": "3.12.10"
  }
 },
 "nbformat": 4,
 "nbformat_minor": 5
}
