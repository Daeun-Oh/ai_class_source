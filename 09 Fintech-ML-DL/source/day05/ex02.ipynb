{
 "cells": [
  {
   "cell_type": "code",
   "execution_count": 1,
   "id": "fecb64d4",
   "metadata": {},
   "outputs": [],
   "source": [
    "import numpy as np\n",
    "fruits = np.array(['사과', '오렌지', '바나나', '멜론', '망고'])"
   ]
  },
  {
   "cell_type": "code",
   "execution_count": 2,
   "id": "28a044c7",
   "metadata": {},
   "outputs": [
    {
     "data": {
      "text/plain": [
       "array(['오렌지', '바나나'], dtype='<U3')"
      ]
     },
     "execution_count": 2,
     "metadata": {},
     "output_type": "execute_result"
    }
   ],
   "source": [
    "fruits[[False, True, True, False, False]]"
   ]
  },
  {
   "cell_type": "code",
   "execution_count": 3,
   "id": "545d8e46",
   "metadata": {},
   "outputs": [
    {
     "data": {
      "text/plain": [
       "array(['사과', '오렌지', '바나나'], dtype='<U3')"
      ]
     },
     "execution_count": 3,
     "metadata": {},
     "output_type": "execute_result"
    }
   ],
   "source": [
    "fruits[[0, 1, 2]]"
   ]
  },
  {
   "cell_type": "code",
   "execution_count": null,
   "id": "5b88cbf6",
   "metadata": {},
   "outputs": [],
   "source": []
  }
 ],
 "metadata": {
  "kernelspec": {
   "display_name": ".venv",
   "language": "python",
   "name": "python3"
  },
  "language_info": {
   "codemirror_mode": {
    "name": "ipython",
    "version": 3
   },
   "file_extension": ".py",
   "mimetype": "text/x-python",
   "name": "python",
   "nbconvert_exporter": "python",
   "pygments_lexer": "ipython3",
   "version": "3.12.10"
  }
 },
 "nbformat": 4,
 "nbformat_minor": 5
}
