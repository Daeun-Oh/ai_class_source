{
 "cells": [
  {
   "cell_type": "code",
   "execution_count": 36,
   "id": "b4fdf3b3",
   "metadata": {},
   "outputs": [
    {
     "name": "stdout",
     "output_type": "stream",
     "text": [
      "Requirement already satisfied: pandas in c:\\users\\admin\\desktop\\daeun-ai\\09 fintech-ml-dl\\source\\.venv\\lib\\site-packages (2.3.0)\n",
      "Requirement already satisfied: numpy>=1.26.0 in c:\\users\\admin\\desktop\\daeun-ai\\09 fintech-ml-dl\\source\\.venv\\lib\\site-packages (from pandas) (2.3.0)\n",
      "Requirement already satisfied: python-dateutil>=2.8.2 in c:\\users\\admin\\desktop\\daeun-ai\\09 fintech-ml-dl\\source\\.venv\\lib\\site-packages (from pandas) (2.9.0.post0)\n",
      "Requirement already satisfied: pytz>=2020.1 in c:\\users\\admin\\desktop\\daeun-ai\\09 fintech-ml-dl\\source\\.venv\\lib\\site-packages (from pandas) (2025.2)\n",
      "Requirement already satisfied: tzdata>=2022.7 in c:\\users\\admin\\desktop\\daeun-ai\\09 fintech-ml-dl\\source\\.venv\\lib\\site-packages (from pandas) (2025.2)\n",
      "Requirement already satisfied: six>=1.5 in c:\\users\\admin\\desktop\\daeun-ai\\09 fintech-ml-dl\\source\\.venv\\lib\\site-packages (from python-dateutil>=2.8.2->pandas) (1.17.0)\n",
      "Note: you may need to restart the kernel to use updated packages.\n"
     ]
    }
   ],
   "source": [
    "%pip install pandas"
   ]
  },
  {
   "cell_type": "code",
   "execution_count": 37,
   "id": "fc5f02ed",
   "metadata": {},
   "outputs": [
    {
     "data": {
      "text/html": [
       "<div>\n",
       "<style scoped>\n",
       "    .dataframe tbody tr th:only-of-type {\n",
       "        vertical-align: middle;\n",
       "    }\n",
       "\n",
       "    .dataframe tbody tr th {\n",
       "        vertical-align: top;\n",
       "    }\n",
       "\n",
       "    .dataframe thead th {\n",
       "        text-align: right;\n",
       "    }\n",
       "</style>\n",
       "<table border=\"1\" class=\"dataframe\">\n",
       "  <thead>\n",
       "    <tr style=\"text-align: right;\">\n",
       "      <th></th>\n",
       "      <th>length</th>\n",
       "      <th>height</th>\n",
       "      <th>width</th>\n",
       "    </tr>\n",
       "  </thead>\n",
       "  <tbody>\n",
       "    <tr>\n",
       "      <th>0</th>\n",
       "      <td>8.4</td>\n",
       "      <td>2.11</td>\n",
       "      <td>1.41</td>\n",
       "    </tr>\n",
       "    <tr>\n",
       "      <th>1</th>\n",
       "      <td>13.7</td>\n",
       "      <td>3.53</td>\n",
       "      <td>2.00</td>\n",
       "    </tr>\n",
       "    <tr>\n",
       "      <th>2</th>\n",
       "      <td>15.0</td>\n",
       "      <td>3.82</td>\n",
       "      <td>2.43</td>\n",
       "    </tr>\n",
       "    <tr>\n",
       "      <th>3</th>\n",
       "      <td>16.2</td>\n",
       "      <td>4.59</td>\n",
       "      <td>2.63</td>\n",
       "    </tr>\n",
       "    <tr>\n",
       "      <th>4</th>\n",
       "      <td>17.4</td>\n",
       "      <td>4.59</td>\n",
       "      <td>2.94</td>\n",
       "    </tr>\n",
       "  </tbody>\n",
       "</table>\n",
       "</div>"
      ],
      "text/plain": [
       "   length   height   width\n",
       "0     8.4     2.11    1.41\n",
       "1    13.7     3.53    2.00\n",
       "2    15.0     3.82    2.43\n",
       "3    16.2     4.59    2.63\n",
       "4    17.4     4.59    2.94"
      ]
     },
     "execution_count": 37,
     "metadata": {},
     "output_type": "execute_result"
    }
   ],
   "source": [
    "import pandas as pd\n",
    "\n",
    "df = pd.read_csv('https://bit.ly/perch_csv_data')\n",
    "df.head()"
   ]
  },
  {
   "cell_type": "code",
   "execution_count": 38,
   "id": "e6e7d2c2",
   "metadata": {},
   "outputs": [
    {
     "data": {
      "text/plain": [
       "array([[ 8.4 ,  2.11,  1.41],\n",
       "       [13.7 ,  3.53,  2.  ],\n",
       "       [15.  ,  3.82,  2.43],\n",
       "       [16.2 ,  4.59,  2.63],\n",
       "       [17.4 ,  4.59,  2.94]])"
      ]
     },
     "execution_count": 38,
     "metadata": {},
     "output_type": "execute_result"
    }
   ],
   "source": [
    "data = df.to_numpy()\n",
    "data[:5]"
   ]
  },
  {
   "cell_type": "code",
   "execution_count": 39,
   "id": "7ee8e2fa",
   "metadata": {},
   "outputs": [],
   "source": [
    "import numpy as np\n",
    "\n",
    "perch_weight = np.array(\n",
    "    [5.9, 32.0, 40.0, 51.5, 70.0, 100.0, 78.0, 80.0, 85.0, 85.0,\n",
    "     110.0, 115.0, 125.0, 130.0, 120.0, 120.0, 130.0, 135.0, 110.0,\n",
    "     130.0, 150.0, 145.0, 150.0, 170.0, 225.0, 145.0, 188.0, 180.0,\n",
    "     197.0, 218.0, 300.0, 260.0, 265.0, 250.0, 250.0, 300.0, 320.0,\n",
    "     514.0, 556.0, 840.0, 685.0, 700.0, 700.0, 690.0, 900.0, 650.0,\n",
    "     820.0, 850.0, 900.0, 1015.0, 820.0, 1100.0, 1000.0, 1100.0,\n",
    "     1000.0, 1000.0]\n",
    "     )"
   ]
  },
  {
   "cell_type": "code",
   "execution_count": 40,
   "id": "5d1cab26",
   "metadata": {},
   "outputs": [],
   "source": [
    "from sklearn.model_selection import train_test_split\n",
    "\n",
    "train_input, test_input, train_target, test_target = train_test_split(\n",
    "    data, perch_weight, test_size=0.2, random_state=42  # random_state: seed 값 (수업 중에만)\n",
    ")"
   ]
  },
  {
   "cell_type": "code",
   "execution_count": 41,
   "id": "33dd6974",
   "metadata": {},
   "outputs": [
    {
     "name": "stdout",
     "output_type": "stream",
     "text": [
      "[11.09529474 59.94662741 43.76845098] -612.9678799271909\n"
     ]
    }
   ],
   "source": [
    "from sklearn.linear_model import LinearRegression\n",
    "\n",
    "lr = LinearRegression()\n",
    "lr.fit(train_input, train_target)  # 학습\n",
    "\n",
    "# 모델 파라미터 확인\n",
    "print(lr.coef_, lr.intercept_)"
   ]
  },
  {
   "cell_type": "markdown",
   "id": "0272f481",
   "metadata": {},
   "source": [
    "### 가중치 계수(w<sub>1</sub>, w<sub>2</sub>, w<sub>3</sub>)와 절편(d)\n",
    "y = w<sub>1</sub>a + w<sub>2</sub>b + w<sub>3</sub>c + d\\\n",
    "w<sub>1</sub>: `lr.coef_[0]`\\\n",
    "w<sub>2</sub>: `lr.coef_[1]`\\\n",
    "w<sub>3</sub>: `lr.coef_[2]`\\\n",
    "d: `lr.intercept_`"
   ]
  },
  {
   "cell_type": "code",
   "execution_count": 42,
   "id": "009508eb",
   "metadata": {},
   "outputs": [
    {
     "data": {
      "text/plain": [
       "0.8931658636745737"
      ]
     },
     "execution_count": 42,
     "metadata": {},
     "output_type": "execute_result"
    }
   ],
   "source": [
    "lr.score(test_input, test_target)"
   ]
  },
  {
   "cell_type": "markdown",
   "id": "59f2d783",
   "metadata": {},
   "source": [
    "## 2. 특성 공학\n",
    "- 특성의 개수를 조합과 거듭제곱을 통해서 늘려주는 기법\n",
    "- PolynomialFeatures (-> 예제는 ex03에서...)"
   ]
  },
  {
   "cell_type": "code",
   "execution_count": 43,
   "id": "a7deffcf",
   "metadata": {},
   "outputs": [
    {
     "name": "stdout",
     "output_type": "stream",
     "text": [
      "(44, 9) (12, 9)\n"
     ]
    }
   ],
   "source": [
    "# 특성공학, 특성 계수 늘리기\n",
    "from sklearn.preprocessing import PolynomialFeatures\n",
    "\n",
    "poly = PolynomialFeatures(include_bias=False)\n",
    "poly.fit(train_input)\n",
    "train_poly = poly.transform(train_input)\n",
    "test_poly = poly.transform(test_input)\n",
    "\n",
    "print(train_poly.shape, test_poly.shape)"
   ]
  },
  {
   "cell_type": "code",
   "execution_count": 44,
   "id": "6da4ec63",
   "metadata": {},
   "outputs": [
    {
     "data": {
      "text/plain": [
       "array([[ 28.    ,   7.82  ,   4.2   , 784.    , 218.96  , 117.6   ,\n",
       "         61.1524,  32.844 ,  17.64  ],\n",
       "       [ 27.3   ,   8.32  ,   5.14  , 745.29  , 227.136 , 140.322 ,\n",
       "         69.2224,  42.7648,  26.4196],\n",
       "       [ 19.6   ,   5.14  ,   3.04  , 384.16  , 100.744 ,  59.584 ,\n",
       "         26.4196,  15.6256,   9.2416],\n",
       "       [ 22.    ,   5.88  ,   3.52  , 484.    , 129.36  ,  77.44  ,\n",
       "         34.5744,  20.6976,  12.3904],\n",
       "       [ 18.7   ,   5.2   ,   3.12  , 349.69  ,  97.24  ,  58.344 ,\n",
       "         27.04  ,  16.224 ,   9.7344]])"
      ]
     },
     "execution_count": 44,
     "metadata": {},
     "output_type": "execute_result"
    }
   ],
   "source": [
    "train_poly[:5]"
   ]
  },
  {
   "cell_type": "code",
   "execution_count": 45,
   "id": "fbb16fe2",
   "metadata": {},
   "outputs": [
    {
     "data": {
      "text/plain": [
       "array(['x0', 'x1', 'x2', 'x0^2', 'x0 x1', 'x0 x2', 'x1^2', 'x1 x2',\n",
       "       'x2^2'], dtype=object)"
      ]
     },
     "execution_count": 45,
     "metadata": {},
     "output_type": "execute_result"
    }
   ],
   "source": [
    "poly.get_feature_names_out()"
   ]
  },
  {
   "cell_type": "code",
   "execution_count": 46,
   "id": "b2bf61ba",
   "metadata": {},
   "outputs": [
    {
     "name": "stdout",
     "output_type": "stream",
     "text": [
      "훈련 세트 점수:  0.9900974417605037\n",
      "테스트 세트 점수:  0.9766805886149259\n"
     ]
    }
   ],
   "source": [
    "lr = LinearRegression()\n",
    "lr.fit(train_poly, train_target)\n",
    "print(\"훈련 세트 점수: \", lr.score(train_poly, train_target))\n",
    "print(\"테스트 세트 점수: \", lr.score(test_poly, test_target))"
   ]
  },
  {
   "cell_type": "code",
   "execution_count": 47,
   "id": "3be3046f",
   "metadata": {},
   "outputs": [
    {
     "name": "stdout",
     "output_type": "stream",
     "text": [
      "(44, 55) (12, 55)\n"
     ]
    }
   ],
   "source": [
    "poly = PolynomialFeatures(degree=5, include_bias=False)\n",
    "poly.fit(train_input)\n",
    "train_poly = poly.transform(train_input)\n",
    "test_poly = poly.transform(test_input)\n",
    "\n",
    "print(train_poly.shape, test_poly.shape)"
   ]
  },
  {
   "cell_type": "code",
   "execution_count": 48,
   "id": "7bf49f1a",
   "metadata": {},
   "outputs": [
    {
     "name": "stdout",
     "output_type": "stream",
     "text": [
      "훈련 세트 점수: 0.9999999999815445\n",
      "테스트 세트 점수: -167.28747054534503\n"
     ]
    }
   ],
   "source": [
    "lr = LinearRegression()\n",
    "lr.fit(train_poly, train_target)\n",
    "print(\"훈련 세트 점수:\", lr.score(train_poly, train_target))\n",
    "print(\"테스트 세트 점수:\", lr.score(test_poly, test_target))"
   ]
  },
  {
   "cell_type": "markdown",
   "id": "e49a277b",
   "metadata": {},
   "source": [
    "### 과대 적합(overfitting)이 일어남\n",
    "- 너무 훈련 세트에 맞게 그래프가 꺾여 있다\n",
    "- degree: 하이퍼 파라미터 (우리가 정의하는 파라미터)\n",
    "\n",
    "#### 어떻게 해결할 수 있을까?\n",
    "- 세밀하게 꺾여 있지 않도록, 그래프의 일반적인 경향성을 띠게 한다 -> **규제**"
   ]
  },
  {
   "cell_type": "code",
   "execution_count": null,
   "id": "863964cc",
   "metadata": {},
   "outputs": [
    {
     "ename": "ValueError",
     "evalue": "X has 1 features, but PolynomialFeatures is expecting 3 features as input.",
     "output_type": "error",
     "traceback": [
      "\u001b[31m---------------------------------------------------------------------------\u001b[39m",
      "\u001b[31mValueError\u001b[39m                                Traceback (most recent call last)",
      "\u001b[36mCell\u001b[39m\u001b[36m \u001b[39m\u001b[32mIn[71]\u001b[39m\u001b[32m, line 23\u001b[39m\n\u001b[32m     20\u001b[39m \u001b[38;5;28;01mimport\u001b[39;00m\u001b[38;5;250m \u001b[39m\u001b[34;01mmatplotlib\u001b[39;00m\u001b[34;01m.\u001b[39;00m\u001b[34;01mpyplot\u001b[39;00m\u001b[38;5;250m \u001b[39m\u001b[38;5;28;01mas\u001b[39;00m\u001b[38;5;250m \u001b[39m\u001b[34;01mplt\u001b[39;00m\n\u001b[32m     22\u001b[39m x = np.arange(\u001b[32m15\u001b[39m, \u001b[32m50\u001b[39m).reshape(-\u001b[32m1\u001b[39m, \u001b[32m1\u001b[39m)\n\u001b[32m---> \u001b[39m\u001b[32m23\u001b[39m x_poly = \u001b[43mpoly\u001b[49m\u001b[43m.\u001b[49m\u001b[43mtransform\u001b[49m\u001b[43m(\u001b[49m\u001b[43mx\u001b[49m\u001b[43m)\u001b[49m\n\u001b[32m     24\u001b[39m y_pred = lr.predict(x_poly)\n\u001b[32m     25\u001b[39m plt.plot(x, y_pred)\n",
      "\u001b[36mFile \u001b[39m\u001b[32mc:\\Users\\admin\\Desktop\\Daeun-ai\\09 Fintech-ML-DL\\source\\.venv\\Lib\\site-packages\\sklearn\\utils\\_set_output.py:316\u001b[39m, in \u001b[36m_wrap_method_output.<locals>.wrapped\u001b[39m\u001b[34m(self, X, *args, **kwargs)\u001b[39m\n\u001b[32m    314\u001b[39m \u001b[38;5;129m@wraps\u001b[39m(f)\n\u001b[32m    315\u001b[39m \u001b[38;5;28;01mdef\u001b[39;00m\u001b[38;5;250m \u001b[39m\u001b[34mwrapped\u001b[39m(\u001b[38;5;28mself\u001b[39m, X, *args, **kwargs):\n\u001b[32m--> \u001b[39m\u001b[32m316\u001b[39m     data_to_wrap = \u001b[43mf\u001b[49m\u001b[43m(\u001b[49m\u001b[38;5;28;43mself\u001b[39;49m\u001b[43m,\u001b[49m\u001b[43m \u001b[49m\u001b[43mX\u001b[49m\u001b[43m,\u001b[49m\u001b[43m \u001b[49m\u001b[43m*\u001b[49m\u001b[43margs\u001b[49m\u001b[43m,\u001b[49m\u001b[43m \u001b[49m\u001b[43m*\u001b[49m\u001b[43m*\u001b[49m\u001b[43mkwargs\u001b[49m\u001b[43m)\u001b[49m\n\u001b[32m    317\u001b[39m     \u001b[38;5;28;01mif\u001b[39;00m \u001b[38;5;28misinstance\u001b[39m(data_to_wrap, \u001b[38;5;28mtuple\u001b[39m):\n\u001b[32m    318\u001b[39m         \u001b[38;5;66;03m# only wrap the first output for cross decomposition\u001b[39;00m\n\u001b[32m    319\u001b[39m         return_tuple = (\n\u001b[32m    320\u001b[39m             _wrap_data_with_container(method, data_to_wrap[\u001b[32m0\u001b[39m], X, \u001b[38;5;28mself\u001b[39m),\n\u001b[32m    321\u001b[39m             *data_to_wrap[\u001b[32m1\u001b[39m:],\n\u001b[32m    322\u001b[39m         )\n",
      "\u001b[36mFile \u001b[39m\u001b[32mc:\\Users\\admin\\Desktop\\Daeun-ai\\09 Fintech-ML-DL\\source\\.venv\\Lib\\site-packages\\sklearn\\preprocessing\\_polynomial.py:419\u001b[39m, in \u001b[36mPolynomialFeatures.transform\u001b[39m\u001b[34m(self, X)\u001b[39m\n\u001b[32m    389\u001b[39m \u001b[38;5;250m\u001b[39m\u001b[33;03m\"\"\"Transform data to polynomial features.\u001b[39;00m\n\u001b[32m    390\u001b[39m \n\u001b[32m    391\u001b[39m \u001b[33;03mParameters\u001b[39;00m\n\u001b[32m   (...)\u001b[39m\u001b[32m    415\u001b[39m \u001b[33;03m    `csr_matrix`.\u001b[39;00m\n\u001b[32m    416\u001b[39m \u001b[33;03m\"\"\"\u001b[39;00m\n\u001b[32m    417\u001b[39m check_is_fitted(\u001b[38;5;28mself\u001b[39m)\n\u001b[32m--> \u001b[39m\u001b[32m419\u001b[39m X = \u001b[43mvalidate_data\u001b[49m\u001b[43m(\u001b[49m\n\u001b[32m    420\u001b[39m \u001b[43m    \u001b[49m\u001b[38;5;28;43mself\u001b[39;49m\u001b[43m,\u001b[49m\n\u001b[32m    421\u001b[39m \u001b[43m    \u001b[49m\u001b[43mX\u001b[49m\u001b[43m,\u001b[49m\n\u001b[32m    422\u001b[39m \u001b[43m    \u001b[49m\u001b[43morder\u001b[49m\u001b[43m=\u001b[49m\u001b[33;43m\"\u001b[39;49m\u001b[33;43mF\u001b[39;49m\u001b[33;43m\"\u001b[39;49m\u001b[43m,\u001b[49m\n\u001b[32m    423\u001b[39m \u001b[43m    \u001b[49m\u001b[43mdtype\u001b[49m\u001b[43m=\u001b[49m\u001b[43mFLOAT_DTYPES\u001b[49m\u001b[43m,\u001b[49m\n\u001b[32m    424\u001b[39m \u001b[43m    \u001b[49m\u001b[43mreset\u001b[49m\u001b[43m=\u001b[49m\u001b[38;5;28;43;01mFalse\u001b[39;49;00m\u001b[43m,\u001b[49m\n\u001b[32m    425\u001b[39m \u001b[43m    \u001b[49m\u001b[43maccept_sparse\u001b[49m\u001b[43m=\u001b[49m\u001b[43m(\u001b[49m\u001b[33;43m\"\u001b[39;49m\u001b[33;43mcsr\u001b[39;49m\u001b[33;43m\"\u001b[39;49m\u001b[43m,\u001b[49m\u001b[43m \u001b[49m\u001b[33;43m\"\u001b[39;49m\u001b[33;43mcsc\u001b[39;49m\u001b[33;43m\"\u001b[39;49m\u001b[43m)\u001b[49m\u001b[43m,\u001b[49m\n\u001b[32m    426\u001b[39m \u001b[43m\u001b[49m\u001b[43m)\u001b[49m\n\u001b[32m    428\u001b[39m n_samples, n_features = X.shape\n\u001b[32m    429\u001b[39m max_int32 = np.iinfo(np.int32).max\n",
      "\u001b[36mFile \u001b[39m\u001b[32mc:\\Users\\admin\\Desktop\\Daeun-ai\\09 Fintech-ML-DL\\source\\.venv\\Lib\\site-packages\\sklearn\\utils\\validation.py:2975\u001b[39m, in \u001b[36mvalidate_data\u001b[39m\u001b[34m(_estimator, X, y, reset, validate_separately, skip_check_array, **check_params)\u001b[39m\n\u001b[32m   2972\u001b[39m     out = X, y\n\u001b[32m   2974\u001b[39m \u001b[38;5;28;01mif\u001b[39;00m \u001b[38;5;129;01mnot\u001b[39;00m no_val_X \u001b[38;5;129;01mand\u001b[39;00m check_params.get(\u001b[33m\"\u001b[39m\u001b[33mensure_2d\u001b[39m\u001b[33m\"\u001b[39m, \u001b[38;5;28;01mTrue\u001b[39;00m):\n\u001b[32m-> \u001b[39m\u001b[32m2975\u001b[39m     \u001b[43m_check_n_features\u001b[49m\u001b[43m(\u001b[49m\u001b[43m_estimator\u001b[49m\u001b[43m,\u001b[49m\u001b[43m \u001b[49m\u001b[43mX\u001b[49m\u001b[43m,\u001b[49m\u001b[43m \u001b[49m\u001b[43mreset\u001b[49m\u001b[43m=\u001b[49m\u001b[43mreset\u001b[49m\u001b[43m)\u001b[49m\n\u001b[32m   2977\u001b[39m \u001b[38;5;28;01mreturn\u001b[39;00m out\n",
      "\u001b[36mFile \u001b[39m\u001b[32mc:\\Users\\admin\\Desktop\\Daeun-ai\\09 Fintech-ML-DL\\source\\.venv\\Lib\\site-packages\\sklearn\\utils\\validation.py:2839\u001b[39m, in \u001b[36m_check_n_features\u001b[39m\u001b[34m(estimator, X, reset)\u001b[39m\n\u001b[32m   2836\u001b[39m     \u001b[38;5;28;01mreturn\u001b[39;00m\n\u001b[32m   2838\u001b[39m \u001b[38;5;28;01mif\u001b[39;00m n_features != estimator.n_features_in_:\n\u001b[32m-> \u001b[39m\u001b[32m2839\u001b[39m     \u001b[38;5;28;01mraise\u001b[39;00m \u001b[38;5;167;01mValueError\u001b[39;00m(\n\u001b[32m   2840\u001b[39m         \u001b[33mf\u001b[39m\u001b[33m\"\u001b[39m\u001b[33mX has \u001b[39m\u001b[38;5;132;01m{\u001b[39;00mn_features\u001b[38;5;132;01m}\u001b[39;00m\u001b[33m features, but \u001b[39m\u001b[38;5;132;01m{\u001b[39;00mestimator.\u001b[34m__class__\u001b[39m.\u001b[34m__name__\u001b[39m\u001b[38;5;132;01m}\u001b[39;00m\u001b[33m \u001b[39m\u001b[33m\"\u001b[39m\n\u001b[32m   2841\u001b[39m         \u001b[33mf\u001b[39m\u001b[33m\"\u001b[39m\u001b[33mis expecting \u001b[39m\u001b[38;5;132;01m{\u001b[39;00mestimator.n_features_in_\u001b[38;5;132;01m}\u001b[39;00m\u001b[33m features as input.\u001b[39m\u001b[33m\"\u001b[39m\n\u001b[32m   2842\u001b[39m     )\n",
      "\u001b[31mValueError\u001b[39m: X has 1 features, but PolynomialFeatures is expecting 3 features as input."
     ]
    }
   ],
   "source": [
    "# # 예측용 x도 동일한 구조로 변환\n",
    "# x = np.arange(15, 50).reshape(-1, 1)\n",
    "# x_poly = lr.transform(x)\n",
    "# y_pred = lr.predict(x_poly)\n",
    "\n",
    "# # 시각화\n",
    "# plt.scatter(train_input, train_target, label='train')\n",
    "# plt.scatter(test_input, test_target, label='test')\n",
    "# plt.plot(x, y_pred, color='red', label='prediction')\n",
    "# plt.xlabel('length')\n",
    "# plt.ylabel('weight')\n",
    "# plt.legend()\n",
    "# plt.title('Polynomial Regression (degree=5)')\n",
    "# plt.show()\n",
    "\n",
    "# # 점수 출력\n",
    "# print(\"훈련 점수:\", lr.score(train_poly, train_target))\n",
    "# print(\"테스트 점수:\", lr.score(test_poly, test_target))\n",
    "\n",
    "# import matplotlib.pyplot as plt\n",
    "\n",
    "# x = np.arange(15, 50).reshape(-1, 1)\n",
    "# x_poly = poly.transform(x)\n",
    "# y_pred = lr.predict(x_poly)\n",
    "# plt.plot(x, y_pred)\n",
    "# plt.xlabel('length')\n",
    "# plt.ylabel('weight')\n",
    "# plt.xscale('log')  # log 10\n",
    "# plt.show()\n"
   ]
  },
  {
   "cell_type": "markdown",
   "id": "14602943",
   "metadata": {},
   "source": [
    "# 3. 다중 회귀 모델 훈련하기\n",
    "\n",
    "## 규제 (정칙화)\n",
    "- 모델이 너무 훈련 데이터에 맞춰지지 않도록 하는 장치 -> 모델의 **일반적인 경향성**으로 개선\n",
    "- 과대적합을 완화\n",
    "- 특성에 대한 **정규화**가 필수!\n",
    "\n",
    "### 1. 릿지(Ridge)\n",
    "- **_L2 규제_**\n",
    "- 계수의 제곱으로 규제\n",
    "- 가중치에 초정\n",
    "\n",
    "### 2. 라쏘(Lasso)\n",
    "- **_L1 규제_**\n",
    "- 계수의 절댓값으로 규제\n",
    "- 절편에 초점\n",
    "- 사용되지 않는 특성의 계수는 0으로 만든다"
   ]
  },
  {
   "cell_type": "code",
   "execution_count": 55,
   "id": "25ea4314",
   "metadata": {},
   "outputs": [],
   "source": [
    "# [규제] - 정규화가 필수\n",
    "\n",
    "from sklearn.preprocessing import StandardScaler\n",
    "\n",
    "ss = StandardScaler()\n",
    "ss.fit(train_poly)\n",
    "\n",
    "# 정규화\n",
    "train_scaled = ss.transform(train_poly)\n",
    "test_scaled = ss.transform(test_poly)\n"
   ]
  },
  {
   "cell_type": "code",
   "execution_count": null,
   "id": "5eb9d204",
   "metadata": {},
   "outputs": [
    {
     "name": "stdout",
     "output_type": "stream",
     "text": [
      "훈련 세트 점수: 0.9896004835191297\n",
      "테스트 세트 점수: 0.978920058325179\n"
     ]
    }
   ],
   "source": [
    "# 1) L2 규제 - Ridge\n",
    "from sklearn.linear_model import Ridge\n",
    "ridge = Ridge()\n",
    "\n",
    "ridge.fit(train_scaled, train_target)  # 학습\n",
    "\n",
    "print(\"훈련 세트 점수:\", ridge.score(train_scaled, train_target))\n",
    "print(\"테스트 세트 점수:\", ridge.score(test_scaled, test_target))"
   ]
  },
  {
   "cell_type": "code",
   "execution_count": 58,
   "id": "661b6606",
   "metadata": {},
   "outputs": [
    {
     "name": "stdout",
     "output_type": "stream",
     "text": [
      "훈련 세트 점수: 0.9897812228260618\n",
      "테스트 세트 점수: 0.9800354016844836\n"
     ]
    }
   ],
   "source": [
    "# 2) L1 규제 - Lasso\n",
    "from sklearn.linear_model import Lasso\n",
    "lasso = Lasso()\n",
    "\n",
    "lasso.fit(train_scaled, train_target)  # 학습\n",
    "\n",
    "print(\"훈련 세트 점수:\", lasso.score(train_scaled, train_target))\n",
    "print(\"테스트 세트 점수:\", lasso.score(test_scaled, test_target))"
   ]
  },
  {
   "cell_type": "code",
   "execution_count": 62,
   "id": "6450d384",
   "metadata": {},
   "outputs": [
    {
     "name": "stdout",
     "output_type": "stream",
     "text": [
      "[ 0.          0.          0.         93.55374204  4.24441276  0.\n",
      "  4.69789692  0.         36.20443762  0.68140064 27.55470561  0.\n",
      " 27.76546065  0.          0.         17.93932403  0.          0.\n",
      " 42.58642369  0.          0.          0.          0.          0.\n",
      "  0.          6.53437382  0.          0.          0.         22.5348658\n",
      "  0.          0.          0.          5.21830137  0.          0.\n",
      "  0.          0.          0.          0.          0.          0.\n",
      "  0.          0.         31.65962367  0.          0.          0.\n",
      "  0.         24.8732492   0.          0.          0.          0.\n",
      "  0.        ]\n"
     ]
    }
   ],
   "source": [
    "print(lasso.coef_)"
   ]
  },
  {
   "cell_type": "code",
   "execution_count": 63,
   "id": "c6a14ffb",
   "metadata": {},
   "outputs": [
    {
     "data": {
      "text/plain": [
       "np.int64(14)"
      ]
     },
     "execution_count": 63,
     "metadata": {},
     "output_type": "execute_result"
    }
   ],
   "source": [
    "# 사용하지 않는 특성의 계수를 0으로\n",
    "55 - np.sum(lasso.coef_ == 0)"
   ]
  },
  {
   "cell_type": "markdown",
   "id": "a0a57172",
   "metadata": {},
   "source": [
    "### 규제 강도\n",
    "- alpha값: 규제 강도\n",
    "- 값이 작을수록(강도가 약할수록) → 계수 제한 약함 → 과대적합(overfitting) 위험 ↑\n",
    "- 값이 크면(강도가 높으면) →  계수 제한 강함 → 과소적합(underfitting) 위험 ↑\n",
    "- 이것도 하이퍼 파라미터! (사용자화 파라미터)\n",
    "- 10의 단위 (0.0001, 0.001, 0.01, 0.1, 1, 10, 100, 1000)"
   ]
  },
  {
   "cell_type": "code",
   "execution_count": 65,
   "id": "c47bd255",
   "metadata": {},
   "outputs": [],
   "source": [
    "# 규제 강도 (alpha): 하이퍼 파라미터, 10의 단위로 설정 (0.0001, 0.001, 0.01, 0.1, 1, 10, 100, 1000)\n",
    "\n",
    "train_score = []\n",
    "test_score = []\n",
    "\n",
    "alpha_list = [0.001, 0.01, 0.1, 1, 10, 100]\n",
    "for alpha in alpha_list:\n",
    "    ridge = Ridge(alpha=alpha)\n",
    "    ridge.fit(train_scaled, train_target)  # 학습\n",
    "    train_score.append(ridge.score(train_scaled, train_target))\n",
    "    test_score.append(ridge.score(test_scaled, test_target))"
   ]
  },
  {
   "cell_type": "code",
   "execution_count": 67,
   "id": "15566cce",
   "metadata": {},
   "outputs": [
    {
     "data": {
      "image/png": "[encoded data removed]",
      "text/plain": [
       "<Figure size 640x480 with 1 Axes>"
      ]
     },
     "metadata": {},
     "output_type": "display_data"
    }
   ],
   "source": [
    "import matplotlib.pyplot as plt\n",
    "\n",
    "plt.plot(alpha_list, train_score)\n",
    "plt.plot(alpha_list, test_score)\n",
    "plt.xlabel('alpha')\n",
    "plt.ylabel('R^2')\n",
    "plt.xscale('log')  # log 10\n",
    "plt.show()"
   ]
  },
  {
   "cell_type": "code",
   "execution_count": 72,
   "id": "7abc2361",
   "metadata": {},
   "outputs": [
    {
     "name": "stdout",
     "output_type": "stream",
     "text": [
      "훈련 세트 점수: 0.9904101980758971\n",
      "테스트 세트 점수: 0.9829550564532462\n"
     ]
    }
   ],
   "source": [
    "ridge = Ridge(alpha=0.1)\n",
    "ridge.fit(train_scaled, train_target)\n",
    "print(\"훈련 세트 점수:\", ridge.score(train_scaled, train_target))\n",
    "print(\"테스트 세트 점수:\", ridge.score(test_scaled, test_target))"
   ]
  }
 ],
 "metadata": {
  "kernelspec": {
   "display_name": ".venv",
   "language": "python",
   "name": "python3"
  },
  "language_info": {
   "codemirror_mode": {
    "name": "ipython",
    "version": 3
   },
   "file_extension": ".py",
   "mimetype": "text/x-python",
   "name": "python",
   "nbconvert_exporter": "python",
   "pygments_lexer": "ipython3",
   "version": "3.12.10"
  }
 },
 "nbformat": 4,
 "nbformat_minor": 5
}
