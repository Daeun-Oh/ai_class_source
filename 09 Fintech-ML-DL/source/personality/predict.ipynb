{
 "cells": [
  {
   "cell_type": "code",
   "execution_count": 1,
   "id": "4bbe26e5",
   "metadata": {},
   "outputs": [
    {
     "data": {
      "text/plain": [
       "array([1, 0, 0, 1, 1])"
      ]
     },
     "execution_count": 1,
     "metadata": {},
     "output_type": "execute_result"
    }
   ],
   "source": [
    "import pickle\n",
    "from sklearn.ensemble import HistGradientBoostingClassifier\n",
    "\n",
    "# 학습한 모델 불러오기\n",
    "with open(\"model.pkl\", \"rb\") as f:\n",
    "    model = pickle.load(f)\n",
    "\n",
    "# 분류하기\n",
    "import numpy as np\n",
    "\n",
    "test_data = np.array([[ 4.,  0.,  4.,  6.,  0., 13.,  5.],\n",
    "                    [ 9.,  1.,  0.,  0.,  1.,  0.,  3.],\n",
    "                    [ 9.,  1.,  1.,  2.,  1.,  5.,  2.],\n",
    "                    [ 0.,  0.,  6.,  7.,  0., 14.,  8.],\n",
    "                    [ 3.,  0.,  9.,  4.,  0.,  8.,  5.]])\n",
    "\n",
    "model.predict(test_data)"
   ]
  }
 ],
 "metadata": {
  "kernelspec": {
   "display_name": ".venv",
   "language": "python",
   "name": "python3"
  },
  "language_info": {
   "codemirror_mode": {
    "name": "ipython",
    "version": 3
   },
   "file_extension": ".py",
   "mimetype": "text/x-python",
   "name": "python",
   "nbconvert_exporter": "python",
   "pygments_lexer": "ipython3",
   "version": "3.12.10"
  }
 },
 "nbformat": 4,
 "nbformat_minor": 5
}
