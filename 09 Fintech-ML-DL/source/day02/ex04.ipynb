{
 "cells": [
  {
   "cell_type": "code",
   "execution_count": 1,
   "id": "19452ec6",
   "metadata": {},
   "outputs": [],
   "source": [
    "# numpy 배열 브로드캐스팅 기능\n",
    "import numpy as np"
   ]
  },
  {
   "cell_type": "code",
   "execution_count": 7,
   "id": "43c507eb",
   "metadata": {},
   "outputs": [
    {
     "data": {
      "text/plain": [
       "array([22, 24, 26, 28, 30, 32, 34, 36, 38, 40])"
      ]
     },
     "execution_count": 7,
     "metadata": {},
     "output_type": "execute_result"
    }
   ],
   "source": [
    "# nums = np.array([1, 2, 3, 4, 5, 6, 7, 8, 9, 10])\n",
    "nums = np.arange(1, 10+1)\n",
    "\"\"\"\n",
    "    np.arange(10) : 0~9\n",
    "    np.arange(1, 10+1) : 1~10\n",
    "    np.arange(1, 10+1, 2) : 1, 3, 5, 7, 9\n",
    "\"\"\"\n",
    "nums += 10\n",
    "nums *= 2\n",
    "nums"
   ]
  },
  {
   "cell_type": "code",
   "execution_count": null,
   "id": "9039fd43",
   "metadata": {},
   "outputs": [
    {
     "data": {
      "text/plain": [
       "array([[22, 24, 26, 28, 30],\n",
       "       [32, 34, 36, 38, 40]])"
      ]
     },
     "execution_count": 9,
     "metadata": {},
     "output_type": "execute_result"
    }
   ],
   "source": [
    "# 배열의 차원 변경, reshape (원본 데이터는 바뀌지 않는다)\n",
    "nums2 = nums.reshape(2, 5)  # 2행 5열\n",
    "nums2"
   ]
  },
  {
   "cell_type": "code",
   "execution_count": 10,
   "id": "72f4c6ba",
   "metadata": {},
   "outputs": [
    {
     "data": {
      "text/plain": [
       "array([[22, 24],\n",
       "       [26, 28],\n",
       "       [30, 32],\n",
       "       [34, 36],\n",
       "       [38, 40]])"
      ]
     },
     "execution_count": 10,
     "metadata": {},
     "output_type": "execute_result"
    }
   ],
   "source": [
    "nums3 = nums.reshape(5, 2)  # 5행 2열\n",
    "nums3"
   ]
  },
  {
   "cell_type": "code",
   "execution_count": 11,
   "id": "47c0ba91",
   "metadata": {},
   "outputs": [
    {
     "ename": "ValueError",
     "evalue": "cannot reshape array of size 10 into shape (3,3)",
     "output_type": "error",
     "traceback": [
      "\u001b[31m---------------------------------------------------------------------------\u001b[39m",
      "\u001b[31mValueError\u001b[39m                                Traceback (most recent call last)",
      "\u001b[36mCell\u001b[39m\u001b[36m \u001b[39m\u001b[32mIn[11]\u001b[39m\u001b[32m, line 2\u001b[39m\n\u001b[32m      1\u001b[39m \u001b[38;5;66;03m# 개수가 맞지 않으면? -> 오류 발생 ValueError\u001b[39;00m\n\u001b[32m----> \u001b[39m\u001b[32m2\u001b[39m nums4 = \u001b[43mnums\u001b[49m\u001b[43m.\u001b[49m\u001b[43mreshape\u001b[49m\u001b[43m(\u001b[49m\u001b[32;43m3\u001b[39;49m\u001b[43m,\u001b[49m\u001b[43m \u001b[49m\u001b[32;43m3\u001b[39;49m\u001b[43m)\u001b[49m\n\u001b[32m      3\u001b[39m nums4\n",
      "\u001b[31mValueError\u001b[39m: cannot reshape array of size 10 into shape (3,3)"
     ]
    }
   ],
   "source": [
    "# 개수가 맞지 않으면? -> 오류 발생 ValueError\n",
    "nums4 = nums.reshape(3, 3)\n",
    "nums4"
   ]
  },
  {
   "cell_type": "code",
   "execution_count": 17,
   "id": "4c8d9799",
   "metadata": {},
   "outputs": [
    {
     "data": {
      "text/plain": [
       "array([[22],\n",
       "       [24],\n",
       "       [26],\n",
       "       [28],\n",
       "       [30],\n",
       "       [32],\n",
       "       [34],\n",
       "       [36],\n",
       "       [38],\n",
       "       [40]])"
      ]
     },
     "execution_count": 17,
     "metadata": {},
     "output_type": "execute_result"
    }
   ],
   "source": [
    "# nums5 = nums.reshape(10, 1)\n",
    "nums5 = nums.reshape(-1, 1)  # 전체 열을 전체 행의 개수로\n",
    "nums5"
   ]
  },
  {
   "cell_type": "code",
   "execution_count": 18,
   "id": "a3d0155b",
   "metadata": {},
   "outputs": [
    {
     "data": {
      "text/plain": [
       "array([38, 34, 40, 28, 36, 26, 30, 24, 22, 32])"
      ]
     },
     "execution_count": 18,
     "metadata": {},
     "output_type": "execute_result"
    }
   ],
   "source": [
    "np.random.shuffle(nums)\n",
    "nums"
   ]
  },
  {
   "cell_type": "code",
   "execution_count": 19,
   "id": "9be7eb40",
   "metadata": {},
   "outputs": [
    {
     "data": {
      "text/plain": [
       "array(['오렌지', '바나나', '망고'], dtype='<U3')"
      ]
     },
     "execution_count": 19,
     "metadata": {},
     "output_type": "execute_result"
    }
   ],
   "source": [
    "fruits = np.array(['사과', '오렌지', '바나나', '망고', '멜론'])\n",
    "fruits[[1, 2, 3]]"
   ]
  },
  {
   "cell_type": "code",
   "execution_count": 20,
   "id": "4a144095",
   "metadata": {},
   "outputs": [
    {
     "data": {
      "text/plain": [
       "array(['오렌지', '망고'], dtype='<U3')"
      ]
     },
     "execution_count": 20,
     "metadata": {},
     "output_type": "execute_result"
    }
   ],
   "source": [
    "fruits[[False, True, False, True, False]]  # Boolean Indexing"
   ]
  },
  {
   "cell_type": "code",
   "execution_count": null,
   "id": "937bd720",
   "metadata": {},
   "outputs": [],
   "source": []
  }
 ],
 "metadata": {
  "kernelspec": {
   "display_name": ".venv",
   "language": "python",
   "name": "python3"
  },
  "language_info": {
   "codemirror_mode": {
    "name": "ipython",
    "version": 3
   },
   "file_extension": ".py",
   "mimetype": "text/x-python",
   "name": "python",
   "nbconvert_exporter": "python",
   "pygments_lexer": "ipython3",
   "version": "3.12.10"
  }
 },
 "nbformat": 4,
 "nbformat_minor": 5
}
