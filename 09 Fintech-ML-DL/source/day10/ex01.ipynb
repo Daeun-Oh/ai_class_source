{
 "cells": [
  {
   "cell_type": "markdown",
   "id": "72e16f63",
   "metadata": {},
   "source": [
    "# 딥러닝 - 신경망 모델 훈련\n",
    "## 키워드 정리\n",
    "- 드롭아웃\n",
    "    - 은닉층에 있는 뉴런의 출력을 랜덤하게 꺼서 과대적합을 막는 기법입니다.\n",
    "    - 드롭아웃은 훈련 중에 적용되며 평가나 예측에서는 적용하지 않습니다.\n",
    "    - 텐서플로는 이를 자동으로 처리합니다.\n",
    "- 콜백\n",
    "    - 케라스 모델을 훈련하는 도중에 어떤 작업을 수행할 수 있도록 도와주는 도구입니다.\n",
    "    - 대표적으로 최상의 모델을 자동으로 저장해 주거나 검증 점수가 더 이상 향상되지 않으면 일찍 종료할 수 있습니다.\n",
    "- 조기 종료\n",
    "    - 검증 점수가 더 이상 감소하지 않고 상승하여 과대적합이 일어나면 훈련을 계속 진행하지 않고 멈추는 기법입니다.\n",
    "    - 이렇게 하면 계산 비용과 시간을 절약할 수 있습니다.\n",
    "\n",
    "## 핵심 패키지와 함수\n",
    "\n",
    "TensorFlow\n",
    "- **Dropout**\n",
    "    - 드롭아웃 층입니다.\n",
    "    - 첫 번째 매개변수로 드롭아웃 할 비율(r)을 지정합니다.\n",
    "    - 드롭아웃 하지 않는 뉴런의 출력은 1 / (1 - r)만큼 증가시켜 출력의 총합이 같도록 만듭니다.\n",
    "- `save_weights()`는 모든 층의 가중치와 절편을 파일에 저장합니다.\n",
    "    - 첫 번째 매개변수에 저장할 파일을 지정합니다.\n",
    "    - save_format 매개변수에서 저장할 파일 포맷을 지정합니다. 기본적으로 텐서플로의 Checkpoint 포맷을 사용합니다. 이 매개변수를 \"h5\"로 지정하거나 파일의 확장자가 '.h5'이면 HDF5 포맷으로 저장됩니다.\n",
    "- `load_weights()`는 모든 층의 가중치와 절편을 파일에 읽습니다.\n",
    "    - 첫 번째 매개변수에 읽을 파일을 지정합니다.\n",
    "- `save()`는 모델 구조와 모든 가중치와 절편을 파일에 저장합니다.\n",
    "    - 첫 번째 매개변수에 저장할 파일을 지정합니다.\n",
    "    - save_format 매개변수에서 저장할 파일 포맷을 지정합니다. 기본적으로 텐서플로의 SavedModel 포맷을 사용합니다. 이 - - - 매개변수를 'h5'로 지정하거나 파일의 확장자가 '.h5'이면 HDF5 포맷으로 저장됩니다.\n",
    "- `load_model()`은 model.save()로 저장된 모델을 로드합니다.\n",
    "    - 첫 번째 매개변수에 읽을 파일을 지정합니다.\n",
    "    - ModelCheckPoint는 케라스 모델과 가중치를 일정 간격으로 저장합니다.\n",
    "    - 첫 번째 매개변수에 저장할 파일을 지정합니다.\n",
    "    - monitor 매개변수는 모니터링할 지표를 지정합니다. 기본값은 val_loss로 검증 손실을 관찰합니다.\n",
    "    - save_weights_only 매개변수의 기본값은 False로 전체 모델을 저장합니다. True로 지정하면 모델의 가중치와 절편만 저장합니다.\n",
    "    - save_best_only 매개변수를 True로 지정하면 가장 낮은 검증 점수를 만드는 모델을 저장합니다.\n",
    "- `EarlyStopping`은 관심 지표가 더이상 향상하지 않으면 훈련을 중지합니다.\n",
    "    - `monitor` 매개변수는 모니터링할 지표를 지정합니다. 기본값은 val_loss로 검증 손실을 관찰합니다.\n",
    "    - `patience` 매개변수에 모델이 더 이상 향상되지 않고 지속할 수 있는 최대 에포크 횟수를 지정합니다.\n",
    "    - `restore_best_weights` 매개변수에 최상의 모델 가중치를 복원할지 지정합니다. 기본값은 False입니다.\n",
    "\n",
    "NumPy\n",
    "- argmax는 배열에서 축을 따라 최대값의 인덱스를 반환합니다.\n",
    "- axis 매개변수에서 어떤 축을 따라 최댓값을 찾을지 지정합니다. 기본값은 None으로 전체 배열에서 최대값을 찾습니다."
   ]
  },
  {
   "cell_type": "code",
   "execution_count": 25,
   "id": "043b3f79",
   "metadata": {},
   "outputs": [],
   "source": [
    "import keras\n",
    "\n",
    "# Fashion MNist 데이터셋 가져오기\n",
    "(train_input, train_target), (test_input, test_target) =\\\n",
    "     keras.datasets.fashion_mnist.load_data()"
   ]
  },
  {
   "cell_type": "code",
   "execution_count": 26,
   "id": "923ac042",
   "metadata": {},
   "outputs": [],
   "source": [
    "from sklearn.model_selection import train_test_split\n",
    "\n",
    "# 정규화 (0~1)\n",
    "train_scaled = train_input / 255.\n",
    "\n",
    "# 훈련/검증 세트 분리\n",
    "train_scaled, val_scaled, train_target, val_target = train_test_split(\n",
    "    train_scaled, train_target, test_size=0.2, random_state=42\n",
    ")"
   ]
  },
  {
   "cell_type": "markdown",
   "id": "e6227344",
   "metadata": {},
   "source": [
    "나중에 쉽게 은닉층을 추가할 수 있도록, 층을 구성하는 함수를 따로 정의하자!"
   ]
  },
  {
   "cell_type": "code",
   "execution_count": 27,
   "id": "a348ee37",
   "metadata": {},
   "outputs": [],
   "source": [
    "# 층을 구성하는 함수\n",
    "def mk_model(hidden_layers = None):\n",
    "    model = keras.Sequential()\n",
    "    model.add(keras.layers.Input(shape=(28, 28)))\n",
    "    model.add(keras.layers.Flatten())\n",
    "    model.add(keras.layers.Dense(100, activation='relu'))  # activation: 일직선인 그래프를 꺾어줌. 정확도를 높이기 위해 사용.\n",
    "\n",
    "    if hidden_layers:\n",
    "        model.add(hidden_layers)\n",
    "\n",
    "    model.add(keras.layers.Dense(10, activation='softmax'))\n",
    "\n",
    "    return model\n"
   ]
  },
  {
   "cell_type": "code",
   "execution_count": null,
   "id": "587c862c",
   "metadata": {},
   "outputs": [
    {
     "data": {
      "text/html": [
       "<pre style=\"white-space:pre;overflow-x:auto;line-height:normal;font-family:Menlo,'DejaVu Sans Mono',consolas,'Courier New',monospace\"><span style=\"font-weight: bold\">Model: \"sequential_2\"</span>\n",
       "</pre>\n"
      ],
      "text/plain": [
       "\u001b[1mModel: \"sequential_2\"\u001b[0m\n"
      ]
     },
     "metadata": {},
     "output_type": "display_data"
    },
    {
     "data": {
      "text/html": [
       "<pre style=\"white-space:pre;overflow-x:auto;line-height:normal;font-family:Menlo,'DejaVu Sans Mono',consolas,'Courier New',monospace\">┏━━━━━━━━━━━━━━━━━━━━━━━━━━━━━━━━━┳━━━━━━━━━━━━━━━━━━━━━━━━┳━━━━━━━━━━━━━━━┓\n",
       "┃<span style=\"font-weight: bold\"> Layer (type)                    </span>┃<span style=\"font-weight: bold\"> Output Shape           </span>┃<span style=\"font-weight: bold\">       Param # </span>┃\n",
       "┡━━━━━━━━━━━━━━━━━━━━━━━━━━━━━━━━━╇━━━━━━━━━━━━━━━━━━━━━━━━╇━━━━━━━━━━━━━━━┩\n",
       "│ flatten_2 (<span style=\"color: #0087ff; text-decoration-color: #0087ff\">Flatten</span>)             │ (<span style=\"color: #00d7ff; text-decoration-color: #00d7ff\">None</span>, <span style=\"color: #00af00; text-decoration-color: #00af00\">784</span>)            │             <span style=\"color: #00af00; text-decoration-color: #00af00\">0</span> │\n",
       "├─────────────────────────────────┼────────────────────────┼───────────────┤\n",
       "│ dense_4 (<span style=\"color: #0087ff; text-decoration-color: #0087ff\">Dense</span>)                 │ (<span style=\"color: #00d7ff; text-decoration-color: #00d7ff\">None</span>, <span style=\"color: #00af00; text-decoration-color: #00af00\">100</span>)            │        <span style=\"color: #00af00; text-decoration-color: #00af00\">78,500</span> │\n",
       "├─────────────────────────────────┼────────────────────────┼───────────────┤\n",
       "│ dense_5 (<span style=\"color: #0087ff; text-decoration-color: #0087ff\">Dense</span>)                 │ (<span style=\"color: #00d7ff; text-decoration-color: #00d7ff\">None</span>, <span style=\"color: #00af00; text-decoration-color: #00af00\">10</span>)             │         <span style=\"color: #00af00; text-decoration-color: #00af00\">1,010</span> │\n",
       "└─────────────────────────────────┴────────────────────────┴───────────────┘\n",
       "</pre>\n"
      ],
      "text/plain": [
       "┏━━━━━━━━━━━━━━━━━━━━━━━━━━━━━━━━━┳━━━━━━━━━━━━━━━━━━━━━━━━┳━━━━━━━━━━━━━━━┓\n",
       "┃\u001b[1m \u001b[0m\u001b[1mLayer (type)                   \u001b[0m\u001b[1m \u001b[0m┃\u001b[1m \u001b[0m\u001b[1mOutput Shape          \u001b[0m\u001b[1m \u001b[0m┃\u001b[1m \u001b[0m\u001b[1m      Param #\u001b[0m\u001b[1m \u001b[0m┃\n",
       "┡━━━━━━━━━━━━━━━━━━━━━━━━━━━━━━━━━╇━━━━━━━━━━━━━━━━━━━━━━━━╇━━━━━━━━━━━━━━━┩\n",
       "│ flatten_2 (\u001b[38;5;33mFlatten\u001b[0m)             │ (\u001b[38;5;45mNone\u001b[0m, \u001b[38;5;34m784\u001b[0m)            │             \u001b[38;5;34m0\u001b[0m │\n",
       "├─────────────────────────────────┼────────────────────────┼───────────────┤\n",
       "│ dense_4 (\u001b[38;5;33mDense\u001b[0m)                 │ (\u001b[38;5;45mNone\u001b[0m, \u001b[38;5;34m100\u001b[0m)            │        \u001b[38;5;34m78,500\u001b[0m │\n",
       "├─────────────────────────────────┼────────────────────────┼───────────────┤\n",
       "│ dense_5 (\u001b[38;5;33mDense\u001b[0m)                 │ (\u001b[38;5;45mNone\u001b[0m, \u001b[38;5;34m10\u001b[0m)             │         \u001b[38;5;34m1,010\u001b[0m │\n",
       "└─────────────────────────────────┴────────────────────────┴───────────────┘\n"
      ]
     },
     "metadata": {},
     "output_type": "display_data"
    },
    {
     "data": {
      "text/html": [
       "<pre style=\"white-space:pre;overflow-x:auto;line-height:normal;font-family:Menlo,'DejaVu Sans Mono',consolas,'Courier New',monospace\"><span style=\"font-weight: bold\"> Total params: </span><span style=\"color: #00af00; text-decoration-color: #00af00\">79,510</span> (310.59 KB)\n",
       "</pre>\n"
      ],
      "text/plain": [
       "\u001b[1m Total params: \u001b[0m\u001b[38;5;34m79,510\u001b[0m (310.59 KB)\n"
      ]
     },
     "metadata": {},
     "output_type": "display_data"
    },
    {
     "data": {
      "text/html": [
       "<pre style=\"white-space:pre;overflow-x:auto;line-height:normal;font-family:Menlo,'DejaVu Sans Mono',consolas,'Courier New',monospace\"><span style=\"font-weight: bold\"> Trainable params: </span><span style=\"color: #00af00; text-decoration-color: #00af00\">79,510</span> (310.59 KB)\n",
       "</pre>\n"
      ],
      "text/plain": [
       "\u001b[1m Trainable params: \u001b[0m\u001b[38;5;34m79,510\u001b[0m (310.59 KB)\n"
      ]
     },
     "metadata": {},
     "output_type": "display_data"
    },
    {
     "data": {
      "text/html": [
       "<pre style=\"white-space:pre;overflow-x:auto;line-height:normal;font-family:Menlo,'DejaVu Sans Mono',consolas,'Courier New',monospace\"><span style=\"font-weight: bold\"> Non-trainable params: </span><span style=\"color: #00af00; text-decoration-color: #00af00\">0</span> (0.00 B)\n",
       "</pre>\n"
      ],
      "text/plain": [
       "\u001b[1m Non-trainable params: \u001b[0m\u001b[38;5;34m0\u001b[0m (0.00 B)\n"
      ]
     },
     "metadata": {},
     "output_type": "display_data"
    }
   ],
   "source": [
    "# 모델 생성\n",
    "model = mk_model()\n",
    "model.summary()"
   ]
  },
  {
   "cell_type": "markdown",
   "id": "9f4bc2d6",
   "metadata": {},
   "source": [
    "`model.fit()`의 옵션\n",
    "- `verbose`\n",
    "    - 0: 출력 X (기본값)\n",
    "    - 1: 학습 진행률, accuracy, loss, epochs 출력\n",
    "    - 2: accuracy, loss, epochs 출력"
   ]
  },
  {
   "cell_type": "code",
   "execution_count": null,
   "id": "c79a8df6",
   "metadata": {},
   "outputs": [
    {
     "name": "stdout",
     "output_type": "stream",
     "text": [
      "Epoch 1/5\n",
      "\u001b[1m1500/1500\u001b[0m \u001b[32m━━━━━━━━━━━━━━━━━━━━\u001b[0m\u001b[37m\u001b[0m \u001b[1m2s\u001b[0m 967us/step - accuracy: 0.7625 - loss: 0.6861\n",
      "Epoch 2/5\n",
      "\u001b[1m1500/1500\u001b[0m \u001b[32m━━━━━━━━━━━━━━━━━━━━\u001b[0m\u001b[37m\u001b[0m \u001b[1m1s\u001b[0m 963us/step - accuracy: 0.8559 - loss: 0.4021\n",
      "Epoch 3/5\n",
      "\u001b[1m1500/1500\u001b[0m \u001b[32m━━━━━━━━━━━━━━━━━━━━\u001b[0m\u001b[37m\u001b[0m \u001b[1m1s\u001b[0m 958us/step - accuracy: 0.8746 - loss: 0.3492\n",
      "Epoch 4/5\n",
      "\u001b[1m1500/1500\u001b[0m \u001b[32m━━━━━━━━━━━━━━━━━━━━\u001b[0m\u001b[37m\u001b[0m \u001b[1m1s\u001b[0m 979us/step - accuracy: 0.8755 - loss: 0.3404\n",
      "Epoch 5/5\n",
      "\u001b[1m1500/1500\u001b[0m \u001b[32m━━━━━━━━━━━━━━━━━━━━\u001b[0m\u001b[37m\u001b[0m \u001b[1m1s\u001b[0m 947us/step - accuracy: 0.8874 - loss: 0.3115\n"
     ]
    },
    {
     "data": {
      "text/plain": [
       "{'accuracy': [0.8118333220481873,\n",
       "  0.8584166765213013,\n",
       "  0.8730416893959045,\n",
       "  0.8790624737739563,\n",
       "  0.8863541483879089],\n",
       " 'loss': [0.5354821085929871,\n",
       "  0.3942241966724396,\n",
       "  0.3541889786720276,\n",
       "  0.3331749737262726,\n",
       "  0.3147886395454407]}"
      ]
     },
     "execution_count": 29,
     "metadata": {},
     "output_type": "execute_result"
    }
   ],
   "source": [
    "# compile - 모델의 loss function, optimizer, 평가 지표 설정\n",
    "model.compile(loss='sparse_categorical_crossentropy', metrics=['accuracy'])\n",
    "m_history = model.fit(train_scaled, train_target, epochs=5)\n",
    "m_history.history"
   ]
  },
  {
   "cell_type": "code",
   "execution_count": 30,
   "id": "c38aeb44",
   "metadata": {},
   "outputs": [
    {
     "data": {
      "image/png": "[encoded data removed]",
      "text/plain": [
       "<Figure size 1000x500 with 2 Axes>"
      ]
     },
     "metadata": {},
     "output_type": "display_data"
    }
   ],
   "source": [
    "import matplotlib.pyplot as plt\n",
    "\n",
    "# 5번의 학습에 따른 accuracy(정확도), loss(손실 함수) 그래프 출력\n",
    "_, axs = plt.subplots(1, 2, figsize=(10, 5))\n",
    "\n",
    "axs[0].plot(m_history.history['accuracy'])\n",
    "axs[0].set_title('Model Accuracy')\n",
    "axs[0].set_xlabel('epoch')\n",
    "axs[0].set_ylabel('accuracy')\n",
    "\n",
    "axs[1].plot(m_history.history['loss'])\n",
    "axs[1].set_title('Model Loss')\n",
    "axs[1].set_xlabel('epoch')\n",
    "axs[1].set_ylabel('loss')\n",
    "\n",
    "plt.tight_layout()  # 레이아웃 자동 조정\n",
    "plt.show()"
   ]
  },
  {
   "cell_type": "markdown",
   "id": "ae9fed5d",
   "metadata": {},
   "source": [
    "#### 검증 세트에 대한 손실을 알아보자!\n",
    "- `fit()`의 옵션으로 검증 세트 출력 설정: `validation_data`\n",
    "- 검증 세트의 손실이 항상 감소하기만 할까?"
   ]
  },
  {
   "cell_type": "code",
   "execution_count": 33,
   "id": "31fe4e40",
   "metadata": {},
   "outputs": [
    {
     "name": "stdout",
     "output_type": "stream",
     "text": [
      "Epoch 1/20\n",
      "\u001b[1m1500/1500\u001b[0m \u001b[32m━━━━━━━━━━━━━━━━━━━━\u001b[0m\u001b[37m\u001b[0m \u001b[1m2s\u001b[0m 1ms/step - accuracy: 0.7752 - loss: 0.6538 - val_accuracy: 0.8547 - val_loss: 0.4052\n",
      "Epoch 2/20\n",
      "\u001b[1m1500/1500\u001b[0m \u001b[32m━━━━━━━━━━━━━━━━━━━━\u001b[0m\u001b[37m\u001b[0m \u001b[1m2s\u001b[0m 1ms/step - accuracy: 0.8525 - loss: 0.4053 - val_accuracy: 0.8625 - val_loss: 0.3776\n",
      "Epoch 3/20\n",
      "\u001b[1m1500/1500\u001b[0m \u001b[32m━━━━━━━━━━━━━━━━━━━━\u001b[0m\u001b[37m\u001b[0m \u001b[1m2s\u001b[0m 1ms/step - accuracy: 0.8680 - loss: 0.3636 - val_accuracy: 0.8761 - val_loss: 0.3545\n",
      "Epoch 4/20\n",
      "\u001b[1m1500/1500\u001b[0m \u001b[32m━━━━━━━━━━━━━━━━━━━━\u001b[0m\u001b[37m\u001b[0m \u001b[1m2s\u001b[0m 1ms/step - accuracy: 0.8796 - loss: 0.3305 - val_accuracy: 0.8808 - val_loss: 0.3443\n",
      "Epoch 5/20\n",
      "\u001b[1m1500/1500\u001b[0m \u001b[32m━━━━━━━━━━━━━━━━━━━━\u001b[0m\u001b[37m\u001b[0m \u001b[1m2s\u001b[0m 1ms/step - accuracy: 0.8908 - loss: 0.3120 - val_accuracy: 0.8806 - val_loss: 0.3515\n",
      "Epoch 6/20\n",
      "\u001b[1m1500/1500\u001b[0m \u001b[32m━━━━━━━━━━━━━━━━━━━━\u001b[0m\u001b[37m\u001b[0m \u001b[1m2s\u001b[0m 1ms/step - accuracy: 0.8916 - loss: 0.3054 - val_accuracy: 0.8746 - val_loss: 0.3653\n",
      "Epoch 7/20\n",
      "\u001b[1m1500/1500\u001b[0m \u001b[32m━━━━━━━━━━━━━━━━━━━━\u001b[0m\u001b[37m\u001b[0m \u001b[1m2s\u001b[0m 1ms/step - accuracy: 0.8962 - loss: 0.2903 - val_accuracy: 0.8838 - val_loss: 0.3395\n",
      "Epoch 8/20\n",
      "\u001b[1m1500/1500\u001b[0m \u001b[32m━━━━━━━━━━━━━━━━━━━━\u001b[0m\u001b[37m\u001b[0m \u001b[1m2s\u001b[0m 1ms/step - accuracy: 0.8965 - loss: 0.2811 - val_accuracy: 0.8833 - val_loss: 0.3618\n",
      "Epoch 9/20\n",
      "\u001b[1m1500/1500\u001b[0m \u001b[32m━━━━━━━━━━━━━━━━━━━━\u001b[0m\u001b[37m\u001b[0m \u001b[1m2s\u001b[0m 1ms/step - accuracy: 0.9012 - loss: 0.2824 - val_accuracy: 0.8789 - val_loss: 0.3583\n",
      "Epoch 10/20\n",
      "\u001b[1m1500/1500\u001b[0m \u001b[32m━━━━━━━━━━━━━━━━━━━━\u001b[0m\u001b[37m\u001b[0m \u001b[1m2s\u001b[0m 1ms/step - accuracy: 0.9023 - loss: 0.2697 - val_accuracy: 0.8654 - val_loss: 0.4600\n",
      "Epoch 11/20\n",
      "\u001b[1m1500/1500\u001b[0m \u001b[32m━━━━━━━━━━━━━━━━━━━━\u001b[0m\u001b[37m\u001b[0m \u001b[1m2s\u001b[0m 1ms/step - accuracy: 0.9053 - loss: 0.2670 - val_accuracy: 0.8873 - val_loss: 0.3585\n",
      "Epoch 12/20\n",
      "\u001b[1m1500/1500\u001b[0m \u001b[32m━━━━━━━━━━━━━━━━━━━━\u001b[0m\u001b[37m\u001b[0m \u001b[1m2s\u001b[0m 1ms/step - accuracy: 0.9092 - loss: 0.2585 - val_accuracy: 0.8827 - val_loss: 0.3820\n",
      "Epoch 13/20\n",
      "\u001b[1m1500/1500\u001b[0m \u001b[32m━━━━━━━━━━━━━━━━━━━━\u001b[0m\u001b[37m\u001b[0m \u001b[1m2s\u001b[0m 1ms/step - accuracy: 0.9101 - loss: 0.2551 - val_accuracy: 0.8809 - val_loss: 0.4120\n",
      "Epoch 14/20\n",
      "\u001b[1m1500/1500\u001b[0m \u001b[32m━━━━━━━━━━━━━━━━━━━━\u001b[0m\u001b[37m\u001b[0m \u001b[1m2s\u001b[0m 1ms/step - accuracy: 0.9137 - loss: 0.2472 - val_accuracy: 0.8811 - val_loss: 0.3934\n",
      "Epoch 15/20\n",
      "\u001b[1m1500/1500\u001b[0m \u001b[32m━━━━━━━━━━━━━━━━━━━━\u001b[0m\u001b[37m\u001b[0m \u001b[1m2s\u001b[0m 1ms/step - accuracy: 0.9141 - loss: 0.2437 - val_accuracy: 0.8768 - val_loss: 0.4157\n",
      "Epoch 16/20\n",
      "\u001b[1m1500/1500\u001b[0m \u001b[32m━━━━━━━━━━━━━━━━━━━━\u001b[0m\u001b[37m\u001b[0m \u001b[1m2s\u001b[0m 1ms/step - accuracy: 0.9182 - loss: 0.2335 - val_accuracy: 0.8849 - val_loss: 0.3916\n",
      "Epoch 17/20\n",
      "\u001b[1m1500/1500\u001b[0m \u001b[32m━━━━━━━━━━━━━━━━━━━━\u001b[0m\u001b[37m\u001b[0m \u001b[1m2s\u001b[0m 1ms/step - accuracy: 0.9202 - loss: 0.2269 - val_accuracy: 0.8839 - val_loss: 0.4255\n",
      "Epoch 18/20\n",
      "\u001b[1m1500/1500\u001b[0m \u001b[32m━━━━━━━━━━━━━━━━━━━━\u001b[0m\u001b[37m\u001b[0m \u001b[1m2s\u001b[0m 1ms/step - accuracy: 0.9189 - loss: 0.2292 - val_accuracy: 0.8864 - val_loss: 0.3988\n",
      "Epoch 19/20\n",
      "\u001b[1m1500/1500\u001b[0m \u001b[32m━━━━━━━━━━━━━━━━━━━━\u001b[0m\u001b[37m\u001b[0m \u001b[1m2s\u001b[0m 1ms/step - accuracy: 0.9240 - loss: 0.2228 - val_accuracy: 0.8862 - val_loss: 0.4214\n",
      "Epoch 20/20\n",
      "\u001b[1m1500/1500\u001b[0m \u001b[32m━━━━━━━━━━━━━━━━━━━━\u001b[0m\u001b[37m\u001b[0m \u001b[1m2s\u001b[0m 1ms/step - accuracy: 0.9226 - loss: 0.2198 - val_accuracy: 0.8763 - val_loss: 0.4260\n"
     ]
    }
   ],
   "source": [
    "# 모델 생성\n",
    "model = mk_model()\n",
    "\n",
    "# 모델 설정 (loss, 점수 지표)\n",
    "model.compile(loss='sparse_categorical_crossentropy', metrics=['accuracy'])\n",
    "\n",
    "# 모델 학습 (20번)\n",
    "m_history = model.fit(train_scaled, train_target, epochs=20, validation_data=(val_scaled, val_target))"
   ]
  },
  {
   "cell_type": "code",
   "execution_count": 34,
   "id": "c834b1a8",
   "metadata": {},
   "outputs": [
    {
     "data": {
      "image/png": "[encoded data removed]",
      "text/plain": [
       "<Figure size 640x480 with 1 Axes>"
      ]
     },
     "metadata": {},
     "output_type": "display_data"
    }
   ],
   "source": [
    "# 검증 세트의 loss 경향성 그래프 그리기\n",
    "plt.plot(m_history.history['loss'], label='train')    # 훈련 세트의 loss\n",
    "plt.plot(m_history.history['val_loss'], label='val')  # 검증 세트의 loss\n",
    "\n",
    "plt.xlabel('epoch')\n",
    "plt.ylabel('loss')\n",
    "\n",
    "plt.legend()\n",
    "plt.show()"
   ]
  },
  {
   "cell_type": "markdown",
   "id": "eba5a9ba",
   "metadata": {},
   "source": [
    "검증 세트의 loss 값이 어느 순간 상승하면서 튀기도 한다...\\\n",
    "어떻게 해결할 수 있을까?\n",
    "\n",
    "-> optimizer를 Adam으로 설정!"
   ]
  },
  {
   "cell_type": "code",
   "execution_count": 36,
   "id": "eb681ed1",
   "metadata": {},
   "outputs": [
    {
     "name": "stdout",
     "output_type": "stream",
     "text": [
      "Epoch 1/20\n",
      "\u001b[1m1500/1500\u001b[0m \u001b[32m━━━━━━━━━━━━━━━━━━━━\u001b[0m\u001b[37m\u001b[0m \u001b[1m2s\u001b[0m 1ms/step - accuracy: 0.7721 - loss: 0.6627 - val_accuracy: 0.8508 - val_loss: 0.4208\n",
      "Epoch 2/20\n",
      "\u001b[1m1500/1500\u001b[0m \u001b[32m━━━━━━━━━━━━━━━━━━━━\u001b[0m\u001b[37m\u001b[0m \u001b[1m2s\u001b[0m 1ms/step - accuracy: 0.8544 - loss: 0.4022 - val_accuracy: 0.8673 - val_loss: 0.3754\n",
      "Epoch 3/20\n",
      "\u001b[1m1500/1500\u001b[0m \u001b[32m━━━━━━━━━━━━━━━━━━━━\u001b[0m\u001b[37m\u001b[0m \u001b[1m2s\u001b[0m 1ms/step - accuracy: 0.8710 - loss: 0.3544 - val_accuracy: 0.8722 - val_loss: 0.3497\n",
      "Epoch 4/20\n",
      "\u001b[1m1500/1500\u001b[0m \u001b[32m━━━━━━━━━━━━━━━━━━━━\u001b[0m\u001b[37m\u001b[0m \u001b[1m2s\u001b[0m 1ms/step - accuracy: 0.8792 - loss: 0.3259 - val_accuracy: 0.8789 - val_loss: 0.3362\n",
      "Epoch 5/20\n",
      "\u001b[1m1500/1500\u001b[0m \u001b[32m━━━━━━━━━━━━━━━━━━━━\u001b[0m\u001b[37m\u001b[0m \u001b[1m2s\u001b[0m 1ms/step - accuracy: 0.8910 - loss: 0.2991 - val_accuracy: 0.8658 - val_loss: 0.3673\n",
      "Epoch 6/20\n",
      "\u001b[1m1500/1500\u001b[0m \u001b[32m━━━━━━━━━━━━━━━━━━━━\u001b[0m\u001b[37m\u001b[0m \u001b[1m2s\u001b[0m 1ms/step - accuracy: 0.8926 - loss: 0.2869 - val_accuracy: 0.8788 - val_loss: 0.3404\n",
      "Epoch 7/20\n",
      "\u001b[1m1500/1500\u001b[0m \u001b[32m━━━━━━━━━━━━━━━━━━━━\u001b[0m\u001b[37m\u001b[0m \u001b[1m2s\u001b[0m 1ms/step - accuracy: 0.9004 - loss: 0.2646 - val_accuracy: 0.8837 - val_loss: 0.3305\n",
      "Epoch 8/20\n",
      "\u001b[1m1500/1500\u001b[0m \u001b[32m━━━━━━━━━━━━━━━━━━━━\u001b[0m\u001b[37m\u001b[0m \u001b[1m2s\u001b[0m 1ms/step - accuracy: 0.9048 - loss: 0.2592 - val_accuracy: 0.8834 - val_loss: 0.3341\n",
      "Epoch 9/20\n",
      "\u001b[1m1500/1500\u001b[0m \u001b[32m━━━━━━━━━━━━━━━━━━━━\u001b[0m\u001b[37m\u001b[0m \u001b[1m2s\u001b[0m 1ms/step - accuracy: 0.9081 - loss: 0.2499 - val_accuracy: 0.8788 - val_loss: 0.3346\n",
      "Epoch 10/20\n",
      "\u001b[1m1500/1500\u001b[0m \u001b[32m━━━━━━━━━━━━━━━━━━━━\u001b[0m\u001b[37m\u001b[0m \u001b[1m2s\u001b[0m 1ms/step - accuracy: 0.9127 - loss: 0.2392 - val_accuracy: 0.8759 - val_loss: 0.3621\n",
      "Epoch 11/20\n",
      "\u001b[1m1500/1500\u001b[0m \u001b[32m━━━━━━━━━━━━━━━━━━━━\u001b[0m\u001b[37m\u001b[0m \u001b[1m2s\u001b[0m 1ms/step - accuracy: 0.9105 - loss: 0.2375 - val_accuracy: 0.8782 - val_loss: 0.3438\n",
      "Epoch 12/20\n",
      "\u001b[1m1500/1500\u001b[0m \u001b[32m━━━━━━━━━━━━━━━━━━━━\u001b[0m\u001b[37m\u001b[0m \u001b[1m2s\u001b[0m 1ms/step - accuracy: 0.9145 - loss: 0.2256 - val_accuracy: 0.8826 - val_loss: 0.3406\n",
      "Epoch 13/20\n",
      "\u001b[1m1500/1500\u001b[0m \u001b[32m━━━━━━━━━━━━━━━━━━━━\u001b[0m\u001b[37m\u001b[0m \u001b[1m2s\u001b[0m 1ms/step - accuracy: 0.9172 - loss: 0.2190 - val_accuracy: 0.8848 - val_loss: 0.3170\n",
      "Epoch 14/20\n",
      "\u001b[1m1500/1500\u001b[0m \u001b[32m━━━━━━━━━━━━━━━━━━━━\u001b[0m\u001b[37m\u001b[0m \u001b[1m2s\u001b[0m 1ms/step - accuracy: 0.9186 - loss: 0.2177 - val_accuracy: 0.8876 - val_loss: 0.3210\n",
      "Epoch 15/20\n",
      "\u001b[1m1500/1500\u001b[0m \u001b[32m━━━━━━━━━━━━━━━━━━━━\u001b[0m\u001b[37m\u001b[0m \u001b[1m2s\u001b[0m 1ms/step - accuracy: 0.9219 - loss: 0.2094 - val_accuracy: 0.8803 - val_loss: 0.3466\n",
      "Epoch 16/20\n",
      "\u001b[1m1500/1500\u001b[0m \u001b[32m━━━━━━━━━━━━━━━━━━━━\u001b[0m\u001b[37m\u001b[0m \u001b[1m2s\u001b[0m 1ms/step - accuracy: 0.9254 - loss: 0.1981 - val_accuracy: 0.8882 - val_loss: 0.3345\n",
      "Epoch 17/20\n",
      "\u001b[1m1500/1500\u001b[0m \u001b[32m━━━━━━━━━━━━━━━━━━━━\u001b[0m\u001b[37m\u001b[0m \u001b[1m2s\u001b[0m 1ms/step - accuracy: 0.9248 - loss: 0.1985 - val_accuracy: 0.8872 - val_loss: 0.3267\n",
      "Epoch 18/20\n",
      "\u001b[1m1500/1500\u001b[0m \u001b[32m━━━━━━━━━━━━━━━━━━━━\u001b[0m\u001b[37m\u001b[0m \u001b[1m2s\u001b[0m 1ms/step - accuracy: 0.9318 - loss: 0.1877 - val_accuracy: 0.8895 - val_loss: 0.3314\n",
      "Epoch 19/20\n",
      "\u001b[1m1500/1500\u001b[0m \u001b[32m━━━━━━━━━━━━━━━━━━━━\u001b[0m\u001b[37m\u001b[0m \u001b[1m2s\u001b[0m 1ms/step - accuracy: 0.9306 - loss: 0.1840 - val_accuracy: 0.8895 - val_loss: 0.3369\n",
      "Epoch 20/20\n",
      "\u001b[1m1500/1500\u001b[0m \u001b[32m━━━━━━━━━━━━━━━━━━━━\u001b[0m\u001b[37m\u001b[0m \u001b[1m2s\u001b[0m 1ms/step - accuracy: 0.9317 - loss: 0.1832 - val_accuracy: 0.8871 - val_loss: 0.3487\n"
     ]
    }
   ],
   "source": [
    "# 모델 생성\n",
    "model = mk_model()\n",
    "\n",
    "# adam 객체 생성\n",
    "adam = keras.optimizers.Adam()  # learning_rate: 기본값 - 0.1\n",
    "\n",
    "# 모델 설정 (optimizer(adam으로), loss, 점수 지표)\n",
    "model.compile(optimizer=adam, loss='sparse_categorical_crossentropy', metrics=['accuracy'])\n",
    "\n",
    "# 모델 학습 (20번)\n",
    "m_history = model.fit(train_scaled, train_target, epochs=20, validation_data=(val_scaled, val_target))"
   ]
  },
  {
   "cell_type": "code",
   "execution_count": 37,
   "id": "22d26716",
   "metadata": {},
   "outputs": [
    {
     "data": {
      "image/png": "[encoded data removed]",
      "text/plain": [
       "<Figure size 640x480 with 1 Axes>"
      ]
     },
     "metadata": {},
     "output_type": "display_data"
    }
   ],
   "source": [
    "# 검증 세트의 loss 경향성 그래프 그리기\n",
    "plt.plot(m_history.history['loss'], label='train')    # 훈련 세트의 loss\n",
    "plt.plot(m_history.history['val_loss'], label='val')  # 검증 세트의 loss\n",
    "\n",
    "plt.xlabel('epoch')\n",
    "plt.ylabel('loss')\n",
    "\n",
    "plt.legend()\n",
    "plt.show()"
   ]
  },
  {
   "cell_type": "markdown",
   "id": "3fa27a08",
   "metadata": {},
   "source": [
    "adam을 사용하니까 훈련 세트의 loss도 0.2 미만으로 떨어지고, 검증 세트의 loss도 대체로 감소하는 경향성을 보인다.\\\n",
    "좀 더 개선할 수 없을까?\n",
    "\n",
    "-> learning rate를 0.001로 줄이고, epochs를 50으로 올려보자!"
   ]
  },
  {
   "cell_type": "code",
   "execution_count": 38,
   "id": "f9835c4f",
   "metadata": {},
   "outputs": [
    {
     "name": "stdout",
     "output_type": "stream",
     "text": [
      "Epoch 1/50\n",
      "\u001b[1m1500/1500\u001b[0m \u001b[32m━━━━━━━━━━━━━━━━━━━━\u001b[0m\u001b[37m\u001b[0m \u001b[1m2s\u001b[0m 1ms/step - accuracy: 0.7673 - loss: 0.6700 - val_accuracy: 0.8407 - val_loss: 0.4588\n",
      "Epoch 2/50\n",
      "\u001b[1m1500/1500\u001b[0m \u001b[32m━━━━━━━━━━━━━━━━━━━━\u001b[0m\u001b[37m\u001b[0m \u001b[1m2s\u001b[0m 1ms/step - accuracy: 0.8555 - loss: 0.3972 - val_accuracy: 0.8527 - val_loss: 0.3974\n",
      "Epoch 3/50\n",
      "\u001b[1m1500/1500\u001b[0m \u001b[32m━━━━━━━━━━━━━━━━━━━━\u001b[0m\u001b[37m\u001b[0m \u001b[1m2s\u001b[0m 1ms/step - accuracy: 0.8709 - loss: 0.3533 - val_accuracy: 0.8568 - val_loss: 0.4002\n",
      "Epoch 4/50\n",
      "\u001b[1m1500/1500\u001b[0m \u001b[32m━━━━━━━━━━━━━━━━━━━━\u001b[0m\u001b[37m\u001b[0m \u001b[1m2s\u001b[0m 1ms/step - accuracy: 0.8830 - loss: 0.3211 - val_accuracy: 0.8758 - val_loss: 0.3430\n",
      "Epoch 5/50\n",
      "\u001b[1m1500/1500\u001b[0m \u001b[32m━━━━━━━━━━━━━━━━━━━━\u001b[0m\u001b[37m\u001b[0m \u001b[1m2s\u001b[0m 1ms/step - accuracy: 0.8907 - loss: 0.2993 - val_accuracy: 0.8762 - val_loss: 0.3397\n",
      "Epoch 6/50\n",
      "\u001b[1m1500/1500\u001b[0m \u001b[32m━━━━━━━━━━━━━━━━━━━━\u001b[0m\u001b[37m\u001b[0m \u001b[1m2s\u001b[0m 1ms/step - accuracy: 0.8959 - loss: 0.2833 - val_accuracy: 0.8840 - val_loss: 0.3271\n",
      "Epoch 7/50\n",
      "\u001b[1m1500/1500\u001b[0m \u001b[32m━━━━━━━━━━━━━━━━━━━━\u001b[0m\u001b[37m\u001b[0m \u001b[1m2s\u001b[0m 1ms/step - accuracy: 0.8992 - loss: 0.2733 - val_accuracy: 0.8838 - val_loss: 0.3275\n",
      "Epoch 8/50\n",
      "\u001b[1m1500/1500\u001b[0m \u001b[32m━━━━━━━━━━━━━━━━━━━━\u001b[0m\u001b[37m\u001b[0m \u001b[1m2s\u001b[0m 1ms/step - accuracy: 0.9000 - loss: 0.2674 - val_accuracy: 0.8799 - val_loss: 0.3409\n",
      "Epoch 9/50\n",
      "\u001b[1m1500/1500\u001b[0m \u001b[32m━━━━━━━━━━━━━━━━━━━━\u001b[0m\u001b[37m\u001b[0m \u001b[1m2s\u001b[0m 1ms/step - accuracy: 0.9053 - loss: 0.2526 - val_accuracy: 0.8852 - val_loss: 0.3204\n",
      "Epoch 10/50\n",
      "\u001b[1m1500/1500\u001b[0m \u001b[32m━━━━━━━━━━━━━━━━━━━━\u001b[0m\u001b[37m\u001b[0m \u001b[1m2s\u001b[0m 1ms/step - accuracy: 0.9076 - loss: 0.2460 - val_accuracy: 0.8895 - val_loss: 0.3218\n",
      "Epoch 11/50\n",
      "\u001b[1m1500/1500\u001b[0m \u001b[32m━━━━━━━━━━━━━━━━━━━━\u001b[0m\u001b[37m\u001b[0m \u001b[1m2s\u001b[0m 1ms/step - accuracy: 0.9094 - loss: 0.2402 - val_accuracy: 0.8861 - val_loss: 0.3268\n",
      "Epoch 12/50\n",
      "\u001b[1m1500/1500\u001b[0m \u001b[32m━━━━━━━━━━━━━━━━━━━━\u001b[0m\u001b[37m\u001b[0m \u001b[1m2s\u001b[0m 1ms/step - accuracy: 0.9136 - loss: 0.2332 - val_accuracy: 0.8817 - val_loss: 0.3361\n",
      "Epoch 13/50\n",
      "\u001b[1m1500/1500\u001b[0m \u001b[32m━━━━━━━━━━━━━━━━━━━━\u001b[0m\u001b[37m\u001b[0m \u001b[1m2s\u001b[0m 1ms/step - accuracy: 0.9183 - loss: 0.2228 - val_accuracy: 0.8881 - val_loss: 0.3273\n",
      "Epoch 14/50\n",
      "\u001b[1m1500/1500\u001b[0m \u001b[32m━━━━━━━━━━━━━━━━━━━━\u001b[0m\u001b[37m\u001b[0m \u001b[1m2s\u001b[0m 1ms/step - accuracy: 0.9203 - loss: 0.2119 - val_accuracy: 0.8878 - val_loss: 0.3272\n",
      "Epoch 15/50\n",
      "\u001b[1m1500/1500\u001b[0m \u001b[32m━━━━━━━━━━━━━━━━━━━━\u001b[0m\u001b[37m\u001b[0m \u001b[1m2s\u001b[0m 1ms/step - accuracy: 0.9225 - loss: 0.2071 - val_accuracy: 0.8835 - val_loss: 0.3392\n",
      "Epoch 16/50\n",
      "\u001b[1m1500/1500\u001b[0m \u001b[32m━━━━━━━━━━━━━━━━━━━━\u001b[0m\u001b[37m\u001b[0m \u001b[1m2s\u001b[0m 1ms/step - accuracy: 0.9224 - loss: 0.2054 - val_accuracy: 0.8869 - val_loss: 0.3293\n",
      "Epoch 17/50\n",
      "\u001b[1m1500/1500\u001b[0m \u001b[32m━━━━━━━━━━━━━━━━━━━━\u001b[0m\u001b[37m\u001b[0m \u001b[1m2s\u001b[0m 1ms/step - accuracy: 0.9298 - loss: 0.1903 - val_accuracy: 0.8799 - val_loss: 0.3674\n",
      "Epoch 18/50\n",
      "\u001b[1m1500/1500\u001b[0m \u001b[32m━━━━━━━━━━━━━━━━━━━━\u001b[0m\u001b[37m\u001b[0m \u001b[1m2s\u001b[0m 1ms/step - accuracy: 0.9279 - loss: 0.1922 - val_accuracy: 0.8912 - val_loss: 0.3381\n",
      "Epoch 19/50\n",
      "\u001b[1m1500/1500\u001b[0m \u001b[32m━━━━━━━━━━━━━━━━━━━━\u001b[0m\u001b[37m\u001b[0m \u001b[1m2s\u001b[0m 1ms/step - accuracy: 0.9314 - loss: 0.1838 - val_accuracy: 0.8884 - val_loss: 0.3366\n",
      "Epoch 20/50\n",
      "\u001b[1m1500/1500\u001b[0m \u001b[32m━━━━━━━━━━━━━━━━━━━━\u001b[0m\u001b[37m\u001b[0m \u001b[1m2s\u001b[0m 1ms/step - accuracy: 0.9306 - loss: 0.1855 - val_accuracy: 0.8829 - val_loss: 0.3538\n",
      "Epoch 21/50\n",
      "\u001b[1m1500/1500\u001b[0m \u001b[32m━━━━━━━━━━━━━━━━━━━━\u001b[0m\u001b[37m\u001b[0m \u001b[1m2s\u001b[0m 1ms/step - accuracy: 0.9322 - loss: 0.1784 - val_accuracy: 0.8889 - val_loss: 0.3505\n",
      "Epoch 22/50\n",
      "\u001b[1m1500/1500\u001b[0m \u001b[32m━━━━━━━━━━━━━━━━━━━━\u001b[0m\u001b[37m\u001b[0m \u001b[1m2s\u001b[0m 1ms/step - accuracy: 0.9361 - loss: 0.1715 - val_accuracy: 0.8907 - val_loss: 0.3393\n",
      "Epoch 23/50\n",
      "\u001b[1m1500/1500\u001b[0m \u001b[32m━━━━━━━━━━━━━━━━━━━━\u001b[0m\u001b[37m\u001b[0m \u001b[1m2s\u001b[0m 1ms/step - accuracy: 0.9373 - loss: 0.1685 - val_accuracy: 0.8844 - val_loss: 0.3738\n",
      "Epoch 24/50\n",
      "\u001b[1m1500/1500\u001b[0m \u001b[32m━━━━━━━━━━━━━━━━━━━━\u001b[0m\u001b[37m\u001b[0m \u001b[1m2s\u001b[0m 1ms/step - accuracy: 0.9384 - loss: 0.1634 - val_accuracy: 0.8838 - val_loss: 0.3747\n",
      "Epoch 25/50\n",
      "\u001b[1m1500/1500\u001b[0m \u001b[32m━━━━━━━━━━━━━━━━━━━━\u001b[0m\u001b[37m\u001b[0m \u001b[1m2s\u001b[0m 1ms/step - accuracy: 0.9416 - loss: 0.1574 - val_accuracy: 0.8872 - val_loss: 0.3608\n",
      "Epoch 26/50\n",
      "\u001b[1m1500/1500\u001b[0m \u001b[32m━━━━━━━━━━━━━━━━━━━━\u001b[0m\u001b[37m\u001b[0m \u001b[1m2s\u001b[0m 1ms/step - accuracy: 0.9416 - loss: 0.1571 - val_accuracy: 0.8888 - val_loss: 0.3720\n",
      "Epoch 27/50\n",
      "\u001b[1m1500/1500\u001b[0m \u001b[32m━━━━━━━━━━━━━━━━━━━━\u001b[0m\u001b[37m\u001b[0m \u001b[1m2s\u001b[0m 1ms/step - accuracy: 0.9424 - loss: 0.1540 - val_accuracy: 0.8850 - val_loss: 0.3800\n",
      "Epoch 28/50\n",
      "\u001b[1m1500/1500\u001b[0m \u001b[32m━━━━━━━━━━━━━━━━━━━━\u001b[0m\u001b[37m\u001b[0m \u001b[1m2s\u001b[0m 1ms/step - accuracy: 0.9451 - loss: 0.1460 - val_accuracy: 0.8813 - val_loss: 0.4041\n",
      "Epoch 29/50\n",
      "\u001b[1m1500/1500\u001b[0m \u001b[32m━━━━━━━━━━━━━━━━━━━━\u001b[0m\u001b[37m\u001b[0m \u001b[1m2s\u001b[0m 1ms/step - accuracy: 0.9429 - loss: 0.1500 - val_accuracy: 0.8925 - val_loss: 0.3765\n",
      "Epoch 30/50\n",
      "\u001b[1m1500/1500\u001b[0m \u001b[32m━━━━━━━━━━━━━━━━━━━━\u001b[0m\u001b[37m\u001b[0m \u001b[1m2s\u001b[0m 1ms/step - accuracy: 0.9479 - loss: 0.1414 - val_accuracy: 0.8880 - val_loss: 0.3873\n",
      "Epoch 31/50\n",
      "\u001b[1m1500/1500\u001b[0m \u001b[32m━━━━━━━━━━━━━━━━━━━━\u001b[0m\u001b[37m\u001b[0m \u001b[1m2s\u001b[0m 1ms/step - accuracy: 0.9479 - loss: 0.1405 - val_accuracy: 0.8874 - val_loss: 0.4095\n",
      "Epoch 32/50\n",
      "\u001b[1m1500/1500\u001b[0m \u001b[32m━━━━━━━━━━━━━━━━━━━━\u001b[0m\u001b[37m\u001b[0m \u001b[1m2s\u001b[0m 1ms/step - accuracy: 0.9497 - loss: 0.1368 - val_accuracy: 0.8852 - val_loss: 0.4101\n",
      "Epoch 33/50\n",
      "\u001b[1m1500/1500\u001b[0m \u001b[32m━━━━━━━━━━━━━━━━━━━━\u001b[0m\u001b[37m\u001b[0m \u001b[1m2s\u001b[0m 1ms/step - accuracy: 0.9517 - loss: 0.1315 - val_accuracy: 0.8843 - val_loss: 0.4294\n",
      "Epoch 34/50\n",
      "\u001b[1m1500/1500\u001b[0m \u001b[32m━━━━━━━━━━━━━━━━━━━━\u001b[0m\u001b[37m\u001b[0m \u001b[1m2s\u001b[0m 1ms/step - accuracy: 0.9518 - loss: 0.1316 - val_accuracy: 0.8854 - val_loss: 0.4320\n",
      "Epoch 35/50\n",
      "\u001b[1m1500/1500\u001b[0m \u001b[32m━━━━━━━━━━━━━━━━━━━━\u001b[0m\u001b[37m\u001b[0m \u001b[1m2s\u001b[0m 1ms/step - accuracy: 0.9511 - loss: 0.1307 - val_accuracy: 0.8898 - val_loss: 0.4041\n",
      "Epoch 36/50\n",
      "\u001b[1m1500/1500\u001b[0m \u001b[32m━━━━━━━━━━━━━━━━━━━━\u001b[0m\u001b[37m\u001b[0m \u001b[1m2s\u001b[0m 1ms/step - accuracy: 0.9535 - loss: 0.1250 - val_accuracy: 0.8863 - val_loss: 0.4222\n",
      "Epoch 37/50\n",
      "\u001b[1m1500/1500\u001b[0m \u001b[32m━━━━━━━━━━━━━━━━━━━━\u001b[0m\u001b[37m\u001b[0m \u001b[1m2s\u001b[0m 1ms/step - accuracy: 0.9555 - loss: 0.1220 - val_accuracy: 0.8865 - val_loss: 0.4276\n",
      "Epoch 38/50\n",
      "\u001b[1m1500/1500\u001b[0m \u001b[32m━━━━━━━━━━━━━━━━━━━━\u001b[0m\u001b[37m\u001b[0m \u001b[1m2s\u001b[0m 1ms/step - accuracy: 0.9563 - loss: 0.1226 - val_accuracy: 0.8820 - val_loss: 0.4330\n",
      "Epoch 39/50\n",
      "\u001b[1m1500/1500\u001b[0m \u001b[32m━━━━━━━━━━━━━━━━━━━━\u001b[0m\u001b[37m\u001b[0m \u001b[1m2s\u001b[0m 1ms/step - accuracy: 0.9563 - loss: 0.1159 - val_accuracy: 0.8867 - val_loss: 0.4438\n",
      "Epoch 40/50\n",
      "\u001b[1m1500/1500\u001b[0m \u001b[32m━━━━━━━━━━━━━━━━━━━━\u001b[0m\u001b[37m\u001b[0m \u001b[1m2s\u001b[0m 1ms/step - accuracy: 0.9561 - loss: 0.1191 - val_accuracy: 0.8862 - val_loss: 0.4500\n",
      "Epoch 41/50\n",
      "\u001b[1m1500/1500\u001b[0m \u001b[32m━━━━━━━━━━━━━━━━━━━━\u001b[0m\u001b[37m\u001b[0m \u001b[1m2s\u001b[0m 1ms/step - accuracy: 0.9579 - loss: 0.1139 - val_accuracy: 0.8828 - val_loss: 0.4747\n",
      "Epoch 42/50\n",
      "\u001b[1m1500/1500\u001b[0m \u001b[32m━━━━━━━━━━━━━━━━━━━━\u001b[0m\u001b[37m\u001b[0m \u001b[1m2s\u001b[0m 1ms/step - accuracy: 0.9589 - loss: 0.1096 - val_accuracy: 0.8884 - val_loss: 0.4471\n",
      "Epoch 43/50\n",
      "\u001b[1m1500/1500\u001b[0m \u001b[32m━━━━━━━━━━━━━━━━━━━━\u001b[0m\u001b[37m\u001b[0m \u001b[1m2s\u001b[0m 1ms/step - accuracy: 0.9572 - loss: 0.1124 - val_accuracy: 0.8871 - val_loss: 0.4518\n",
      "Epoch 44/50\n",
      "\u001b[1m1500/1500\u001b[0m \u001b[32m━━━━━━━━━━━━━━━━━━━━\u001b[0m\u001b[37m\u001b[0m \u001b[1m2s\u001b[0m 1ms/step - accuracy: 0.9605 - loss: 0.1051 - val_accuracy: 0.8878 - val_loss: 0.4644\n",
      "Epoch 45/50\n",
      "\u001b[1m1500/1500\u001b[0m \u001b[32m━━━━━━━━━━━━━━━━━━━━\u001b[0m\u001b[37m\u001b[0m \u001b[1m2s\u001b[0m 1ms/step - accuracy: 0.9606 - loss: 0.1110 - val_accuracy: 0.8891 - val_loss: 0.4719\n",
      "Epoch 46/50\n",
      "\u001b[1m1500/1500\u001b[0m \u001b[32m━━━━━━━━━━━━━━━━━━━━\u001b[0m\u001b[37m\u001b[0m \u001b[1m2s\u001b[0m 1ms/step - accuracy: 0.9628 - loss: 0.1046 - val_accuracy: 0.8885 - val_loss: 0.4737\n",
      "Epoch 47/50\n",
      "\u001b[1m1500/1500\u001b[0m \u001b[32m━━━━━━━━━━━━━━━━━━━━\u001b[0m\u001b[37m\u001b[0m \u001b[1m2s\u001b[0m 1ms/step - accuracy: 0.9624 - loss: 0.1015 - val_accuracy: 0.8881 - val_loss: 0.4842\n",
      "Epoch 48/50\n",
      "\u001b[1m1500/1500\u001b[0m \u001b[32m━━━━━━━━━━━━━━━━━━━━\u001b[0m\u001b[37m\u001b[0m \u001b[1m2s\u001b[0m 1ms/step - accuracy: 0.9632 - loss: 0.1029 - val_accuracy: 0.8838 - val_loss: 0.4976\n",
      "Epoch 49/50\n",
      "\u001b[1m1500/1500\u001b[0m \u001b[32m━━━━━━━━━━━━━━━━━━━━\u001b[0m\u001b[37m\u001b[0m \u001b[1m2s\u001b[0m 1ms/step - accuracy: 0.9653 - loss: 0.0967 - val_accuracy: 0.8838 - val_loss: 0.4841\n",
      "Epoch 50/50\n",
      "\u001b[1m1500/1500\u001b[0m \u001b[32m━━━━━━━━━━━━━━━━━━━━\u001b[0m\u001b[37m\u001b[0m \u001b[1m2s\u001b[0m 1ms/step - accuracy: 0.9623 - loss: 0.1007 - val_accuracy: 0.8862 - val_loss: 0.5264\n"
     ]
    }
   ],
   "source": [
    "# 모델 생성\n",
    "model = mk_model()\n",
    "\n",
    "# adam 객체 생성\n",
    "adam = keras.optimizers.Adam(learning_rate=0.001)  # learning_rate: 0.001로 설정 (기본값 - 0.1)\n",
    "\n",
    "# 모델 설정 (optimizer(adam으로), loss, 점수 지표)\n",
    "model.compile(optimizer=adam, loss='sparse_categorical_crossentropy', metrics=['accuracy'])\n",
    "\n",
    "# 모델 학습 (20번)\n",
    "m_history = model.fit(train_scaled, train_target, epochs=50, validation_data=(val_scaled, val_target))"
   ]
  },
  {
   "cell_type": "code",
   "execution_count": 39,
   "id": "65e7d87e",
   "metadata": {},
   "outputs": [
    {
     "data": {
      "image/png": "[encoded data removed]",
      "text/plain": [
       "<Figure size 640x480 with 1 Axes>"
      ]
     },
     "metadata": {},
     "output_type": "display_data"
    }
   ],
   "source": [
    "# 검증 세트의 loss 경향성 그래프 그리기\n",
    "plt.plot(m_history.history['loss'], label='train')    # 훈련 세트의 loss\n",
    "plt.plot(m_history.history['val_loss'], label='val')  # 검증 세트의 loss\n",
    "\n",
    "plt.xlabel('epoch')\n",
    "plt.ylabel('loss')\n",
    "\n",
    "plt.legend()\n",
    "plt.show()"
   ]
  },
  {
   "cell_type": "markdown",
   "id": "df56a6c3",
   "metadata": {},
   "source": [
    "검증 세트 loss 값의 상승하면 과대 적합이 일어나는 것이다.\\\n",
    "그 지점이 8 epochs인 듯하다.(1 ~ 7 epochs는 과소 적합)\\\n",
    "다만, 검증 세트의 loss값이 특정 시점부터 급격히 상승한다.\\\n",
    "더 개선할 수는 없을까?\n",
    "\n",
    "-> **드롭아웃**: 설정된 비율만큼 은닉층에 있는 뉴런의 출력을 랜덤하게 꺼서 과대적합을 완화하는 기법 (보통 0.1 ~ 0.5로 설정)"
   ]
  },
  {
   "cell_type": "code",
   "execution_count": 40,
   "id": "1963eec4",
   "metadata": {},
   "outputs": [
    {
     "data": {
      "text/html": [
       "<pre style=\"white-space:pre;overflow-x:auto;line-height:normal;font-family:Menlo,'DejaVu Sans Mono',consolas,'Courier New',monospace\"><span style=\"font-weight: bold\">Model: \"sequential_8\"</span>\n",
       "</pre>\n"
      ],
      "text/plain": [
       "\u001b[1mModel: \"sequential_8\"\u001b[0m\n"
      ]
     },
     "metadata": {},
     "output_type": "display_data"
    },
    {
     "data": {
      "text/html": [
       "<pre style=\"white-space:pre;overflow-x:auto;line-height:normal;font-family:Menlo,'DejaVu Sans Mono',consolas,'Courier New',monospace\">┏━━━━━━━━━━━━━━━━━━━━━━━━━━━━━━━━━┳━━━━━━━━━━━━━━━━━━━━━━━━┳━━━━━━━━━━━━━━━┓\n",
       "┃<span style=\"font-weight: bold\"> Layer (type)                    </span>┃<span style=\"font-weight: bold\"> Output Shape           </span>┃<span style=\"font-weight: bold\">       Param # </span>┃\n",
       "┡━━━━━━━━━━━━━━━━━━━━━━━━━━━━━━━━━╇━━━━━━━━━━━━━━━━━━━━━━━━╇━━━━━━━━━━━━━━━┩\n",
       "│ flatten_8 (<span style=\"color: #0087ff; text-decoration-color: #0087ff\">Flatten</span>)             │ (<span style=\"color: #00d7ff; text-decoration-color: #00d7ff\">None</span>, <span style=\"color: #00af00; text-decoration-color: #00af00\">784</span>)            │             <span style=\"color: #00af00; text-decoration-color: #00af00\">0</span> │\n",
       "├─────────────────────────────────┼────────────────────────┼───────────────┤\n",
       "│ dense_16 (<span style=\"color: #0087ff; text-decoration-color: #0087ff\">Dense</span>)                │ (<span style=\"color: #00d7ff; text-decoration-color: #00d7ff\">None</span>, <span style=\"color: #00af00; text-decoration-color: #00af00\">100</span>)            │        <span style=\"color: #00af00; text-decoration-color: #00af00\">78,500</span> │\n",
       "├─────────────────────────────────┼────────────────────────┼───────────────┤\n",
       "│ dropout (<span style=\"color: #0087ff; text-decoration-color: #0087ff\">Dropout</span>)               │ (<span style=\"color: #00d7ff; text-decoration-color: #00d7ff\">None</span>, <span style=\"color: #00af00; text-decoration-color: #00af00\">100</span>)            │             <span style=\"color: #00af00; text-decoration-color: #00af00\">0</span> │\n",
       "├─────────────────────────────────┼────────────────────────┼───────────────┤\n",
       "│ dense_17 (<span style=\"color: #0087ff; text-decoration-color: #0087ff\">Dense</span>)                │ (<span style=\"color: #00d7ff; text-decoration-color: #00d7ff\">None</span>, <span style=\"color: #00af00; text-decoration-color: #00af00\">10</span>)             │         <span style=\"color: #00af00; text-decoration-color: #00af00\">1,010</span> │\n",
       "└─────────────────────────────────┴────────────────────────┴───────────────┘\n",
       "</pre>\n"
      ],
      "text/plain": [
       "┏━━━━━━━━━━━━━━━━━━━━━━━━━━━━━━━━━┳━━━━━━━━━━━━━━━━━━━━━━━━┳━━━━━━━━━━━━━━━┓\n",
       "┃\u001b[1m \u001b[0m\u001b[1mLayer (type)                   \u001b[0m\u001b[1m \u001b[0m┃\u001b[1m \u001b[0m\u001b[1mOutput Shape          \u001b[0m\u001b[1m \u001b[0m┃\u001b[1m \u001b[0m\u001b[1m      Param #\u001b[0m\u001b[1m \u001b[0m┃\n",
       "┡━━━━━━━━━━━━━━━━━━━━━━━━━━━━━━━━━╇━━━━━━━━━━━━━━━━━━━━━━━━╇━━━━━━━━━━━━━━━┩\n",
       "│ flatten_8 (\u001b[38;5;33mFlatten\u001b[0m)             │ (\u001b[38;5;45mNone\u001b[0m, \u001b[38;5;34m784\u001b[0m)            │             \u001b[38;5;34m0\u001b[0m │\n",
       "├─────────────────────────────────┼────────────────────────┼───────────────┤\n",
       "│ dense_16 (\u001b[38;5;33mDense\u001b[0m)                │ (\u001b[38;5;45mNone\u001b[0m, \u001b[38;5;34m100\u001b[0m)            │        \u001b[38;5;34m78,500\u001b[0m │\n",
       "├─────────────────────────────────┼────────────────────────┼───────────────┤\n",
       "│ dropout (\u001b[38;5;33mDropout\u001b[0m)               │ (\u001b[38;5;45mNone\u001b[0m, \u001b[38;5;34m100\u001b[0m)            │             \u001b[38;5;34m0\u001b[0m │\n",
       "├─────────────────────────────────┼────────────────────────┼───────────────┤\n",
       "│ dense_17 (\u001b[38;5;33mDense\u001b[0m)                │ (\u001b[38;5;45mNone\u001b[0m, \u001b[38;5;34m10\u001b[0m)             │         \u001b[38;5;34m1,010\u001b[0m │\n",
       "└─────────────────────────────────┴────────────────────────┴───────────────┘\n"
      ]
     },
     "metadata": {},
     "output_type": "display_data"
    },
    {
     "data": {
      "text/html": [
       "<pre style=\"white-space:pre;overflow-x:auto;line-height:normal;font-family:Menlo,'DejaVu Sans Mono',consolas,'Courier New',monospace\"><span style=\"font-weight: bold\"> Total params: </span><span style=\"color: #00af00; text-decoration-color: #00af00\">79,510</span> (310.59 KB)\n",
       "</pre>\n"
      ],
      "text/plain": [
       "\u001b[1m Total params: \u001b[0m\u001b[38;5;34m79,510\u001b[0m (310.59 KB)\n"
      ]
     },
     "metadata": {},
     "output_type": "display_data"
    },
    {
     "data": {
      "text/html": [
       "<pre style=\"white-space:pre;overflow-x:auto;line-height:normal;font-family:Menlo,'DejaVu Sans Mono',consolas,'Courier New',monospace\"><span style=\"font-weight: bold\"> Trainable params: </span><span style=\"color: #00af00; text-decoration-color: #00af00\">79,510</span> (310.59 KB)\n",
       "</pre>\n"
      ],
      "text/plain": [
       "\u001b[1m Trainable params: \u001b[0m\u001b[38;5;34m79,510\u001b[0m (310.59 KB)\n"
      ]
     },
     "metadata": {},
     "output_type": "display_data"
    },
    {
     "data": {
      "text/html": [
       "<pre style=\"white-space:pre;overflow-x:auto;line-height:normal;font-family:Menlo,'DejaVu Sans Mono',consolas,'Courier New',monospace\"><span style=\"font-weight: bold\"> Non-trainable params: </span><span style=\"color: #00af00; text-decoration-color: #00af00\">0</span> (0.00 B)\n",
       "</pre>\n"
      ],
      "text/plain": [
       "\u001b[1m Non-trainable params: \u001b[0m\u001b[38;5;34m0\u001b[0m (0.00 B)\n"
      ]
     },
     "metadata": {},
     "output_type": "display_data"
    }
   ],
   "source": [
    "# 모델 생성\n",
    "model = mk_model(keras.layers.Dropout(0.3))  # 은닉층에 있는 뉴런의 30% 정도 출력을 끈다.\n",
    "model.summary()  # 모델 구성 확인"
   ]
  },
  {
   "cell_type": "markdown",
   "id": "fd8c27d4",
   "metadata": {},
   "source": [
    "비유) 예상문제 100문제 중에 30문제가 시험에 나온다. -> 어쨌든 공부는 다 해야 함."
   ]
  },
  {
   "cell_type": "code",
   "execution_count": 41,
   "id": "e905fd70",
   "metadata": {},
   "outputs": [
    {
     "name": "stdout",
     "output_type": "stream",
     "text": [
      "Epoch 1/50\n",
      "\u001b[1m1500/1500\u001b[0m \u001b[32m━━━━━━━━━━━━━━━━━━━━\u001b[0m\u001b[37m\u001b[0m \u001b[1m2s\u001b[0m 1ms/step - accuracy: 0.7392 - loss: 0.7501 - val_accuracy: 0.8403 - val_loss: 0.4331\n",
      "Epoch 2/50\n",
      "\u001b[1m1500/1500\u001b[0m \u001b[32m━━━━━━━━━━━━━━━━━━━━\u001b[0m\u001b[37m\u001b[0m \u001b[1m2s\u001b[0m 1ms/step - accuracy: 0.8375 - loss: 0.4508 - val_accuracy: 0.8615 - val_loss: 0.3832\n",
      "Epoch 3/50\n",
      "\u001b[1m1500/1500\u001b[0m \u001b[32m━━━━━━━━━━━━━━━━━━━━\u001b[0m\u001b[37m\u001b[0m \u001b[1m2s\u001b[0m 1ms/step - accuracy: 0.8558 - loss: 0.4037 - val_accuracy: 0.8668 - val_loss: 0.3642\n",
      "Epoch 4/50\n",
      "\u001b[1m1500/1500\u001b[0m \u001b[32m━━━━━━━━━━━━━━━━━━━━\u001b[0m\u001b[37m\u001b[0m \u001b[1m2s\u001b[0m 1ms/step - accuracy: 0.8618 - loss: 0.3795 - val_accuracy: 0.8695 - val_loss: 0.3547\n",
      "Epoch 5/50\n",
      "\u001b[1m1500/1500\u001b[0m \u001b[32m━━━━━━━━━━━━━━━━━━━━\u001b[0m\u001b[37m\u001b[0m \u001b[1m2s\u001b[0m 1ms/step - accuracy: 0.8683 - loss: 0.3579 - val_accuracy: 0.8752 - val_loss: 0.3424\n",
      "Epoch 6/50\n",
      "\u001b[1m1500/1500\u001b[0m \u001b[32m━━━━━━━━━━━━━━━━━━━━\u001b[0m\u001b[37m\u001b[0m \u001b[1m2s\u001b[0m 1ms/step - accuracy: 0.8700 - loss: 0.3530 - val_accuracy: 0.8698 - val_loss: 0.3580\n",
      "Epoch 7/50\n",
      "\u001b[1m1500/1500\u001b[0m \u001b[32m━━━━━━━━━━━━━━━━━━━━\u001b[0m\u001b[37m\u001b[0m \u001b[1m2s\u001b[0m 1ms/step - accuracy: 0.8715 - loss: 0.3433 - val_accuracy: 0.8734 - val_loss: 0.3400\n",
      "Epoch 8/50\n",
      "\u001b[1m1500/1500\u001b[0m \u001b[32m━━━━━━━━━━━━━━━━━━━━\u001b[0m\u001b[37m\u001b[0m \u001b[1m2s\u001b[0m 1ms/step - accuracy: 0.8768 - loss: 0.3309 - val_accuracy: 0.8809 - val_loss: 0.3275\n",
      "Epoch 9/50\n",
      "\u001b[1m1500/1500\u001b[0m \u001b[32m━━━━━━━━━━━━━━━━━━━━\u001b[0m\u001b[37m\u001b[0m \u001b[1m2s\u001b[0m 1ms/step - accuracy: 0.8798 - loss: 0.3234 - val_accuracy: 0.8824 - val_loss: 0.3281\n",
      "Epoch 10/50\n",
      "\u001b[1m1500/1500\u001b[0m \u001b[32m━━━━━━━━━━━━━━━━━━━━\u001b[0m\u001b[37m\u001b[0m \u001b[1m2s\u001b[0m 1ms/step - accuracy: 0.8816 - loss: 0.3156 - val_accuracy: 0.8768 - val_loss: 0.3344\n",
      "Epoch 11/50\n",
      "\u001b[1m1500/1500\u001b[0m \u001b[32m━━━━━━━━━━━━━━━━━━━━\u001b[0m\u001b[37m\u001b[0m \u001b[1m2s\u001b[0m 1ms/step - accuracy: 0.8867 - loss: 0.3067 - val_accuracy: 0.8804 - val_loss: 0.3342\n",
      "Epoch 12/50\n",
      "\u001b[1m1500/1500\u001b[0m \u001b[32m━━━━━━━━━━━━━━━━━━━━\u001b[0m\u001b[37m\u001b[0m \u001b[1m2s\u001b[0m 1ms/step - accuracy: 0.8881 - loss: 0.3002 - val_accuracy: 0.8814 - val_loss: 0.3215\n",
      "Epoch 13/50\n",
      "\u001b[1m1500/1500\u001b[0m \u001b[32m━━━━━━━━━━━━━━━━━━━━\u001b[0m\u001b[37m\u001b[0m \u001b[1m2s\u001b[0m 1ms/step - accuracy: 0.8878 - loss: 0.3022 - val_accuracy: 0.8807 - val_loss: 0.3204\n",
      "Epoch 14/50\n",
      "\u001b[1m1500/1500\u001b[0m \u001b[32m━━━━━━━━━━━━━━━━━━━━\u001b[0m\u001b[37m\u001b[0m \u001b[1m2s\u001b[0m 1ms/step - accuracy: 0.8903 - loss: 0.2987 - val_accuracy: 0.8832 - val_loss: 0.3219\n",
      "Epoch 15/50\n",
      "\u001b[1m1500/1500\u001b[0m \u001b[32m━━━━━━━━━━━━━━━━━━━━\u001b[0m\u001b[37m\u001b[0m \u001b[1m2s\u001b[0m 1ms/step - accuracy: 0.8912 - loss: 0.2896 - val_accuracy: 0.8839 - val_loss: 0.3194\n",
      "Epoch 16/50\n",
      "\u001b[1m1500/1500\u001b[0m \u001b[32m━━━━━━━━━━━━━━━━━━━━\u001b[0m\u001b[37m\u001b[0m \u001b[1m2s\u001b[0m 1ms/step - accuracy: 0.8947 - loss: 0.2817 - val_accuracy: 0.8853 - val_loss: 0.3273\n",
      "Epoch 17/50\n",
      "\u001b[1m1500/1500\u001b[0m \u001b[32m━━━━━━━━━━━━━━━━━━━━\u001b[0m\u001b[37m\u001b[0m \u001b[1m2s\u001b[0m 1ms/step - accuracy: 0.8954 - loss: 0.2809 - val_accuracy: 0.8867 - val_loss: 0.3169\n",
      "Epoch 18/50\n",
      "\u001b[1m1500/1500\u001b[0m \u001b[32m━━━━━━━━━━━━━━━━━━━━\u001b[0m\u001b[37m\u001b[0m \u001b[1m2s\u001b[0m 1ms/step - accuracy: 0.8956 - loss: 0.2767 - val_accuracy: 0.8861 - val_loss: 0.3154\n",
      "Epoch 19/50\n",
      "\u001b[1m1500/1500\u001b[0m \u001b[32m━━━━━━━━━━━━━━━━━━━━\u001b[0m\u001b[37m\u001b[0m \u001b[1m2s\u001b[0m 1ms/step - accuracy: 0.8973 - loss: 0.2696 - val_accuracy: 0.8838 - val_loss: 0.3258\n",
      "Epoch 20/50\n",
      "\u001b[1m1500/1500\u001b[0m \u001b[32m━━━━━━━━━━━━━━━━━━━━\u001b[0m\u001b[37m\u001b[0m \u001b[1m2s\u001b[0m 1ms/step - accuracy: 0.8997 - loss: 0.2661 - val_accuracy: 0.8818 - val_loss: 0.3310\n",
      "Epoch 21/50\n",
      "\u001b[1m1500/1500\u001b[0m \u001b[32m━━━━━━━━━━━━━━━━━━━━\u001b[0m\u001b[37m\u001b[0m \u001b[1m2s\u001b[0m 1ms/step - accuracy: 0.9007 - loss: 0.2699 - val_accuracy: 0.8864 - val_loss: 0.3217\n",
      "Epoch 22/50\n",
      "\u001b[1m1500/1500\u001b[0m \u001b[32m━━━━━━━━━━━━━━━━━━━━\u001b[0m\u001b[37m\u001b[0m \u001b[1m2s\u001b[0m 1ms/step - accuracy: 0.9000 - loss: 0.2648 - val_accuracy: 0.8891 - val_loss: 0.3166\n",
      "Epoch 23/50\n",
      "\u001b[1m1500/1500\u001b[0m \u001b[32m━━━━━━━━━━━━━━━━━━━━\u001b[0m\u001b[37m\u001b[0m \u001b[1m2s\u001b[0m 1ms/step - accuracy: 0.8990 - loss: 0.2667 - val_accuracy: 0.8883 - val_loss: 0.3177\n",
      "Epoch 24/50\n",
      "\u001b[1m1500/1500\u001b[0m \u001b[32m━━━━━━━━━━━━━━━━━━━━\u001b[0m\u001b[37m\u001b[0m \u001b[1m2s\u001b[0m 1ms/step - accuracy: 0.9000 - loss: 0.2640 - val_accuracy: 0.8842 - val_loss: 0.3280\n",
      "Epoch 25/50\n",
      "\u001b[1m1500/1500\u001b[0m \u001b[32m━━━━━━━━━━━━━━━━━━━━\u001b[0m\u001b[37m\u001b[0m \u001b[1m2s\u001b[0m 1ms/step - accuracy: 0.8992 - loss: 0.2637 - val_accuracy: 0.8853 - val_loss: 0.3240\n",
      "Epoch 26/50\n",
      "\u001b[1m1500/1500\u001b[0m \u001b[32m━━━━━━━━━━━━━━━━━━━━\u001b[0m\u001b[37m\u001b[0m \u001b[1m2s\u001b[0m 1ms/step - accuracy: 0.9012 - loss: 0.2551 - val_accuracy: 0.8865 - val_loss: 0.3229\n",
      "Epoch 27/50\n",
      "\u001b[1m1500/1500\u001b[0m \u001b[32m━━━━━━━━━━━━━━━━━━━━\u001b[0m\u001b[37m\u001b[0m \u001b[1m2s\u001b[0m 1ms/step - accuracy: 0.9044 - loss: 0.2526 - val_accuracy: 0.8873 - val_loss: 0.3253\n",
      "Epoch 28/50\n",
      "\u001b[1m1500/1500\u001b[0m \u001b[32m━━━━━━━━━━━━━━━━━━━━\u001b[0m\u001b[37m\u001b[0m \u001b[1m2s\u001b[0m 1ms/step - accuracy: 0.9061 - loss: 0.2528 - val_accuracy: 0.8871 - val_loss: 0.3336\n",
      "Epoch 29/50\n",
      "\u001b[1m1500/1500\u001b[0m \u001b[32m━━━━━━━━━━━━━━━━━━━━\u001b[0m\u001b[37m\u001b[0m \u001b[1m2s\u001b[0m 1ms/step - accuracy: 0.9043 - loss: 0.2503 - val_accuracy: 0.8868 - val_loss: 0.3224\n",
      "Epoch 30/50\n",
      "\u001b[1m1500/1500\u001b[0m \u001b[32m━━━━━━━━━━━━━━━━━━━━\u001b[0m\u001b[37m\u001b[0m \u001b[1m2s\u001b[0m 1ms/step - accuracy: 0.9024 - loss: 0.2536 - val_accuracy: 0.8858 - val_loss: 0.3306\n",
      "Epoch 31/50\n",
      "\u001b[1m1500/1500\u001b[0m \u001b[32m━━━━━━━━━━━━━━━━━━━━\u001b[0m\u001b[37m\u001b[0m \u001b[1m2s\u001b[0m 1ms/step - accuracy: 0.9088 - loss: 0.2417 - val_accuracy: 0.8893 - val_loss: 0.3335\n",
      "Epoch 32/50\n",
      "\u001b[1m1500/1500\u001b[0m \u001b[32m━━━━━━━━━━━━━━━━━━━━\u001b[0m\u001b[37m\u001b[0m \u001b[1m2s\u001b[0m 1ms/step - accuracy: 0.9077 - loss: 0.2409 - val_accuracy: 0.8854 - val_loss: 0.3374\n",
      "Epoch 33/50\n",
      "\u001b[1m1500/1500\u001b[0m \u001b[32m━━━━━━━━━━━━━━━━━━━━\u001b[0m\u001b[37m\u001b[0m \u001b[1m2s\u001b[0m 1ms/step - accuracy: 0.9082 - loss: 0.2412 - val_accuracy: 0.8874 - val_loss: 0.3272\n",
      "Epoch 34/50\n",
      "\u001b[1m1500/1500\u001b[0m \u001b[32m━━━━━━━━━━━━━━━━━━━━\u001b[0m\u001b[37m\u001b[0m \u001b[1m2s\u001b[0m 1ms/step - accuracy: 0.9095 - loss: 0.2365 - val_accuracy: 0.8928 - val_loss: 0.3228\n",
      "Epoch 35/50\n",
      "\u001b[1m1500/1500\u001b[0m \u001b[32m━━━━━━━━━━━━━━━━━━━━\u001b[0m\u001b[37m\u001b[0m \u001b[1m2s\u001b[0m 1ms/step - accuracy: 0.9086 - loss: 0.2355 - val_accuracy: 0.8856 - val_loss: 0.3333\n",
      "Epoch 36/50\n",
      "\u001b[1m1500/1500\u001b[0m \u001b[32m━━━━━━━━━━━━━━━━━━━━\u001b[0m\u001b[37m\u001b[0m \u001b[1m2s\u001b[0m 1ms/step - accuracy: 0.9113 - loss: 0.2342 - val_accuracy: 0.8898 - val_loss: 0.3317\n",
      "Epoch 37/50\n",
      "\u001b[1m1500/1500\u001b[0m \u001b[32m━━━━━━━━━━━━━━━━━━━━\u001b[0m\u001b[37m\u001b[0m \u001b[1m2s\u001b[0m 1ms/step - accuracy: 0.9072 - loss: 0.2361 - val_accuracy: 0.8904 - val_loss: 0.3246\n",
      "Epoch 38/50\n",
      "\u001b[1m1500/1500\u001b[0m \u001b[32m━━━━━━━━━━━━━━━━━━━━\u001b[0m\u001b[37m\u001b[0m \u001b[1m2s\u001b[0m 1ms/step - accuracy: 0.9124 - loss: 0.2298 - val_accuracy: 0.8908 - val_loss: 0.3252\n",
      "Epoch 39/50\n",
      "\u001b[1m1500/1500\u001b[0m \u001b[32m━━━━━━━━━━━━━━━━━━━━\u001b[0m\u001b[37m\u001b[0m \u001b[1m2s\u001b[0m 1ms/step - accuracy: 0.9142 - loss: 0.2248 - val_accuracy: 0.8923 - val_loss: 0.3257\n",
      "Epoch 40/50\n",
      "\u001b[1m1500/1500\u001b[0m \u001b[32m━━━━━━━━━━━━━━━━━━━━\u001b[0m\u001b[37m\u001b[0m \u001b[1m2s\u001b[0m 1ms/step - accuracy: 0.9131 - loss: 0.2339 - val_accuracy: 0.8876 - val_loss: 0.3408\n",
      "Epoch 41/50\n",
      "\u001b[1m1500/1500\u001b[0m \u001b[32m━━━━━━━━━━━━━━━━━━━━\u001b[0m\u001b[37m\u001b[0m \u001b[1m2s\u001b[0m 1ms/step - accuracy: 0.9125 - loss: 0.2264 - val_accuracy: 0.8909 - val_loss: 0.3374\n",
      "Epoch 42/50\n",
      "\u001b[1m1500/1500\u001b[0m \u001b[32m━━━━━━━━━━━━━━━━━━━━\u001b[0m\u001b[37m\u001b[0m \u001b[1m2s\u001b[0m 1ms/step - accuracy: 0.9157 - loss: 0.2224 - val_accuracy: 0.8899 - val_loss: 0.3393\n",
      "Epoch 43/50\n",
      "\u001b[1m1500/1500\u001b[0m \u001b[32m━━━━━━━━━━━━━━━━━━━━\u001b[0m\u001b[37m\u001b[0m \u001b[1m2s\u001b[0m 1ms/step - accuracy: 0.9161 - loss: 0.2185 - val_accuracy: 0.8881 - val_loss: 0.3349\n",
      "Epoch 44/50\n",
      "\u001b[1m1500/1500\u001b[0m \u001b[32m━━━━━━━━━━━━━━━━━━━━\u001b[0m\u001b[37m\u001b[0m \u001b[1m2s\u001b[0m 1ms/step - accuracy: 0.9132 - loss: 0.2210 - val_accuracy: 0.8925 - val_loss: 0.3356\n",
      "Epoch 45/50\n",
      "\u001b[1m1500/1500\u001b[0m \u001b[32m━━━━━━━━━━━━━━━━━━━━\u001b[0m\u001b[37m\u001b[0m \u001b[1m2s\u001b[0m 1ms/step - accuracy: 0.9134 - loss: 0.2228 - val_accuracy: 0.8908 - val_loss: 0.3349\n",
      "Epoch 46/50\n",
      "\u001b[1m1500/1500\u001b[0m \u001b[32m━━━━━━━━━━━━━━━━━━━━\u001b[0m\u001b[37m\u001b[0m \u001b[1m2s\u001b[0m 1ms/step - accuracy: 0.9168 - loss: 0.2162 - val_accuracy: 0.8876 - val_loss: 0.3414\n",
      "Epoch 47/50\n",
      "\u001b[1m1500/1500\u001b[0m \u001b[32m━━━━━━━━━━━━━━━━━━━━\u001b[0m\u001b[37m\u001b[0m \u001b[1m2s\u001b[0m 1ms/step - accuracy: 0.9150 - loss: 0.2180 - val_accuracy: 0.8852 - val_loss: 0.3500\n",
      "Epoch 48/50\n",
      "\u001b[1m1500/1500\u001b[0m \u001b[32m━━━━━━━━━━━━━━━━━━━━\u001b[0m\u001b[37m\u001b[0m \u001b[1m2s\u001b[0m 1ms/step - accuracy: 0.9175 - loss: 0.2168 - val_accuracy: 0.8869 - val_loss: 0.3676\n",
      "Epoch 49/50\n",
      "\u001b[1m1500/1500\u001b[0m \u001b[32m━━━━━━━━━━━━━━━━━━━━\u001b[0m\u001b[37m\u001b[0m \u001b[1m2s\u001b[0m 1ms/step - accuracy: 0.9143 - loss: 0.2142 - val_accuracy: 0.8892 - val_loss: 0.3537\n",
      "Epoch 50/50\n",
      "\u001b[1m1500/1500\u001b[0m \u001b[32m━━━━━━━━━━━━━━━━━━━━\u001b[0m\u001b[37m\u001b[0m \u001b[1m2s\u001b[0m 1ms/step - accuracy: 0.9175 - loss: 0.2130 - val_accuracy: 0.8888 - val_loss: 0.3445\n"
     ]
    }
   ],
   "source": [
    "# adam 객체 생성\n",
    "adam = keras.optimizers.Adam(learning_rate=0.001)  # learning_rate: 0.001로 설정 (기본값 - 0.1)\n",
    "\n",
    "# 모델 설정 (optimizer(adam으로), loss, 점수 지표)\n",
    "model.compile(optimizer=adam, loss='sparse_categorical_crossentropy', metrics=['accuracy'])\n",
    "\n",
    "# 모델 학습 (20번)\n",
    "m_history = model.fit(train_scaled, train_target, epochs=50, validation_data=(val_scaled, val_target))"
   ]
  },
  {
   "cell_type": "code",
   "execution_count": 42,
   "id": "6105aed9",
   "metadata": {},
   "outputs": [
    {
     "data": {
      "image/png": "[encoded data removed]",
      "text/plain": [
       "<Figure size 640x480 with 1 Axes>"
      ]
     },
     "metadata": {},
     "output_type": "display_data"
    }
   ],
   "source": [
    "# 검증 세트의 loss 경향성 그래프 그리기\n",
    "plt.plot(m_history.history['loss'], label='train')    # 훈련 세트의 loss\n",
    "plt.plot(m_history.history['val_loss'], label='val')  # 검증 세트의 loss\n",
    "\n",
    "plt.xlabel('epoch')\n",
    "plt.ylabel('loss')\n",
    "\n",
    "plt.legend()\n",
    "plt.show()"
   ]
  },
  {
   "cell_type": "markdown",
   "id": "0815b370",
   "metadata": {},
   "source": [
    "검증 세트의 loss값이 상승하긴 하지만, 완만하게 상승한다.\\\n",
    "최저점은 17 epochs인 것 같다.\\\n",
    "(~17: 과소 적합 / 17~: 과대 적합)"
   ]
  },
  {
   "cell_type": "markdown",
   "id": "3a45c876",
   "metadata": {},
   "source": [
    "이제 배포를 위해 모델을 저장해보자!\n",
    "\n",
    "#### 모델 저장\n",
    "\n",
    "- 모델 저장 방법\n",
    "    1. 모델 저장 (확장자: `.keras`, `.h5`)\n",
    "        - 장점: 바로 복원 가능 (fit 없이 predict 가능)\n",
    "        - 단점: 상대적으로 용량이 큼\n",
    "    2. 가중치 저장 (확장자: `.weights.h5`)\n",
    "        - 장점: 용량이 작음 (성능에 영향을 덜 끼침)\n",
    "        - 단점: 복구할 때 구조 재정의가 필요"
   ]
  },
  {
   "cell_type": "code",
   "execution_count": 44,
   "id": "45f400c6",
   "metadata": {},
   "outputs": [],
   "source": [
    "# 모델 저장 (모델 구조 + 가중치 + 컴파일 설정) - model.save(\"파일명.keras\")\n",
    "model.save(\"model-whole.keras\")\n",
    "\n",
    "# 가중치 저장 - model.save_weights(\"파일명.weights.h5\")\n",
    "model.save_weights(\"model-weights.weights.h5\")"
   ]
  },
  {
   "cell_type": "markdown",
   "id": "290497b9",
   "metadata": {},
   "source": [
    "저장된 모델을 불러와서 복구해보자!"
   ]
  },
  {
   "cell_type": "code",
   "execution_count": 47,
   "id": "78e22c25",
   "metadata": {},
   "outputs": [],
   "source": [
    "# 가중치 파일로 모델 복구 - 원래 모델의 구조 재정의 필요!\n",
    "model = mk_model(keras.layers.Dropout(0.3))\n",
    "model.load_weights('model-weights.weights.h5')"
   ]
  },
  {
   "cell_type": "code",
   "execution_count": 48,
   "id": "43f93058",
   "metadata": {},
   "outputs": [
    {
     "name": "stdout",
     "output_type": "stream",
     "text": [
      "\u001b[1m1/1\u001b[0m \u001b[32m━━━━━━━━━━━━━━━━━━━━\u001b[0m\u001b[37m\u001b[0m \u001b[1m0s\u001b[0m 40ms/step\n"
     ]
    },
    {
     "data": {
      "text/plain": [
       "array([9, 2, 1, 1, 6, 1, 4, 6, 5, 7])"
      ]
     },
     "execution_count": 48,
     "metadata": {},
     "output_type": "execute_result"
    }
   ],
   "source": [
    "import numpy as np\n",
    "\n",
    "test_scaled = test_input / 255.0\n",
    "predictions = model.predict(test_scaled[:10])\n",
    "# np.round(predictions, decimals=3)  # 데이터 확인용 (보기 좋게)\n",
    "np.argmax(predictions, axis=1)"
   ]
  },
  {
   "cell_type": "code",
   "execution_count": 50,
   "id": "3faa557b",
   "metadata": {},
   "outputs": [
    {
     "ename": "ValueError",
     "evalue": "You must call `compile()` before using the model.",
     "output_type": "error",
     "traceback": [
      "\u001b[31m---------------------------------------------------------------------------\u001b[39m",
      "\u001b[31mValueError\u001b[39m                                Traceback (most recent call last)",
      "\u001b[36mCell\u001b[39m\u001b[36m \u001b[39m\u001b[32mIn[50]\u001b[39m\u001b[32m, line 2\u001b[39m\n\u001b[32m      1\u001b[39m \u001b[38;5;66;03m# 모델 평가\u001b[39;00m\n\u001b[32m----> \u001b[39m\u001b[32m2\u001b[39m \u001b[43mmodel\u001b[49m\u001b[43m.\u001b[49m\u001b[43mevaluate\u001b[49m\u001b[43m(\u001b[49m\u001b[43mtest_scaled\u001b[49m\u001b[43m,\u001b[49m\u001b[43m \u001b[49m\u001b[43mtest_target\u001b[49m\u001b[43m)\u001b[49m\n",
      "\u001b[36mFile \u001b[39m\u001b[32mc:\\Users\\admin\\Desktop\\Daeun-ai\\09 Fintech-ML-DL\\source\\.venv\\Lib\\site-packages\\keras\\src\\utils\\traceback_utils.py:122\u001b[39m, in \u001b[36mfilter_traceback.<locals>.error_handler\u001b[39m\u001b[34m(*args, **kwargs)\u001b[39m\n\u001b[32m    119\u001b[39m     filtered_tb = _process_traceback_frames(e.__traceback__)\n\u001b[32m    120\u001b[39m     \u001b[38;5;66;03m# To get the full stack trace, call:\u001b[39;00m\n\u001b[32m    121\u001b[39m     \u001b[38;5;66;03m# `keras.config.disable_traceback_filtering()`\u001b[39;00m\n\u001b[32m--> \u001b[39m\u001b[32m122\u001b[39m     \u001b[38;5;28;01mraise\u001b[39;00m e.with_traceback(filtered_tb) \u001b[38;5;28;01mfrom\u001b[39;00m\u001b[38;5;250m \u001b[39m\u001b[38;5;28;01mNone\u001b[39;00m\n\u001b[32m    123\u001b[39m \u001b[38;5;28;01mfinally\u001b[39;00m:\n\u001b[32m    124\u001b[39m     \u001b[38;5;28;01mdel\u001b[39;00m filtered_tb\n",
      "\u001b[36mFile \u001b[39m\u001b[32mc:\\Users\\admin\\Desktop\\Daeun-ai\\09 Fintech-ML-DL\\source\\.venv\\Lib\\site-packages\\keras\\src\\trainers\\trainer.py:1050\u001b[39m, in \u001b[36mTrainer._assert_compile_called\u001b[39m\u001b[34m(self, method_name)\u001b[39m\n\u001b[32m   1048\u001b[39m \u001b[38;5;28;01melse\u001b[39;00m:\n\u001b[32m   1049\u001b[39m     msg += \u001b[33mf\u001b[39m\u001b[33m\"\u001b[39m\u001b[33mcalling `\u001b[39m\u001b[38;5;132;01m{\u001b[39;00mmethod_name\u001b[38;5;132;01m}\u001b[39;00m\u001b[33m()`.\u001b[39m\u001b[33m\"\u001b[39m\n\u001b[32m-> \u001b[39m\u001b[32m1050\u001b[39m \u001b[38;5;28;01mraise\u001b[39;00m \u001b[38;5;167;01mValueError\u001b[39;00m(msg)\n",
      "\u001b[31mValueError\u001b[39m: You must call `compile()` before using the model."
     ]
    }
   ],
   "source": [
    "# 모델 평가\n",
    "model.evaluate(test_scaled, test_target)"
   ]
  },
  {
   "cell_type": "markdown",
   "id": "60bb7087",
   "metadata": {},
   "source": [
    "왜 evaluate를 쓸 수 없을까?\\\n",
    "가중치만 있고, 구조가 없다 -> loss function을 알 수 없음\n",
    "\n",
    "loss function을 알려줘야 제기능을 할 수 있음 -> model의 컴파일 설정 필요"
   ]
  },
  {
   "cell_type": "code",
   "execution_count": 51,
   "id": "d1ab7709",
   "metadata": {},
   "outputs": [
    {
     "name": "stdout",
     "output_type": "stream",
     "text": [
      "\u001b[1m313/313\u001b[0m \u001b[32m━━━━━━━━━━━━━━━━━━━━\u001b[0m\u001b[37m\u001b[0m \u001b[1m0s\u001b[0m 800us/step - accuracy: 0.8813 - loss: 0.3918\n"
     ]
    },
    {
     "data": {
      "text/plain": [
       "[0.3899083137512207, 0.8827000260353088]"
      ]
     },
     "execution_count": 51,
     "metadata": {},
     "output_type": "execute_result"
    }
   ],
   "source": [
    "# 모델 컴파일 설정\n",
    "adam = keras.optimizers.Adam(learning_rate=0.001)\n",
    "model.compile(optimizer=adam, loss='sparse_categorical_crossentropy', metrics=['accuracy'])\n",
    "\n",
    "# 모델 평가\n",
    "model.evaluate(test_scaled, test_target)"
   ]
  },
  {
   "cell_type": "code",
   "execution_count": 52,
   "id": "44a5c9dd",
   "metadata": {},
   "outputs": [],
   "source": [
    "# 전체 모델을 저장한 파일로 복구 / 구조 + 가중치\n",
    "model = keras.models.load_model('model-whole.keras')"
   ]
  },
  {
   "cell_type": "code",
   "execution_count": 53,
   "id": "edbc54e0",
   "metadata": {},
   "outputs": [
    {
     "name": "stdout",
     "output_type": "stream",
     "text": [
      "\u001b[1m1/1\u001b[0m \u001b[32m━━━━━━━━━━━━━━━━━━━━\u001b[0m\u001b[37m\u001b[0m \u001b[1m0s\u001b[0m 39ms/step\n"
     ]
    },
    {
     "data": {
      "text/plain": [
       "array([9, 2, 1, 1, 6, 1, 4, 6, 5, 7])"
      ]
     },
     "execution_count": 53,
     "metadata": {},
     "output_type": "execute_result"
    }
   ],
   "source": [
    "predictions = model.predict(test_scaled[:10])\n",
    "# np.round(predictions, decimals=3)  # 데이터 확인용 (보기 좋게)\n",
    "np.argmax(predictions, axis=1)"
   ]
  },
  {
   "cell_type": "code",
   "execution_count": 54,
   "id": "e01475a9",
   "metadata": {},
   "outputs": [
    {
     "name": "stdout",
     "output_type": "stream",
     "text": [
      "\u001b[1m313/313\u001b[0m \u001b[32m━━━━━━━━━━━━━━━━━━━━\u001b[0m\u001b[37m\u001b[0m \u001b[1m0s\u001b[0m 808us/step - accuracy: 0.8813 - loss: 0.3918\n"
     ]
    },
    {
     "data": {
      "text/plain": [
       "[0.3899083137512207, 0.8827000260353088]"
      ]
     },
     "execution_count": 54,
     "metadata": {},
     "output_type": "execute_result"
    }
   ],
   "source": [
    "# 모델 평가\n",
    "model.evaluate(test_scaled, test_target)"
   ]
  },
  {
   "cell_type": "markdown",
   "id": "3248c91e",
   "metadata": {},
   "source": [
    "#### Callback을 설정해보자!\n",
    "- ModelCheckpoint\n",
    "    - 검증 세트의 손실이 가장 낮은 최고의 모델(가장 성능이 좋은 모델)을 찾아서 저장\n",
    "- EarlyStopping\n",
    "    - 조기종료, patience: 검증 손실이 더이상 개선되지 않는 횟수\n",
    "    - monitor: 기본값 - `val_loss`\n",
    "    - restore_best_weights: 최적의 가중치로 복구"
   ]
  },
  {
   "cell_type": "code",
   "execution_count": 56,
   "id": "56f50093",
   "metadata": {},
   "outputs": [
    {
     "name": "stdout",
     "output_type": "stream",
     "text": [
      "Epoch 1/50\n",
      "\u001b[1m1500/1500\u001b[0m \u001b[32m━━━━━━━━━━━━━━━━━━━━\u001b[0m\u001b[37m\u001b[0m \u001b[1m3s\u001b[0m 1ms/step - accuracy: 0.7270 - loss: 0.7718 - val_accuracy: 0.8372 - val_loss: 0.4484\n",
      "Epoch 2/50\n",
      "\u001b[1m1500/1500\u001b[0m \u001b[32m━━━━━━━━━━━━━━━━━━━━\u001b[0m\u001b[37m\u001b[0m \u001b[1m2s\u001b[0m 1ms/step - accuracy: 0.8395 - loss: 0.4459 - val_accuracy: 0.8554 - val_loss: 0.3975\n",
      "Epoch 3/50\n",
      "\u001b[1m1500/1500\u001b[0m \u001b[32m━━━━━━━━━━━━━━━━━━━━\u001b[0m\u001b[37m\u001b[0m \u001b[1m2s\u001b[0m 1ms/step - accuracy: 0.8548 - loss: 0.4057 - val_accuracy: 0.8623 - val_loss: 0.3754\n",
      "Epoch 4/50\n",
      "\u001b[1m1500/1500\u001b[0m \u001b[32m━━━━━━━━━━━━━━━━━━━━\u001b[0m\u001b[37m\u001b[0m \u001b[1m2s\u001b[0m 1ms/step - accuracy: 0.8592 - loss: 0.3865 - val_accuracy: 0.8752 - val_loss: 0.3464\n",
      "Epoch 5/50\n",
      "\u001b[1m1500/1500\u001b[0m \u001b[32m━━━━━━━━━━━━━━━━━━━━\u001b[0m\u001b[37m\u001b[0m \u001b[1m2s\u001b[0m 1ms/step - accuracy: 0.8635 - loss: 0.3674 - val_accuracy: 0.8751 - val_loss: 0.3442\n",
      "Epoch 6/50\n",
      "\u001b[1m1500/1500\u001b[0m \u001b[32m━━━━━━━━━━━━━━━━━━━━\u001b[0m\u001b[37m\u001b[0m \u001b[1m2s\u001b[0m 1ms/step - accuracy: 0.8722 - loss: 0.3505 - val_accuracy: 0.8759 - val_loss: 0.3366\n",
      "Epoch 7/50\n",
      "\u001b[1m1500/1500\u001b[0m \u001b[32m━━━━━━━━━━━━━━━━━━━━\u001b[0m\u001b[37m\u001b[0m \u001b[1m2s\u001b[0m 1ms/step - accuracy: 0.8733 - loss: 0.3418 - val_accuracy: 0.8742 - val_loss: 0.3439\n",
      "Epoch 8/50\n",
      "\u001b[1m1500/1500\u001b[0m \u001b[32m━━━━━━━━━━━━━━━━━━━━\u001b[0m\u001b[37m\u001b[0m \u001b[1m2s\u001b[0m 1ms/step - accuracy: 0.8794 - loss: 0.3269 - val_accuracy: 0.8773 - val_loss: 0.3310\n",
      "Epoch 9/50\n",
      "\u001b[1m1500/1500\u001b[0m \u001b[32m━━━━━━━━━━━━━━━━━━━━\u001b[0m\u001b[37m\u001b[0m \u001b[1m2s\u001b[0m 1ms/step - accuracy: 0.8785 - loss: 0.3265 - val_accuracy: 0.8793 - val_loss: 0.3313\n",
      "Epoch 10/50\n",
      "\u001b[1m1500/1500\u001b[0m \u001b[32m━━━━━━━━━━━━━━━━━━━━\u001b[0m\u001b[37m\u001b[0m \u001b[1m2s\u001b[0m 1ms/step - accuracy: 0.8810 - loss: 0.3244 - val_accuracy: 0.8829 - val_loss: 0.3229\n",
      "Epoch 11/50\n",
      "\u001b[1m1500/1500\u001b[0m \u001b[32m━━━━━━━━━━━━━━━━━━━━\u001b[0m\u001b[37m\u001b[0m \u001b[1m2s\u001b[0m 1ms/step - accuracy: 0.8841 - loss: 0.3122 - val_accuracy: 0.8849 - val_loss: 0.3208\n",
      "Epoch 12/50\n",
      "\u001b[1m1500/1500\u001b[0m \u001b[32m━━━━━━━━━━━━━━━━━━━━\u001b[0m\u001b[37m\u001b[0m \u001b[1m2s\u001b[0m 1ms/step - accuracy: 0.8863 - loss: 0.3026 - val_accuracy: 0.8872 - val_loss: 0.3193\n",
      "Epoch 13/50\n",
      "\u001b[1m1500/1500\u001b[0m \u001b[32m━━━━━━━━━━━━━━━━━━━━\u001b[0m\u001b[37m\u001b[0m \u001b[1m2s\u001b[0m 1ms/step - accuracy: 0.8906 - loss: 0.2982 - val_accuracy: 0.8836 - val_loss: 0.3303\n",
      "Epoch 14/50\n",
      "\u001b[1m1500/1500\u001b[0m \u001b[32m━━━━━━━━━━━━━━━━━━━━\u001b[0m\u001b[37m\u001b[0m \u001b[1m2s\u001b[0m 1ms/step - accuracy: 0.8879 - loss: 0.3011 - val_accuracy: 0.8802 - val_loss: 0.3325\n",
      "Epoch 15/50\n",
      "\u001b[1m1500/1500\u001b[0m \u001b[32m━━━━━━━━━━━━━━━━━━━━\u001b[0m\u001b[37m\u001b[0m \u001b[1m2s\u001b[0m 1ms/step - accuracy: 0.8927 - loss: 0.2919 - val_accuracy: 0.8843 - val_loss: 0.3174\n",
      "Epoch 16/50\n",
      "\u001b[1m1500/1500\u001b[0m \u001b[32m━━━━━━━━━━━━━━━━━━━━\u001b[0m\u001b[37m\u001b[0m \u001b[1m2s\u001b[0m 1ms/step - accuracy: 0.8909 - loss: 0.2925 - val_accuracy: 0.8832 - val_loss: 0.3162\n",
      "Epoch 17/50\n",
      "\u001b[1m1500/1500\u001b[0m \u001b[32m━━━━━━━━━━━━━━━━━━━━\u001b[0m\u001b[37m\u001b[0m \u001b[1m2s\u001b[0m 1ms/step - accuracy: 0.8914 - loss: 0.2866 - val_accuracy: 0.8868 - val_loss: 0.3235\n",
      "Epoch 18/50\n",
      "\u001b[1m1500/1500\u001b[0m \u001b[32m━━━━━━━━━━━━━━━━━━━━\u001b[0m\u001b[37m\u001b[0m \u001b[1m2s\u001b[0m 1ms/step - accuracy: 0.8949 - loss: 0.2855 - val_accuracy: 0.8830 - val_loss: 0.3220\n",
      "Epoch 19/50\n",
      "\u001b[1m1500/1500\u001b[0m \u001b[32m━━━━━━━━━━━━━━━━━━━━\u001b[0m\u001b[37m\u001b[0m \u001b[1m2s\u001b[0m 1ms/step - accuracy: 0.8935 - loss: 0.2774 - val_accuracy: 0.8873 - val_loss: 0.3194\n",
      "Epoch 20/50\n",
      "\u001b[1m1500/1500\u001b[0m \u001b[32m━━━━━━━━━━━━━━━━━━━━\u001b[0m\u001b[37m\u001b[0m \u001b[1m2s\u001b[0m 1ms/step - accuracy: 0.8967 - loss: 0.2731 - val_accuracy: 0.8863 - val_loss: 0.3173\n",
      "Epoch 21/50\n",
      "\u001b[1m1500/1500\u001b[0m \u001b[32m━━━━━━━━━━━━━━━━━━━━\u001b[0m\u001b[37m\u001b[0m \u001b[1m2s\u001b[0m 1ms/step - accuracy: 0.8976 - loss: 0.2719 - val_accuracy: 0.8903 - val_loss: 0.3175\n",
      "Epoch 22/50\n",
      "\u001b[1m1500/1500\u001b[0m \u001b[32m━━━━━━━━━━━━━━━━━━━━\u001b[0m\u001b[37m\u001b[0m \u001b[1m2s\u001b[0m 1ms/step - accuracy: 0.9019 - loss: 0.2651 - val_accuracy: 0.8913 - val_loss: 0.3115\n",
      "Epoch 23/50\n",
      "\u001b[1m1500/1500\u001b[0m \u001b[32m━━━━━━━━━━━━━━━━━━━━\u001b[0m\u001b[37m\u001b[0m \u001b[1m2s\u001b[0m 1ms/step - accuracy: 0.9003 - loss: 0.2664 - val_accuracy: 0.8852 - val_loss: 0.3291\n",
      "Epoch 24/50\n",
      "\u001b[1m1500/1500\u001b[0m \u001b[32m━━━━━━━━━━━━━━━━━━━━\u001b[0m\u001b[37m\u001b[0m \u001b[1m2s\u001b[0m 1ms/step - accuracy: 0.9011 - loss: 0.2582 - val_accuracy: 0.8864 - val_loss: 0.3235\n",
      "Epoch 25/50\n",
      "\u001b[1m1500/1500\u001b[0m \u001b[32m━━━━━━━━━━━━━━━━━━━━\u001b[0m\u001b[37m\u001b[0m \u001b[1m2s\u001b[0m 1ms/step - accuracy: 0.9023 - loss: 0.2576 - val_accuracy: 0.8846 - val_loss: 0.3270\n",
      "Epoch 26/50\n",
      "\u001b[1m1500/1500\u001b[0m \u001b[32m━━━━━━━━━━━━━━━━━━━━\u001b[0m\u001b[37m\u001b[0m \u001b[1m2s\u001b[0m 1ms/step - accuracy: 0.9021 - loss: 0.2595 - val_accuracy: 0.8874 - val_loss: 0.3169\n",
      "Epoch 27/50\n",
      "\u001b[1m1500/1500\u001b[0m \u001b[32m━━━━━━━━━━━━━━━━━━━━\u001b[0m\u001b[37m\u001b[0m \u001b[1m2s\u001b[0m 1ms/step - accuracy: 0.9018 - loss: 0.2566 - val_accuracy: 0.8891 - val_loss: 0.3160\n",
      "Epoch 28/50\n",
      "\u001b[1m1500/1500\u001b[0m \u001b[32m━━━━━━━━━━━━━━━━━━━━\u001b[0m\u001b[37m\u001b[0m \u001b[1m2s\u001b[0m 1ms/step - accuracy: 0.9048 - loss: 0.2532 - val_accuracy: 0.8888 - val_loss: 0.3316\n",
      "Epoch 29/50\n",
      "\u001b[1m1500/1500\u001b[0m \u001b[32m━━━━━━━━━━━━━━━━━━━━\u001b[0m\u001b[37m\u001b[0m \u001b[1m2s\u001b[0m 1ms/step - accuracy: 0.9039 - loss: 0.2515 - val_accuracy: 0.8887 - val_loss: 0.3199\n",
      "Epoch 30/50\n",
      "\u001b[1m1500/1500\u001b[0m \u001b[32m━━━━━━━━━━━━━━━━━━━━\u001b[0m\u001b[37m\u001b[0m \u001b[1m2s\u001b[0m 1ms/step - accuracy: 0.9072 - loss: 0.2435 - val_accuracy: 0.8907 - val_loss: 0.3267\n",
      "Epoch 31/50\n",
      "\u001b[1m1500/1500\u001b[0m \u001b[32m━━━━━━━━━━━━━━━━━━━━\u001b[0m\u001b[37m\u001b[0m \u001b[1m2s\u001b[0m 1ms/step - accuracy: 0.9054 - loss: 0.2461 - val_accuracy: 0.8863 - val_loss: 0.3369\n",
      "Epoch 32/50\n",
      "\u001b[1m1500/1500\u001b[0m \u001b[32m━━━━━━━━━━━━━━━━━━━━\u001b[0m\u001b[37m\u001b[0m \u001b[1m2s\u001b[0m 1ms/step - accuracy: 0.9050 - loss: 0.2487 - val_accuracy: 0.8876 - val_loss: 0.3334\n",
      "Epoch 33/50\n",
      "\u001b[1m1500/1500\u001b[0m \u001b[32m━━━━━━━━━━━━━━━━━━━━\u001b[0m\u001b[37m\u001b[0m \u001b[1m2s\u001b[0m 1ms/step - accuracy: 0.9104 - loss: 0.2364 - val_accuracy: 0.8886 - val_loss: 0.3258\n",
      "Epoch 34/50\n",
      "\u001b[1m1500/1500\u001b[0m \u001b[32m━━━━━━━━━━━━━━━━━━━━\u001b[0m\u001b[37m\u001b[0m \u001b[1m2s\u001b[0m 1ms/step - accuracy: 0.9083 - loss: 0.2419 - val_accuracy: 0.8886 - val_loss: 0.3324\n",
      "Epoch 35/50\n",
      "\u001b[1m1500/1500\u001b[0m \u001b[32m━━━━━━━━━━━━━━━━━━━━\u001b[0m\u001b[37m\u001b[0m \u001b[1m2s\u001b[0m 1ms/step - accuracy: 0.9087 - loss: 0.2394 - val_accuracy: 0.8931 - val_loss: 0.3234\n",
      "Epoch 36/50\n",
      "\u001b[1m1500/1500\u001b[0m \u001b[32m━━━━━━━━━━━━━━━━━━━━\u001b[0m\u001b[37m\u001b[0m \u001b[1m2s\u001b[0m 1ms/step - accuracy: 0.9106 - loss: 0.2325 - val_accuracy: 0.8869 - val_loss: 0.3494\n",
      "Epoch 37/50\n",
      "\u001b[1m1500/1500\u001b[0m \u001b[32m━━━━━━━━━━━━━━━━━━━━\u001b[0m\u001b[37m\u001b[0m \u001b[1m2s\u001b[0m 1ms/step - accuracy: 0.9101 - loss: 0.2360 - val_accuracy: 0.8898 - val_loss: 0.3402\n",
      "Epoch 38/50\n",
      "\u001b[1m1500/1500\u001b[0m \u001b[32m━━━━━━━━━━━━━━━━━━━━\u001b[0m\u001b[37m\u001b[0m \u001b[1m2s\u001b[0m 1ms/step - accuracy: 0.9134 - loss: 0.2282 - val_accuracy: 0.8920 - val_loss: 0.3449\n",
      "Epoch 39/50\n",
      "\u001b[1m1500/1500\u001b[0m \u001b[32m━━━━━━━━━━━━━━━━━━━━\u001b[0m\u001b[37m\u001b[0m \u001b[1m2s\u001b[0m 1ms/step - accuracy: 0.9111 - loss: 0.2353 - val_accuracy: 0.8874 - val_loss: 0.3393\n",
      "Epoch 40/50\n",
      "\u001b[1m1500/1500\u001b[0m \u001b[32m━━━━━━━━━━━━━━━━━━━━\u001b[0m\u001b[37m\u001b[0m \u001b[1m2s\u001b[0m 1ms/step - accuracy: 0.9145 - loss: 0.2217 - val_accuracy: 0.8898 - val_loss: 0.3365\n",
      "Epoch 41/50\n",
      "\u001b[1m1500/1500\u001b[0m \u001b[32m━━━━━━━━━━━━━━━━━━━━\u001b[0m\u001b[37m\u001b[0m \u001b[1m2s\u001b[0m 1ms/step - accuracy: 0.9152 - loss: 0.2227 - val_accuracy: 0.8898 - val_loss: 0.3359\n",
      "Epoch 42/50\n",
      "\u001b[1m1500/1500\u001b[0m \u001b[32m━━━━━━━━━━━━━━━━━━━━\u001b[0m\u001b[37m\u001b[0m \u001b[1m2s\u001b[0m 1ms/step - accuracy: 0.9148 - loss: 0.2228 - val_accuracy: 0.8901 - val_loss: 0.3387\n",
      "Epoch 43/50\n",
      "\u001b[1m1500/1500\u001b[0m \u001b[32m━━━━━━━━━━━━━━━━━━━━\u001b[0m\u001b[37m\u001b[0m \u001b[1m2s\u001b[0m 1ms/step - accuracy: 0.9160 - loss: 0.2210 - val_accuracy: 0.8896 - val_loss: 0.3435\n",
      "Epoch 44/50\n",
      "\u001b[1m1500/1500\u001b[0m \u001b[32m━━━━━━━━━━━━━━━━━━━━\u001b[0m\u001b[37m\u001b[0m \u001b[1m2s\u001b[0m 1ms/step - accuracy: 0.9147 - loss: 0.2197 - val_accuracy: 0.8889 - val_loss: 0.3430\n",
      "Epoch 45/50\n",
      "\u001b[1m1500/1500\u001b[0m \u001b[32m━━━━━━━━━━━━━━━━━━━━\u001b[0m\u001b[37m\u001b[0m \u001b[1m2s\u001b[0m 1ms/step - accuracy: 0.9176 - loss: 0.2171 - val_accuracy: 0.8928 - val_loss: 0.3459\n",
      "Epoch 46/50\n",
      "\u001b[1m1500/1500\u001b[0m \u001b[32m━━━━━━━━━━━━━━━━━━━━\u001b[0m\u001b[37m\u001b[0m \u001b[1m2s\u001b[0m 1ms/step - accuracy: 0.9128 - loss: 0.2279 - val_accuracy: 0.8862 - val_loss: 0.3652\n",
      "Epoch 47/50\n",
      "\u001b[1m1500/1500\u001b[0m \u001b[32m━━━━━━━━━━━━━━━━━━━━\u001b[0m\u001b[37m\u001b[0m \u001b[1m2s\u001b[0m 1ms/step - accuracy: 0.9155 - loss: 0.2170 - val_accuracy: 0.8854 - val_loss: 0.3683\n",
      "Epoch 48/50\n",
      "\u001b[1m1500/1500\u001b[0m \u001b[32m━━━━━━━━━━━━━━━━━━━━\u001b[0m\u001b[37m\u001b[0m \u001b[1m2s\u001b[0m 1ms/step - accuracy: 0.9179 - loss: 0.2176 - val_accuracy: 0.8911 - val_loss: 0.3424\n",
      "Epoch 49/50\n",
      "\u001b[1m1500/1500\u001b[0m \u001b[32m━━━━━━━━━━━━━━━━━━━━\u001b[0m\u001b[37m\u001b[0m \u001b[1m2s\u001b[0m 1ms/step - accuracy: 0.9192 - loss: 0.2124 - val_accuracy: 0.8892 - val_loss: 0.3547\n",
      "Epoch 50/50\n",
      "\u001b[1m1500/1500\u001b[0m \u001b[32m━━━━━━━━━━━━━━━━━━━━\u001b[0m\u001b[37m\u001b[0m \u001b[1m2s\u001b[0m 1ms/step - accuracy: 0.9160 - loss: 0.2208 - val_accuracy: 0.8926 - val_loss: 0.3551\n"
     ]
    },
    {
     "data": {
      "text/plain": [
       "<keras.src.callbacks.history.History at 0x14b52a78aa0>"
      ]
     },
     "execution_count": 56,
     "metadata": {},
     "output_type": "execute_result"
    }
   ],
   "source": [
    "# 모델 생성\n",
    "model = mk_model(keras.layers.Dropout(0.3))\n",
    "\n",
    "# Adam 옵티마이저 객체 정의 - learning_rate: 0.001\n",
    "adam = keras.optimizers.Adam(learning_rate=0.001)\n",
    "\n",
    "# 모델 컴파일 설정\n",
    "model.compile(optimizer=adam, loss='sparse_categorical_crossentropy', metrics=['accuracy'])\n",
    "\n",
    "# 콜백 설정 - 검증 세트의 loss가 가장 낮은 모델로 저장\n",
    "checkpoint_cb = keras.callbacks.ModelCheckpoint('best-model.keras', save_best_only=True)\n",
    "\n",
    "# 모델 학습\n",
    "model.fit(train_scaled, train_target, epochs=50, validation_data=(val_scaled, val_target), callbacks=[checkpoint_cb])"
   ]
  },
  {
   "cell_type": "code",
   "execution_count": 57,
   "id": "bf2207f0",
   "metadata": {},
   "outputs": [
    {
     "name": "stdout",
     "output_type": "stream",
     "text": [
      "\u001b[1m375/375\u001b[0m \u001b[32m━━━━━━━━━━━━━━━━━━━━\u001b[0m\u001b[37m\u001b[0m \u001b[1m0s\u001b[0m 793us/step - accuracy: 0.8900 - loss: 0.3086\n"
     ]
    },
    {
     "data": {
      "text/plain": [
       "[0.31152111291885376, 0.8913333415985107]"
      ]
     },
     "execution_count": 57,
     "metadata": {},
     "output_type": "execute_result"
    }
   ],
   "source": [
    "# 저장된 전체 모델 복구\n",
    "model = keras.models.load_model('best-model.keras')\n",
    "\n",
    "# 모델 평가\n",
    "model.evaluate(val_scaled, val_target)"
   ]
  },
  {
   "cell_type": "code",
   "execution_count": 58,
   "id": "0908b87d",
   "metadata": {},
   "outputs": [
    {
     "name": "stdout",
     "output_type": "stream",
     "text": [
      "Epoch 1/1000\n",
      "\u001b[1m1500/1500\u001b[0m \u001b[32m━━━━━━━━━━━━━━━━━━━━\u001b[0m\u001b[37m\u001b[0m \u001b[1m2s\u001b[0m 1ms/step - accuracy: 0.7299 - loss: 0.7785 - val_accuracy: 0.8344 - val_loss: 0.4492\n",
      "Epoch 2/1000\n",
      "\u001b[1m1500/1500\u001b[0m \u001b[32m━━━━━━━━━━━━━━━━━━━━\u001b[0m\u001b[37m\u001b[0m \u001b[1m2s\u001b[0m 1ms/step - accuracy: 0.8411 - loss: 0.4455 - val_accuracy: 0.8574 - val_loss: 0.3996\n",
      "Epoch 3/1000\n",
      "\u001b[1m1500/1500\u001b[0m \u001b[32m━━━━━━━━━━━━━━━━━━━━\u001b[0m\u001b[37m\u001b[0m \u001b[1m2s\u001b[0m 1ms/step - accuracy: 0.8522 - loss: 0.4086 - val_accuracy: 0.8686 - val_loss: 0.3596\n",
      "Epoch 4/1000\n",
      "\u001b[1m1500/1500\u001b[0m \u001b[32m━━━━━━━━━━━━━━━━━━━━\u001b[0m\u001b[37m\u001b[0m \u001b[1m2s\u001b[0m 1ms/step - accuracy: 0.8604 - loss: 0.3743 - val_accuracy: 0.8724 - val_loss: 0.3472\n",
      "Epoch 5/1000\n",
      "\u001b[1m1500/1500\u001b[0m \u001b[32m━━━━━━━━━━━━━━━━━━━━\u001b[0m\u001b[37m\u001b[0m \u001b[1m2s\u001b[0m 1ms/step - accuracy: 0.8684 - loss: 0.3589 - val_accuracy: 0.8643 - val_loss: 0.3637\n",
      "Epoch 6/1000\n",
      "\u001b[1m1500/1500\u001b[0m \u001b[32m━━━━━━━━━━━━━━━━━━━━\u001b[0m\u001b[37m\u001b[0m \u001b[1m2s\u001b[0m 1ms/step - accuracy: 0.8691 - loss: 0.3482 - val_accuracy: 0.8725 - val_loss: 0.3524\n",
      "Epoch 7/1000\n",
      "\u001b[1m1500/1500\u001b[0m \u001b[32m━━━━━━━━━━━━━━━━━━━━\u001b[0m\u001b[37m\u001b[0m \u001b[1m2s\u001b[0m 1ms/step - accuracy: 0.8771 - loss: 0.3360 - val_accuracy: 0.8732 - val_loss: 0.3431\n",
      "Epoch 8/1000\n",
      "\u001b[1m1500/1500\u001b[0m \u001b[32m━━━━━━━━━━━━━━━━━━━━\u001b[0m\u001b[37m\u001b[0m \u001b[1m2s\u001b[0m 1ms/step - accuracy: 0.8759 - loss: 0.3341 - val_accuracy: 0.8784 - val_loss: 0.3305\n",
      "Epoch 9/1000\n",
      "\u001b[1m1500/1500\u001b[0m \u001b[32m━━━━━━━━━━━━━━━━━━━━\u001b[0m\u001b[37m\u001b[0m \u001b[1m2s\u001b[0m 1ms/step - accuracy: 0.8790 - loss: 0.3262 - val_accuracy: 0.8771 - val_loss: 0.3343\n",
      "Epoch 10/1000\n",
      "\u001b[1m1500/1500\u001b[0m \u001b[32m━━━━━━━━━━━━━━━━━━━━\u001b[0m\u001b[37m\u001b[0m \u001b[1m2s\u001b[0m 1ms/step - accuracy: 0.8810 - loss: 0.3203 - val_accuracy: 0.8759 - val_loss: 0.3324\n",
      "Epoch 11/1000\n",
      "\u001b[1m1500/1500\u001b[0m \u001b[32m━━━━━━━━━━━━━━━━━━━━\u001b[0m\u001b[37m\u001b[0m \u001b[1m2s\u001b[0m 1ms/step - accuracy: 0.8885 - loss: 0.3035 - val_accuracy: 0.8822 - val_loss: 0.3207\n",
      "Epoch 12/1000\n",
      "\u001b[1m1500/1500\u001b[0m \u001b[32m━━━━━━━━━━━━━━━━━━━━\u001b[0m\u001b[37m\u001b[0m \u001b[1m2s\u001b[0m 1ms/step - accuracy: 0.8861 - loss: 0.3067 - val_accuracy: 0.8795 - val_loss: 0.3286\n",
      "Epoch 13/1000\n",
      "\u001b[1m1500/1500\u001b[0m \u001b[32m━━━━━━━━━━━━━━━━━━━━\u001b[0m\u001b[37m\u001b[0m \u001b[1m2s\u001b[0m 1ms/step - accuracy: 0.8865 - loss: 0.3013 - val_accuracy: 0.8849 - val_loss: 0.3231\n",
      "Epoch 14/1000\n",
      "\u001b[1m1500/1500\u001b[0m \u001b[32m━━━━━━━━━━━━━━━━━━━━\u001b[0m\u001b[37m\u001b[0m \u001b[1m2s\u001b[0m 1ms/step - accuracy: 0.8898 - loss: 0.2926 - val_accuracy: 0.8833 - val_loss: 0.3291\n"
     ]
    },
    {
     "data": {
      "text/plain": [
       "<keras.src.callbacks.history.History at 0x14b553c33e0>"
      ]
     },
     "execution_count": 58,
     "metadata": {},
     "output_type": "execute_result"
    }
   ],
   "source": [
    "# 모델 생성\n",
    "model = mk_model(keras.layers.Dropout(0.3))\n",
    "\n",
    "# Adam 옵티마이저 객체 정의 - learning_rate: 0.001\n",
    "adam = keras.optimizers.Adam(learning_rate=0.001)\n",
    "\n",
    "# 모델 컴파일 설정\n",
    "model.compile(optimizer=adam, loss='sparse_categorical_crossentropy', metrics=['accuracy'])\n",
    "\n",
    "# 콜백 설정 - 검증 세트의 loss가 가장 낮은 모델로 저장\n",
    "checkpoint_cb = keras.callbacks.ModelCheckpoint('best-model.keras', save_best_only=True)\n",
    "\n",
    "# 조기 종료 설정\n",
    "early_stopping_cb = keras.callbacks.EarlyStopping(patience=3, restore_best_weights=True)\n",
    "\n",
    "# 모델 학습\n",
    "model.fit(train_scaled, train_target, epochs=1000, validation_data=(val_scaled, val_target), callbacks=[checkpoint_cb, early_stopping_cb])"
   ]
  },
  {
   "cell_type": "code",
   "execution_count": 59,
   "id": "4f0e46b4",
   "metadata": {},
   "outputs": [
    {
     "name": "stdout",
     "output_type": "stream",
     "text": [
      "\u001b[1m375/375\u001b[0m \u001b[32m━━━━━━━━━━━━━━━━━━━━\u001b[0m\u001b[37m\u001b[0m \u001b[1m1s\u001b[0m 810us/step - accuracy: 0.8837 - loss: 0.3194\n"
     ]
    },
    {
     "data": {
      "text/plain": [
       "[0.32067206501960754, 0.8821666836738586]"
      ]
     },
     "execution_count": 59,
     "metadata": {},
     "output_type": "execute_result"
    }
   ],
   "source": [
    "# 저장된 전체 모델 복구\n",
    "model = keras.models.load_model('best-model.keras')\n",
    "\n",
    "# 모델 평가\n",
    "model.evaluate(val_scaled, val_target)"
   ]
  }
 ],
 "metadata": {
  "kernelspec": {
   "display_name": ".venv",
   "language": "python",
   "name": "python3"
  },
  "language_info": {
   "codemirror_mode": {
    "name": "ipython",
    "version": 3
   },
   "file_extension": ".py",
   "mimetype": "text/x-python",
   "name": "python",
   "nbconvert_exporter": "python",
   "pygments_lexer": "ipython3",
   "version": "3.12.10"
  }
 },
 "nbformat": 4,
 "nbformat_minor": 5
}
