{
 "cells": [
  {
   "cell_type": "code",
   "execution_count": 21,
   "id": "c59ee07c",
   "metadata": {},
   "outputs": [],
   "source": [
    "import torch\n",
    "from torchvision.datasets import FashionMNIST\n",
    "\n",
    "# Fashion MNIST 데이터셋 불러오기\n",
    "fm_train = FashionMNIST(root='.', train=True, download=True)\n",
    "fm_test = FashionMNIST(root='.', train=False, download=True)"
   ]
  },
  {
   "cell_type": "code",
   "execution_count": 22,
   "id": "e1217fb9",
   "metadata": {},
   "outputs": [],
   "source": [
    "train_input = fm_train.data\n",
    "train_target = fm_train.targets"
   ]
  },
  {
   "cell_type": "code",
   "execution_count": 23,
   "id": "29271311",
   "metadata": {},
   "outputs": [],
   "source": [
    "# 정규화 (0~1)\n",
    "train_scaled = train_input / 255.0"
   ]
  },
  {
   "cell_type": "code",
   "execution_count": 24,
   "id": "f7966560",
   "metadata": {},
   "outputs": [],
   "source": [
    "from sklearn.model_selection import train_test_split\n",
    "\n",
    "# 훈련/검증 세트 분리\n",
    "train_scaled, val_scaled, train_target, val_target = train_test_split(\n",
    "    train_scaled, train_target, test_size=0.2, random_state=42\n",
    ")"
   ]
  },
  {
   "cell_type": "markdown",
   "id": "cf2d2fa5",
   "metadata": {},
   "source": [
    "참고) `test_size`에 실수(0~1) 넣으면 비율, 정수 넣으면 개수"
   ]
  },
  {
   "cell_type": "code",
   "execution_count": 25,
   "id": "ad0cb631",
   "metadata": {},
   "outputs": [],
   "source": [
    "import torch.nn as nn\n",
    "\n",
    "# 모델을 위한 층 구성 - 파이토치에는 함수가 따로 존재 (Sequential)\n",
    "\n",
    "model = nn.Sequential(\n",
    "    nn.Flatten(),           # 입력 이미지 펼침 (2D (28, 28) -> 1D (28 * 28))\n",
    "    nn.Linear(28*28, 100),  # 입력층(784) -> 은닉층(유닛100) / Linear: 선형회귀\n",
    "    nn.ReLU(),              # 비선형 활성화 함수 (ReLU)\n",
    "    nn.Dropout(0.3),        # 과적합 방지용 드롭아웃 (30% 비활성화)\n",
    "    nn.Linear(100, 10)      # 은닉층(유닛100) -> 출력층(클래스10)\n",
    "                            # 참고: 손실함수 쪽(nn.CrossEntropyLoss())에 내부적으로 softmax 포함\n",
    ")"
   ]
  },
  {
   "cell_type": "code",
   "execution_count": 26,
   "id": "06f91e91",
   "metadata": {},
   "outputs": [
    {
     "data": {
      "text/plain": [
       "Sequential(\n",
       "  (0): Flatten(start_dim=1, end_dim=-1)\n",
       "  (1): Linear(in_features=784, out_features=100, bias=True)\n",
       "  (2): ReLU()\n",
       "  (3): Dropout(p=0.3, inplace=False)\n",
       "  (4): Linear(in_features=100, out_features=10, bias=True)\n",
       ")"
      ]
     },
     "execution_count": 26,
     "metadata": {},
     "output_type": "execute_result"
    }
   ],
   "source": [
    "# GPU, CPU 결정 후 모델에 연결\n",
    "device = torch.device(\"cuda\" if torch.cuda.is_available() else \"cpu\")\n",
    "# 맥: device = torch.device(\"mps\" if torch.backends.mps.is_available() else \"cpu\")\n",
    "model.to(device)"
   ]
  },
  {
   "cell_type": "code",
   "execution_count": 27,
   "id": "a15bac4e",
   "metadata": {},
   "outputs": [],
   "source": [
    "import torch.optim as optim\n",
    "\n",
    "# loss function, optimizer 설정\n",
    "criterion = nn.CrossEntropyLoss()  # 손실 함수\n",
    "optimizer = optim.Adam(model.parameters(), lr=0.001)  # lr: learning rate (기본값 - 0.01)"
   ]
  },
  {
   "cell_type": "markdown",
   "id": "6a1563d2",
   "metadata": {},
   "source": [
    "참고) learning rate는 0.001로 고정이 아니라, 매 에포크마다 조정된다."
   ]
  },
  {
   "cell_type": "code",
   "execution_count": null,
   "id": "d009b6c2",
   "metadata": {},
   "outputs": [
    {
     "name": "stdout",
     "output_type": "stream",
     "text": [
      "epochs: 1, loss: 0.6032, val_loss: 0.4384\n",
      "epochs: 2, loss: 0.4448, val_loss: 0.3901\n",
      "epochs: 3, loss: 0.4034, val_loss: 0.3788\n",
      "epochs: 4, loss: 0.3847, val_loss: 0.3600\n",
      "epochs: 5, loss: 0.3645, val_loss: 0.3483\n",
      "epochs: 6, loss: 0.3551, val_loss: 0.3435\n",
      "epochs: 7, loss: 0.3417, val_loss: 0.3471\n",
      "epochs: 8, loss: 0.3350, val_loss: 0.3374\n",
      "epochs: 9, loss: 0.3288, val_loss: 0.3355\n",
      "epochs: 10, loss: 0.3201, val_loss: 0.3244\n",
      "epochs: 11, loss: 0.3149, val_loss: 0.3321\n",
      "epochs: 12, loss: 0.3096, val_loss: 0.3296\n",
      "epochs: 13, loss: 0.3034, val_loss: 0.3281\n",
      "13번째 에포크에서 조기 종료되었습니다.\n"
     ]
    }
   ],
   "source": [
    "# 모델 훈련 - 콜백, 조기 종료를 위한 함수가 파이토치에는 없다. 직접 해야 함.\n",
    "\n",
    "# 필요한 변수 선언\n",
    "train_history = []  # 훈련 세트의 각 에포크마다의 loss값을 저장할 리스트\n",
    "val_history = []    # 검증 세트의 각 에포크마다의 loss값을 저장할 리스트\n",
    "patience = 3        # loss값이 상승해도 눈 감아줄 횟수\n",
    "best_loss = 2       # 가장 낮은 loss값 저장 (기본값을 2로 설정, 어차피 loss는 0~1이기 때문)\n",
    "early_stopping_counter = 0   # 조기 종료 카운트 (patience에 도달하면 조기 종료)\n",
    "epochs = 50         # 훈련 반복 횟수: 50번\n",
    "batches = int(len(train_scaled) / 32)  # 미니 배치 학습 반복 횟수 per 1 epoch (32개씩 반복)\n",
    "\n",
    "# 훈련\n",
    "for epoch in range(epochs):\n",
    "    ###### 훈련 ######\n",
    "\n",
    "    model.train()   # 훈련 시작\n",
    "\n",
    "    train_loss = 0  # 훈련 세트 평균 loss per 1 epoch\n",
    "    for i in range(batches):  # 미니배치 경사 하강법 (32개씩 1500번 반복)\n",
    "        inputs = train_scaled[i*32:(i+1)*32].to(device)\n",
    "        targets = train_target[i*32:(i+1)*32].to(device)\n",
    "\n",
    "        optimizer.zero_grad()    # Gradient 연산 초기화\n",
    "        outputs = model(inputs)  # 예측값 추론\n",
    "\n",
    "        loss = criterion(outputs, targets)  # 손실값(loss)\n",
    "        loss.backward()  # 역전파\n",
    "        optimizer.step() # 모델 파라미터 업데이트\n",
    "\n",
    "        train_loss += loss.item()  # 미니 배치 학습 때마다의 loss를 누적 (총 1500번 per 1 epoch)\n",
    "\n",
    "    ###### 검증 ######\n",
    "\n",
    "    model.eval()  # epoch마다 검증 세트를 가지고 훈련된 모델 평가 진행\n",
    "\n",
    "    val_loss = 0  # 검증 세트의 loss\n",
    "    with torch.no_grad():  # 평가이므로 Gradient 연산(학습)은 하지 않는다\n",
    "        val_scaled = val_scaled.to(device)\n",
    "        val_target = val_target.to(device)\n",
    "        outputs = model(val_scaled)  # 검증 세트의 예측값\n",
    "        loss = criterion(outputs, val_target)  # 검증 세트의 손실값(loss)\n",
    "        val_loss = loss.item()\n",
    "\n",
    "    # 훈련/검증 세트의 loss를 기록 per 1 epoch\n",
    "    train_loss_avg = train_loss / batches\n",
    "    train_history.append(train_loss_avg)  # 1 epoch 당 훈련 세트 손실값 평균\n",
    "    val_history.append(val_loss)          # 1 epoch 당 검증 세트 손실값\n",
    "\n",
    "    print(f\"epochs: {epoch + 1}, loss: {train_loss_avg:.4f}, val_loss: {val_loss:.4f}\")\n",
    "\n",
    "    # 현재 에포크의 검증 손실이 기존 검증 손실보다 작은 경우 - 더 좋은 것이므로 손실값 업데이트\n",
    "    if val_loss < best_loss:\n",
    "        best_loss = val_loss\n",
    "        early_stopping_counter = 0  # 조기 종료 카운트를 초기화\n",
    "        torch.save(model.state_dict(), \"best_model.pth\")  # 모델의 가중치만 저장\n",
    "        # 파이토치는 keras와 다르게 전체 모델을 저장할 일은 없다. 매번 모델 재구성해서 복구해야 함.\n",
    "    else:\n",
    "        early_stopping_counter += 1\n",
    "        if early_stopping_counter >= \n",
    "        :\n",
    "            print(f\"{epoch+1}번째 에포크에서 조기 종료되었습니다.\")\n",
    "            break  # 반복 종료"
   ]
  },
  {
   "cell_type": "markdown",
   "id": "65cc05e4",
   "metadata": {},
   "source": [
    "🔍 PyTorch는 왜 가중치만 저장하나?\n",
    "1. 모델 구조 = 코드\n",
    "    - PyTorch는 모델 정의 자체가 Python 클래스임 → 구조를 저장할 필요가 없음.\n",
    "    - 다시 쓸 때 그냥 같은 클래스를 재정의하면 됨.\n",
    "\n",
    "2. 직렬화 문제\n",
    "    - PyTorch의 전체 모델 저장 (torch.save(model))은 가능하긴 하지만, 내부적으로 Pickle을 사용\\\n",
    "    → 버전 의존성, 보안 이슈 존재\n",
    "    - 따라서 실무에서는 가중치만 저장/로드하는 방식이 훨씬 안전하고 보편적임.\n",
    "\n",
    "✨ Keras는 왜 전체 저장이 많을까?\n",
    "\n",
    "- Keras는 모델 구조 자체가 JSON/Config 형태로 직렬화 가능 → 전체 저장이 쉬움\n",
    "- model.save('model.keras') 한 줄이면 구조 + 가중치 + 옵티마이저까지 저장됨"
   ]
  },
  {
   "cell_type": "code",
   "execution_count": 29,
   "id": "7a6bc3f1",
   "metadata": {},
   "outputs": [
    {
     "data": {
      "image/png": "[encoded data removed]",
      "text/plain": [
       "<Figure size 640x480 with 1 Axes>"
      ]
     },
     "metadata": {},
     "output_type": "display_data"
    }
   ],
   "source": [
    "import matplotlib.pyplot as plt\n",
    "\n",
    "# 검증 세트의 loss 경향성 그래프 그리기\n",
    "plt.plot(train_history, label='train') # 훈련 세트의 loss\n",
    "plt.plot(val_history, label='val')     # 검증 세트의 loss\n",
    "\n",
    "plt.xlabel('epoch')\n",
    "plt.ylabel('loss')\n",
    "\n",
    "plt.legend()\n",
    "plt.show()"
   ]
  },
  {
   "cell_type": "code",
   "execution_count": 30,
   "id": "1df7a318",
   "metadata": {},
   "outputs": [
    {
     "data": {
      "text/plain": [
       "<All keys matched successfully>"
      ]
     },
     "execution_count": 30,
     "metadata": {},
     "output_type": "execute_result"
    }
   ],
   "source": [
    "# 저장된 모델의 가중치를 로드\n",
    "model.load_state_dict(torch.load('best_model.pth', weights_only=True))"
   ]
  },
  {
   "cell_type": "code",
   "execution_count": 31,
   "id": "5cb1541a",
   "metadata": {},
   "outputs": [
    {
     "name": "stdout",
     "output_type": "stream",
     "text": [
      "val_accuracy: 0.8828, val_loss: 0.3244\n"
     ]
    }
   ],
   "source": [
    "model.eval()\n",
    "with torch.no_grad():\n",
    "    val_scaled = val_scaled.to(device)\n",
    "    val_target = val_target.to(device)\n",
    "    outputs = model(val_scaled)\n",
    "    loss = criterion(outputs, val_target)\n",
    "    predicts = torch.argmax(outputs, 1)\n",
    "    # print(predicts[:10])\n",
    "    corrects = (predicts == val_target).sum().item()\n",
    "\n",
    "accuracy = corrects / len(val_target)\n",
    "print(f\"val_accuracy: {accuracy:.4f}, val_loss: {loss.item():.4f}\")"
   ]
  }
 ],
 "metadata": {
  "kernelspec": {
   "display_name": ".venv",
   "language": "python",
   "name": "python3"
  },
  "language_info": {
   "codemirror_mode": {
    "name": "ipython",
    "version": 3
   },
   "file_extension": ".py",
   "mimetype": "text/x-python",
   "name": "python",
   "nbconvert_exporter": "python",
   "pygments_lexer": "ipython3",
   "version": "3.12.10"
  }
 },
 "nbformat": 4,
 "nbformat_minor": 5
}
