{
 "cells": [
  {
   "cell_type": "code",
   "execution_count": 42,
   "id": "7bbdc3b8",
   "metadata": {},
   "outputs": [],
   "source": [
    "# Fashion MNIST 데이터셋 불러오기\n",
    "\n",
    "import torch\n",
    "from torchvision.datasets import FashionMNIST\n",
    "\n",
    "fm_train = FashionMNIST(root='.', train=True, download=True)\n",
    "fm_test = FashionMNIST(root='.', train=False, download=True)"
   ]
  },
  {
   "cell_type": "code",
   "execution_count": 43,
   "id": "6e176d0f",
   "metadata": {},
   "outputs": [],
   "source": [
    "# 훈련/테스트 세트\n",
    "\n",
    "train_input = fm_train.data\n",
    "train_target = fm_train.targets\n",
    "\n",
    "test_input = fm_test.data\n",
    "test_target = fm_test.targets"
   ]
  },
  {
   "cell_type": "code",
   "execution_count": 44,
   "id": "9ca78dc9",
   "metadata": {},
   "outputs": [],
   "source": [
    "# 이미지 입력 - 채널 명시 (배치, 채널, 높이, 너비)\n",
    "train_input = train_input.reshape(-1, 1, 28, 28)\n",
    "test_input = test_input.reshape(-1, 1, 28, 28)\n",
    "\n",
    "# 정규화\n",
    "train_scaled = train_input / 255.0\n",
    "test_scaled = test_input / 255.0"
   ]
  },
  {
   "cell_type": "code",
   "execution_count": 45,
   "id": "3765eadd",
   "metadata": {},
   "outputs": [],
   "source": [
    "# 훈련/검증 세트 분리\n",
    "\n",
    "from sklearn.model_selection import train_test_split\n",
    "\n",
    "train_scaled, val_scaled, train_target, val_target = train_test_split(\n",
    "    train_scaled, train_target, test_size=0.2, random_state=42\n",
    ")"
   ]
  },
  {
   "cell_type": "code",
   "execution_count": 46,
   "id": "cdda1349",
   "metadata": {},
   "outputs": [
    {
     "name": "stdout",
     "output_type": "stream",
     "text": [
      "torch.Size([1, 3136])\n"
     ]
    }
   ],
   "source": [
    "# 층 구성\n",
    "\n",
    "import torch\n",
    "import torch.nn as nn\n",
    "\n",
    "model = nn.Sequential()\n",
    "\n",
    "# 합성곱 층 1\n",
    "model.add_module(\"conv1\", nn.Conv2d(1, 32, 3, padding='same'))\n",
    "model.add_module(\"relu1\", nn.ReLU())  # 풀링 전에 활성화 함수 설정하는 것을 잊지 말자!\n",
    "                                      # - 활성화 함수까지 통과 시키고 나서야 특성맵이 만들어진다\n",
    "model.add_module(\"pool1\", nn.MaxPool2d(2))\n",
    "\n",
    "# 합성곱 층 2\n",
    "model.add_module(\"conv2\", nn.Conv2d(32, 64, 3, padding='same'))\n",
    "model.add_module(\"relu2\", nn.ReLU())\n",
    "model.add_module(\"pool2\", nn.MaxPool2d(2))\n",
    "\n",
    "# Flatten 층\n",
    "model.add_module('flatten', nn.Flatten())\n",
    "\n",
    "# 은닉층 입력 크기 확인\n",
    "outputs = model(torch.ones(1, 1, 28, 28))  # 가짜 데이터를 넣어서 입력 데이터가 몇 개인지 확인\n",
    "print(outputs.shape)  # torch.Size([1, 3136]) -> 3136개\n",
    "\n",
    "# 은닉층\n",
    "model.add_module('dense1', nn.Linear(7 * 7 * 64, 100))  # 3136, 100\n",
    "model.add_module(\"relu3\", nn.ReLU())\n",
    "model.add_module(\"dropout\", nn.Dropout(0.3))\n",
    "\n",
    "# 출력층\n",
    "model.add_module(\"dense2\", nn.Linear(100, 10))"
   ]
  },
  {
   "cell_type": "code",
   "execution_count": 47,
   "id": "7ddae837",
   "metadata": {},
   "outputs": [
    {
     "data": {
      "text/plain": [
       "=================================================================\n",
       "Layer (type:depth-idx)                   Param #\n",
       "=================================================================\n",
       "Sequential                               --\n",
       "├─Conv2d: 1-1                            320\n",
       "├─ReLU: 1-2                              --\n",
       "├─MaxPool2d: 1-3                         --\n",
       "├─Conv2d: 1-4                            18,496\n",
       "├─ReLU: 1-5                              --\n",
       "├─MaxPool2d: 1-6                         --\n",
       "├─Flatten: 1-7                           --\n",
       "├─Linear: 1-8                            313,700\n",
       "├─ReLU: 1-9                              --\n",
       "├─Dropout: 1-10                          --\n",
       "├─Linear: 1-11                           1,010\n",
       "=================================================================\n",
       "Total params: 333,526\n",
       "Trainable params: 333,526\n",
       "Non-trainable params: 0\n",
       "================================================================="
      ]
     },
     "execution_count": 47,
     "metadata": {},
     "output_type": "execute_result"
    }
   ],
   "source": [
    "from torchinfo import summary\n",
    "summary(model)"
   ]
  },
  {
   "cell_type": "code",
   "execution_count": 48,
   "id": "06d95c7e",
   "metadata": {},
   "outputs": [
    {
     "data": {
      "text/plain": [
       "Sequential(\n",
       "  (conv1): Conv2d(1, 32, kernel_size=(3, 3), stride=(1, 1), padding=same)\n",
       "  (relu1): ReLU()\n",
       "  (pool1): MaxPool2d(kernel_size=2, stride=2, padding=0, dilation=1, ceil_mode=False)\n",
       "  (conv2): Conv2d(32, 64, kernel_size=(3, 3), stride=(1, 1), padding=same)\n",
       "  (relu2): ReLU()\n",
       "  (pool2): MaxPool2d(kernel_size=2, stride=2, padding=0, dilation=1, ceil_mode=False)\n",
       "  (flatten): Flatten(start_dim=1, end_dim=-1)\n",
       "  (dense1): Linear(in_features=3136, out_features=100, bias=True)\n",
       "  (relu3): ReLU()\n",
       "  (dropout): Dropout(p=0.3, inplace=False)\n",
       "  (dense2): Linear(in_features=100, out_features=10, bias=True)\n",
       ")"
      ]
     },
     "execution_count": 48,
     "metadata": {},
     "output_type": "execute_result"
    }
   ],
   "source": [
    "# GPU or CPU 결정 후 모델에 연결\n",
    "device = torch.device(\"cuda\" if torch.cuda.is_available() else \"cpu\")\n",
    "model.to(device)"
   ]
  },
  {
   "cell_type": "code",
   "execution_count": 49,
   "id": "61dda726",
   "metadata": {},
   "outputs": [],
   "source": [
    "# optimizer, loss func\n",
    "\n",
    "import torch.optim as optim\n",
    "\n",
    "criterion = nn.CrossEntropyLoss()\n",
    "optimizer = optim.Adam(model.parameters())"
   ]
  },
  {
   "cell_type": "code",
   "execution_count": 50,
   "id": "1b3f8661",
   "metadata": {},
   "outputs": [],
   "source": [
    "# TensorDataset, DataLoader\n",
    "\n",
    "from torch.utils.data import TensorDataset, DataLoader\n",
    "\n",
    "train_dataset = TensorDataset(train_scaled, train_target)\n",
    "val_dataset = TensorDataset(val_scaled, val_target)\n",
    "\n",
    "train_loader = DataLoader(train_dataset, batch_size=32, shuffle=True)\n",
    "val_loader = DataLoader(val_dataset, batch_size=32, shuffle=False)"
   ]
  },
  {
   "cell_type": "code",
   "execution_count": 51,
   "id": "a211dddc",
   "metadata": {},
   "outputs": [
    {
     "name": "stdout",
     "output_type": "stream",
     "text": [
      "epochs: 1, loss: 0.5388, val_loss: 0.3411\n",
      "epochs: 2, loss: 0.3566, val_loss: 0.3092\n",
      "epochs: 3, loss: 0.3062, val_loss: 0.2836\n",
      "epochs: 4, loss: 0.2728, val_loss: 0.2516\n",
      "epochs: 5, loss: 0.2453, val_loss: 0.2361\n",
      "epochs: 6, loss: 0.2214, val_loss: 0.2236\n",
      "epochs: 7, loss: 0.2046, val_loss: 0.2273\n",
      "epochs: 8, loss: 0.1892, val_loss: 0.2355\n",
      "8번째 에포크에서 조기 종료되었습니다.\n"
     ]
    }
   ],
   "source": [
    "# 모델 훈련\n",
    "\n",
    "# 필요한 변수 선언\n",
    "train_history = []  # 훈련 세트의 각 에포크마다의 loss값을 저장할 리스트\n",
    "val_history = []    # 검증 세트의 각 에포크마다의 loss값을 저장할 리스트\n",
    "patience = 2        # loss값이 상승해도 눈 감아줄 횟수\n",
    "best_loss = 2       # 가장 낮은 loss값 저장 (기본값을 2로 설정, 어차피 loss는 0~1이기 때문)\n",
    "early_stopping_counter = 0   # 조기 종료 카운트 (patience에 도달하면 조기 종료)\n",
    "epochs = 20         # 훈련 반복 횟수: 20번\n",
    "batches = int(len(train_scaled) / 32)  # 미니 배치 학습 반복 횟수 per 1 epoch (32개씩 반복)\n",
    "\n",
    "# 훈련\n",
    "for epoch in range(epochs):\n",
    "    model.train()\n",
    "    train_loss = 0\n",
    "    for inputs, targets in train_loader:\n",
    "        inputs, targets = inputs.to(device), targets.to(device)\n",
    "        optimizer.zero_grad()\n",
    "        outputs = model(inputs)\n",
    "        loss = criterion(outputs, targets)\n",
    "        loss.backward()\n",
    "        optimizer.step()\n",
    "\n",
    "        train_loss += loss.item()\n",
    "\n",
    "    model.eval()\n",
    "    val_loss = 0\n",
    "    with torch.no_grad():\n",
    "        for inputs, targets in val_loader:\n",
    "            inputs, targets = inputs.to(device), targets.to(device)\n",
    "            outputs = model(inputs)\n",
    "            loss = criterion(outputs, targets)\n",
    "            val_loss += loss.item()\n",
    "    \n",
    "    train_loss_avg = train_loss / batches\n",
    "    train_loss = train_loss / len(train_loader)\n",
    "    val_loss = val_loss / len(val_loader)\n",
    "    train_history.append(train_loss_avg)  # 1 epoch 당 훈련 세트 손실값 평균\n",
    "    val_history.append(val_loss)          # 1 epoch 당 검증 세트 손실값\n",
    "\n",
    "    print(f\"epochs: {epoch + 1}, loss: {train_loss_avg:.4f}, val_loss: {val_loss:.4f}\")\n",
    "\n",
    "    # 현재 에포크의 검증 손실이 기존 검증 손실보다 작은 경우 - 더 좋은 것이므로 손실값 업데이트\n",
    "    if val_loss < best_loss:\n",
    "        best_loss = val_loss\n",
    "        early_stopping_counter = 0  # 조기 종료 카운트를 초기화\n",
    "        torch.save(model.state_dict(), \"best_cnn_model.pth\")  # 모델의 가중치만 저장\n",
    "        # 파이토치는 keras와 다르게 전체 모델을 저장할 일은 없다. 매번 모델 재구성해서 복구해야 함.\n",
    "    else:\n",
    "        early_stopping_counter += 1\n",
    "        if early_stopping_counter >= patience:\n",
    "            print(f\"{epoch+1}번째 에포크에서 조기 종료되었습니다.\")\n",
    "            break  # 반복 종료"
   ]
  },
  {
   "cell_type": "code",
   "execution_count": 52,
   "id": "04be5d12",
   "metadata": {},
   "outputs": [
    {
     "data": {
      "image/png": "[encoded data removed]",
      "text/plain": [
       "<Figure size 640x480 with 1 Axes>"
      ]
     },
     "metadata": {},
     "output_type": "display_data"
    }
   ],
   "source": [
    "import matplotlib.pyplot as plt\n",
    "\n",
    "# 검증 세트의 loss 경향성 그래프 그리기\n",
    "plt.plot(train_history, label='train') # 훈련 세트의 loss\n",
    "plt.plot(val_history, label='val')     # 검증 세트의 loss\n",
    "\n",
    "plt.xlabel('epoch')\n",
    "plt.ylabel('loss')\n",
    "\n",
    "plt.legend()\n",
    "plt.show()"
   ]
  },
  {
   "cell_type": "code",
   "execution_count": 53,
   "id": "844ed75c",
   "metadata": {},
   "outputs": [
    {
     "data": {
      "text/plain": [
       "<All keys matched successfully>"
      ]
     },
     "execution_count": 53,
     "metadata": {},
     "output_type": "execute_result"
    }
   ],
   "source": [
    "# 모델 가중치 불러오기 \n",
    "model.load_state_dict(torch.load('best_cnn_model.pth',  weights_only=True))"
   ]
  },
  {
   "cell_type": "code",
   "execution_count": 54,
   "id": "76a0406f",
   "metadata": {},
   "outputs": [
    {
     "name": "stdout",
     "output_type": "stream",
     "text": [
      "val_accuracy: 0.9154, val_loss: 0.2797\n"
     ]
    }
   ],
   "source": [
    "# 검증 세트의 loss(손실값), accuracy(정확도)\n",
    "model.eval()\n",
    "corrects = 0\n",
    "val_loss = 0\n",
    "with torch.no_grad():\n",
    "    for inputs, targets in val_loader:\n",
    "        inputs, targets = inputs.to(device), targets.to(device)\n",
    "        outputs = model(inputs)\n",
    "        predicts = torch.argmax(outputs, 1)\n",
    "        # print(predicts[:10])\n",
    "        corrects += (predicts == targets).sum().item()\n",
    "\n",
    "        loss = criterion(outputs, targets)\n",
    "        val_loss += loss.item()\n",
    "\n",
    "accuracy = corrects / len(val_target)\n",
    "val_loss = val_loss / len(val_loader)\n",
    "print(f\"val_accuracy: {accuracy:.4f}, val_loss: {loss.item():.4f}\")"
   ]
  }
 ],
 "metadata": {
  "kernelspec": {
   "display_name": ".venv",
   "language": "python",
   "name": "python3"
  },
  "language_info": {
   "codemirror_mode": {
    "name": "ipython",
    "version": 3
   },
   "file_extension": ".py",
   "mimetype": "text/x-python",
   "name": "python",
   "nbconvert_exporter": "python",
   "pygments_lexer": "ipython3",
   "version": "3.12.10"
  }
 },
 "nbformat": 4,
 "nbformat_minor": 5
}
