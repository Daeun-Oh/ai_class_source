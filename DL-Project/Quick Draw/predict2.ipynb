{
 "cells": [
  {
   "cell_type": "code",
   "execution_count": null,
   "id": "3d0517a7",
   "metadata": {},
   "outputs": [],
   "source": [
    "import os\n",
    "import tf_keras as keras"
   ]
  },
  {
   "cell_type": "code",
   "execution_count": 14,
   "id": "cb2eaa7a",
   "metadata": {},
   "outputs": [],
   "source": [
    "path = \"best-model.keras\""
   ]
  },
  {
   "cell_type": "code",
   "execution_count": 16,
   "id": "5db2cff2",
   "metadata": {},
   "outputs": [
    {
     "ename": "TypeError",
     "evalue": "'str' object is not callable",
     "output_type": "error",
     "traceback": [
      "\u001b[31m---------------------------------------------------------------------------\u001b[39m",
      "\u001b[31mTypeError\u001b[39m                                 Traceback (most recent call last)",
      "\u001b[36mCell\u001b[39m\u001b[36m \u001b[39m\u001b[32mIn[16]\u001b[39m\u001b[32m, line 1\u001b[39m\n\u001b[32m----> \u001b[39m\u001b[32m1\u001b[39m model = \u001b[43mkeras\u001b[49m\u001b[43m.\u001b[49m\u001b[43mmodels\u001b[49m\u001b[43m.\u001b[49m\u001b[43mload_model\u001b[49m\u001b[43m(\u001b[49m\u001b[43mpath\u001b[49m\u001b[43m)\u001b[49m\n\u001b[32m      2\u001b[39m model\n",
      "\u001b[36mFile \u001b[39m\u001b[32m~/Documents/study/mldl2/.venv/lib/python3.12/site-packages/tf_keras/src/saving/saving_api.py:254\u001b[39m, in \u001b[36mload_model\u001b[39m\u001b[34m(filepath, custom_objects, compile, safe_mode, **kwargs)\u001b[39m\n\u001b[32m    249\u001b[39m     \u001b[38;5;28;01mif\u001b[39;00m kwargs:\n\u001b[32m    250\u001b[39m         \u001b[38;5;28;01mraise\u001b[39;00m \u001b[38;5;167;01mValueError\u001b[39;00m(\n\u001b[32m    251\u001b[39m             \u001b[33m\"\u001b[39m\u001b[33mThe following argument(s) are not supported \u001b[39m\u001b[33m\"\u001b[39m\n\u001b[32m    252\u001b[39m             \u001b[33mf\u001b[39m\u001b[33m\"\u001b[39m\u001b[33mwith the native TF-Keras format: \u001b[39m\u001b[38;5;132;01m{\u001b[39;00m\u001b[38;5;28mlist\u001b[39m(kwargs.keys())\u001b[38;5;132;01m}\u001b[39;00m\u001b[33m\"\u001b[39m\n\u001b[32m    253\u001b[39m         )\n\u001b[32m--> \u001b[39m\u001b[32m254\u001b[39m     \u001b[38;5;28;01mreturn\u001b[39;00m \u001b[43msaving_lib\u001b[49m\u001b[43m.\u001b[49m\u001b[43mload_model\u001b[49m\u001b[43m(\u001b[49m\n\u001b[32m    255\u001b[39m \u001b[43m        \u001b[49m\u001b[43mfilepath\u001b[49m\u001b[43m,\u001b[49m\n\u001b[32m    256\u001b[39m \u001b[43m        \u001b[49m\u001b[43mcustom_objects\u001b[49m\u001b[43m=\u001b[49m\u001b[43mcustom_objects\u001b[49m\u001b[43m,\u001b[49m\n\u001b[32m    257\u001b[39m \u001b[43m        \u001b[49m\u001b[38;5;28;43mcompile\u001b[39;49m\u001b[43m=\u001b[49m\u001b[38;5;28;43mcompile\u001b[39;49m\u001b[43m,\u001b[49m\n\u001b[32m    258\u001b[39m \u001b[43m        \u001b[49m\u001b[43msafe_mode\u001b[49m\u001b[43m=\u001b[49m\u001b[43msafe_mode\u001b[49m\u001b[43m,\u001b[49m\n\u001b[32m    259\u001b[39m \u001b[43m    \u001b[49m\u001b[43m)\u001b[49m\n\u001b[32m    261\u001b[39m \u001b[38;5;66;03m# Legacy case.\u001b[39;00m\n\u001b[32m    262\u001b[39m \u001b[38;5;28;01mreturn\u001b[39;00m legacy_sm_saving_lib.load_model(\n\u001b[32m    263\u001b[39m     filepath, custom_objects=custom_objects, \u001b[38;5;28mcompile\u001b[39m=\u001b[38;5;28mcompile\u001b[39m, **kwargs\n\u001b[32m    264\u001b[39m )\n",
      "\u001b[36mFile \u001b[39m\u001b[32m~/Documents/study/mldl2/.venv/lib/python3.12/site-packages/tf_keras/src/saving/saving_lib.py:271\u001b[39m, in \u001b[36mload_model\u001b[39m\u001b[34m(filepath, custom_objects, compile, safe_mode)\u001b[39m\n\u001b[32m    268\u001b[39m             asset_store.close()\n\u001b[32m    270\u001b[39m \u001b[38;5;28;01mexcept\u001b[39;00m \u001b[38;5;167;01mException\u001b[39;00m \u001b[38;5;28;01mas\u001b[39;00m e:\n\u001b[32m--> \u001b[39m\u001b[32m271\u001b[39m     \u001b[38;5;28;01mraise\u001b[39;00m e\n\u001b[32m    272\u001b[39m \u001b[38;5;28;01melse\u001b[39;00m:\n\u001b[32m    273\u001b[39m     \u001b[38;5;28;01mreturn\u001b[39;00m model\n",
      "\u001b[36mFile \u001b[39m\u001b[32m~/Documents/study/mldl2/.venv/lib/python3.12/site-packages/tf_keras/src/saving/saving_lib.py:236\u001b[39m, in \u001b[36mload_model\u001b[39m\u001b[34m(filepath, custom_objects, compile, safe_mode)\u001b[39m\n\u001b[32m    234\u001b[39m \u001b[38;5;66;03m# Construct the model from the configuration file in the archive.\u001b[39;00m\n\u001b[32m    235\u001b[39m \u001b[38;5;28;01mwith\u001b[39;00m ObjectSharingScope():\n\u001b[32m--> \u001b[39m\u001b[32m236\u001b[39m     model = \u001b[43mdeserialize_keras_object\u001b[49m\u001b[43m(\u001b[49m\n\u001b[32m    237\u001b[39m \u001b[43m        \u001b[49m\u001b[43mconfig_dict\u001b[49m\u001b[43m,\u001b[49m\u001b[43m \u001b[49m\u001b[43mcustom_objects\u001b[49m\u001b[43m,\u001b[49m\u001b[43m \u001b[49m\u001b[43msafe_mode\u001b[49m\u001b[43m=\u001b[49m\u001b[43msafe_mode\u001b[49m\n\u001b[32m    238\u001b[39m \u001b[43m    \u001b[49m\u001b[43m)\u001b[49m\n\u001b[32m    240\u001b[39m all_filenames = zf.namelist()\n\u001b[32m    241\u001b[39m \u001b[38;5;28;01mif\u001b[39;00m _VARS_FNAME + \u001b[33m\"\u001b[39m\u001b[33m.h5\u001b[39m\u001b[33m\"\u001b[39m \u001b[38;5;129;01min\u001b[39;00m all_filenames:\n",
      "\u001b[36mFile \u001b[39m\u001b[32m~/Documents/study/mldl2/.venv/lib/python3.12/site-packages/tf_keras/src/saving/serialization_lib.py:727\u001b[39m, in \u001b[36mdeserialize_keras_object\u001b[39m\u001b[34m(config, custom_objects, safe_mode, **kwargs)\u001b[39m\n\u001b[32m    725\u001b[39m safe_mode_scope = SafeModeScope(safe_mode)\n\u001b[32m    726\u001b[39m \u001b[38;5;28;01mwith\u001b[39;00m custom_obj_scope, safe_mode_scope:\n\u001b[32m--> \u001b[39m\u001b[32m727\u001b[39m     instance = \u001b[38;5;28;43mcls\u001b[39;49m\u001b[43m.\u001b[49m\u001b[43mfrom_config\u001b[49m\u001b[43m(\u001b[49m\u001b[43minner_config\u001b[49m\u001b[43m)\u001b[49m\n\u001b[32m    728\u001b[39m     build_config = config.get(\u001b[33m\"\u001b[39m\u001b[33mbuild_config\u001b[39m\u001b[33m\"\u001b[39m, \u001b[38;5;28;01mNone\u001b[39;00m)\n\u001b[32m    729\u001b[39m     \u001b[38;5;28;01mif\u001b[39;00m build_config:\n",
      "\u001b[36mFile \u001b[39m\u001b[32m~/Documents/study/mldl2/.venv/lib/python3.12/site-packages/tf_keras/src/engine/training.py:3325\u001b[39m, in \u001b[36mModel.from_config\u001b[39m\u001b[34m(cls, config, custom_objects)\u001b[39m\n\u001b[32m   3317\u001b[39m revivable_as_functional = (\n\u001b[32m   3318\u001b[39m     \u001b[38;5;28mcls\u001b[39m \u001b[38;5;129;01min\u001b[39;00m {functional.Functional, Model}\n\u001b[32m   3319\u001b[39m     \u001b[38;5;129;01mor\u001b[39;00m argspec.args[\u001b[32m1\u001b[39m:] == functional_init_args\n\u001b[32m   3320\u001b[39m     \u001b[38;5;129;01mor\u001b[39;00m (argspec.varargs == \u001b[33m\"\u001b[39m\u001b[33margs\u001b[39m\u001b[33m\"\u001b[39m \u001b[38;5;129;01mand\u001b[39;00m argspec.varkw == \u001b[33m\"\u001b[39m\u001b[33mkwargs\u001b[39m\u001b[33m\"\u001b[39m)\n\u001b[32m   3321\u001b[39m )\n\u001b[32m   3322\u001b[39m \u001b[38;5;28;01mif\u001b[39;00m is_functional_config \u001b[38;5;129;01mand\u001b[39;00m revivable_as_functional:\n\u001b[32m   3323\u001b[39m     \u001b[38;5;66;03m# Revive Functional model\u001b[39;00m\n\u001b[32m   3324\u001b[39m     \u001b[38;5;66;03m# (but not Functional subclasses with a custom __init__)\u001b[39;00m\n\u001b[32m-> \u001b[39m\u001b[32m3325\u001b[39m     inputs, outputs, layers = \u001b[43mfunctional\u001b[49m\u001b[43m.\u001b[49m\u001b[43mreconstruct_from_config\u001b[49m\u001b[43m(\u001b[49m\n\u001b[32m   3326\u001b[39m \u001b[43m        \u001b[49m\u001b[43mconfig\u001b[49m\u001b[43m,\u001b[49m\u001b[43m \u001b[49m\u001b[43mcustom_objects\u001b[49m\n\u001b[32m   3327\u001b[39m \u001b[43m    \u001b[49m\u001b[43m)\u001b[49m\n\u001b[32m   3328\u001b[39m     model = \u001b[38;5;28mcls\u001b[39m(\n\u001b[32m   3329\u001b[39m         inputs=inputs, outputs=outputs, name=config.get(\u001b[33m\"\u001b[39m\u001b[33mname\u001b[39m\u001b[33m\"\u001b[39m)\n\u001b[32m   3330\u001b[39m     )\n\u001b[32m   3331\u001b[39m     functional.connect_ancillary_layers(model, layers)\n",
      "\u001b[36mFile \u001b[39m\u001b[32m~/Documents/study/mldl2/.venv/lib/python3.12/site-packages/tf_keras/src/engine/functional.py:1504\u001b[39m, in \u001b[36mreconstruct_from_config\u001b[39m\u001b[34m(config, custom_objects, created_layers)\u001b[39m\n\u001b[32m   1502\u001b[39m \u001b[38;5;28;01mwhile\u001b[39;00m layer_nodes:\n\u001b[32m   1503\u001b[39m     node_data = layer_nodes[\u001b[32m0\u001b[39m]\n\u001b[32m-> \u001b[39m\u001b[32m1504\u001b[39m     \u001b[38;5;28;01mif\u001b[39;00m \u001b[43mprocess_node\u001b[49m\u001b[43m(\u001b[49m\u001b[43mlayer\u001b[49m\u001b[43m,\u001b[49m\u001b[43m \u001b[49m\u001b[43mnode_data\u001b[49m\u001b[43m)\u001b[49m:\n\u001b[32m   1505\u001b[39m         layer_nodes.pop(\u001b[32m0\u001b[39m)\n\u001b[32m   1506\u001b[39m     \u001b[38;5;28;01melse\u001b[39;00m:\n\u001b[32m   1507\u001b[39m         \u001b[38;5;66;03m# If a node can't be processed, stop processing the\u001b[39;00m\n\u001b[32m   1508\u001b[39m         \u001b[38;5;66;03m# nodes of the current layer to maintain node ordering.\u001b[39;00m\n",
      "\u001b[36mFile \u001b[39m\u001b[32m~/Documents/study/mldl2/.venv/lib/python3.12/site-packages/tf_keras/src/engine/functional.py:1444\u001b[39m, in \u001b[36mreconstruct_from_config.<locals>.process_node\u001b[39m\u001b[34m(layer, node_data)\u001b[39m\n\u001b[32m   1437\u001b[39m \u001b[38;5;28;01mif\u001b[39;00m (\n\u001b[32m   1438\u001b[39m     \u001b[38;5;129;01mnot\u001b[39;00m \u001b[38;5;28mhasattr\u001b[39m(layer, \u001b[33m\"\u001b[39m\u001b[33m_preserve_input_structure_in_config\u001b[39m\u001b[33m\"\u001b[39m)\n\u001b[32m   1439\u001b[39m     \u001b[38;5;129;01mor\u001b[39;00m \u001b[38;5;129;01mnot\u001b[39;00m layer._preserve_input_structure_in_config\n\u001b[32m   1440\u001b[39m ):\n\u001b[32m   1441\u001b[39m     input_tensors = base_layer_utils.unnest_if_single_tensor(\n\u001b[32m   1442\u001b[39m         input_tensors\n\u001b[32m   1443\u001b[39m     )\n\u001b[32m-> \u001b[39m\u001b[32m1444\u001b[39m output_tensors = \u001b[43mlayer\u001b[49m\u001b[43m(\u001b[49m\u001b[43minput_tensors\u001b[49m\u001b[43m,\u001b[49m\u001b[43m \u001b[49m\u001b[43m*\u001b[49m\u001b[43m*\u001b[49m\u001b[43mkwargs\u001b[49m\u001b[43m)\u001b[49m\n\u001b[32m   1446\u001b[39m \u001b[38;5;66;03m# Update node index map.\u001b[39;00m\n\u001b[32m   1447\u001b[39m output_index = tf.nest.flatten(output_tensors)[\n\u001b[32m   1448\u001b[39m     \u001b[32m0\u001b[39m\n\u001b[32m   1449\u001b[39m ]._keras_history.node_index\n",
      "\u001b[31mTypeError\u001b[39m: 'str' object is not callable"
     ]
    }
   ],
   "source": [
    "model = keras.models.load_model(path)\n",
    "model"
   ]
  },
  {
   "cell_type": "code",
   "execution_count": null,
   "id": "98138331",
   "metadata": {},
   "outputs": [],
   "source": []
  }
 ],
 "metadata": {
  "kernelspec": {
   "display_name": ".venv",
   "language": "python",
   "name": "python3"
  },
  "language_info": {
   "codemirror_mode": {
    "name": "ipython",
    "version": 3
   },
   "file_extension": ".py",
   "mimetype": "text/x-python",
   "name": "python",
   "nbconvert_exporter": "python",
   "pygments_lexer": "ipython3",
   "version": "3.12.10"
  }
 },
 "nbformat": 4,
 "nbformat_minor": 5
}
