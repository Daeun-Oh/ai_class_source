{
 "cells": [
  {
   "cell_type": "code",
   "execution_count": 1,
   "id": "e244f0d5",
   "metadata": {},
   "outputs": [
    {
     "name": "stderr",
     "output_type": "stream",
     "text": [
      "c:\\Users\\admin\\Desktop\\Daeun-ai\\10 Fintech-NLP-AltData\\source\\.venv\\Lib\\site-packages\\tqdm\\auto.py:21: TqdmWarning: IProgress not found. Please update jupyter and ipywidgets. See https://ipywidgets.readthedocs.io/en/stable/user_install.html\n",
      "  from .autonotebook import tqdm as notebook_tqdm\n",
      "c:\\Users\\admin\\Desktop\\Daeun-ai\\10 Fintech-NLP-AltData\\source\\.venv\\Lib\\site-packages\\huggingface_hub\\file_download.py:143: UserWarning: `huggingface_hub` cache-system uses symlinks by default to efficiently store duplicated files but your machine does not support them in C:\\Users\\admin\\.cache\\huggingface\\hub\\models--LGAI-EXAONE--EXAONE-3.5-2.4B-Instruct. Caching files will still work but in a degraded version that might require more space on your disk. This warning can be disabled by setting the `HF_HUB_DISABLE_SYMLINKS_WARNING` environment variable. For more details, see https://huggingface.co/docs/huggingface_hub/how-to-cache#limitations.\n",
      "To support symlinks on Windows, you either need to activate Developer Mode or to run Python as an administrator. In order to activate developer mode, see this article: https://docs.microsoft.com/en-us/windows/apps/get-started/enable-your-device-for-development\n",
      "  warnings.warn(message)\n"
     ]
    }
   ],
   "source": [
    "from transformers import AutoTokenizer\n",
    "tokenizer = AutoTokenizer.from_pretrained(\n",
    "    \"LGAI-EXAONE/EXAONE-3.5-2.4B-Instruct\"\n",
    ")"
   ]
  },
  {
   "cell_type": "code",
   "execution_count": 2,
   "id": "2451f036",
   "metadata": {},
   "outputs": [
    {
     "name": "stderr",
     "output_type": "stream",
     "text": [
      "A new version of the following files was downloaded from https://huggingface.co/LGAI-EXAONE/EXAONE-3.5-2.4B-Instruct:\n",
      "- configuration_exaone.py\n",
      ". Make sure to double-check they do not contain any added malicious code. To avoid downloading new versions of the code file, you can pin a revision.\n",
      "A new version of the following files was downloaded from https://huggingface.co/LGAI-EXAONE/EXAONE-3.5-2.4B-Instruct:\n",
      "- modeling_exaone.py\n",
      ". Make sure to double-check they do not contain any added malicious code. To avoid downloading new versions of the code file, you can pin a revision.\n",
      "Fetching 2 files: 100%|██████████| 2/2 [13:29<00:00, 404.60s/it]\n",
      "Loading checkpoint shards: 100%|██████████| 2/2 [00:00<00:00, 11.59it/s]\n",
      "Device set to use cpu\n"
     ]
    }
   ],
   "source": [
    "from transformers import pipeline\n",
    "\n",
    "pipe = pipeline(task=\"text-generation\",\n",
    "                model=\"LGAI-EXAONE/EXAONE-3.5-2.4B-Instruct\", # 생성형 모델 (디코더 기반 모델)\n",
    "                tokenizer=tokenizer,\n",
    "                trust_remote_code=True)  # 실행 할래말래 안 함"
   ]
  },
  {
   "cell_type": "code",
   "execution_count": 3,
   "id": "2edb8724",
   "metadata": {},
   "outputs": [],
   "source": [
    "messages = [\n",
    "    {\"role\": \"system\",\n",
    "     \"content\": \"너는 쇼핑몰 홈페이지에 올라온 질문에 대답하는 Q&A 챗봇이야. \\\n",
    "                 확정적인 답변을 하지 말고 제품 담당자가 정확한 답변을 하기 위해 \\\n",
    "                 시간이 필요하다는 간단하고 친절한 답변을 생성해줘.\"},\n",
    "    {\"role\": \"user\", \"content\": \"이 다이어리에 내년도 공휴일이 표시되어 있나요?\"}\n",
    "]"
   ]
  },
  {
   "cell_type": "code",
   "execution_count": 8,
   "id": "bbd7a803",
   "metadata": {},
   "outputs": [
    {
     "data": {
      "text/plain": [
       "[{'generated_text': ' olié물론하시는 정보확인 차 담당자분들한테나께 확인절次순위에서 질문 부탁드려요!\\\\ 그럴 만한 처리 속도 받아보면서도 최선이니 좀 도와드려주시는지 한번 문의드릴까요?> 정확 details 파악에 즉시 필요한가벼리신 추가 요청이라든가도 같이 체크바라 주세요~~ 💫✨  확인 완료 즉시 피드백 보내 드lify 드릴게요。! 😉 Thank � Pandora표  ✨❤✨ \\t// 간략체 변형  제품 출시 및 내년 날짜가 고정형식이여서 상세히 검토하기 위해 신속함을 보장받고 바로바로 피드백 필요하니 확인바래요!! 확인 빠르시려고 도와요! 💝 👺♊⚡❒ 😉ThankYOU☠Forasking   다시 간단히 돌려봅시다:: 담당자 시간 확인해서 가장 빨라게 답 드lify 부탁드립니다^^ 정확 내용 알아보려는 신속해보이면 아주 도울 수록 최고 👇🏷✨⭐🏅 💰✂◇✨🏎! 그럼 연락드리도록요 �'}]"
      ]
     },
     "execution_count": 8,
     "metadata": {},
     "output_type": "execute_result"
    }
   ],
   "source": [
    "pipe(messages, max_new_tokens=200, return_full_text=False, do_sample=True, temperature=10.0)"
   ]
  },
  {
   "cell_type": "code",
   "execution_count": 9,
   "id": "ff593de2",
   "metadata": {},
   "outputs": [
    {
     "data": {
      "text/plain": [
       "[{'generated_text': '안녕하세요! 다이어리의 정확한 공휴일 표시 여부를 확인해 드리기 위해서는 제품에 대한 좀 더 자세한 정보가 필요합니다. 현재는 제품 담당자께서 최신 정보를 바탕으로 답변을 준비 중이니까요, 조금만 기다려 주세요! 곧 정확한 답변을 드릴 수 있을 것 같습니다. 감사합니다!'}]"
      ]
     },
     "execution_count": 9,
     "metadata": {},
     "output_type": "execute_result"
    }
   ],
   "source": [
    "pipe(messages, max_new_tokens=200, return_full_text=False, do_sample=True, \n",
    "     top_k=10)"
   ]
  }
 ],
 "metadata": {
  "kernelspec": {
   "display_name": ".venv",
   "language": "python",
   "name": "python3"
  },
  "language_info": {
   "codemirror_mode": {
    "name": "ipython",
    "version": 3
   },
   "file_extension": ".py",
   "mimetype": "text/x-python",
   "name": "python",
   "nbconvert_exporter": "python",
   "pygments_lexer": "ipython3",
   "version": "3.12.10"
  }
 },
 "nbformat": 4,
 "nbformat_minor": 5
}
