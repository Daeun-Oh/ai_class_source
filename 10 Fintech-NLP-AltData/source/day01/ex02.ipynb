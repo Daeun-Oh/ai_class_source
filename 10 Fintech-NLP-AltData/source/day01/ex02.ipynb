{
 "cells": [
  {
   "cell_type": "markdown",
   "id": "731f2973",
   "metadata": {},
   "source": [
    "torch에는 imdb 데이터를 제공하지 않음. 그래서 keras에서 데이터셋을 받아와서 훈련."
   ]
  },
  {
   "cell_type": "code",
   "execution_count": 47,
   "id": "6c7f7715",
   "metadata": {},
   "outputs": [
    {
     "name": "stdout",
     "output_type": "stream",
     "text": [
      "(20000, 100) (20000,)\n"
     ]
    }
   ],
   "source": [
    "import torch\n",
    "from tensorflow import keras\n",
    "from keras.datasets import imdb\n",
    "from sklearn.model_selection import train_test_split\n",
    "from keras.preprocessing.sequence import pad_sequences\n",
    "\n",
    "# IMDB 데이터셋\n",
    "(train_input, train_target), (test_input, test_target) = imdb.load_data(\n",
    "    num_words=500\n",
    ")\n",
    "\n",
    "# 훈련/검증 세트 분리\n",
    "train_input, val_input, train_target, val_target = train_test_split(\n",
    "    train_input, train_target, test_size=0.2, random_state=42\n",
    ")\n",
    "\n",
    "# 패딩 처리\n",
    "train_seq = pad_sequences(train_input, maxlen=100)\n",
    "val_seq = pad_sequences(val_input, maxlen=100)\n",
    "\n",
    "print(train_seq.shape, train_target.shape)"
   ]
  },
  {
   "cell_type": "code",
   "execution_count": 48,
   "id": "2601e0b8",
   "metadata": {},
   "outputs": [
    {
     "data": {
      "text/plain": [
       "dtype('int64')"
      ]
     },
     "execution_count": 48,
     "metadata": {},
     "output_type": "execute_result"
    }
   ],
   "source": [
    "# 파이토치 torch.tensor 자료형으로 변환\n",
    "train_seq = torch.tensor(train_seq)\n",
    "val_seq = torch.tensor(val_seq)\n",
    "\n",
    "train_target.dtype"
   ]
  },
  {
   "cell_type": "markdown",
   "id": "2734a8a8",
   "metadata": {},
   "source": [
    "파이토치에서의 타겟 데이터는 0과 1만 있더라도, 실수 형태여야 한다."
   ]
  },
  {
   "cell_type": "code",
   "execution_count": 49,
   "id": "e7237bec",
   "metadata": {},
   "outputs": [
    {
     "data": {
      "text/plain": [
       "torch.float32"
      ]
     },
     "execution_count": 49,
     "metadata": {},
     "output_type": "execute_result"
    }
   ],
   "source": [
    "train_target = torch.tensor(train_target, dtype=torch.float32)\n",
    "val_target = torch.tensor(val_target, dtype=torch.float32)\n",
    "\n",
    "train_target.dtype"
   ]
  },
  {
   "cell_type": "code",
   "execution_count": 50,
   "id": "0f1c7b37",
   "metadata": {},
   "outputs": [],
   "source": [
    "from torch.utils.data import TensorDataset, DataLoader\n",
    "\n",
    "# TensorDataset: 가공된 입력과 타깃을 하나의 PyTorch 데이터셋으로 통합\n",
    "train_dataset = TensorDataset(train_seq, train_target)\n",
    "val_dataset = TensorDataset(val_seq, val_target)\n",
    "\n",
    "# DataLoader: 32 배치 단위로, 훈련 세트는 섞어서(shuffle) 검증 데이터는 순서대로 나눠준다.\n",
    "train_loader = DataLoader(train_dataset, batch_size=32, shuffle=True)\n",
    "val_loader = DataLoader(val_dataset, batch_size=32, shuffle=False)"
   ]
  },
  {
   "cell_type": "code",
   "execution_count": 51,
   "id": "a6da02bd",
   "metadata": {},
   "outputs": [],
   "source": [
    "# 층 구성 - nn.Module 클래스 상속을 통한 RNN 기반 IMDB 이진 분류 모델\n",
    "import torch.nn as nn\n",
    "\n",
    "class IMDBRnn(nn.Module):\n",
    "    def __init__(self):\n",
    "        super().__init__()\n",
    "\n",
    "        # 단어 인덱스를 16차원 임베딩 벡터로 변환 (단어 수 500개 제한)\n",
    "        self.embedding = nn.Embedding(500, 16)\n",
    "\n",
    "        # RNN 층: 입력 크기 16 (임베딩 차원), 은닉 상태 크기 8\n",
    "        # batch_first=True → 입력, 출력 텐서 shape를 바꿈\n",
    "        # : (시퀀스 길이, 배치 크기, 임베딩 크기) → (배치 크기, 시퀀스 길이, 임베딩 크기)\n",
    "        self.rnn = nn.RNN(16, 8, batch_first=True)\n",
    "\n",
    "        # 완전 연결층: RNN의 마지막 은닉 상태(8차원)를 1차원으로 매핑\n",
    "        self.dense = nn.Linear(8, 1)\n",
    "\n",
    "        # 시그모이드 활성화 함수: 0~1 사이 확률값 출력\n",
    "        self.sigmoid = nn.Sigmoid()\n",
    "\n",
    "    def forward(self, x):\n",
    "        # x: (batch_size, seq_len)\n",
    "        x = self.embedding(x)      # → (batch_size, seq_len, embedding_dim)\n",
    "        _, hidden = self.rnn(x)    # hidden: (1, batch_size, hidden_size)\n",
    "\n",
    "        \n",
    "        outputs = self.dense(hidden[-1])\n",
    "        return self.sigmoid(outputs)"
   ]
  },
  {
   "cell_type": "code",
   "execution_count": 52,
   "id": "ae1e16a7",
   "metadata": {},
   "outputs": [
    {
     "data": {
      "text/plain": [
       "=================================================================\n",
       "Layer (type:depth-idx)                   Param #\n",
       "=================================================================\n",
       "IMDBRnn                                  --\n",
       "├─Embedding: 1-1                         8,000\n",
       "├─RNN: 1-2                               208\n",
       "├─Linear: 1-3                            9\n",
       "├─Sigmoid: 1-4                           --\n",
       "=================================================================\n",
       "Total params: 8,217\n",
       "Trainable params: 8,217\n",
       "Non-trainable params: 0\n",
       "================================================================="
      ]
     },
     "execution_count": 52,
     "metadata": {},
     "output_type": "execute_result"
    }
   ],
   "source": [
    "from torchinfo import summary\n",
    "model = IMDBRnn()\n",
    "\n",
    "summary(model)"
   ]
  },
  {
   "cell_type": "code",
   "execution_count": 53,
   "id": "d2a04561",
   "metadata": {},
   "outputs": [
    {
     "data": {
      "text/plain": [
       "IMDBRnn(\n",
       "  (embedding): Embedding(500, 16)\n",
       "  (rnn): RNN(16, 8, batch_first=True)\n",
       "  (dense): Linear(in_features=8, out_features=1, bias=True)\n",
       "  (sigmoid): Sigmoid()\n",
       ")"
      ]
     },
     "execution_count": 53,
     "metadata": {},
     "output_type": "execute_result"
    }
   ],
   "source": [
    "device = torch.device(\"cuda\" if torch.cuda.is_available() else \"cpu\")\n",
    "model.to(device)"
   ]
  },
  {
   "cell_type": "code",
   "execution_count": 54,
   "id": "16ee86e8",
   "metadata": {},
   "outputs": [],
   "source": [
    "# 옵티마이저, 손실함수\n",
    "import torch.optim as optim\n",
    "\n",
    "criterion = nn.BCELoss()\n",
    "optimizer = optim.Adam(model.parameters())"
   ]
  },
  {
   "cell_type": "code",
   "execution_count": 55,
   "id": "7890fc74",
   "metadata": {},
   "outputs": [
    {
     "name": "stdout",
     "output_type": "stream",
     "text": [
      "Epochs 1/100\n",
      "accuracy: 0.5092 - loss: 0.6952 - val_accuracy: 0.5144 - val_loss: 0.6901\n",
      "Epochs 2/100\n",
      "accuracy: 0.5335 - loss: 0.6865 - val_accuracy: 0.5560 - val_loss: 0.6849\n",
      "Epochs 3/100\n",
      "accuracy: 0.5685 - loss: 0.6769 - val_accuracy: 0.5660 - val_loss: 0.6745\n",
      "Epochs 4/100\n",
      "accuracy: 0.6047 - loss: 0.6552 - val_accuracy: 0.6232 - val_loss: 0.6498\n",
      "Epochs 5/100\n",
      "accuracy: 0.6557 - loss: 0.6205 - val_accuracy: 0.6578 - val_loss: 0.6166\n",
      "Epochs 6/100\n",
      "accuracy: 0.6931 - loss: 0.5871 - val_accuracy: 0.6880 - val_loss: 0.5970\n",
      "Epochs 7/100\n",
      "accuracy: 0.7127 - loss: 0.5629 - val_accuracy: 0.7078 - val_loss: 0.5789\n",
      "Epochs 8/100\n",
      "accuracy: 0.7245 - loss: 0.5517 - val_accuracy: 0.7162 - val_loss: 0.5675\n",
      "Epochs 9/100\n",
      "accuracy: 0.7227 - loss: 0.5642 - val_accuracy: 0.5160 - val_loss: 0.8277\n",
      "Epochs 10/100\n",
      "accuracy: 0.6490 - loss: 0.6256 - val_accuracy: 0.6594 - val_loss: 0.6082\n",
      "Epochs 11/100\n",
      "accuracy: 0.7278 - loss: 0.5469 - val_accuracy: 0.7122 - val_loss: 0.5768\n",
      "Early Stopped - 11 epochs\n"
     ]
    }
   ],
   "source": [
    "train_hist = []  # loss값 기록\n",
    "val_hist = []  # loss값 기록\n",
    "patience = 3\n",
    "best_loss = 2\n",
    "early_stopping_counter = 0\n",
    "\n",
    "epochs = 100\n",
    "for epoch in range(epochs):\n",
    "    model.train()\n",
    "    train_loss = 0\n",
    "    train_correct = 0\n",
    "    total_train = 0\n",
    "\n",
    "    for inputs, targets in train_loader:\n",
    "        inputs, targets = inputs.to(device), targets.to(device).float()\n",
    "        optimizer.zero_grad()\n",
    "\n",
    "        outputs = model(inputs).squeeze(1)  # outputs.squeeze(1): 2차원 배열 -> 1차원 배열\n",
    "        loss = criterion(outputs, targets)\n",
    "        loss.backward()\n",
    "        optimizer.step()\n",
    "\n",
    "        train_loss += loss.item()\n",
    "        preds = (outputs >= 0.5).float()\n",
    "        train_correct += (preds == targets).sum().item()\n",
    "        total_train += targets.size(0)\n",
    "\n",
    "    model.eval()\n",
    "    val_loss = 0\n",
    "    val_correct = 0\n",
    "    total_val = 0\n",
    "\n",
    "    with torch.no_grad():\n",
    "        for inputs, targets in val_loader:\n",
    "            inputs, targets = inputs.to(device), targets.to(device).float()\n",
    "            outputs = model(inputs).squeeze(1)\n",
    "            loss = criterion(outputs, targets)\n",
    "            val_loss += loss.item()\n",
    "\n",
    "            preds = (outputs >= 0.5).float()\n",
    "            val_correct += (preds == targets).sum().item()\n",
    "            total_val += targets.size(0)\n",
    "\n",
    "    train_loss /= len(train_loader)  # 훈련 세트의 1에포크당 평균 loss\n",
    "    val_loss /= len(val_loader)  # 검증 세트의 1에포크당 평균 loss\n",
    "    train_acc = train_correct / total_train\n",
    "    val_acc = val_correct / total_val\n",
    "\n",
    "    train_hist.append(train_loss)\n",
    "    val_hist.append(val_loss)\n",
    "\n",
    "    print(f\"Epochs {epoch+1}/{epochs}\")\n",
    "    print(f\"accuracy: {train_acc:.4f} - loss: {train_loss:.4f} - val_accuracy: {val_acc:.4f} - val_loss: {val_loss:.4f}\")\n",
    "\n",
    "    if (val_loss < best_loss):\n",
    "        best_loss = val_loss\n",
    "        early_stopping_counter = 0\n",
    "        torch.save(model.state_dict(), 'best_rnn_model.pth')\n",
    "    else:\n",
    "        early_stopping_counter += 1\n",
    "        if (early_stopping_counter >= patience):\n",
    "            print(f\"Early Stopped - {epoch+1} epochs\")\n",
    "            break"
   ]
  },
  {
   "cell_type": "code",
   "execution_count": null,
   "id": "c3749fec",
   "metadata": {},
   "outputs": [],
   "source": []
  }
 ],
 "metadata": {
  "kernelspec": {
   "display_name": ".venv",
   "language": "python",
   "name": "python3"
  },
  "language_info": {
   "codemirror_mode": {
    "name": "ipython",
    "version": 3
   },
   "file_extension": ".py",
   "mimetype": "text/x-python",
   "name": "python",
   "nbconvert_exporter": "python",
   "pygments_lexer": "ipython3",
   "version": "3.12.10"
  }
 },
 "nbformat": 4,
 "nbformat_minor": 5
}
