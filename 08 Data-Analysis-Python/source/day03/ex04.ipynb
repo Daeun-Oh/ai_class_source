{
 "cells": [
  {
   "cell_type": "markdown",
   "id": "a88449e6",
   "metadata": {},
   "source": [
    "# 사용자의 입력\n",
    "```python\n",
    "input()\n",
    "input(\"안내문구\")\n",
    "```\n",
    "\n",
    "- 입력한 값은 모두 문자열\n",
    "```python\n",
    "int(...) : 문자열 정수, 실수 -> 정수\n",
    "float(...) : 문자열 실수 -> 실수\n",
    "str(...): 문자열이 아닌 값을 문자열로 변환\n",
    "```"
   ]
  },
  {
   "cell_type": "code",
   "execution_count": 1,
   "id": "9bbba88d",
   "metadata": {},
   "outputs": [
    {
     "data": {
      "text/plain": [
       "'hello'"
      ]
     },
     "execution_count": 1,
     "metadata": {},
     "output_type": "execute_result"
    }
   ],
   "source": [
    "a = input()\n",
    "a"
   ]
  },
  {
   "cell_type": "code",
   "execution_count": 4,
   "id": "901c5b38",
   "metadata": {},
   "outputs": [
    {
     "data": {
      "text/plain": [
       "111"
      ]
     },
     "execution_count": 4,
     "metadata": {},
     "output_type": "execute_result"
    }
   ],
   "source": [
    "num1 = input(\"수1 입력: \")\n",
    "num2 = input(\"수2 입력: \")\n",
    "result = int(num1) + int(num2)\n",
    "result"
   ]
  },
  {
   "cell_type": "markdown",
   "id": "be337da5",
   "metadata": {},
   "source": [
    "## print 함수\n",
    "- 여러 개의 값을 출력하는 경우\n",
    "    - 여러 개의 값"
   ]
  },
  {
   "cell_type": "code",
   "execution_count": null,
   "id": "287507c0",
   "metadata": {},
   "outputs": [
    {
     "name": "stdout",
     "output_type": "stream",
     "text": [
      "여러분안녕하세요.반갑습니다.\n",
      "여러분안녕하세요.반갑습니다\n"
     ]
    }
   ],
   "source": [
    "print(\"여러분\" \"안녕하세요.\" '반갑습니다.')\n",
    "print(\"여러분\"+\"안녕하세요.\"+\"반갑습니다\")"
   ]
  },
  {
   "cell_type": "code",
   "execution_count": 7,
   "id": "0620e6b7",
   "metadata": {},
   "outputs": [
    {
     "name": "stdout",
     "output_type": "stream",
     "text": [
      "여러분 안녕하세요. 반갑습니다\n"
     ]
    }
   ],
   "source": [
    "print(\"여러분\", \"안녕하세요.\", \"반갑습니다\")"
   ]
  },
  {
   "cell_type": "code",
   "execution_count": 9,
   "id": "f6135a5a",
   "metadata": {},
   "outputs": [
    {
     "name": "stdout",
     "output_type": "stream",
     "text": [
      "100+200=300\n"
     ]
    }
   ],
   "source": [
    "print(\"100\", end=\"\")\n",
    "print(\"+\", end=\"\")\n",
    "print(\"200\", end=\"\")\n",
    "print(\"=\", end=\"\")\n",
    "print(\"300\")"
   ]
  },
  {
   "cell_type": "code",
   "execution_count": null,
   "id": "4299b2e6",
   "metadata": {},
   "outputs": [],
   "source": []
  }
 ],
 "metadata": {
  "kernelspec": {
   "display_name": "basic",
   "language": "python",
   "name": "python3"
  },
  "language_info": {
   "codemirror_mode": {
    "name": "ipython",
    "version": 3
   },
   "file_extension": ".py",
   "mimetype": "text/x-python",
   "name": "python",
   "nbconvert_exporter": "python",
   "pygments_lexer": "ipython3",
   "version": "3.12.10"
  }
 },
 "nbformat": 4,
 "nbformat_minor": 5
}
