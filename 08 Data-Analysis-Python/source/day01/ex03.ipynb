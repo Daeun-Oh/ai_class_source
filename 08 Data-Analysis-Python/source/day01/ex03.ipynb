{
 "cells": [
  {
   "cell_type": "markdown",
   "id": "81fbff26",
   "metadata": {},
   "source": [
    "## 문자형\n",
    "- `\"...\"`, `'...'`로 감싼 값\n",
    "- \\+ 연산자로 문자열 결합\n",
    "- `\"\"\"...\"\"\"` 또는 `'''...'''`로 문자열을 감싸면 자유롭게 줄개행을 통해서 작성 가능\n",
    "- `\"\"\"...\"\"\"`, `'''...'''`로 여러 줄 주석 대체"
   ]
  },
  {
   "cell_type": "code",
   "execution_count": 72,
   "id": "4ab494c5",
   "metadata": {},
   "outputs": [
    {
     "data": {
      "text/plain": [
       "str"
      ]
     },
     "execution_count": 72,
     "metadata": {},
     "output_type": "execute_result"
    }
   ],
   "source": [
    "a = 'Hello, '\n",
    "type(a)"
   ]
  },
  {
   "cell_type": "code",
   "execution_count": 73,
   "id": "cf377cb1",
   "metadata": {},
   "outputs": [
    {
     "name": "stdout",
     "output_type": "stream",
     "text": [
      "Hello, world!\n"
     ]
    }
   ],
   "source": [
    "b = 'world!'\n",
    "print(a + b)"
   ]
  },
  {
   "cell_type": "code",
   "execution_count": 74,
   "id": "732ce619",
   "metadata": {},
   "outputs": [],
   "source": [
    "c = a + b"
   ]
  },
  {
   "cell_type": "code",
   "execution_count": 75,
   "id": "636c0d55",
   "metadata": {},
   "outputs": [
    {
     "name": "stdout",
     "output_type": "stream",
     "text": [
      "안녕하세요. \n",
      "반갑습니다.\n"
     ]
    }
   ],
   "source": [
    "d = \"안녕하세요. \\n반갑습니다.\"\n",
    "print(d)"
   ]
  },
  {
   "cell_type": "code",
   "execution_count": 76,
   "id": "e29e0dcc",
   "metadata": {},
   "outputs": [
    {
     "name": "stdout",
     "output_type": "stream",
     "text": [
      "안녕하세요,\n",
      "반갑습니다.\n",
      "\n"
     ]
    }
   ],
   "source": [
    "'''\n",
    "설명 1\n",
    "설명 2\n",
    "'''\n",
    "\n",
    "e = \"\"\"안녕하세요,\n",
    "반갑습니다.\n",
    "\"\"\"\n",
    "print(e)"
   ]
  },
  {
   "cell_type": "code",
   "execution_count": 77,
   "id": "2d3bf099",
   "metadata": {},
   "outputs": [
    {
     "name": "stdout",
     "output_type": "stream",
     "text": [
      "I love \"Python\" and \"Java\"\n"
     ]
    }
   ],
   "source": [
    "a = \"I love \\\"Python\\\" and \\\"Java\\\"\"\n",
    "print(a)"
   ]
  },
  {
   "cell_type": "markdown",
   "id": "be3533c5",
   "metadata": {},
   "source": [
    "## 문자열 연산\n",
    "- \\+ 문자열 결합\n",
    "- \\* 문자열 반복"
   ]
  },
  {
   "cell_type": "code",
   "execution_count": 78,
   "id": "4cbb78d1",
   "metadata": {},
   "outputs": [
    {
     "data": {
      "text/plain": [
       "'ABCABCABC'"
      ]
     },
     "execution_count": 78,
     "metadata": {},
     "output_type": "execute_result"
    }
   ],
   "source": [
    "\"ABC\" * 3"
   ]
  },
  {
   "cell_type": "code",
   "execution_count": 79,
   "id": "78e1e238",
   "metadata": {},
   "outputs": [
    {
     "name": "stdout",
     "output_type": "stream",
     "text": [
      "------------------------------\n",
      "메뉴 선택: \n",
      "------------------------------\n"
     ]
    }
   ],
   "source": [
    "print('-' * 30)\n",
    "print('메뉴 선택: ')\n",
    "print('-' * 30)"
   ]
  },
  {
   "cell_type": "code",
   "execution_count": 80,
   "id": "b6286039",
   "metadata": {},
   "outputs": [
    {
     "data": {
      "text/plain": [
       "26"
      ]
     },
     "execution_count": 80,
     "metadata": {},
     "output_type": "execute_result"
    }
   ],
   "source": [
    "len(a)"
   ]
  },
  {
   "cell_type": "markdown",
   "id": "4b591db0",
   "metadata": {},
   "source": [
    "## 문자열 인덱싱\n",
    "- 각 문자 접근은 인덱스 연산자 \\[\\]를 통해서 접근\n",
    "### 문자열 슬라이싱\n",
    "- a[시작번호:종료번호] -> 시작번호 <= a < 종료번호\n",
    "- a[시작번호:] -> 시작번호 이상 문자열 추출\n",
    "- a[:종료번호] -> 종료번호 미만 문자열 추출\n",
    "- 인덱스 번호가 음수 -> 오른쪽부터 위치 계산\n",
    "    - \\-1 오른쪽 첫번째 문자\n",
    "> id(...) : 자원의 주솟값을 확인"
   ]
  },
  {
   "cell_type": "code",
   "execution_count": 81,
   "id": "340d38fe",
   "metadata": {},
   "outputs": [],
   "source": [
    "a = \"One Little, Two Little, Three Little Indians\""
   ]
  },
  {
   "cell_type": "code",
   "execution_count": 82,
   "id": "3b70a78d",
   "metadata": {},
   "outputs": [
    {
     "data": {
      "text/plain": [
       "'n'"
      ]
     },
     "execution_count": 82,
     "metadata": {},
     "output_type": "execute_result"
    }
   ],
   "source": [
    "a[0]\n",
    "a[1]"
   ]
  },
  {
   "cell_type": "code",
   "execution_count": 83,
   "id": "900a5d96",
   "metadata": {},
   "outputs": [
    {
     "data": {
      "text/plain": [
       "'One'"
      ]
     },
     "execution_count": 83,
     "metadata": {},
     "output_type": "execute_result"
    }
   ],
   "source": [
    "a[0:3]"
   ]
  },
  {
   "cell_type": "code",
   "execution_count": 84,
   "id": "a10d97a1",
   "metadata": {},
   "outputs": [
    {
     "data": {
      "text/plain": [
       "'OeLtl,ToLtl,TreLtl nin'"
      ]
     },
     "execution_count": 84,
     "metadata": {},
     "output_type": "execute_result"
    }
   ],
   "source": [
    "a[0::2]"
   ]
  },
  {
   "cell_type": "code",
   "execution_count": 85,
   "id": "a5762901",
   "metadata": {},
   "outputs": [
    {
     "data": {
      "text/plain": [
       "'snaidnI elttiL eerhT ,elttiL owT ,elttiL enO'"
      ]
     },
     "execution_count": 85,
     "metadata": {},
     "output_type": "execute_result"
    }
   ],
   "source": [
    "a[::-1]"
   ]
  },
  {
   "cell_type": "code",
   "execution_count": 86,
   "id": "6b6a3ab3",
   "metadata": {},
   "outputs": [
    {
     "name": "stdout",
     "output_type": "stream",
     "text": [
      "a의 주소:  2560114790864\n",
      "b의 주소:  2560112835824\n"
     ]
    }
   ],
   "source": [
    "b = a[:8]\n",
    "print(\"a의 주소: \", id(a))\n",
    "print(\"b의 주소: \", id(b))"
   ]
  },
  {
   "cell_type": "code",
   "execution_count": 87,
   "id": "b80ee33f",
   "metadata": {},
   "outputs": [
    {
     "name": "stdout",
     "output_type": "stream",
     "text": [
      "주소:  140715032335152\n",
      "주소:  2560109145488\n"
     ]
    }
   ],
   "source": [
    "b = \"ABC\"\n",
    "print(\"주소: \", id(b))\n",
    "\n",
    "b += \"DEF\"\n",
    "print(\"주소: \", id(b))"
   ]
  },
  {
   "cell_type": "code",
   "execution_count": 88,
   "id": "bd097ed6",
   "metadata": {},
   "outputs": [
    {
     "ename": "TypeError",
     "evalue": "'str' object does not support item assignment",
     "output_type": "error",
     "traceback": [
      "\u001b[31m---------------------------------------------------------------------------\u001b[39m",
      "\u001b[31mTypeError\u001b[39m                                 Traceback (most recent call last)",
      "\u001b[36mCell\u001b[39m\u001b[36m \u001b[39m\u001b[32mIn[88]\u001b[39m\u001b[32m, line 1\u001b[39m\n\u001b[32m----> \u001b[39m\u001b[32m1\u001b[39m \u001b[43ma\u001b[49m\u001b[43m[\u001b[49m\u001b[32;43m0\u001b[39;49m\u001b[43m]\u001b[49m = \u001b[33m'\u001b[39m\u001b[33mb\u001b[39m\u001b[33m'\u001b[39m  \u001b[38;5;66;03m# 문자열은 불변하기 때문에 변경 불가\u001b[39;00m\n",
      "\u001b[31mTypeError\u001b[39m: 'str' object does not support item assignment"
     ]
    }
   ],
   "source": [
    "a[0] = 'b'  # 문자열은 불변하기 때문에 변경 불가"
   ]
  },
  {
   "cell_type": "code",
   "execution_count": null,
   "id": "a5a3f734",
   "metadata": {},
   "outputs": [
    {
     "ename": "TypeError",
     "evalue": "'float' object is not subscriptable",
     "output_type": "error",
     "traceback": [
      "\u001b[31m---------------------------------------------------------------------------\u001b[39m",
      "\u001b[31mTypeError\u001b[39m                                 Traceback (most recent call last)",
      "\u001b[36mCell\u001b[39m\u001b[36m \u001b[39m\u001b[32mIn[70]\u001b[39m\u001b[32m, line 3\u001b[39m\n\u001b[32m      1\u001b[39m \u001b[38;5;66;03m# 같은 문자열인 경우 문자열 상수, 주소만 복사한다.\u001b[39;00m\n\u001b[32m      2\u001b[39m \u001b[38;5;66;03m# a, b, c는 모두 같은 주소\u001b[39;00m\n\u001b[32m----> \u001b[39m\u001b[32m3\u001b[39m b = \u001b[43ma\u001b[49m\u001b[43m[\u001b[49m\u001b[43m:\u001b[49m\u001b[43m]\u001b[49m    \u001b[38;5;66;03m# b에 a의 문자열을 복사\u001b[39;00m\n\u001b[32m      4\u001b[39m c = a       \u001b[38;5;66;03m# c에 a의 문자열 객체의 주소 복사\u001b[39;00m\n\u001b[32m      6\u001b[39m \u001b[38;5;28mprint\u001b[39m(a, \u001b[33m\"\u001b[39m\u001b[33ma의 주소: \u001b[39m\u001b[33m\"\u001b[39m, \u001b[38;5;28mid\u001b[39m(a))\n",
      "\u001b[31mTypeError\u001b[39m: 'float' object is not subscriptable"
     ]
    }
   ],
   "source": [
    "# 같은 문자열인 경우 문자열 상수, 주소만 복사한다.\n",
    "# a, b, c는 모두 같은 주소\n",
    "b = a[:]    # b에 a의 문자열을 복사\n",
    "c = a       # c에 a의 문자열 객체의 주소 복사\n",
    "\n",
    "print(a, \"a의 주소: \", id(a))\n",
    "print(b, \"b의 주소: \", id(b))\n",
    "print(c, \"c의 주소: \", id(c) + id(c + 'A'))"
   ]
  },
  {
   "cell_type": "markdown",
   "id": "f374221b",
   "metadata": {},
   "source": [
    "## 문자열 형식화\n",
    "- %d : 정수\n",
    "- %f : 실수\n",
    "    - %10.4f -> 전체 자릿수는 10자 (정수 부분 + 소수점 자리)에서 소수점은 4자까지만 출력\n",
    "    - %.4f -> 소수점 자릿수만 4자리로 한정 (자바 X)\n",
    "    - %0.4f (자바 O)\n",
    "- %s : 문자\n",
    "    - %10s -> 왼쪽부터 최소 10자, 10자가 안 되는 경우 왼쪽부터 공백으로 채워 줌\n",
    "    - %-10s -> 오른쪽부터 최소 10자, 10자가 안 되는 경우 오른쪽부터 공백으로 채워 줌\n",
    "\n",
    "### 적용 방법\n",
    "- \"형식화된_문자열\" % 대체될_값\n",
    "- \"형식화된 문자열(대체될 부분이 여러 개인 경우)\" % (값1, 값2, ...)\n",
    "- 형식화할 때 %를 문자열로 사용하는 경우 %%로 대체\n",
    "- 문자열 객체의 함수 중에서 format 함수 사용\n",
    "    - 형식화할 때 치환될 부분을 순서 번호 형태로 지정 -> {0}, {1}\n",
    "    - 형식화할 때 치환될 부분을 직접 이름 형태로 지정 -> {number}, {name}\n",
    "    - 숫자와 이름을 혼용해서 형식화 문자열을 작성\n",
    "    - {0:<10} : 최소 10자, 남는 자리수를 오른쪽부터 공백으로 채움\n",
    "        - {0:_<10} : 최소 10자, 남는 자리수를 오른쪽부터 _으로 채움\n",
    "    - {0:\\>10} : 최소 10자, 남는 자리수를 왼쪽부터 공백으로 채움\n",
    "        - {0:!\\>10} : 최소 10자, 남는 자리수를 왼쪽부터 !으로 채움\n",
    "    - {0:^10} : 최소 10자, 남는 자리수는 좌우 균등하게 공백으로 채움\n",
    "        - {0:^10} : 최소 10자, 남는 자리수는 좌우 균등하게 공백으로 채움\n",
    "- 문자열 앞에 \"f\", 파이썬 3.6부터 추가, 변수 그 자체를 문자열에 추가"
   ]
  },
  {
   "cell_type": "code",
   "execution_count": null,
   "id": "fc032088",
   "metadata": {},
   "outputs": [
    {
     "data": {
      "text/plain": [
       "'I drink 2 cup of coffee and 1 piece of cake'"
      ]
     },
     "execution_count": 39,
     "metadata": {},
     "output_type": "execute_result"
    }
   ],
   "source": [
    "\"I drink %d cup of coffee and %d piece of cake\" % (2, 1)"
   ]
  },
  {
   "cell_type": "code",
   "execution_count": null,
   "id": "3b3d9994",
   "metadata": {},
   "outputs": [
    {
     "data": {
      "text/plain": [
       "'I drink two cup of coffee and three piece of cake'"
      ]
     },
     "execution_count": 40,
     "metadata": {},
     "output_type": "execute_result"
    }
   ],
   "source": [
    "\"I drink %s cup of coffee and %s piece of cake\" % (\"two\", \"three\")"
   ]
  },
  {
   "cell_type": "code",
   "execution_count": null,
   "id": "01b0877f",
   "metadata": {},
   "outputs": [
    {
     "data": {
      "text/plain": [
       "'     Apple,'"
      ]
     },
     "execution_count": 41,
     "metadata": {},
     "output_type": "execute_result"
    }
   ],
   "source": [
    "\"%10s,\" % \"Apple\""
   ]
  },
  {
   "cell_type": "code",
   "execution_count": null,
   "id": "0ae87c43",
   "metadata": {},
   "outputs": [
    {
     "data": {
      "text/plain": [
       "'Apple     ,'"
      ]
     },
     "execution_count": 42,
     "metadata": {},
     "output_type": "execute_result"
    }
   ],
   "source": [
    "\"%-10s,\" % \"Apple\""
   ]
  },
  {
   "cell_type": "code",
   "execution_count": null,
   "id": "9201a507",
   "metadata": {},
   "outputs": [
    {
     "name": "stdout",
     "output_type": "stream",
     "text": [
      "숫자: 100.123457\n",
      "숫자:   100.1235\n",
      "숫자: 100.1235\n"
     ]
    }
   ],
   "source": [
    "a = 100.12345678\n",
    "print(\"숫자: %f\" % a)\n",
    "print(\"숫자: %10.4f\" % a)\n",
    "print(\"숫자: %.4f\" % a)"
   ]
  },
  {
   "cell_type": "code",
   "execution_count": null,
   "id": "9b0eb114",
   "metadata": {},
   "outputs": [
    {
     "data": {
      "text/plain": [
       "'완료까지 85% 입니다.'"
      ]
     },
     "execution_count": 46,
     "metadata": {},
     "output_type": "execute_result"
    }
   ],
   "source": [
    "\"완료까지 %d%% 입니다.\" % 85"
   ]
  },
  {
   "cell_type": "code",
   "execution_count": null,
   "id": "8a4efb2d",
   "metadata": {},
   "outputs": [
    {
     "data": {
      "text/plain": [
       "'I drink 5 cup of coffee and 3 piece of cake'"
      ]
     },
     "execution_count": 47,
     "metadata": {},
     "output_type": "execute_result"
    }
   ],
   "source": [
    "\"I drink {0} cup of coffee and {1} piece of cake\".format(5, 3)"
   ]
  },
  {
   "cell_type": "code",
   "execution_count": null,
   "id": "a55cdbb8",
   "metadata": {},
   "outputs": [
    {
     "data": {
      "text/plain": [
       "'I drink 5 cup of coffee and 2 piece of cake'"
      ]
     },
     "execution_count": 49,
     "metadata": {},
     "output_type": "execute_result"
    }
   ],
   "source": [
    "\"I drink {coffee} cup of coffee and {cake} piece of cake\".format(coffee=5, cake=2)"
   ]
  },
  {
   "cell_type": "code",
   "execution_count": null,
   "id": "44c5ff0f",
   "metadata": {},
   "outputs": [
    {
     "data": {
      "text/plain": [
       "'I drink 2 cup of coffee and 2 piece of cake'"
      ]
     },
     "execution_count": 52,
     "metadata": {},
     "output_type": "execute_result"
    }
   ],
   "source": [
    "\"I drink {0} cup of coffee and {cake} piece of cake\".format(2, cake=2)"
   ]
  },
  {
   "cell_type": "code",
   "execution_count": null,
   "id": "a109dc3d",
   "metadata": {},
   "outputs": [
    {
     "data": {
      "text/plain": [
       "'I drink 5 cup of coffee and 3 piece of cake'"
      ]
     },
     "execution_count": 53,
     "metadata": {},
     "output_type": "execute_result"
    }
   ],
   "source": [
    "coffee = 5\n",
    "cake = 3\n",
    "f\"I drink {coffee} cup of coffee and {cake} piece of cake\""
   ]
  },
  {
   "cell_type": "code",
   "execution_count": null,
   "id": "73bdc7c1",
   "metadata": {},
   "outputs": [
    {
     "data": {
      "text/plain": [
       "'***  O     v     O  ***'"
      ]
     },
     "execution_count": 59,
     "metadata": {},
     "output_type": "execute_result"
    }
   ],
   "source": [
    "\"***  {0:<5} v {1:>5}  ***\".format(\"O\", \"O\")"
   ]
  },
  {
   "cell_type": "code",
   "execution_count": null,
   "id": "41966056",
   "metadata": {},
   "outputs": [
    {
     "data": {
      "text/plain": [
       "'***    ^          v          ^    ***'"
      ]
     },
     "execution_count": 56,
     "metadata": {},
     "output_type": "execute_result"
    }
   ],
   "source": []
  },
  {
   "cell_type": "code",
   "execution_count": null,
   "id": "25f16b65",
   "metadata": {},
   "outputs": [],
   "source": []
  },
  {
   "cell_type": "markdown",
   "id": "98707b7e",
   "metadata": {},
   "source": [
    "### f 문자열 형식화\n",
    "- 문자열 앞에 f를 붙이면 된다.\n",
    "- 변수를 직접 형식화 문자열에 출력\n",
    "- 간단한 연산, 함수 호출도 가능\n",
    "- {값:<10} -> 최소 10자, 남은 자릿수는 오른쪽 공백\n",
    "    - {값:!<10} -> 최소 10자, 남은 자릿수는 오른쪽 !로 채워 넣는다\n",
    "- {값:\\>10} -> 최소 10자, 남은 자릿수는 왼쪽 공백\n",
    "- {값:^10} -> 최소 10자, 남은 자릿수는 좌우 균등하게 공백\n",
    "- {실수:10.4f} -> 정수 + 소수점 자리가 최소 10자리, 소수점은 4자리로 한정\n",
    "- {실수:.4f} -> 소수점은 4자리로 한정\n",
    "- {}를 문자 그대로 선ㅅ"
   ]
  },
  {
   "cell_type": "code",
   "execution_count": null,
   "id": "71854630",
   "metadata": {},
   "outputs": [],
   "source": [
    "name = \"이이름\"\n",
    "age = 40\n",
    "num = 10"
   ]
  },
  {
   "cell_type": "code",
   "execution_count": null,
   "id": "72594aad",
   "metadata": {},
   "outputs": [
    {
     "data": {
      "text/plain": [
       "'이름: 이이름, 나이: 40, 숫자: 10'"
      ]
     },
     "execution_count": 63,
     "metadata": {},
     "output_type": "execute_result"
    }
   ],
   "source": [
    "f'이름: {name}, 나이: {age}, 숫자: {num}'"
   ]
  },
  {
   "cell_type": "code",
   "execution_count": null,
   "id": "49761106",
   "metadata": {},
   "outputs": [
    {
     "data": {
      "text/plain": [
       "'이름: 이이름       , 나이:         40, 숫자:     10    '"
      ]
     },
     "execution_count": 64,
     "metadata": {},
     "output_type": "execute_result"
    }
   ],
   "source": [
    "f'이름: {name:<10}, 나이: {age:>10}, 숫자: {num:^10}'"
   ]
  },
  {
   "cell_type": "code",
   "execution_count": null,
   "id": "fbf21219",
   "metadata": {},
   "outputs": [
    {
     "data": {
      "text/plain": [
       "'이름: 이이름!!!!!!!, 나이: ********40, 숫자: ====10===='"
      ]
     },
     "execution_count": 65,
     "metadata": {},
     "output_type": "execute_result"
    }
   ],
   "source": [
    "f'이름: {name:!<10}, 나이: {age:*>10}, 숫자: {num:=^10}'"
   ]
  },
  {
   "cell_type": "code",
   "execution_count": null,
   "id": "a625e2a4",
   "metadata": {},
   "outputs": [
    {
     "data": {
      "text/plain": [
       "' 1000.1235'"
      ]
     },
     "execution_count": 69,
     "metadata": {},
     "output_type": "execute_result"
    }
   ],
   "source": [
    "num = 1000.12345678\n",
    "f'{num:10.4f}'"
   ]
  },
  {
   "cell_type": "code",
   "execution_count": null,
   "id": "97aac440",
   "metadata": {},
   "outputs": [
    {
     "data": {
      "text/plain": [
       "'1000.12'"
      ]
     },
     "execution_count": 68,
     "metadata": {},
     "output_type": "execute_result"
    }
   ],
   "source": [
    "f'{num:.2f}'"
   ]
  },
  {
   "cell_type": "code",
   "execution_count": 89,
   "id": "04f428af",
   "metadata": {},
   "outputs": [
    {
     "data": {
      "text/plain": [
       "'{값}'"
      ]
     },
     "execution_count": 89,
     "metadata": {},
     "output_type": "execute_result"
    }
   ],
   "source": [
    "f'{{값}}'"
   ]
  },
  {
   "cell_type": "markdown",
   "id": "e13f8769",
   "metadata": {},
   "source": [
    "### 문자열 관련 함수들\n",
    "- 문자 개수 세기 - count\n",
    "    - 문장에서 특정 문자가 몇 번 등장하는지\n",
    "- 위치 알려 주기 1 - find\n",
    "    - 지정된 문자를 못 찾은 경우 -1 값을 반환\n",
    "- 위치 알려 주기 2 - index\n",
    "    - 지정된 문자를 못 찾은 경우 예외가 발생\n",
    "- 특정 문자열로 결합하여 문자여 ㄹ생성 - joooin\n",
    "    - 문자열 외에 list, tuple 사용 가능\n",
    "- 소문자 -> 대문자 - upper\n",
    "- 대문자 -> 소문자 - lower\n",
    "- 공백 제거 - strip: 좌우 여백 제거\n",
    "    - lstrip: 왼쪽 여백 제거\n",
    "    - rstrip: 오른쪽 여백 제거\n",
    "- 문자열 치환 - replace\n",
    "- 문자열 나누기 - split\n",
    "    - 문자열 분리 구분 문자를 지정하지 않으면 공백 기준에서 분리"
   ]
  },
  {
   "cell_type": "code",
   "execution_count": 92,
   "id": "c603ea73",
   "metadata": {},
   "outputs": [
    {
     "data": {
      "text/plain": [
       "'a#b#c#d'"
      ]
     },
     "execution_count": 92,
     "metadata": {},
     "output_type": "execute_result"
    }
   ],
   "source": [
    "a = 'abcd'\n",
    "'#'.join(a)"
   ]
  },
  {
   "cell_type": "code",
   "execution_count": 93,
   "id": "40b9060b",
   "metadata": {},
   "outputs": [
    {
     "data": {
      "text/plain": [
       "'apple,orange,banana,melon,mango'"
      ]
     },
     "execution_count": 93,
     "metadata": {},
     "output_type": "execute_result"
    }
   ],
   "source": [
    "fruits = ['apple', 'orange', 'banana', 'melon', 'mango']\n",
    "','.join(fruits)"
   ]
  },
  {
   "cell_type": "code",
   "execution_count": 94,
   "id": "94c29b6b",
   "metadata": {},
   "outputs": [],
   "source": [
    "a = \"                   ABC                       \""
   ]
  },
  {
   "cell_type": "code",
   "execution_count": 95,
   "id": "2b637d24",
   "metadata": {},
   "outputs": [
    {
     "data": {
      "text/plain": [
       "'                   ABC                       DEF'"
      ]
     },
     "execution_count": 95,
     "metadata": {},
     "output_type": "execute_result"
    }
   ],
   "source": [
    "a + \"DEF\""
   ]
  },
  {
   "cell_type": "code",
   "execution_count": null,
   "id": "7f12877b",
   "metadata": {},
   "outputs": [
    {
     "data": {
      "text/plain": [
       "'ABCDEF'"
      ]
     },
     "execution_count": 96,
     "metadata": {},
     "output_type": "execute_result"
    }
   ],
   "source": [
    "a.strip() + \"DEF\"   # a의 좌우 공백 제거"
   ]
  },
  {
   "cell_type": "code",
   "execution_count": null,
   "id": "f15089c2",
   "metadata": {},
   "outputs": [
    {
     "data": {
      "text/plain": [
       "'ABC                       DEF'"
      ]
     },
     "execution_count": 97,
     "metadata": {},
     "output_type": "execute_result"
    }
   ],
   "source": [
    "a.lstrip() + \"DEF\"  # a의 왼쪽 공백 제거"
   ]
  },
  {
   "cell_type": "code",
   "execution_count": 98,
   "id": "03740af1",
   "metadata": {},
   "outputs": [
    {
     "data": {
      "text/plain": [
       "'                   ABCDEF'"
      ]
     },
     "execution_count": 98,
     "metadata": {},
     "output_type": "execute_result"
    }
   ],
   "source": [
    "a.rstrip() + \"DEF\"  # a의 오른쪽 공백 제거"
   ]
  },
  {
   "cell_type": "code",
   "execution_count": 99,
   "id": "1a7ceced",
   "metadata": {},
   "outputs": [
    {
     "data": {
      "text/plain": [
       "'One Big, Two Big, Three Big Indians'"
      ]
     },
     "execution_count": 99,
     "metadata": {},
     "output_type": "execute_result"
    }
   ],
   "source": [
    "a = \"One Little, Two Little, Three Little Indians\"\n",
    "a.replace('Little', 'Big')"
   ]
  },
  {
   "cell_type": "code",
   "execution_count": null,
   "id": "6c9778e8",
   "metadata": {},
   "outputs": [
    {
     "data": {
      "text/plain": [
       "['Apple', 'Orange', 'Melon', 'Mango']"
      ]
     },
     "execution_count": 101,
     "metadata": {},
     "output_type": "execute_result"
    }
   ],
   "source": [
    "a = \"Apple Orange Melon Mango\"\n",
    "a.split()   # 공백 기준으로 문자열 분리"
   ]
  },
  {
   "cell_type": "code",
   "execution_count": 103,
   "id": "7396efb1",
   "metadata": {},
   "outputs": [
    {
     "data": {
      "text/plain": [
       "['Apple', 'Orange', 'Melon', 'Mango']"
      ]
     },
     "execution_count": 103,
     "metadata": {},
     "output_type": "execute_result"
    }
   ],
   "source": [
    "a = \"Apple, Orange, Melon, Mango\"\n",
    "a.split(\", \")"
   ]
  },
  {
   "cell_type": "code",
   "execution_count": null,
   "id": "527c0f86",
   "metadata": {},
   "outputs": [],
   "source": []
  }
 ],
 "metadata": {
  "kernelspec": {
   "display_name": "basic",
   "language": "python",
   "name": "python3"
  },
  "language_info": {
   "codemirror_mode": {
    "name": "ipython",
    "version": 3
   },
   "file_extension": ".py",
   "mimetype": "text/x-python",
   "name": "python",
   "nbconvert_exporter": "python",
   "pygments_lexer": "ipython3",
   "version": "3.12.10"
  }
 },
 "nbformat": 4,
 "nbformat_minor": 5
}
