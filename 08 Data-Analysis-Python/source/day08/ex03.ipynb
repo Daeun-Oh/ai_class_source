{
 "cells": [
  {
   "cell_type": "markdown",
   "id": "58d2ef06",
   "metadata": {},
   "source": [
    "# 그루핑\n",
    "\n",
    "1. () : 패턴을 그룹화\n",
    "\n",
    "2. group(인덱스)\n",
    "\n",
    "3. 그루핑된 문자열 재참조하기\n",
    "\n",
    "4. 그루핑된 문자열에 이름 붙이기"
   ]
  },
  {
   "cell_type": "code",
   "execution_count": 3,
   "id": "efee700d",
   "metadata": {},
   "outputs": [
    {
     "data": {
      "text/plain": [
       "<re.Match object; span=(0, 9), match='ABCABCABC'>"
      ]
     },
     "execution_count": 3,
     "metadata": {},
     "output_type": "execute_result"
    }
   ],
   "source": [
    "import re\n",
    "\n",
    "str = \"ABCABCABC\"\n",
    "\n",
    "p = re.compile(r\"(ABC)+\")\n",
    "m = p.search(str)\n",
    "m"
   ]
  },
  {
   "cell_type": "code",
   "execution_count": 16,
   "id": "e64119e8",
   "metadata": {},
   "outputs": [
    {
     "data": {
      "text/plain": [
       "['이이름 010-1234-5678', '김이름 010-1357-2468', 'Rachel 010-1000-1000']"
      ]
     },
     "execution_count": 16,
     "metadata": {},
     "output_type": "execute_result"
    }
   ],
   "source": [
    "str = \"\"\"이이름 010-1234-5678\n",
    "김이름 010-1357-2468\n",
    "Rachel 010-1000-1000\"\"\"\n",
    "\n",
    "p = re.compile(r\"^[a-zㄱ-ㅎ가-힣]+\\s+010\\D*\\d{4}\\D*\\d{4}$\", re.M | re.I)\n",
    "m = p.findall(str)\n",
    "m"
   ]
  },
  {
   "cell_type": "code",
   "execution_count": 18,
   "id": "d2bed0f5",
   "metadata": {},
   "outputs": [
    {
     "name": "stdout",
     "output_type": "stream",
     "text": [
      "m.group(): 이이름 010-1234-5678\n",
      "m.group(1): 이이름\n",
      "m.group(2): 010-1234-5678\n",
      "m.group(): 김이름 010-1357-2468\n",
      "m.group(1): 김이름\n",
      "m.group(2): 010-1357-2468\n",
      "m.group(): Rachel 010-1000-1000\n",
      "m.group(1): Rachel\n",
      "m.group(2): 010-1000-1000\n"
     ]
    }
   ],
   "source": [
    "p = re.compile(r\"(^[a-zㄱ-ㅎ가-힣]+)\\s+(010\\D*\\d{4}\\D*\\d{4}$)\", re.M | re.I)\n",
    "\n",
    "for m in p.finditer(str):\n",
    "    print(f\"m.group(): {m.group()}\")\n",
    "    print(f\"m.group(1): {m.group(1)}\")\n",
    "    print(f\"m.group(2): {m.group(2)}\")"
   ]
  },
  {
   "cell_type": "markdown",
   "id": "f93f78ae",
   "metadata": {},
   "source": [
    "## 문자열 바꾸기 (치환)\n",
    "1. sub\n",
    "    - count: 지정하지 않으면 전체 문자열에서 모든 패턴을 치환, 숫자를 지정하면 지정된 숫자 만큼의 패턴만 치환\n",
    "    - 첫 번째 매개변수에 함수가 올 수도 있다. 패턴 문자열만 가지고 치환하기 어려운 경우, 함수 내에 로직을 작성\n",
    "2. subn\n",
    "    - sub + count 기능 포함, 반환값은 튜플"
   ]
  },
  {
   "cell_type": "code",
   "execution_count": 21,
   "id": "12891691",
   "metadata": {},
   "outputs": [
    {
     "name": "stdout",
     "output_type": "stream",
     "text": [
      "010-1234-5678 이이름\n",
      "010-1357-2468 김이름\n",
      "010-1000-1000 Rachel\n"
     ]
    }
   ],
   "source": [
    "str = \"\"\"이이름 010-1234-5678\n",
    "김이름 010-1357-2468\n",
    "Rachel 010-1000-1000\"\"\"\n",
    "\n",
    "p = re.compile(r\"(^[a-zㄱ-ㅎ가-힣]+)\\s+(010\\D*\\d{4}\\D*\\d{4}$)\", re.M | re.I)\n",
    "\n",
    "str2 = p.sub(r\"\\g<2> \\g<1>\", str)\n",
    "print(str2)"
   ]
  },
  {
   "cell_type": "markdown",
   "id": "c07d45f1",
   "metadata": {},
   "source": [
    "- 그룹핑의 이름을 설정\n",
    "```python\n",
    "(?P<이름>)\n",
    "```"
   ]
  },
  {
   "cell_type": "code",
   "execution_count": 22,
   "id": "02dccc97",
   "metadata": {},
   "outputs": [
    {
     "name": "stdout",
     "output_type": "stream",
     "text": [
      "010-1234-5678 이이름\n",
      "010-1357-2468 김이름\n",
      "010-1000-1000 Rachel\n"
     ]
    }
   ],
   "source": [
    "str = \"\"\"이이름 010-1234-5678\n",
    "김이름 010-1357-2468\n",
    "Rachel 010-1000-1000\"\"\"\n",
    "\n",
    "p = re.compile(r\"(?P<name>^[a-zㄱ-ㅎ가-힣]+)\\s+(?P<mobile>010\\D*\\d{4}\\D*\\d{4}$)\", re.M | re.I)\n",
    "\n",
    "str2 = p.sub(r\"\\g<2> \\g<1>\", str)\n",
    "print(str2)"
   ]
  },
  {
   "cell_type": "code",
   "execution_count": null,
   "id": "4858ed62",
   "metadata": {},
   "outputs": [],
   "source": [
    "- 그룹화된 패턴을 재활용"
   ]
  },
  {
   "cell_type": "code",
   "execution_count": 27,
   "id": "73b02089",
   "metadata": {},
   "outputs": [
    {
     "data": {
      "text/plain": [
       "<re.Match object; span=(9, 16), match='the the'>"
      ]
     },
     "execution_count": 27,
     "metadata": {},
     "output_type": "execute_result"
    }
   ],
   "source": [
    "str = \"Paris in the the spring\"  # the를 2번 반복한 오타를 찾고 싶다\n",
    "\n",
    "# p = re.compile(r\"(\\w+)\\s+\\1\")  # \\1: 앞의 1번 그룹과 같은 문자열과 매치\n",
    "p = re.compile(r\"(?P<word>\\w+)\\s+(?P=word)\")\n",
    "\n",
    "m = p.search(str)\n",
    "m"
   ]
  },
  {
   "cell_type": "code",
   "execution_count": 30,
   "id": "649aed0f",
   "metadata": {},
   "outputs": [
    {
     "data": {
      "text/plain": [
       "'one big, two big, three little indians'"
      ]
     },
     "execution_count": 30,
     "metadata": {},
     "output_type": "execute_result"
    }
   ],
   "source": [
    "str = \"one little, two little, three little indians\"\n",
    "\n",
    "p = re.compile(\"little\")\n",
    "# str2 = p.sub(\"big\", str)\n",
    "str2 = p.sub(\"big\", str, count=2)  # 왼쪽부터 매칭되는 패턴 2개만 치환\n",
    "str2"
   ]
  },
  {
   "cell_type": "code",
   "execution_count": 29,
   "id": "09bd1a20",
   "metadata": {},
   "outputs": [
    {
     "data": {
      "text/plain": [
       "('one big, two big, three little indians', 2)"
      ]
     },
     "execution_count": 29,
     "metadata": {},
     "output_type": "execute_result"
    }
   ],
   "source": [
    "result = p.subn(\"big\", str, 2)\n",
    "result"
   ]
  },
  {
   "cell_type": "code",
   "execution_count": 31,
   "id": "f084882b",
   "metadata": {},
   "outputs": [
    {
     "data": {
      "text/plain": [
       "'one LITTLE, two LITTLE, three LITTLE indians'"
      ]
     },
     "execution_count": 31,
     "metadata": {},
     "output_type": "execute_result"
    }
   ],
   "source": [
    "str2 = p.sub(lambda m: m.group().upper(), str)\n",
    "str2"
   ]
  },
  {
   "cell_type": "markdown",
   "id": "f532d3fd",
   "metadata": {},
   "source": [
    "## 전방 탐색\n",
    "\n",
    "1. 긍정형 전방 탐색\n",
    "- 특정 패턴의 앞쪽 패턴으로 한정\\\n",
    "`앞쪽패턴(?=특정패턴)`\n",
    "2. 부정형 전방 탐색\n",
    "- 특정 패턴이 아닌 앞쪽 패턴으로 한정\\\n",
    "`앞쪽패턴(?!특정패턴)`"
   ]
  },
  {
   "cell_type": "code",
   "execution_count": 47,
   "id": "d8170f34",
   "metadata": {},
   "outputs": [
    {
     "data": {
      "text/plain": [
       "['https', 'https', 'http']"
      ]
     },
     "execution_count": 47,
     "metadata": {},
     "output_type": "execute_result"
    }
   ],
   "source": [
    "str = \"\"\"https://www.naver.com\n",
    "https://www.daum.net\n",
    "http://www.webnmobile.net\"\"\"\n",
    "\n",
    "# http, https를 추출하고 싶은데\n",
    "# 주소 내에 포함되어 있어도 인식한다.\n",
    "# -> :// 앞쪽에 있는 http, https만 가져오자\n",
    "\n",
    "# p = re.compile(r\"http[s]?://\", re.M)\n",
    "p = re.compile(r\"http[s]?(?=://)\", re.M)\n",
    "\n",
    "items = p.findall(str)\n",
    "items"
   ]
  },
  {
   "cell_type": "code",
   "execution_count": 38,
   "id": "69ab468e",
   "metadata": {},
   "outputs": [
    {
     "name": "stdout",
     "output_type": "stream",
     "text": [
      "daum\n",
      "webnmobile\n"
     ]
    }
   ],
   "source": [
    "p = re.compile(r\"http[s]?://(www\\.)?([^.]+(?=\\.net$))\", re.M)\n",
    "\n",
    "for item in p.finditer(str):\n",
    "    print(item.group(2))"
   ]
  },
  {
   "cell_type": "code",
   "execution_count": 48,
   "id": "bd47aa79",
   "metadata": {},
   "outputs": [
    {
     "name": "stdout",
     "output_type": "stream",
     "text": [
      "https://www.naver.com\n",
      "https://www.daum.net\n",
      "http://www.webnmobile.net\n",
      "naver.com\n",
      "daum.net\n",
      "webnmobile.net\n"
     ]
    }
   ],
   "source": [
    "p = re.compile(r\"http[s]?://(www\\.)?(.+(?!\\.net$))\", re.M) # 전방 부정 탐색, .net으로 끝나지 않는 앞쪽 패턴 문자\n",
    "\n",
    "print(str)\n",
    "for item in p.finditer(str):\n",
    "    print(item.group(2))"
   ]
  },
  {
   "cell_type": "markdown",
   "id": "6ab9347f",
   "metadata": {},
   "source": [
    "### greedy와 non-greedy\n",
    "\n",
    "- 패턴+, 패턴*, 패턴?, 패턴{n,m} : 최대 매칭(greedy)\n",
    "- 패턴+?, 패턴*?, 패턴??, 패턴{n,m}? : 최소 매칭(non-greedy)"
   ]
  },
  {
   "cell_type": "code",
   "execution_count": 43,
   "id": "f55ccda8",
   "metadata": {},
   "outputs": [
    {
     "data": {
      "text/plain": [
       "'<html><head><title>사이트제목</title></head><body></body></html>'"
      ]
     },
     "execution_count": 43,
     "metadata": {},
     "output_type": "execute_result"
    }
   ],
   "source": [
    "str = \"<html><head><title>사이트제목</title></head><body></body></html>\"\n",
    "\n",
    "p = re.compile(r\"<.*>\")\n",
    "\n",
    "m = p.search(str)\n",
    "m.group()"
   ]
  },
  {
   "cell_type": "code",
   "execution_count": 44,
   "id": "3d549e28",
   "metadata": {},
   "outputs": [
    {
     "data": {
      "text/plain": [
       "'<html>'"
      ]
     },
     "execution_count": 44,
     "metadata": {},
     "output_type": "execute_result"
    }
   ],
   "source": [
    "p = re.compile(r\"<.*?>\")  # non-greedy: 최소 매핑\n",
    "m = p.search(str)\n",
    "m.group()"
   ]
  },
  {
   "cell_type": "code",
   "execution_count": null,
   "id": "36287ae4",
   "metadata": {},
   "outputs": [],
   "source": []
  }
 ],
 "metadata": {
  "kernelspec": {
   "display_name": "basic",
   "language": "python",
   "name": "python3"
  },
  "language_info": {
   "codemirror_mode": {
    "name": "ipython",
    "version": 3
   },
   "file_extension": ".py",
   "mimetype": "text/x-python",
   "name": "python",
   "nbconvert_exporter": "python",
   "pygments_lexer": "ipython3",
   "version": "3.12.10"
  }
 },
 "nbformat": 4,
 "nbformat_minor": 5
}
