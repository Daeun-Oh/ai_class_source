{
 "cells": [
  {
   "cell_type": "markdown",
   "id": "321ae39d",
   "metadata": {},
   "source": [
    "## 클래스 내에 변수를 정의하면?\n",
    "- 정적 변수\n",
    "- 객체를 생성하지 않아도 클래스명으로 직접 접근 가능\n",
    "- 클래스에 정의하지 않고 클래스명에 직접 대입해도 정적 변수"
   ]
  },
  {
   "cell_type": "code",
   "execution_count": 4,
   "id": "eb37bd14",
   "metadata": {},
   "outputs": [
    {
     "name": "stdout",
     "output_type": "stream",
     "text": [
      "p1: 이름 김\n",
      "p2: 이름 김\n",
      "False\n"
     ]
    }
   ],
   "source": [
    "class Person:\n",
    "    first_name = '이름'\n",
    "    last_name = '김'\n",
    "\n",
    "p1 = Person()\n",
    "p2 = Person()\n",
    "\n",
    "print(\"p1:\", p1.first_name, p1.last_name)\n",
    "print(\"p2:\", p2.first_name, p2.last_name)\n",
    "print(p1 is p2)"
   ]
  },
  {
   "cell_type": "code",
   "execution_count": null,
   "id": "536fbcc1",
   "metadata": {},
   "outputs": [],
   "source": []
  }
 ],
 "metadata": {
  "kernelspec": {
   "display_name": "basic",
   "language": "python",
   "name": "python3"
  },
  "language_info": {
   "codemirror_mode": {
    "name": "ipython",
    "version": 3
   },
   "file_extension": ".py",
   "mimetype": "text/x-python",
   "name": "python",
   "nbconvert_exporter": "python",
   "pygments_lexer": "ipython3",
   "version": "3.12.10"
  }
 },
 "nbformat": 4,
 "nbformat_minor": 5
}
