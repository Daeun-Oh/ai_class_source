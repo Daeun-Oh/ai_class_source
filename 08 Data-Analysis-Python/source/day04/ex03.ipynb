{
 "cells": [
  {
   "cell_type": "markdown",
   "id": "d9197100",
   "metadata": {},
   "source": [
    "## 클래스\n",
    "- 객체 생성 시 new 연산자는 사용 X\n",
    "- 클래스명() 호출하면 객체가 생성\n",
    "- 메서드의 첫 번째 매개변수: 생성된 객체의 주소값을 가지는 지역변수\n",
    "    - 자바의 this와 동일한 역할\n",
    "\n",
    "### 생성자 메서드\n",
    "\n",
    "```python\n",
    "class ...\n",
    "    def __init__(self, 매개변수 정의...)\n",
    "        ...\n",
    "```\n",
    "\n",
    "- 인스턴스 변수의 초기화"
   ]
  },
  {
   "cell_type": "code",
   "execution_count": 16,
   "id": "a6534211",
   "metadata": {},
   "outputs": [],
   "source": [
    "class Calculator:\n",
    "    def __init__(self, a, b):\n",
    "        self.a = a\n",
    "        self.b = b\n",
    "\n",
    "    def add(self):\n",
    "        return self.a + self.b\n",
    "\n",
    "    # def add2(self, num1, num2):\n",
    "    #     return num1 + num2\n",
    "    "
   ]
  },
  {
   "cell_type": "code",
   "execution_count": 19,
   "id": "b8bf13ce",
   "metadata": {},
   "outputs": [
    {
     "data": {
      "text/plain": [
       "300"
      ]
     },
     "execution_count": 19,
     "metadata": {},
     "output_type": "execute_result"
    }
   ],
   "source": [
    "cal1 = Calculator(100, 200) # new 연산자 없이 객체 생성\n",
    "\n",
    "cal1.add()"
   ]
  },
  {
   "cell_type": "code",
   "execution_count": 20,
   "id": "77e13eb8",
   "metadata": {},
   "outputs": [
    {
     "data": {
      "text/plain": [
       "300"
      ]
     },
     "execution_count": 20,
     "metadata": {},
     "output_type": "execute_result"
    }
   ],
   "source": [
    "Calculator.add(cal1)"
   ]
  },
  {
   "cell_type": "code",
   "execution_count": 13,
   "id": "5ad2351a",
   "metadata": {},
   "outputs": [
    {
     "data": {
      "text/plain": [
       "230"
      ]
     },
     "execution_count": 13,
     "metadata": {},
     "output_type": "execute_result"
    }
   ],
   "source": [
    "cal2 = Calculator()\n",
    "\n",
    "cal2.add2(200, 30)"
   ]
  },
  {
   "cell_type": "code",
   "execution_count": 7,
   "id": "0f2392c5",
   "metadata": {},
   "outputs": [
    {
     "name": "stdout",
     "output_type": "stream",
     "text": [
      "False\n",
      "cal1: 2025290247744 \tcal2: 2025290017168\n"
     ]
    }
   ],
   "source": [
    "print(cal1 is cal2)\n",
    "print(\"cal1:\", id(cal1), \"\\tcal2:\", id(cal2))"
   ]
  },
  {
   "cell_type": "code",
   "execution_count": null,
   "id": "6a1ee300",
   "metadata": {},
   "outputs": [],
   "source": []
  }
 ],
 "metadata": {
  "kernelspec": {
   "display_name": "basic",
   "language": "python",
   "name": "python3"
  },
  "language_info": {
   "codemirror_mode": {
    "name": "ipython",
    "version": 3
   },
   "file_extension": ".py",
   "mimetype": "text/x-python",
   "name": "python",
   "nbconvert_exporter": "python",
   "pygments_lexer": "ipython3",
   "version": "3.12.10"
  }
 },
 "nbformat": 4,
 "nbformat_minor": 5
}
