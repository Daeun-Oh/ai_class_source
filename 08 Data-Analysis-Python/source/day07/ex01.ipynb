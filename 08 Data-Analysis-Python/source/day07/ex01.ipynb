{
 "cells": [
  {
   "cell_type": "markdown",
   "id": "c7d284fc",
   "metadata": {},
   "source": []
  },
  {
   "cell_type": "code",
   "execution_count": null,
   "id": "4eb4d83f",
   "metadata": {},
   "outputs": [
    {
     "name": "stdout",
     "output_type": "stream",
     "text": [
      "서브작업1 1\n",
      "서브작업2 1\n",
      "서브작업2 2\n",
      "서브작업1 2\n",
      "서브작업2 3\n",
      "서브작업1 3\n",
      "서브작업2 4\n",
      "서브작업1 4\n",
      "서브작업1 5서브작업2 5\n",
      "\n",
      "서브작업1 6서브작업2 6\n",
      "\n",
      "서브작업2 7\n",
      "서브작업1 7\n",
      "서브작업2 8\n",
      "서브작업1 8\n",
      "서브작업2 9\n",
      "서브작업1 9\n",
      "서브작업2 10\n",
      "서브작업1 10\n",
      "메인작업 1\n",
      "메인작업 2\n",
      "메인작업 3\n",
      "메인작업 4\n",
      "메인작업 5\n",
      "메인작업 6\n",
      "메인작업 7\n",
      "메인작업 8\n",
      "메인작업 9\n",
      "메인작업 10\n",
      "작업 완료!\n"
     ]
    }
   ],
   "source": [
    "import time\n",
    "import threading\n",
    "\n",
    "# 서브 작업 - 1~10 counting하는 함수\n",
    "def some_work1():\n",
    "    for i in range(1, 11): # 1 ~ 10\n",
    "        print(\"서브작업1 %d\" % i)\n",
    "        time.sleep(1)\n",
    "\n",
    "def some_work2():\n",
    "    for i in range(1, 11): # 1 ~ 10\n",
    "        print(\"서브작업2 %d\" % i)\n",
    "        time.sleep(1)\n",
    "\n",
    "# some_work를 동시다발적으로 실행\n",
    "th1 = threading.Thread(target=some_work1) # 쓰레드 생성\n",
    "th1.start() # 호출 스택 + 실행 (threading)\n",
    "th2 = threading.Thread(target=some_work2)\n",
    "th2.start()\n",
    "\n",
    "th1.join() # 현재 쓰레드의 작업을 th1 이 종료될 때까지 임시 중단, 종료되면 재개\n",
    "th2.join()\n",
    "\n",
    "# 메인 작업\n",
    "for i in range(1, 6): # 1 ~ 5\n",
    "    print(\"메인작업 %d\" % i)\n",
    "    time.sleep(1)\n",
    "\n",
    "# 작업 완료 안내 메시지\n",
    "print(\"작업 완료!\")"
   ]
  },
  {
   "cell_type": "code",
   "execution_count": null,
   "id": "490cf379",
   "metadata": {},
   "outputs": [],
   "source": []
  }
 ],
 "metadata": {
  "kernelspec": {
   "display_name": "basic",
   "language": "python",
   "name": "python3"
  },
  "language_info": {
   "codemirror_mode": {
    "name": "ipython",
    "version": 3
   },
   "file_extension": ".py",
   "mimetype": "text/x-python",
   "name": "python",
   "nbconvert_exporter": "python",
   "pygments_lexer": "ipython3",
   "version": "3.12.10"
  }
 },
 "nbformat": 4,
 "nbformat_minor": 5
}
