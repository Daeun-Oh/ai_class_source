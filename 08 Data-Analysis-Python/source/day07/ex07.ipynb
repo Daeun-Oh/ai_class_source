{
 "cells": [
  {
   "cell_type": "code",
   "execution_count": 10,
   "id": "a8c593b9",
   "metadata": {},
   "outputs": [
    {
     "name": "stdout",
     "output_type": "stream",
     "text": [
      "\n",
      "\t\t<li class=\"sa_item _SECTION_HEADLINE\">\n",
      "\t\t\t<div class=\"sa_item_inner\">\n",
      "\t\t\t\t<div class=\"sa_item_flex _LAZY_LOADING_WRAP\">\n",
      "\t\t\t\t\t<div class=\"sa_thumb _LAZY_LOADING_ERROR_HIDE\">\n",
      "\t\t\t\t\t\t<div class=\"sa_thumb_inner\">\n",
      "\t\t\t\t\t\t\t<a href=\"https://n.news.naver.com/mnews/article/030/0003318528\" class=\"sa_thumb_link _NLOG_IMPRESSION\" data-clk=\"itn.clart\" data-imp-gdid=\"880000EA_000000000000000003318528\" data-imp-url=\"https://n.news.naver.com/mnews/article/030/0003318528\" data-imp-index=\"1\">\n",
      "\t\t\t\t\t\t\t\t<img data-src=\"https://mimgnews.pstatic.net/image/origin/030/2025/06/04/3318528.jpg?type&#x3D;nf220_150\" class=\"_LAZY_LOADING _LAZY_LOADING_INIT_HIDE\" width=\"110\" height=\"75\" alt=\"뇌 시냅스 모방 로봇 비전 센서 개발\" style=\"display: none;\">\n",
      "\t\t\t\t\t\t\t</a>\n",
      "\t\t\t\t\t\t</div>\n",
      "\t\t\t\t\t</div>\n",
      "\t\t\t\t\t<div class=\"sa_text\">\n",
      "\t\t\t\t\t\t<a href=\"https://n.news.naver.com/mnews/article/030/0003318528\" class=\"sa_text_title _NLOG_IMPRESSION\" data-clk=\"itn.clart\" data-imp-gdid=\"880000EA_000000000000000003318528\" data-imp-url=\"https://n.news.naver.com/mnews/article/030/0003318528\" data-imp-index=\"1\">\n",
      "\t\t\t\t\t\t\t<strong class=\"sa_text_strong\">뇌 시냅스 모방 로봇 비전 센서 개발</strong>\n",
      "\t\t\t\t\t\t</a>\n",
      "\t\t\t\t\t\t<div class=\"sa_text_lede\">울산과학기술원(UNIST)을 포함한 국내 연구진이 인체 뇌신경 전달 원리를 모방한 로봇 비전 센서를 개발했다. 주변 밝기가 들쭉날쭉해도 빠르고 정확하게 사물 정보를 파악할 수 있어 자율주행, 드론, 로봇 기술 상용화</div>\n",
      "\t\t\t\t\t\t<div class=\"sa_text_info\">\n",
      "\t\t\t\t\t\t\t<div class=\"sa_text_info_left\">\n",
      "\t\t\t\t\t\t\t\t<div class=\"sa_text_press\">전자신문</div>\n",
      "\t\t\t\t\t\t\t\t<a href=\"https://n.news.naver.com/mnews/article/comment/030/0003318528\" class=\"sa_text_cmt _COMMENT_COUNT_LIST\" style=\"display: none;\" data-ticket=\"news\" data-object-id=\"news030,0003318528\" data-zero-allow=\"false\"></a>\n",
      "\t\t\t\t\t\t\t</div>\n",
      "\t\t\t\t\t\t\t<div class=\"sa_text_info_right\">\n",
      "\t\t\t\t\t\t\t\t<a href=\"/cluster/c_202506040810_00000003/section/105?oid&#x3D;030&amp;aid&#x3D;0003318528\" class=\"sa_text_cluster\" data-clk=\"clcou\">\n",
      "\t\t\t\t\t\t\t\t\t<span class=\"sa_text_cluster_num\">9</span>\n",
      "\t\t\t\t\t\t\t\t\t<span class=\"blind\">개의 관련뉴스 더보기</span>\n",
      "\t\t\t\t\t\t\t\t</a>\n",
      "\t\t\t\t\t\t\t</div>\n",
      "\t\t\t\t\t\t</div>\n",
      "\t\t\t\t\t</div>\n",
      "\t\t\t\t</div>\n",
      "\t\t\t</div>\n",
      "\t\t</li>\n",
      "\t\t<li class=\"sa_item _SECTION_HEADLINE\">\n",
      "\t\t\t<div class=\"sa_item_inner\">\n",
      "\t\t\t\t<div class=\"sa_item_flex _LAZY_LOADING_WRAP\">\n",
      "\t\t\t\t\t<div class=\"sa_thumb _LAZY_LOADING_ERROR_HIDE\">\n",
      "\t\t\t\t\t\t<div class=\"sa_thumb_inner\">\n",
      "\t\t\t\t\t\t\t<a href=\"https://n.news.naver.com/mnews/article/014/0005358846\" class=\"sa_thumb_link _NLOG_IMPRESSION\" data-clk=\"itn.clart\" data-imp-gdid=\"880000FF_000000000000000005358846\" data-imp-url=\"https://n.news.naver.com/mnews/article/014/0005358846\" data-imp-index=\"2\">\n",
      "\t\t\t\t\t\t\t\t<img data-src=\"https://mimgnews.pstatic.net/image/origin/014/2025/06/04/5358846.jpg?type&#x3D;nf220_150\" class=\"_LAZY_LOADING _LAZY_LOADING_INIT_HIDE\" width=\"110\" height=\"75\" alt=\"삼성전자, &#x27;갤럭시 Z 폴드 7&#x27; 티저 공개.. 울트라급 성능과 얇은 두께 강조\" style=\"display: none;\">\n",
      "\t\t\t\t\t\t\t</a>\n",
      "\t\t\t\t\t\t</div>\n",
      "\t\t\t\t\t</div>\n",
      "\t\t\t\t\t<div class=\"sa_text\">\n",
      "\t\t\t\t\t\t<a href=\"https://n.news.naver.com/mnews/article/014/0005358846\" class=\"sa_text_title _NLOG_IMPRESSION\" data-clk=\"itn.clart\" data-imp-gdid=\"880000FF_000000000000000005358846\" data-imp-url=\"https://n.news.naver.com/mnews/article/014/0005358846\" data-imp-index=\"2\">\n",
      "\t\t\t\t\t\t\t<strong class=\"sa_text_strong\">삼성전자, &#x27;갤럭시 Z 폴드 7&#x27; 티저 공개.. 울트라급 성능과 얇은 두께 강조</strong>\n",
      "\t\t\t\t\t\t</a>\n",
      "\t\t\t\t\t\t<div class=\"sa_text_lede\">삼성전자가 다음달 공개하는 갤럭시 Z 폴드 7의 티저 영상을 공개했다. 삼성전자는 4일 자사 뉴스룸에 올린 &#x27;울트라 경험을 펼치다&#x27;라는 제목의 글을 통해 &quot;더 큰 화면, 더 뛰어난 카메라, 더 강력한 성능, 더 다양</div>\n",
      "\t\t\t\t\t\t<div class=\"sa_text_info\">\n",
      "\t\t\t\t\t\t\t<div class=\"sa_text_info_left\">\n",
      "\t\t\t\t\t\t\t\t<div class=\"sa_text_press\">파이낸셜뉴스</div>\n",
      "\t\t\t\t\t\t\t\t<a href=\"https://n.news.naver.com/mnews/article/comment/014/0005358846\" class=\"sa_text_cmt _COMMENT_COUNT_LIST\" style=\"display: none;\" data-ticket=\"news\" data-object-id=\"news014,0005358846\" data-zero-allow=\"false\"></a>\n",
      "\t\t\t\t\t\t\t</div>\n",
      "\t\t\t\t\t\t\t<div class=\"sa_text_info_right\">\n",
      "\t\t\t\t\t\t\t\t<a href=\"/cluster/c_202506040850_00001566/section/105?oid&#x3D;014&amp;aid&#x3D;0005358846\" class=\"sa_text_cluster\" data-clk=\"clcou\">\n",
      "\t\t\t\t\t\t\t\t\t<span class=\"sa_text_cluster_num\">6</span>\n",
      "\t\t\t\t\t\t\t\t\t<span class=\"blind\">개의 관련뉴스 더보기</span>\n",
      "\t\t\t\t\t\t\t\t</a>\n",
      "\t\t\t\t\t\t\t</div>\n",
      "\t\t\t\t\t\t</div>\n",
      "\t\t\t\t\t</div>\n",
      "\t\t\t\t</div>\n",
      "\t\t\t</div>\n",
      "\t\t</li>\n",
      "\t\t<li class=\"sa_item _SECTION_HEADLINE\">\n",
      "\t\t\t<div class=\"sa_item_inner\">\n",
      "\t\t\t\t<div class=\"sa_item_flex _LAZY_LOADING_WRAP\">\n",
      "\t\t\t\t\t<div class=\"sa_thumb _LAZY_LOADING_ERROR_HIDE\">\n",
      "\t\t\t\t\t\t<div class=\"sa_thumb_inner\">\n",
      "\t\t\t\t\t\t\t<a href=\"https://n.news.naver.com/mnews/article/003/0013284628\" class=\"sa_thumb_link _NLOG_IMPRESSION\" data-clk=\"itn.clart\" data-imp-gdid=\"88000127_000000000000000013284628\" data-imp-url=\"https://n.news.naver.com/mnews/article/003/0013284628\" data-imp-index=\"3\">\n",
      "\t\t\t\t\t\t\t\t<img data-src=\"https://mimgnews.pstatic.net/image/origin/003/2025/06/04/13284628.jpg?type&#x3D;nf220_150\" class=\"_LAZY_LOADING _LAZY_LOADING_INIT_HIDE\" width=\"110\" height=\"75\" alt=\"카카오, 중소사업자 대상 개인정보 보호 온라인 교육\" style=\"display: none;\">\n",
      "\t\t\t\t\t\t\t</a>\n",
      "\t\t\t\t\t\t</div>\n",
      "\t\t\t\t\t</div>\n",
      "\t\t\t\t\t<div class=\"sa_text\">\n",
      "\t\t\t\t\t\t<a href=\"https://n.news.naver.com/mnews/article/003/0013284628\" class=\"sa_text_title _NLOG_IMPRESSION\" data-clk=\"itn.clart\" data-imp-gdid=\"88000127_000000000000000013284628\" data-imp-url=\"https://n.news.naver.com/mnews/article/003/0013284628\" data-imp-index=\"3\">\n",
      "\t\t\t\t\t\t\t<strong class=\"sa_text_strong\">카카오, 중소사업자 대상 개인정보 보호 온라인 교육</strong>\n",
      "\t\t\t\t\t\t</a>\n",
      "\t\t\t\t\t\t<div class=\"sa_text_lede\">카카오는 4일 오후 4시 개인정보보호위원회, 한국인터넷진흥원(KISA)과 함께 중소사업자 개인정보보호 역량 강화를 위한 온라인 교육을 진행한다고 밝혔다. 카카오와 KISA는 2022년부터 카카오비즈니스 파트너, 중소</div>\n",
      "\t\t\t\t\t\t<div class=\"sa_text_info\">\n",
      "\t\t\t\t\t\t\t<div class=\"sa_text_info_left\">\n",
      "\t\t\t\t\t\t\t\t<div class=\"sa_text_press\">뉴시스</div>\n",
      "\t\t\t\t\t\t\t\t<a href=\"https://n.news.naver.com/mnews/article/comment/003/0013284628\" class=\"sa_text_cmt _COMMENT_COUNT_LIST\" style=\"display: none;\" data-ticket=\"news\" data-object-id=\"news003,0013284628\" data-zero-allow=\"false\"></a>\n",
      "\t\t\t\t\t\t\t</div>\n",
      "\t\t\t\t\t\t\t<div class=\"sa_text_info_right\">\n",
      "\t\t\t\t\t\t\t\t<a href=\"/cluster/c_202506040920_00000005/section/105?oid&#x3D;003&amp;aid&#x3D;0013284628\" class=\"sa_text_cluster\" data-clk=\"clcou\">\n",
      "\t\t\t\t\t\t\t\t\t<span class=\"sa_text_cluster_num\">10</span>\n",
      "\t\t\t\t\t\t\t\t\t<span class=\"blind\">개의 관련뉴스 더보기</span>\n",
      "\t\t\t\t\t\t\t\t</a>\n",
      "\t\t\t\t\t\t\t</div>\n",
      "\t\t\t\t\t\t</div>\n",
      "\t\t\t\t\t</div>\n",
      "\t\t\t\t</div>\n",
      "\t\t\t</div>\n",
      "\t\t</li>\n",
      "\t\t<li class=\"sa_item _SECTION_HEADLINE\">\n",
      "\t\t\t<div class=\"sa_item_inner\">\n",
      "\t\t\t\t<div class=\"sa_item_flex _LAZY_LOADING_WRAP\">\n",
      "\t\t\t\t\t<div class=\"sa_thumb _LAZY_LOADING_ERROR_HIDE\">\n",
      "\t\t\t\t\t\t<div class=\"sa_thumb_inner\">\n",
      "\t\t\t\t\t\t\t<a href=\"https://n.news.naver.com/mnews/article/005/0001780931\" class=\"sa_thumb_link _NLOG_IMPRESSION\" data-clk=\"itn.clart\" data-imp-gdid=\"8800006F_000000000000000001780931\" data-imp-url=\"https://n.news.naver.com/mnews/article/005/0001780931\" data-imp-index=\"4\">\n",
      "\t\t\t\t\t\t\t\t<img data-src=\"https://mimgnews.pstatic.net/image/origin/005/2025/06/04/1780931.jpg?type&#x3D;nf220_150\" class=\"_LAZY_LOADING _LAZY_LOADING_INIT_HIDE\" width=\"110\" height=\"75\" alt=\"넷마블문화재단-콘진원, 장애인 e페스티벌 예선 시작\" style=\"display: none;\">\n",
      "\t\t\t\t\t\t\t</a>\n",
      "\t\t\t\t\t\t</div>\n",
      "\t\t\t\t\t</div>\n",
      "\t\t\t\t\t<div class=\"sa_text\">\n",
      "\t\t\t\t\t\t<a href=\"https://n.news.naver.com/mnews/article/005/0001780931\" class=\"sa_text_title _NLOG_IMPRESSION\" data-clk=\"itn.clart\" data-imp-gdid=\"8800006F_000000000000000001780931\" data-imp-url=\"https://n.news.naver.com/mnews/article/005/0001780931\" data-imp-index=\"4\">\n",
      "\t\t\t\t\t\t\t<strong class=\"sa_text_strong\">넷마블문화재단-콘진원, 장애인 e페스티벌 예선 시작</strong>\n",
      "\t\t\t\t\t\t</a>\n",
      "\t\t\t\t\t\t<div class=\"sa_text_lede\">넷마블문화재단은 국립특수교육원 및 한국콘텐츠진흥원과 함께 주최하고 교육부, 문화체육관광부가 후원하는 ‘2025 전국 장애학생 e페스티벌’ 예선을 4일 시작한다고 이날 밝혔다. 전국 장애학생 e페스티벌은 게임의 우수한</div>\n",
      "\t\t\t\t\t\t<div class=\"sa_text_info\">\n",
      "\t\t\t\t\t\t\t<div class=\"sa_text_info_left\">\n",
      "\t\t\t\t\t\t\t\t<div class=\"sa_text_press\">국민일보</div>\n",
      "\t\t\t\t\t\t\t\t<a href=\"https://n.news.naver.com/mnews/article/comment/005/0001780931\" class=\"sa_text_cmt _COMMENT_COUNT_LIST\" style=\"display: none;\" data-ticket=\"news\" data-object-id=\"news005,0001780931\" data-zero-allow=\"false\"></a>\n",
      "\t\t\t\t\t\t\t</div>\n",
      "\t\t\t\t\t\t\t<div class=\"sa_text_info_right\">\n",
      "\t\t\t\t\t\t\t\t<a href=\"/cluster/c_202506040950_00000015/section/105?oid&#x3D;005&amp;aid&#x3D;0001780931\" class=\"sa_text_cluster\" data-clk=\"clcou\">\n",
      "\t\t\t\t\t\t\t\t\t<span class=\"sa_text_cluster_num\">5</span>\n",
      "\t\t\t\t\t\t\t\t\t<span class=\"blind\">개의 관련뉴스 더보기</span>\n",
      "\t\t\t\t\t\t\t\t</a>\n",
      "\t\t\t\t\t\t\t</div>\n",
      "\t\t\t\t\t\t</div>\n",
      "\t\t\t\t\t</div>\n",
      "\t\t\t\t</div>\n",
      "\t\t\t</div>\n",
      "\t\t</li>\n",
      "\t\t<li class=\"sa_item _SECTION_HEADLINE\">\n",
      "\t\t\t<div class=\"sa_item_inner\">\n",
      "\t\t\t\t<div class=\"sa_item_flex _LAZY_LOADING_WRAP\">\n",
      "\t\t\t\t\t<div class=\"sa_thumb _LAZY_LOADING_ERROR_HIDE\">\n",
      "\t\t\t\t\t\t<div class=\"sa_thumb_inner\">\n",
      "\t\t\t\t\t\t\t<a href=\"https://n.news.naver.com/mnews/article/011/0004493039\" class=\"sa_thumb_link _NLOG_IMPRESSION\" data-clk=\"itn.clart\" data-imp-gdid=\"88000108_000000000000000004493039\" data-imp-url=\"https://n.news.naver.com/mnews/article/011/0004493039\" data-imp-index=\"5\">\n",
      "\t\t\t\t\t\t\t\t<img data-src=\"https://mimgnews.pstatic.net/image/origin/011/2025/06/03/4493039.jpg?type&#x3D;nf220_150\" class=\"_LAZY_LOADING _LAZY_LOADING_INIT_HIDE\" width=\"110\" height=\"75\" alt=\"올트먼 &quot;내년이면 AI가 새 지식 발견할 것&quot;\" style=\"display: none;\">\n",
      "\t\t\t\t\t\t\t</a>\n",
      "\t\t\t\t\t\t</div>\n",
      "\t\t\t\t\t</div>\n",
      "\t\t\t\t\t<div class=\"sa_text\">\n",
      "\t\t\t\t\t\t<a href=\"https://n.news.naver.com/mnews/article/011/0004493039\" class=\"sa_text_title _NLOG_IMPRESSION\" data-clk=\"itn.clart\" data-imp-gdid=\"88000108_000000000000000004493039\" data-imp-url=\"https://n.news.naver.com/mnews/article/011/0004493039\" data-imp-index=\"5\">\n",
      "\t\t\t\t\t\t\t<strong class=\"sa_text_strong\">올트먼 &quot;내년이면 AI가 새 지식 발견할 것&quot;</strong>\n",
      "\t\t\t\t\t\t</a>\n",
      "\t\t\t\t\t\t<div class=\"sa_text_lede\">“내년이면 제한적이더라도 완전히 새로운 지식을 발견할 수 있는 인공지능(AI) 에이전트가 나올 것이라 확신합니다. AI 구축을 망설이지 말고 그냥 하세요(Just do it). 변화가 빠를 땐 초기 베팅하는 자가 승</div>\n",
      "\t\t\t\t\t\t<div class=\"sa_text_info\">\n",
      "\t\t\t\t\t\t\t<div class=\"sa_text_info_left\">\n",
      "\t\t\t\t\t\t\t\t<div class=\"sa_text_press\">서울경제</div>\n",
      "\t\t\t\t\t\t\t\t<a href=\"https://n.news.naver.com/mnews/article/comment/011/0004493039\" class=\"sa_text_cmt _COMMENT_COUNT_LIST\" style=\"display: none;\" data-ticket=\"news\" data-object-id=\"news011,0004493039\" data-zero-allow=\"false\"></a>\n",
      "\t\t\t\t\t\t\t</div>\n",
      "\t\t\t\t\t\t\t<div class=\"sa_text_info_right\">\n",
      "\t\t\t\t\t\t\t\t<a href=\"/cluster/c_202506031420_00001532/section/105?oid&#x3D;011&amp;aid&#x3D;0004493039\" class=\"sa_text_cluster\" data-clk=\"clcou\">\n",
      "\t\t\t\t\t\t\t\t\t<span class=\"sa_text_cluster_num\">7</span>\n",
      "\t\t\t\t\t\t\t\t\t<span class=\"blind\">개의 관련뉴스 더보기</span>\n",
      "\t\t\t\t\t\t\t\t</a>\n",
      "\t\t\t\t\t\t\t</div>\n",
      "\t\t\t\t\t\t</div>\n",
      "\t\t\t\t\t</div>\n",
      "\t\t\t\t</div>\n",
      "\t\t\t</div>\n",
      "\t\t</li>\n",
      "\t\n"
     ]
    }
   ],
   "source": [
    "import requests\n",
    "\n",
    "response = requests.get(\"https://news.naver.com/section/105\")\n",
    "\n",
    "# JS 코드 범위 좁히기\n",
    "data = response.text.split('data-template-id=\"SECTION_HEADLINE\">')[1]  # [1]: 이 문자열로 쪼개진 뒤쪽을 가져온다.\n",
    "data = data.split(\"_SECTION_HEADLINE_MORE_BUTTON_WRAP\")[0]  # [0]: 이 문자열로 쪼개진 앞쪽을 가져온다.\n",
    "data = data.split('sa_list\">')[1]\n",
    "data = data.split(r'</ul>')[0]\n",
    "# data = data.split(r'<img')[1]\n",
    "# data = data.split(r'</a>')[0]\n",
    "print(data)"
   ]
  },
  {
   "cell_type": "code",
   "execution_count": 25,
   "id": "b88e1b69",
   "metadata": {},
   "outputs": [
    {
     "data": {
      "text/plain": [
       "<re.Match object; span=(489, 714), match='<img data-src=\"https://mimgnews.pstatic.net/image>"
      ]
     },
     "execution_count": 25,
     "metadata": {},
     "output_type": "execute_result"
    }
   ],
   "source": [
    "import re\n",
    "# p = re.compile(r\"<img.+?src=['\\\"][^'\\\"]+['\\\"][^>]*>\", re.I | re.M | re.X)  # re.X 정보가 안 나온다,,\n",
    "p = re.compile(r\"<img.+?src=['\\\"]([^'\\\"]+)['\\\"][^>]*>\", re.I | re.M)\n",
    "m = p.search(data)\n",
    "m"
   ]
  },
  {
   "cell_type": "code",
   "execution_count": 6,
   "id": "0c97484b",
   "metadata": {},
   "outputs": [
    {
     "data": {
      "text/plain": [
       "['<img data-src=\"https://mimgnews.pstatic.net/image/origin/018/2025/06/04/6030576.jpg?type&#x3D;nf220_150\" class=\"_LAZY_LOADING _LAZY_LOADING_INIT_HIDE\" width=\"110\" height=\"75\" alt=\"뇌 모방한 로봇 비전 센서 개발… “AI·로봇 비전 혁신 가속”\" style=\"display: none;\">']"
      ]
     },
     "execution_count": 6,
     "metadata": {},
     "output_type": "execute_result"
    }
   ],
   "source": [
    "images = p.findall(data)\n",
    "images"
   ]
  },
  {
   "cell_type": "code",
   "execution_count": 12,
   "id": "19a85591",
   "metadata": {},
   "outputs": [
    {
     "data": {
      "text/plain": [
       "<callable_iterator at 0x1274a2a9e10>"
      ]
     },
     "execution_count": 12,
     "metadata": {},
     "output_type": "execute_result"
    }
   ],
   "source": [
    "iter = p.finditer(data)\n",
    "iter"
   ]
  },
  {
   "cell_type": "code",
   "execution_count": 27,
   "id": "87cc6053",
   "metadata": {},
   "outputs": [
    {
     "name": "stdout",
     "output_type": "stream",
     "text": [
      "url: https://mimgnews.pstatic.net/image/origin/030/2025/06/04/3318528.jpg?type&#x3D;nf220_150\n",
      "url: https://mimgnews.pstatic.net/image/origin/014/2025/06/04/5358846.jpg?type&#x3D;nf220_150\n",
      "url: https://mimgnews.pstatic.net/image/origin/003/2025/06/04/13284628.jpg?type&#x3D;nf220_150\n",
      "url: https://mimgnews.pstatic.net/image/origin/005/2025/06/04/1780931.jpg?type&#x3D;nf220_150\n",
      "url: https://mimgnews.pstatic.net/image/origin/011/2025/06/03/4493039.jpg?type&#x3D;nf220_150\n"
     ]
    }
   ],
   "source": [
    "iter = p.finditer(data)\n",
    "for m in iter:\n",
    "    # print(f\"group:{m.group()} / start:{m.start()} / end:{m.end()} / span:{m.span()}\")\n",
    "    print(f\"url: {m.group(1)}\")"
   ]
  },
  {
   "cell_type": "code",
   "execution_count": null,
   "id": "53587179",
   "metadata": {},
   "outputs": [],
   "source": []
  }
 ],
 "metadata": {
  "kernelspec": {
   "display_name": "basic",
   "language": "python",
   "name": "python3"
  },
  "language_info": {
   "codemirror_mode": {
    "name": "ipython",
    "version": 3
   },
   "file_extension": ".py",
   "mimetype": "text/x-python",
   "name": "python",
   "nbconvert_exporter": "python",
   "pygments_lexer": "ipython3",
   "version": "3.12.10"
  }
 },
 "nbformat": 4,
 "nbformat_minor": 5
}
