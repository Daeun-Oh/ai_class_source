{
 "cells": [
  {
   "cell_type": "markdown",
   "id": "6aca3ecb",
   "metadata": {},
   "source": [
    "# 정규표현식\n",
    "## \\[\\] 문자 클래스\n",
    "- 문자 하나 검사\\\n",
    "`[abc]` : a, b, c 중 1개\n",
    "\n",
    "- 문자의 범위 `-`\\\n",
    "`[a-z]` : 모든 소문자 알파벳 1개\\\n",
    "`[A-Z]` : 모든 대문자 알파벳 1개\\\n",
    "`[a-zA-Z]` : 모든 알파벳 1개\\\n",
    "`[ㄱ-ㅎ가-힣]` : 한글 1개\\\n",
    "`[0-9]` : 숫자 1개\\\n",
    "`[^0-9]` : 0-9 숫자를 제외한 모든 문자 (^: 제외할 문자)\n",
    "\n",
    "- 자주 사용하는 문자 클래스 (메타문자)\\\n",
    "`\\d` : `[0-9]`\\\n",
    "`\\D` : `[^0-9]`\\\n",
    "`\\s` : 공백 문자 (`' '`, `\\t` - 탭 1칸, `\\r`, `\\n`, `\\f`)\\\n",
    "`\\S` : `[^\\s\\t\\r\\n\\f]` -> 공백이 아닌 문자\\\n",
    "`\\w` : `[a-zA-Z0-9_]` -> 영단어 1개\\\n",
    "    참고) 한글 단어 1개 `[a-zA-Z0-9_ㄱ-ㅎ가-힣]`\\\n",
    "`\\W` : `[^a-zA-Z0-9_]`\\\n",
    "`.` : `\\n`을 제외한 문자 1개 (줄개행 문자는 포함되지 X)"
   ]
  },
  {
   "cell_type": "code",
   "execution_count": 4,
   "id": "85cf2459",
   "metadata": {},
   "outputs": [
    {
     "data": {
      "text/plain": [
       "<re.Match object; span=(0, 1), match='b'>"
      ]
     },
     "execution_count": 4,
     "metadata": {},
     "output_type": "execute_result"
    }
   ],
   "source": [
    "import re\n",
    "\n",
    "p = re.compile(\"[abc]\")  # a, b, c 중에 하나가 포함되어 있는가?\n",
    "p.match(\"banana\")"
   ]
  },
  {
   "cell_type": "code",
   "execution_count": 6,
   "id": "6c582381",
   "metadata": {},
   "outputs": [
    {
     "data": {
      "text/plain": [
       "<re.Match object; span=(0, 1), match='z'>"
      ]
     },
     "execution_count": 6,
     "metadata": {},
     "output_type": "execute_result"
    }
   ],
   "source": [
    "p = re.compile(\"[a-z]\")  # a-z 중 하나가 포함되어 있는가?\n",
    "p.match(\"zara\")"
   ]
  },
  {
   "cell_type": "code",
   "execution_count": null,
   "id": "9ad11609",
   "metadata": {},
   "outputs": [],
   "source": []
  },
  {
   "cell_type": "markdown",
   "id": "9e6eed16",
   "metadata": {},
   "source": [
    "# 패턴의 반복 횟수\n",
    "- 패턴{숫자} : 패턴이 숫자 만큼 반복\n",
    "- 패턴{시작번호, 종료번호} : 패턴이 시작번호 이상, 종료번호 이하 반복\n",
    "    - 패턴{1, 3} : 패턴이 1번 이상 3번 이하 반복\n",
    "- 패턴{시작번호,} : 패턴이 시작번호 이상 반복\n",
    "    - 패턴{1,} : 패턴이 1번 이상 반복 / 패턴 +\n",
    "    - 패턴{0,} : 패턴이 0번 이상 반복, 패턴에 해당하는 문자가 있어도 되고 없어도 된다. / 패턴 *"
   ]
  },
  {
   "cell_type": "code",
   "execution_count": null,
   "id": "b60c3853",
   "metadata": {},
   "outputs": [
    {
     "name": "stdout",
     "output_type": "stream",
     "text": [
      "a000b <re.Match object; span=(0, 5), match='a000b'>\n",
      "a111b <re.Match object; span=(0, 5), match='a111b'>\n",
      "a222b <re.Match object; span=(0, 5), match='a222b'>\n",
      "a!b <re.Match object; span=(0, 3), match='a!b'>\n"
     ]
    }
   ],
   "source": [
    "words = ['a000b', 'a111b', 'a222b', 'a!b']\n",
    "p = re.compile(\"a.{1,}b\")\n",
    "for word in words:\n",
    "    print(word, p.match(word))"
   ]
  },
  {
   "cell_type": "code",
   "execution_count": 9,
   "id": "cf2a1df3",
   "metadata": {},
   "outputs": [],
   "source": [
    "p = re.compile(\".*python.*\")  # python 포함된 패턴"
   ]
  },
  {
   "cell_type": "code",
   "execution_count": null,
   "id": "c5c569ee",
   "metadata": {},
   "outputs": [],
   "source": []
  }
 ],
 "metadata": {
  "kernelspec": {
   "display_name": "basic",
   "language": "python",
   "name": "python3"
  },
  "language_info": {
   "codemirror_mode": {
    "name": "ipython",
    "version": 3
   },
   "file_extension": ".py",
   "mimetype": "text/x-python",
   "name": "python",
   "nbconvert_exporter": "python",
   "pygments_lexer": "ipython3",
   "version": "3.12.10"
  }
 },
 "nbformat": 4,
 "nbformat_minor": 5
}
