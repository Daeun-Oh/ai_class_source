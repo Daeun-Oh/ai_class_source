{
 "cells": [
  {
   "cell_type": "code",
   "execution_count": null,
   "id": "d28f6bb6",
   "metadata": {},
   "outputs": [
    {
     "name": "stdout",
     "output_type": "stream",
     "text": [
      "CUDA available: True\n",
      "Device: cuda\n",
      "GPU name: NVIDIA GeForce RTX 4070\n"
     ]
    }
   ],
   "source": [
    "import torch\n",
    "\n",
    "is_available = torch.cuda.is_available()\n",
    "device = torch.device(\"cuda\" if is_available else \"cpu\")\n",
    "\n",
    "print(\"CUDA available:\", is_available)\n",
    "print(\"Device:\", device)\n",
    "if is_available:\n",
    "    print(\"GPU name:\", torch.cuda.get_device_name(0))"
   ]
  }
 ],
 "metadata": {
  "kernelspec": {
   "display_name": ".venv",
   "language": "python",
   "name": "python3"
  },
  "language_info": {
   "codemirror_mode": {
    "name": "ipython",
    "version": 3
   },
   "file_extension": ".py",
   "mimetype": "text/x-python",
   "name": "python",
   "nbconvert_exporter": "python",
   "pygments_lexer": "ipython3",
   "version": "3.12.10"
  }
 },
 "nbformat": 4,
 "nbformat_minor": 5
}
