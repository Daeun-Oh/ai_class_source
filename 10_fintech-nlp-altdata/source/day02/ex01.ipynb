{
 "cells": [
  {
   "cell_type": "code",
   "execution_count": 2,
   "id": "827f1ab7",
   "metadata": {},
   "outputs": [],
   "source": [
    "import torch\n",
    "from tensorflow import keras\n",
    "from keras.datasets import imdb\n",
    "from sklearn.model_selection import train_test_split\n",
    "from keras.preprocessing.sequence import pad_sequences\n",
    "\n",
    "# IMDB 리뷰 데이터셋 가져오기\n",
    "(train_input, train_target), (test_input, test_target) =\\\n",
    "    imdb.load_data(num_words=500)\n",
    "\n",
    "# 훈련/검증 세트 분리\n",
    "train_input, val_input, train_target, val_target = train_test_split(\n",
    "    train_input, train_target, test_size=0.2, random_state=42\n",
    ")\n",
    "\n",
    "# 패딩 처리\n",
    "train_seq = pad_sequences(train_input, maxlen=100)\n",
    "val_seq = pad_sequences(val_input, maxlen=100)"
   ]
  },
  {
   "cell_type": "code",
   "execution_count": 3,
   "id": "6f31ebb8",
   "metadata": {},
   "outputs": [],
   "source": [
    "# 파이토치 torch.tensor 자료형으로 변환\n",
    "train_seq = torch.tensor(train_seq)\n",
    "val_seq = torch.tensor(val_seq)\n",
    "\n",
    "# 0, 1 정수형을 실수형으로 (파이토치에서 실수형을 기대하기 때문)\n",
    "train_target = torch.tensor(train_target, dtype=torch.float32)\n",
    "val_target = torch.tensor(val_target, dtype=torch.float32)"
   ]
  },
  {
   "cell_type": "code",
   "execution_count": 4,
   "id": "93ff8da7",
   "metadata": {},
   "outputs": [],
   "source": [
    "from torch.utils.data import TensorDataset, DataLoader\n",
    "\n",
    "# TensorDataset: 가공된 입력과 타깃을 하나의 PyTorch 데이터셋으로 통합\n",
    "train_dataset = TensorDataset(train_seq, train_target)\n",
    "val_dataset = TensorDataset(val_seq, val_target)\n",
    "\n",
    "# DataLoader: 32 배치 단위로, 훈련 세트는 섞어서(shuffle) 검증 데이터는 순서대로 나눠준다.\n",
    "train_loader = DataLoader(train_dataset, batch_size=32, shuffle=True)\n",
    "val_loader = DataLoader(val_dataset, batch_size=32, shuffle=False)"
   ]
  },
  {
   "cell_type": "code",
   "execution_count": 5,
   "id": "3f77c59f",
   "metadata": {},
   "outputs": [],
   "source": [
    "import torch.nn as nn\n",
    "\n",
    "# 층 구성\n",
    "# 입력 -> 은닉(모든 출력 반환) -> 은닉(마지막 출력 반환) -> 출력\n",
    "\n",
    "class IMDLstm(nn.Module):\n",
    "    def __init__(self):\n",
    "        super().__init__()\n",
    "\n",
    "        # 입력 층: 파이토치는 입력층을 따로 명시하지 않음\n",
    "\n",
    "        # 임베딩 층\n",
    "        self.embedding = nn.Embedding(500, 16)\n",
    "\n",
    "        # LSTM 층\n",
    "        self.lstm = nn.LSTM(16, 8, num_layers=2, dropout=0.2, batch_first=True)  # 층을 2개 쌓음\n",
    "\n",
    "        # 은닉 층\n",
    "        self.dense = nn.Linear(8, 1)\n",
    "\n",
    "        # 출력 층\n",
    "        self.sigmoid = nn.Sigmoid()\n",
    "\n",
    "    def forward(self, x):\n",
    "        x = self.embedding(x)\n",
    "        _, (hidden, _) = self.lstm(x)\n",
    "        x = self.dense(hidden[-1])\n",
    "        outputs = self.dense(hidden[-1])\n",
    "\n",
    "        return self.sigmoid(outputs)"
   ]
  },
  {
   "cell_type": "code",
   "execution_count": 6,
   "id": "6a08f2eb",
   "metadata": {},
   "outputs": [
    {
     "data": {
      "text/plain": [
       "=================================================================\n",
       "Layer (type:depth-idx)                   Param #\n",
       "=================================================================\n",
       "IMDLstm                                  --\n",
       "├─Embedding: 1-1                         8,000\n",
       "├─LSTM: 1-2                              1,408\n",
       "├─Linear: 1-3                            9\n",
       "├─Sigmoid: 1-4                           --\n",
       "=================================================================\n",
       "Total params: 9,417\n",
       "Trainable params: 9,417\n",
       "Non-trainable params: 0\n",
       "================================================================="
      ]
     },
     "execution_count": 6,
     "metadata": {},
     "output_type": "execute_result"
    }
   ],
   "source": [
    "from torchinfo import summary\n",
    "model = IMDLstm()\n",
    "\n",
    "summary(model)"
   ]
  },
  {
   "cell_type": "code",
   "execution_count": 7,
   "id": "fbf59de3",
   "metadata": {},
   "outputs": [
    {
     "data": {
      "text/plain": [
       "IMDLstm(\n",
       "  (embedding): Embedding(500, 16)\n",
       "  (lstm): LSTM(16, 8, num_layers=2, batch_first=True, dropout=0.2)\n",
       "  (dense): Linear(in_features=8, out_features=1, bias=True)\n",
       "  (sigmoid): Sigmoid()\n",
       ")"
      ]
     },
     "execution_count": 7,
     "metadata": {},
     "output_type": "execute_result"
    }
   ],
   "source": [
    "# 모델을 gpu로 보내기\n",
    "\n",
    "device = torch.device(\"cuda\" if torch.cuda.is_available() else \"cpu\")\n",
    "model.to(device)"
   ]
  },
  {
   "cell_type": "code",
   "execution_count": 8,
   "id": "f12d2fcd",
   "metadata": {},
   "outputs": [],
   "source": [
    "import torch.optim as optim\n",
    "# 모델 컴파일 - optimizer, loss function, 평가 지표\n",
    "\n",
    "criterion = nn.BCELoss()\n",
    "optimizer = optim.Adam(model.parameters())"
   ]
  },
  {
   "cell_type": "code",
   "execution_count": 9,
   "id": "3b597a3f",
   "metadata": {},
   "outputs": [
    {
     "name": "stdout",
     "output_type": "stream",
     "text": [
      "Epoch 1/100 - loss: 0.6757 - val_loss: 0.6233\n",
      "Epoch 2/100 - loss: 0.6280 - val_loss: 0.5992\n",
      "Epoch 3/100 - loss: 0.5979 - val_loss: 0.6101\n",
      "Epoch 4/100 - loss: 0.5654 - val_loss: 0.5482\n",
      "Epoch 5/100 - loss: 0.5538 - val_loss: 0.5325\n",
      "Epoch 6/100 - loss: 0.6131 - val_loss: 0.6560\n",
      "Epoch 7/100 - loss: 0.5986 - val_loss: 0.5575\n",
      "Early Stopping - 7 epochs\n"
     ]
    }
   ],
   "source": [
    "train_hist = []\n",
    "val_hist = []\n",
    "patience = 2\n",
    "best_loss = -1\n",
    "early_stopping_counter = 0\n",
    "\n",
    "epochs = 100\n",
    "for epoch in  range(epochs):\n",
    "    model.train()\n",
    "    train_loss = 0\n",
    "\n",
    "    # 학습 - 32 배치 단위\n",
    "    for inputs, targets in train_loader:\n",
    "        inputs, targets = inputs.to(device), targets.to(device)\n",
    "        optimizer.zero_grad()\n",
    "        outputs = model(inputs)\n",
    "        loss = criterion(outputs.squeeze(), targets)\n",
    "        loss.backward()\n",
    "        optimizer.step()\n",
    "        train_loss += loss.item()\n",
    "\n",
    "    # 검증 - 32 배치 단위\n",
    "    model.eval()\n",
    "    val_loss = 0\n",
    "    with torch.no_grad():\n",
    "        for inputs, targets in val_loader:\n",
    "            inputs, targets = inputs.to(device), targets.to(device)\n",
    "            outputs = model(inputs)\n",
    "            loss = criterion(outputs.squeeze(), targets)\n",
    "            val_loss += loss.item()\n",
    "\n",
    "    # 훈련/검증 평균 손실 계산\n",
    "    train_loss = train_loss / len(train_loader)\n",
    "    val_loss = val_loss / len(val_loader)\n",
    "\n",
    "    # 평균 손실 기록\n",
    "    train_hist.append(train_loss)\n",
    "    val_hist.append(val_loss)\n",
    "\n",
    "    print(f\"Epoch {epoch+1}/{epochs} - loss: {train_loss:.4f} - val_loss: {val_loss:.4f}\")\n",
    "\n",
    "    if best_loss == -1 or val_loss < best_loss:\n",
    "        best_loss = val_loss\n",
    "        early_stopping_counter = 0\n",
    "        torch.save(model.state_dict(), 'best_lstm_model.pth')\n",
    "    else:\n",
    "        early_stopping_counter += 1\n",
    "        if early_stopping_counter >= patience:\n",
    "            print(f\"Early Stopping - {epoch+1} epochs\")\n",
    "            break"
   ]
  },
  {
   "cell_type": "code",
   "execution_count": 10,
   "id": "f35394d0",
   "metadata": {},
   "outputs": [
    {
     "data": {
      "image/png": "[encoded data removed]",
      "text/plain": [
       "<Figure size 640x480 with 1 Axes>"
      ]
     },
     "metadata": {},
     "output_type": "display_data"
    }
   ],
   "source": [
    "import matplotlib.pyplot as plt\n",
    "\n",
    "plt.plot(train_hist, label='train')\n",
    "plt.plot(val_hist, label='val')\n",
    "plt.xlabel('epoch')\n",
    "plt.ylabel('loss')\n",
    "plt.legend()\n",
    "plt.show()"
   ]
  },
  {
   "cell_type": "code",
   "execution_count": 11,
   "id": "a171cb96",
   "metadata": {},
   "outputs": [
    {
     "name": "stdout",
     "output_type": "stream",
     "text": [
      "검증 정확도: 0.7144\n"
     ]
    }
   ],
   "source": [
    "model.eval()\n",
    "corrects = 0\n",
    "with torch.no_grad():\n",
    "    for inputs, targets in val_loader:\n",
    "        inputs, targets = inputs.to(device), targets.to(device)\n",
    "        outputs = model(inputs)\n",
    "        predicts = outputs.squeeze() > 0.5\n",
    "        corrects += (predicts == targets).sum().item()\n",
    "\n",
    "accuracy = corrects / len(val_dataset)\n",
    "print(f\"검증 정확도: {accuracy:.4f}\")"
   ]
  }
 ],
 "metadata": {
  "kernelspec": {
   "display_name": ".venv",
   "language": "python",
   "name": "python3"
  },
  "language_info": {
   "codemirror_mode": {
    "name": "ipython",
    "version": 3
   },
   "file_extension": ".py",
   "mimetype": "text/x-python",
   "name": "python",
   "nbconvert_exporter": "python",
   "pygments_lexer": "ipython3",
   "version": "3.12.10"
  }
 },
 "nbformat": 4,
 "nbformat_minor": 5
}
