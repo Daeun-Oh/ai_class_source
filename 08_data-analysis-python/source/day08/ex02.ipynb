{
 "cells": [
  {
   "cell_type": "markdown",
   "id": "b10492da",
   "metadata": {},
   "source": [
    "# 문자열 소비가 없는 메타 문자\n",
    "\n",
    "1. |\n",
    "- or 연산자와 비슷\n",
    "ex) one|two|three\n",
    "\n",
    "2. ^\n",
    "`^패턴`\n",
    "- 패턴으로 시작\n",
    "\n",
    "3. $\n",
    "`패턴$`\n",
    "- 패턴으로 종료\n",
    "\n",
    "4. \\A\n",
    "- 패턴으로 시작 (여러 줄 문장에서)\n",
    "\n",
    "5. \\Z\n",
    "- 패턴으로 종료 (여러 줄 문장에서)\n",
    "\n",
    "6. \\b\n",
    "- 문자 클래스 내에서 사용되는 경우 (`[\\b]`) : 백스페이스 키를 한 번 누른 것(한 글자가 뒤에서부터 삭제됨)\n",
    "- 문자 클래스가 아닌 패턴으로 사용되는 경우 : 단어의 경계선(공백, 줄개행 문자)을 의미\n",
    "\n",
    "7. \\B\n",
    "- `[^\\b]`\n",
    "- 단어의 경계선이 아닌 문자"
   ]
  },
  {
   "cell_type": "code",
   "execution_count": 4,
   "id": "04bb11fb",
   "metadata": {},
   "outputs": [
    {
     "data": {
      "text/plain": [
       "['apple', 'orange', 'pear']"
      ]
     },
     "execution_count": 4,
     "metadata": {},
     "output_type": "execute_result"
    }
   ],
   "source": [
    "import re\n",
    "\n",
    "str = \"\"\"I like an apple.\n",
    "I like an orange.\n",
    "I like a pear.\"\"\"\n",
    "\n",
    "p = re.compile(r\"apple|orange|pear\", re.M)\n",
    "items = p.findall(str)\n",
    "items"
   ]
  },
  {
   "cell_type": "code",
   "execution_count": 10,
   "id": "402b7fa0",
   "metadata": {},
   "outputs": [
    {
     "name": "stdout",
     "output_type": "stream",
     "text": [
      "<re.Match object; span=(4, 9), match='class'>\n",
      "<re.Match object; span=(0, 5), match='class'>\n",
      "<re.Match object; span=(4, 9), match='class'>\n",
      "<re.Match object; span=(4, 9), match='class'>\n",
      "['class']\n"
     ]
    }
   ],
   "source": [
    "str1 = \"our class is over at 6:30 p.m.\"\n",
    "str2 = \"class is over at 6:30 p.m.\"\n",
    "str3 = \"our class\"\n",
    "str4 = \"our class and subclass\"\n",
    "\n",
    "p = re.compile(r\"\\bclass\\b\")\n",
    "\n",
    "m1 = p.search(str1)\n",
    "m2 = p.search(str2)\n",
    "m3 = p.search(str3)\n",
    "m4 = p.search(str4)\n",
    "\n",
    "print(m1)\n",
    "print(m2)\n",
    "print(m3)\n",
    "print(m4)\n",
    "\n",
    "items = p.findall(str4)\n",
    "print(items)"
   ]
  },
  {
   "cell_type": "code",
   "execution_count": 12,
   "id": "a90b1b56",
   "metadata": {},
   "outputs": [
    {
     "data": {
      "text/plain": [
       "<re.Match object; span=(17, 22), match='class'>"
      ]
     },
     "execution_count": 12,
     "metadata": {},
     "output_type": "execute_result"
    }
   ],
   "source": [
    "p = re.compile(r\"\\Bclass\\b\")\n",
    "m = p.search(str4)\n",
    "m"
   ]
  },
  {
   "cell_type": "code",
   "execution_count": null,
   "id": "3b35f85e",
   "metadata": {},
   "outputs": [],
   "source": []
  }
 ],
 "metadata": {
  "kernelspec": {
   "display_name": "basic",
   "language": "python",
   "name": "python3"
  },
  "language_info": {
   "codemirror_mode": {
    "name": "ipython",
    "version": 3
   },
   "file_extension": ".py",
   "mimetype": "text/x-python",
   "name": "python",
   "nbconvert_exporter": "python",
   "pygments_lexer": "ipython3",
   "version": "3.12.10"
  }
 },
 "nbformat": 4,
 "nbformat_minor": 5
}
