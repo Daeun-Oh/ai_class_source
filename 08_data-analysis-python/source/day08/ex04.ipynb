{
 "cells": [
  {
   "cell_type": "code",
   "execution_count": null,
   "id": "94e65381",
   "metadata": {},
   "outputs": [
    {
     "name": "stdout",
     "output_type": "stream",
     "text": [
      "['1,373.80', '\\n\\t\\t\\t\\t\\t\\n\\t\\t\\t\\t\\t\\t\\n\\t\\t\\t\\t\\t\\t1,397.84\\n\\t\\t\\t\\t\\t\\n\\t\\t\\t\\t', '\\n\\t\\t\\t\\t\\t\\n\\t\\t\\t\\t\\t\\t\\n\\t\\t\\t\\t\\t\\t1,349.76\\n\\t\\t\\t\\t\\t\\n\\t\\t\\t\\t', '\\n\\t\\t\\t\\t\\t\\n\\t\\t\\t\\t\\t\\t\\n\\t\\t\\t\\t\\t\\t1,387.20\\n\\t\\t\\t\\t\\t\\n\\t\\t\\t\\t', '\\n\\t\\t\\t\\t\\t\\n\\t\\t\\t\\t\\t\\t\\n\\t\\t\\t\\t\\t\\t1,360.40\\n\\t\\t\\t\\t\\t\\n\\t\\t\\t\\t', '1.000']\n",
      "[1373.8, 1397.84, 1349.76]\n"
     ]
    }
   ],
   "source": [
    "import requests\n",
    "import re\n",
    "\n",
    "html = requests.get(\"https://finance.naver.com/marketindex/exchangeList.naver\")\n",
    "html\n",
    "\n",
    "data = html.text.split(\"미국 USD\")[1].strip()\n",
    "data = data.split(\"유럽연합 EUR\")[0].strip()\n",
    "\n",
    "# print(data)\n",
    "\n",
    "p = re.compile(r\"<td.*?>(.*?)</td>\", re.M | re.S)\n",
    "items = p.findall(data)\n",
    "print(items)\n",
    "\n",
    "exchange_rates = [float(rate.strip().replace(\",\", \"\")) for i, rate in enumerate(items) if i < 3]  # 0, 1, 2번째 데이터만 가져온다.\n",
    "print(exchange_rates)\n",
    "\n"
   ]
  },
  {
   "cell_type": "code",
   "execution_count": null,
   "id": "04e2f0c4",
   "metadata": {},
   "outputs": [],
   "source": []
  }
 ],
 "metadata": {
  "kernelspec": {
   "display_name": "basic",
   "language": "python",
   "name": "python3"
  },
  "language_info": {
   "codemirror_mode": {
    "name": "ipython",
    "version": 3
   },
   "file_extension": ".py",
   "mimetype": "text/x-python",
   "name": "python",
   "nbconvert_exporter": "python",
   "pygments_lexer": "ipython3",
   "version": "3.12.10"
  }
 },
 "nbformat": 4,
 "nbformat_minor": 5
}
