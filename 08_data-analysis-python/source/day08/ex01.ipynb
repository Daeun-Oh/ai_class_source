{
 "cells": [
  {
   "cell_type": "markdown",
   "id": "76e1dd3b",
   "metadata": {},
   "source": [
    "## 4. 컴파일 옵션\n",
    "\n",
    "```python\n",
    "re.DOTALL\n",
    "```\n",
    "\n",
    "\n",
    "\n",
    "1) DOTALL, S\n",
    "\n",
    "- `.`는 기본동작으로 `\\n`을 제외한 모든 문자이지만, `re.DOTALL`은 컴파일 옵션 추가 시 `\\n`도 포함한 모든 문자를 인식한다.\n",
    "- `re.DOTALL`, `re.S`\n",
    "\n",
    "2) IGNORECASE, I\n",
    "\n",
    "- 대소문자 구분 없는 패턴 (알파벳)\n",
    "- `re.IGNORECASE`, `re.I`\n",
    "\n",
    "3) MULTILINE, M\n",
    "- 일반 패턴은 한 줄만 패턴을 체크하지만, re.MULTILINE은 여러 줄에 걸쳐 패턴을 체크한다.\n",
    "- `re.MULTILINE`, `re.M`\n",
    "\n",
    "4) VERBOSE, X\n",
    "- 패턴의 해석에 대한 자세한 정보\n",
    "- `re.VERBOSE`, `re.X`\n",
    "\n",
    "5) 컴파일 옵션을 여러 개 적용하는 경우\n",
    "- `|` 연산자 사용\n",
    "- ex) `re.M | re.I`"
   ]
  },
  {
   "cell_type": "code",
   "execution_count": 9,
   "id": "12677c78",
   "metadata": {},
   "outputs": [
    {
     "name": "stdout",
     "output_type": "stream",
     "text": [
      "<re.Match object; span=(0, 7), match='a11234b'>\n",
      "<re.Match object; span=(0, 7), match='a     b'>\n",
      "<re.Match object; span=(0, 3), match='a!b'>\n",
      "<re.Match object; span=(0, 3), match='a\\nb'>\n"
     ]
    }
   ],
   "source": [
    "import re\n",
    "\n",
    "words = [\"a11234b\", \"a     b\", \"a!b\", \"a\\nb\"]\n",
    "\n",
    "p = re.compile(\"a.*b\")\n",
    "# p = re.compile(\"a.*b\", re.DOTALL)  # 줄개행(\\n)을 포함한 모든 문자를 인식\n",
    "p = re.compile(\"a.*b\", re.S)\n",
    "\n",
    "for word in words:\n",
    "    m = p.match(word)\n",
    "    print(m)"
   ]
  },
  {
   "cell_type": "code",
   "execution_count": null,
   "id": "5c820153",
   "metadata": {},
   "outputs": [
    {
     "data": {
      "text/plain": [
       "['python', 'Python']"
      ]
     },
     "execution_count": 12,
     "metadata": {},
     "output_type": "execute_result"
    }
   ],
   "source": [
    "# p = re.compile(\"python\")\n",
    "# p = re.compile(\"python\", re.IGNORECASE)\n",
    "p = re.compile(\"python\", re.I)\n",
    "\n",
    "str = \"I love python, you love Python too\"\n",
    "\n",
    "search = p.findall(str)\n",
    "search"
   ]
  },
  {
   "cell_type": "code",
   "execution_count": 16,
   "id": "4d6fd5bb",
   "metadata": {},
   "outputs": [
    {
     "data": {
      "text/plain": [
       "['python one', 'python two', 'python three']"
      ]
     },
     "execution_count": 16,
     "metadata": {},
     "output_type": "execute_result"
    }
   ],
   "source": [
    "import re\n",
    "\n",
    "str = \"\"\"python one\n",
    "123\n",
    "python two\n",
    "456\n",
    "python three\n",
    "789\"\"\"\n",
    "\n",
    "p = re.compile(r\"^python\\s\\w+\", re.M)\n",
    "items = p.findall(str)\n",
    "items"
   ]
  },
  {
   "cell_type": "markdown",
   "id": "dbb1c66a",
   "metadata": {},
   "source": [
    "- ^패턴 : 패턴으로 시작 (한 라인 내에서)\n",
    "- 패턴$ : 패턴으로 종료 (한 라인 내에서)\n",
    "- \\\\A패턴 : 패턴으로 시작 (여러 줄로 구성된 문장에서)\n",
    "- 패턴\\\\Z  : 패턴으로 종료 (여러 줄로 구성된 문장에서)"
   ]
  },
  {
   "cell_type": "code",
   "execution_count": 18,
   "id": "0ac1a228",
   "metadata": {},
   "outputs": [],
   "source": [
    "p = re.compile(r\"^python.+\\d$\")\n",
    "m = p.match(str)"
   ]
  },
  {
   "cell_type": "code",
   "execution_count": null,
   "id": "c19289f9",
   "metadata": {},
   "outputs": [],
   "source": [
    "p = re.compile(r\"\\Apython.+\\d\\Z\", re.M)  # 동작하지 않는다.,,,\n",
    "m = p.match(str)"
   ]
  },
  {
   "cell_type": "code",
   "execution_count": null,
   "id": "31a1245d",
   "metadata": {},
   "outputs": [],
   "source": []
  }
 ],
 "metadata": {
  "kernelspec": {
   "display_name": "basic",
   "language": "python",
   "name": "python3"
  },
  "language_info": {
   "codemirror_mode": {
    "name": "ipython",
    "version": 3
   },
   "file_extension": ".py",
   "mimetype": "text/x-python",
   "name": "python",
   "nbconvert_exporter": "python",
   "pygments_lexer": "ipython3",
   "version": "3.12.10"
  }
 },
 "nbformat": 4,
 "nbformat_minor": 5
}
