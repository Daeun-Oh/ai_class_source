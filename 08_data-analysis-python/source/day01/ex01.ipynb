{
 "cells": [
  {
   "cell_type": "markdown",
   "id": "92146b90",
   "metadata": {},
   "source": [
    "# 제목\n",
    "* 항목1\n",
    "* 항목2"
   ]
  },
  {
   "cell_type": "code",
   "execution_count": 12,
   "id": "148bc95b",
   "metadata": {},
   "outputs": [
    {
     "name": "stdout",
     "output_type": "stream",
     "text": [
      "안녕하세요!\n"
     ]
    }
   ],
   "source": [
    "print(\"안녕하세요!\")"
   ]
  },
  {
   "cell_type": "code",
   "execution_count": 13,
   "id": "3ffe539f",
   "metadata": {},
   "outputs": [
    {
     "name": "stdout",
     "output_type": "stream",
     "text": [
      "반갑습니다람쥐\n"
     ]
    }
   ],
   "source": [
    "print(\"반갑습니다람쥐\")"
   ]
  },
  {
   "cell_type": "code",
   "execution_count": 14,
   "id": "ce9431e9",
   "metadata": {},
   "outputs": [],
   "source": [
    "나이 = 25"
   ]
  },
  {
   "cell_type": "code",
   "execution_count": 15,
   "id": "9c3f92f9",
   "metadata": {},
   "outputs": [
    {
     "name": "stdout",
     "output_type": "stream",
     "text": [
      "25\n"
     ]
    }
   ],
   "source": [
    "print(나이)"
   ]
  },
  {
   "cell_type": "code",
   "execution_count": null,
   "id": "b14466e8",
   "metadata": {},
   "outputs": [],
   "source": []
  }
 ],
 "metadata": {
  "kernelspec": {
   "display_name": "basic",
   "language": "python",
   "name": "python3"
  },
  "language_info": {
   "codemirror_mode": {
    "name": "ipython",
    "version": 3
   },
   "file_extension": ".py",
   "mimetype": "text/x-python",
   "name": "python",
   "nbconvert_exporter": "python",
   "pygments_lexer": "ipython3",
   "version": "3.12.10"
  }
 },
 "nbformat": 4,
 "nbformat_minor": 5
}
