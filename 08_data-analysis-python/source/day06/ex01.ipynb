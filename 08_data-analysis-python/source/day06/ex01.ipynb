{
 "cells": [
  {
   "cell_type": "markdown",
   "id": "f51ef43b",
   "metadata": {},
   "source": [
    "## time 모듈"
   ]
  },
  {
   "cell_type": "code",
   "execution_count": 34,
   "id": "f750084d",
   "metadata": {},
   "outputs": [
    {
     "data": {
      "text/plain": [
       "1748571855.8904948"
      ]
     },
     "execution_count": 34,
     "metadata": {},
     "output_type": "execute_result"
    }
   ],
   "source": [
    "import time\n",
    "\n",
    "time.time()"
   ]
  },
  {
   "cell_type": "code",
   "execution_count": 35,
   "id": "292b267d",
   "metadata": {},
   "outputs": [
    {
     "data": {
      "text/plain": [
       "time.struct_time(tm_year=2025, tm_mon=5, tm_mday=30, tm_hour=11, tm_min=24, tm_sec=20, tm_wday=4, tm_yday=150, tm_isdst=0)"
      ]
     },
     "execution_count": 35,
     "metadata": {},
     "output_type": "execute_result"
    }
   ],
   "source": [
    "lt = time.localtime(time.time())\n",
    "lt"
   ]
  },
  {
   "cell_type": "code",
   "execution_count": 5,
   "id": "657d7b44",
   "metadata": {},
   "outputs": [
    {
     "data": {
      "text/plain": [
       "'Fri May 30 10:32:34 2025'"
      ]
     },
     "execution_count": 5,
     "metadata": {},
     "output_type": "execute_result"
    }
   ],
   "source": [
    "time.asctime(lt)"
   ]
  },
  {
   "cell_type": "code",
   "execution_count": 6,
   "id": "2b5a4297",
   "metadata": {},
   "outputs": [
    {
     "data": {
      "text/plain": [
       "'Fri May 30 10:35:40 2025'"
      ]
     },
     "execution_count": 6,
     "metadata": {},
     "output_type": "execute_result"
    }
   ],
   "source": [
    "time.ctime()"
   ]
  },
  {
   "cell_type": "code",
   "execution_count": 9,
   "id": "8399395b",
   "metadata": {},
   "outputs": [
    {
     "data": {
      "text/plain": [
       "'25.05.30 10:32'"
      ]
     },
     "execution_count": 9,
     "metadata": {},
     "output_type": "execute_result"
    }
   ],
   "source": [
    "strdate = time.strftime('%y.%m.%d %H:%M', lt)\n",
    "strdate"
   ]
  },
  {
   "cell_type": "code",
   "execution_count": 10,
   "id": "b49b8018",
   "metadata": {},
   "outputs": [
    {
     "data": {
      "text/plain": [
       "'25.05.30 10:43'"
      ]
     },
     "execution_count": 10,
     "metadata": {},
     "output_type": "execute_result"
    }
   ],
   "source": [
    "time.strftime('%y.%m.%d %H:%M')  # 현재 날짜 시간 기준"
   ]
  },
  {
   "cell_type": "code",
   "execution_count": 11,
   "id": "da067223",
   "metadata": {},
   "outputs": [
    {
     "name": "stdout",
     "output_type": "stream",
     "text": [
      "1\n",
      "2\n",
      "3\n",
      "4\n",
      "5\n",
      "6\n",
      "7\n",
      "8\n",
      "9\n",
      "10\n"
     ]
    }
   ],
   "source": [
    "for i in range(1, 11):\n",
    "    print(i)\n",
    "    time.sleep(1)  # 1초"
   ]
  },
  {
   "cell_type": "code",
   "execution_count": null,
   "id": "8e9a11f9",
   "metadata": {},
   "outputs": [
    {
     "data": {
      "text/plain": [
       "20"
      ]
     },
     "execution_count": 13,
     "metadata": {},
     "output_type": "execute_result"
    }
   ],
   "source": [
    "'''\n",
    "사탕 60개, 초콜릿 100개, 젤리 80개가 있다.\n",
    "모두 같은 개수으로 몇 묶음으로 나눌 수 있을지 구하라.\n",
    "'''\n",
    "\n",
    "import math\n",
    "\n",
    "math.gcd(60, 100, 80)  # 최대 공약수"
   ]
  },
  {
   "cell_type": "code",
   "execution_count": null,
   "id": "bfd116c7",
   "metadata": {},
   "outputs": [
    {
     "data": {
      "text/plain": [
       "75"
      ]
     },
     "execution_count": 14,
     "metadata": {},
     "output_type": "execute_result"
    }
   ],
   "source": [
    "'''\n",
    "시내버스가 15분마다 도착, 마을 버스는 25분마다 도착한다.\n",
    "서로 만날 수 있는 가장 빠른 시간(분)을 구하라.\n",
    "'''\n",
    "\n",
    "math.lcm(15, 25)  # 최소 공배수"
   ]
  },
  {
   "cell_type": "code",
   "execution_count": 21,
   "id": "d3c45ad1",
   "metadata": {},
   "outputs": [
    {
     "name": "stdout",
     "output_type": "stream",
     "text": [
      "Hello\n",
      "Hi\n"
     ]
    }
   ],
   "source": [
    "a = '''Hello\n",
    "Hi'''\n",
    "\n",
    "print(a)"
   ]
  },
  {
   "cell_type": "code",
   "execution_count": null,
   "id": "5b24a4a8",
   "metadata": {},
   "outputs": [
    {
     "data": {
      "text/plain": [
       "2.65436774629917"
      ]
     },
     "execution_count": 24,
     "metadata": {},
     "output_type": "execute_result"
    }
   ],
   "source": [
    "import random\n",
    "\n",
    "random.random() * 3  # 0~2 사이의 실수 난수"
   ]
  },
  {
   "cell_type": "code",
   "execution_count": 25,
   "id": "dcbd3eb1",
   "metadata": {},
   "outputs": [
    {
     "data": {
      "text/plain": [
       "0"
      ]
     },
     "execution_count": 25,
     "metadata": {},
     "output_type": "execute_result"
    }
   ],
   "source": [
    "int(random.random() * 3)  # 0, 1, 2 (정수 난수)"
   ]
  },
  {
   "cell_type": "code",
   "execution_count": 26,
   "id": "060e47ba",
   "metadata": {},
   "outputs": [
    {
     "data": {
      "text/plain": [
       "3"
      ]
     },
     "execution_count": 26,
     "metadata": {},
     "output_type": "execute_result"
    }
   ],
   "source": [
    "random.randint(1, 10)"
   ]
  },
  {
   "cell_type": "code",
   "execution_count": 28,
   "id": "143adbe9",
   "metadata": {},
   "outputs": [
    {
     "data": {
      "text/plain": [
       "'Melon'"
      ]
     },
     "execution_count": 28,
     "metadata": {},
     "output_type": "execute_result"
    }
   ],
   "source": [
    "fruits = ['Apple', 'Melon', 'Pear', 'Banana', 'Mango']\n",
    "\n",
    "random.choice(fruits)"
   ]
  },
  {
   "cell_type": "code",
   "execution_count": 30,
   "id": "e63d9576",
   "metadata": {},
   "outputs": [
    {
     "data": {
      "text/plain": [
       "['Mango', 'Pear', 'Apple']"
      ]
     },
     "execution_count": 30,
     "metadata": {},
     "output_type": "execute_result"
    }
   ],
   "source": [
    "random.sample(fruits, 3)"
   ]
  },
  {
   "cell_type": "code",
   "execution_count": null,
   "id": "1554cbb3",
   "metadata": {},
   "outputs": [
    {
     "name": "stdout",
     "output_type": "stream",
     "text": [
      "['김송미', '주예성', '오다은', '정호찬', '이소민', '김용준', '송근호', '최상준', '주용현', '오경석', '김문수', '안슬기']\n",
      "['정호찬', '김용준', '주용현', '김송미', '최상준', '오경석', '안슬기', '주예성', '김문수', '오다은', '송근호', '이소민']\n"
     ]
    }
   ],
   "source": [
    "students = ['주용현', '안슬기', '김용준', '오다은', '최상준', '오경석', '송근호', '주예성', '정호찬', '이소민', '김송미', '김문수']\n",
    "\n",
    "students2 = random.sample(students, len(students))\n",
    "print(students2)\n",
    "\n",
    "random.shuffle(students)  # 원본 데이터가 변경\n",
    "print(students)"
   ]
  },
  {
   "cell_type": "code",
   "execution_count": 36,
   "id": "dce57c3d",
   "metadata": {},
   "outputs": [
    {
     "data": {
      "text/plain": [
       "[('정호찬', 'RTX5090ti'), ('김용준', '맥북pro'), ('주용현', '강사의 사랑')]"
      ]
     },
     "execution_count": 36,
     "metadata": {},
     "output_type": "execute_result"
    }
   ],
   "source": [
    "gifts = ['RTX5090ti', '맥북pro', '강사의 사랑']\n",
    "data = list(zip(students, gifts))\n",
    "data"
   ]
  },
  {
   "cell_type": "code",
   "execution_count": 38,
   "id": "52d40de3",
   "metadata": {},
   "outputs": [
    {
     "data": {
      "text/plain": [
       "[('김송미', 'RTX5090ti'),\n",
       " ('주예성', '맥북pro'),\n",
       " ('오다은', '강사의 사랑'),\n",
       " ('정호찬', '사탕'),\n",
       " ('이소민', '사탕'),\n",
       " ('김용준', '사탕'),\n",
       " ('송근호', '사탕'),\n",
       " ('최상준', '사탕'),\n",
       " ('주용현', '사탕'),\n",
       " ('오경석', '사탕'),\n",
       " ('김문수', '사탕'),\n",
       " ('안슬기', '사탕')]"
      ]
     },
     "execution_count": 38,
     "metadata": {},
     "output_type": "execute_result"
    }
   ],
   "source": [
    "import itertools\n",
    "data = list(itertools.zip_longest(students2, gifts, fillvalue='사탕'))\n",
    "data"
   ]
  },
  {
   "cell_type": "code",
   "execution_count": 43,
   "id": "4a92cccc",
   "metadata": {},
   "outputs": [
    {
     "name": "stdout",
     "output_type": "stream",
     "text": [
      "순열: [(1, 2), (1, 3), (1, 4), (2, 1), (2, 3), (2, 4), (3, 1), (3, 2), (3, 4), (4, 1), (4, 2), (4, 3)]\n",
      "조합: [(1, 2), (1, 3), (1, 4), (2, 3), (2, 4), (3, 4)]\n"
     ]
    }
   ],
   "source": [
    "import itertools\n",
    "\n",
    "nums = [1, 2, 3, 4]\n",
    "\n",
    "a = list(itertools.permutations(nums, 2))  # 2개씩 순열\n",
    "print('순열: ' + str(a))\n",
    "\n",
    "b = list(itertools.combinations(nums, 2))  # 2개씩 조합\n",
    "print('조합: ' + str(b))"
   ]
  },
  {
   "cell_type": "code",
   "execution_count": null,
   "id": "28189dab",
   "metadata": {},
   "outputs": [],
   "source": []
  },
  {
   "cell_type": "code",
   "execution_count": 49,
   "id": "544849ff",
   "metadata": {},
   "outputs": [
    {
     "name": "stdout",
     "output_type": "stream",
     "text": [
      "acc:1, num:2\n",
      "acc:3, num:3\n",
      "acc:6, num:4\n",
      "acc:10, num:5\n",
      "acc:15, num:6\n",
      "acc:21, num:7\n",
      "acc:28, num:8\n",
      "acc:36, num:9\n",
      "acc:45, num:10\n",
      "acc:55, num:11\n",
      "acc:66, num:12\n",
      "acc:78, num:13\n",
      "acc:91, num:14\n",
      "acc:105, num:15\n",
      "acc:120, num:16\n",
      "acc:136, num:17\n",
      "acc:153, num:18\n",
      "acc:171, num:19\n",
      "acc:190, num:20\n",
      "acc:210, num:21\n",
      "acc:231, num:22\n",
      "acc:253, num:23\n",
      "acc:276, num:24\n",
      "acc:300, num:25\n",
      "acc:325, num:26\n",
      "acc:351, num:27\n",
      "acc:378, num:28\n",
      "acc:406, num:29\n",
      "acc:435, num:30\n",
      "acc:465, num:31\n",
      "acc:496, num:32\n",
      "acc:528, num:33\n",
      "acc:561, num:34\n",
      "acc:595, num:35\n",
      "acc:630, num:36\n",
      "acc:666, num:37\n",
      "acc:703, num:38\n",
      "acc:741, num:39\n",
      "acc:780, num:40\n",
      "acc:820, num:41\n",
      "acc:861, num:42\n",
      "acc:903, num:43\n",
      "acc:946, num:44\n",
      "acc:990, num:45\n",
      "acc:1035, num:46\n",
      "acc:1081, num:47\n",
      "acc:1128, num:48\n",
      "acc:1176, num:49\n",
      "acc:1225, num:50\n",
      "acc:1275, num:51\n",
      "acc:1326, num:52\n",
      "acc:1378, num:53\n",
      "acc:1431, num:54\n",
      "acc:1485, num:55\n",
      "acc:1540, num:56\n",
      "acc:1596, num:57\n",
      "acc:1653, num:58\n",
      "acc:1711, num:59\n",
      "acc:1770, num:60\n",
      "acc:1830, num:61\n",
      "acc:1891, num:62\n",
      "acc:1953, num:63\n",
      "acc:2016, num:64\n",
      "acc:2080, num:65\n",
      "acc:2145, num:66\n",
      "acc:2211, num:67\n",
      "acc:2278, num:68\n",
      "acc:2346, num:69\n",
      "acc:2415, num:70\n",
      "acc:2485, num:71\n",
      "acc:2556, num:72\n",
      "acc:2628, num:73\n",
      "acc:2701, num:74\n",
      "acc:2775, num:75\n",
      "acc:2850, num:76\n",
      "acc:2926, num:77\n",
      "acc:3003, num:78\n",
      "acc:3081, num:79\n",
      "acc:3160, num:80\n",
      "acc:3240, num:81\n",
      "acc:3321, num:82\n",
      "acc:3403, num:83\n",
      "acc:3486, num:84\n",
      "acc:3570, num:85\n",
      "acc:3655, num:86\n",
      "acc:3741, num:87\n",
      "acc:3828, num:88\n",
      "acc:3916, num:89\n",
      "acc:4005, num:90\n",
      "acc:4095, num:91\n",
      "acc:4186, num:92\n",
      "acc:4278, num:93\n",
      "acc:4371, num:94\n",
      "acc:4465, num:95\n",
      "acc:4560, num:96\n",
      "acc:4656, num:97\n",
      "acc:4753, num:98\n",
      "acc:4851, num:99\n",
      "acc:4950, num:100\n"
     ]
    },
    {
     "data": {
      "text/plain": [
       "5050"
      ]
     },
     "execution_count": 49,
     "metadata": {},
     "output_type": "execute_result"
    }
   ],
   "source": [
    "import functools\n",
    "\n",
    "nums = list(range(1, 101))\n",
    "# print(nums[:10])\n",
    "\n",
    "def acc_sum(acc, num):\n",
    "    print(f\"acc:{acc}, num:{num}\")\n",
    "    acc += num\n",
    "    return acc\n",
    "\n",
    "result = functools.reduce(acc_sum, nums)\n",
    "result"
   ]
  },
  {
   "cell_type": "code",
   "execution_count": null,
   "id": "6c9590c6",
   "metadata": {},
   "outputs": [],
   "source": []
  },
  {
   "cell_type": "code",
   "execution_count": 51,
   "id": "2e184ea1",
   "metadata": {},
   "outputs": [
    {
     "name": "stdout",
     "output_type": "stream",
     "text": [
      "[89, 72, 60, 89, 98, 90, 89, 82, 58, 53]\n"
     ]
    }
   ],
   "source": [
    "scores = [random.randint(50, 100) for _ in range(10)]\n",
    "print(scores)"
   ]
  },
  {
   "cell_type": "code",
   "execution_count": 55,
   "id": "f1ee5ff4",
   "metadata": {},
   "outputs": [
    {
     "data": {
      "text/plain": [
       "'I ate 10 apples. So I was sick for 3 days. hi'"
      ]
     },
     "execution_count": 55,
     "metadata": {},
     "output_type": "execute_result"
    }
   ],
   "source": [
    "\"I ate {0} apples. So I was sick for {day} days. {1}\".format(10, 'hi', day=3)"
   ]
  },
  {
   "cell_type": "code",
   "execution_count": 57,
   "id": "866fbc81",
   "metadata": {},
   "outputs": [
    {
     "name": "stdout",
     "output_type": "stream",
     "text": [
      "a:89, b:72\n",
      "a:72, b:60\n",
      "a:60, b:89\n",
      "a:60, b:98\n",
      "a:60, b:90\n",
      "a:60, b:89\n",
      "a:60, b:82\n",
      "a:60, b:58\n",
      "a:58, b:53\n"
     ]
    },
    {
     "data": {
      "text/plain": [
       "53"
      ]
     },
     "execution_count": 57,
     "metadata": {},
     "output_type": "execute_result"
    }
   ],
   "source": [
    "def min_score(a, b):\n",
    "    print(f\"a:{a}, b:{b}\")\n",
    "    score = a if a < b else b\n",
    "\n",
    "    return score\n",
    "\n",
    "min = functools.reduce(min_score, scores)\n",
    "min"
   ]
  },
  {
   "cell_type": "code",
   "execution_count": null,
   "id": "f191f804",
   "metadata": {},
   "outputs": [
    {
     "data": {
      "text/plain": [
       "[('김이름', 40, '게임공학과'), ('박이름', 40, '경영학과'), ('이이름', 40, '메카트로닉스학과')]"
      ]
     },
     "execution_count": 59,
     "metadata": {},
     "output_type": "execute_result"
    }
   ],
   "source": [
    "import operator\n",
    "\n",
    "students = [\n",
    "    ('이이름', 20, '메카트로닉스학과'),\n",
    "    ('김이름', 25, '게임공학과'),\n",
    "    ('박이름', 23, '경영학과')\n",
    "]\n",
    "\n",
    "students2 = sorted(students, key=operator.itemgetter(2))\n",
    "students2"
   ]
  },
  {
   "cell_type": "code",
   "execution_count": 63,
   "id": "d6bce6a0",
   "metadata": {},
   "outputs": [
    {
     "data": {
      "text/plain": [
       "[{'name': '이이름', 'age': 20, 'major': '메카트로닉스학과'},\n",
       " {'name': '박이름', 'age': 23, 'major': '경영학과'},\n",
       " {'name': '김이름', 'age': 25, 'major': '게임공학과'}]"
      ]
     },
     "execution_count": 63,
     "metadata": {},
     "output_type": "execute_result"
    }
   ],
   "source": [
    "students = [\n",
    "    {\"name\": '이이름', \"age\": 20, \"major\": '메카트로닉스학과'},\n",
    "    {\"name\": '김이름', \"age\": 25, \"major\": '게임공학과'},\n",
    "    {\"name\": '박이름', \"age\": 23, \"major\": '경영학과'}\n",
    "]\n",
    "\n",
    "students2 = sorted(students, key=operator.itemgetter('age'))  # 나이 기준 정렬\n",
    "students2"
   ]
  },
  {
   "cell_type": "code",
   "execution_count": 64,
   "id": "6271f121",
   "metadata": {},
   "outputs": [
    {
     "name": "stdout",
     "output_type": "stream",
     "text": [
      "C:/\n"
     ]
    }
   ],
   "source": [
    "from glob import glob\n",
    "\n",
    "files = glob(\"C:/\")\n",
    "for file in files:\n",
    "    print(file)"
   ]
  },
  {
   "cell_type": "code",
   "execution_count": 66,
   "id": "e1500e60",
   "metadata": {},
   "outputs": [],
   "source": [
    "import pickle\n",
    "\n",
    "with open(\"C:/python_data/students.txt\", 'wb') as f:\n",
    "    pickle.dump(students2, f)"
   ]
  },
  {
   "cell_type": "code",
   "execution_count": 67,
   "id": "5fa4a5e8",
   "metadata": {},
   "outputs": [
    {
     "name": "stdout",
     "output_type": "stream",
     "text": [
      "{'name': '이이름', 'age': 20, 'major': '메카트로닉스학과'}\n",
      "{'name': '박이름', 'age': 23, 'major': '경영학과'}\n",
      "{'name': '김이름', 'age': 25, 'major': '게임공학과'}\n"
     ]
    }
   ],
   "source": [
    "with open(\"C:/python_data/students.txt\", 'rb') as f:\n",
    "    students3 = pickle.load(f)\n",
    "    for item in students3:\n",
    "        print(item)"
   ]
  },
  {
   "cell_type": "code",
   "execution_count": 68,
   "id": "1068e7df",
   "metadata": {},
   "outputs": [
    {
     "data": {
      "text/plain": [
       "0"
      ]
     },
     "execution_count": 68,
     "metadata": {},
     "output_type": "execute_result"
    }
   ],
   "source": [
    "import os\n",
    "\n",
    "os.system(\"dir\")"
   ]
  },
  {
   "cell_type": "code",
   "execution_count": 71,
   "id": "7338099b",
   "metadata": {},
   "outputs": [],
   "source": [
    "import json\n",
    "\n",
    "students = [\n",
    "    {\"name\": '이이름', \"age\": 20, \"major\": '메카트로닉스학과'},\n",
    "    {\"name\": '김이름', \"age\": 25, \"major\": '게임공학과'},\n",
    "    {\"name\": '박이름', \"age\": 23, \"major\": '경영학과'}\n",
    "]\n",
    "\n",
    "with open(\"C:/python_data/students.json\", 'w') as f:\n",
    "    json.dump(students, f, ensure_ascii=False)"
   ]
  },
  {
   "cell_type": "code",
   "execution_count": 72,
   "id": "7a063314",
   "metadata": {},
   "outputs": [
    {
     "name": "stdout",
     "output_type": "stream",
     "text": [
      "[{'name': '이이름', 'age': 20, 'major': '메카트로닉스학과'}, {'name': '김이름', 'age': 25, 'major': '게임공학과'}, {'name': '박이름', 'age': 23, 'major': '경영학과'}]\n"
     ]
    }
   ],
   "source": [
    "with open(\"C:/python_data/students.json\", 'r') as f:\n",
    "    students2 = json.load(f)\n",
    "    print(students2)"
   ]
  },
  {
   "cell_type": "code",
   "execution_count": null,
   "id": "d12e33b5",
   "metadata": {},
   "outputs": [],
   "source": []
  }
 ],
 "metadata": {
  "kernelspec": {
   "display_name": "basic",
   "language": "python",
   "name": "python3"
  },
  "language_info": {
   "codemirror_mode": {
    "name": "ipython",
    "version": 3
   },
   "file_extension": ".py",
   "mimetype": "text/x-python",
   "name": "python",
   "nbconvert_exporter": "python",
   "pygments_lexer": "ipython3",
   "version": "3.12.10"
  }
 },
 "nbformat": 4,
 "nbformat_minor": 5
}
