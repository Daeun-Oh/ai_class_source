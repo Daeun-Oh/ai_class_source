{
 "cells": [
  {
   "cell_type": "markdown",
   "id": "13136fe5",
   "metadata": {},
   "source": [
    "## if문의 구조\n",
    "```python\n",
    "if 조건식1:\n",
    "\t\t조건식1이 참일 때 실행될 코드\n",
    "elif 조건식2:\n",
    "\t\t조건식1이 거짓, 조건식2가 참일 때 실행될 코드\n",
    "else:\n",
    "\t\t거짓일 때 실행될 코드\n",
    "\n",
    "if 조건식: 실행 코드\n",
    "```"
   ]
  },
  {
   "cell_type": "code",
   "execution_count": 3,
   "id": "82c8bc87",
   "metadata": {},
   "outputs": [],
   "source": [
    "age = 15\n",
    "if age >= 14:\n",
    "    pass   # 아무것도 하지 않는다\n",
    "else:\n",
    "    print(\"가입 불가\")"
   ]
  },
  {
   "cell_type": "code",
   "execution_count": 10,
   "id": "c9da5f91",
   "metadata": {},
   "outputs": [
    {
     "name": "stdout",
     "output_type": "stream",
     "text": [
      "가입 불가\n"
     ]
    }
   ],
   "source": [
    "if not (age >= 14):\n",
    "    print(\"가입 불가\")"
   ]
  },
  {
   "cell_type": "code",
   "execution_count": 4,
   "id": "8b2ec469",
   "metadata": {},
   "outputs": [
    {
     "name": "stdout",
     "output_type": "stream",
     "text": [
      "가입 불가\n"
     ]
    }
   ],
   "source": [
    "age = 13\n",
    "if age >= 14: pass\n",
    "else: print(\"가입 불가\")"
   ]
  },
  {
   "cell_type": "markdown",
   "id": "1fe43a67",
   "metadata": {},
   "source": [
    "## 비교 연산자\n",
    "```python\n",
    "x == y: 동등성 비교\n",
    "x is y : 동일성 비교\n",
    "\n",
    "```"
   ]
  },
  {
   "cell_type": "code",
   "execution_count": 7,
   "id": "85897d30",
   "metadata": {},
   "outputs": [
    {
     "name": "stdout",
     "output_type": "stream",
     "text": [
      "a == b: True\n",
      "a is b: False\n"
     ]
    }
   ],
   "source": [
    "a = [1, 2, 3]\n",
    "b = [1, 2, 3]\n",
    "\n",
    "print(\"a == b:\", a == b) # 동등성 비교\n",
    "print(\"a is b:\", a is b) # 동일성 비교"
   ]
  },
  {
   "cell_type": "code",
   "execution_count": 9,
   "id": "e0992d2f",
   "metadata": {},
   "outputs": [
    {
     "data": {
      "text/plain": [
       "False"
      ]
     },
     "execution_count": 9,
     "metadata": {},
     "output_type": "execute_result"
    }
   ],
   "source": [
    "age = 13\n",
    "age >= 14 and age < 20"
   ]
  },
  {
   "cell_type": "code",
   "execution_count": null,
   "id": "f7c7c560",
   "metadata": {},
   "outputs": [],
   "source": [
    "### in, not in\n",
    "- 문자열, 리스트, 튜플 등에서 주로 사용\n",
    "- 값이 포함되어 있는지, 포함되어 있지 않은지"
   ]
  },
  {
   "cell_type": "code",
   "execution_count": 11,
   "id": "79b290fc",
   "metadata": {},
   "outputs": [
    {
     "data": {
      "text/plain": [
       "True"
      ]
     },
     "execution_count": 11,
     "metadata": {},
     "output_type": "execute_result"
    }
   ],
   "source": [
    "'A' in 'ABC'"
   ]
  },
  {
   "cell_type": "code",
   "execution_count": 12,
   "id": "8b51b1c6",
   "metadata": {},
   "outputs": [],
   "source": [
    "fruits = ['사과', '오렌지', '멜론']"
   ]
  },
  {
   "cell_type": "code",
   "execution_count": 13,
   "id": "b3e2b840",
   "metadata": {},
   "outputs": [
    {
     "data": {
      "text/plain": [
       "True"
      ]
     },
     "execution_count": 13,
     "metadata": {},
     "output_type": "execute_result"
    }
   ],
   "source": [
    "'멜론' in fruits"
   ]
  },
  {
   "cell_type": "code",
   "execution_count": 15,
   "id": "44bcf3ec",
   "metadata": {},
   "outputs": [
    {
     "data": {
      "text/plain": [
       "True"
      ]
     },
     "execution_count": 15,
     "metadata": {},
     "output_type": "execute_result"
    }
   ],
   "source": [
    "'망고' not in fruits"
   ]
  },
  {
   "cell_type": "markdown",
   "id": "70a22379",
   "metadata": {},
   "source": [
    "### 조건부 표현식\n",
    "\n",
    "```python\n",
    "변수 = 참일 경우의 값 if 조건식 else 조건식이 거짓일 때의 값\n",
    "```"
   ]
  },
  {
   "cell_type": "code",
   "execution_count": 16,
   "id": "79937e48",
   "metadata": {},
   "outputs": [
    {
     "data": {
      "text/plain": [
       "'가입 불가'"
      ]
     },
     "execution_count": 16,
     "metadata": {},
     "output_type": "execute_result"
    }
   ],
   "source": [
    "message = '가입 가능' if age >= 14 else '가입 불가'\n",
    "message"
   ]
  }
 ],
 "metadata": {
  "kernelspec": {
   "display_name": "basic",
   "language": "python",
   "name": "python3"
  },
  "language_info": {
   "codemirror_mode": {
    "name": "ipython",
    "version": 3
   },
   "file_extension": ".py",
   "mimetype": "text/x-python",
   "name": "python",
   "nbconvert_exporter": "python",
   "pygments_lexer": "ipython3",
   "version": "3.12.10"
  }
 },
 "nbformat": 4,
 "nbformat_minor": 5
}
