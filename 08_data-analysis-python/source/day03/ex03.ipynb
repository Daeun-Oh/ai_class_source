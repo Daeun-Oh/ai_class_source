{
 "cells": [
  {
   "cell_type": "markdown",
   "id": "72515fcc",
   "metadata": {},
   "source": [
    "## 파이썬 함수의 구조\n",
    "\n",
    "```python\n",
    "def 함수명(매개변수 정의):\n",
    "    수행될 코드...\n",
    "```"
   ]
  },
  {
   "cell_type": "code",
   "execution_count": 1,
   "id": "21ad45f8",
   "metadata": {},
   "outputs": [
    {
     "data": {
      "text/plain": [
       "9"
      ]
     },
     "execution_count": 1,
     "metadata": {},
     "output_type": "execute_result"
    }
   ],
   "source": [
    "def add(num1, num2):\n",
    "    return num1 + num2\n",
    "\n",
    "add(5, 4)"
   ]
  },
  {
   "cell_type": "code",
   "execution_count": 2,
   "id": "faea5a56",
   "metadata": {},
   "outputs": [
    {
     "data": {
      "text/plain": [
       "30"
      ]
     },
     "execution_count": 2,
     "metadata": {},
     "output_type": "execute_result"
    }
   ],
   "source": [
    "result = add(10, 20)\n",
    "result"
   ]
  },
  {
   "cell_type": "code",
   "execution_count": 3,
   "id": "3d2d8075",
   "metadata": {},
   "outputs": [
    {
     "data": {
      "text/plain": [
       "30"
      ]
     },
     "execution_count": 3,
     "metadata": {},
     "output_type": "execute_result"
    }
   ],
   "source": [
    "add(num2=20, num1=10)"
   ]
  },
  {
   "cell_type": "markdown",
   "id": "ff2798c7",
   "metadata": {},
   "source": [
    "## 함수의 매개변수 기본값\n",
    "```python\n",
    "def add(num1, num2 = 10):\n",
    "    return num1 + num2\n",
    "```\n",
    "\n",
    "> 매개변수의 기본값은 끝에서부터 차례대로 설정"
   ]
  },
  {
   "cell_type": "code",
   "execution_count": 4,
   "id": "3dd084ac",
   "metadata": {},
   "outputs": [
    {
     "data": {
      "text/plain": [
       "30"
      ]
     },
     "execution_count": 4,
     "metadata": {},
     "output_type": "execute_result"
    }
   ],
   "source": [
    "def add(num1, num2 = 10):\n",
    "    return num1 + num2\n",
    "\n",
    "add(20)"
   ]
  },
  {
   "cell_type": "code",
   "execution_count": 6,
   "id": "8dc977db",
   "metadata": {},
   "outputs": [
    {
     "data": {
      "text/plain": [
       "15"
      ]
     },
     "execution_count": 6,
     "metadata": {},
     "output_type": "execute_result"
    }
   ],
   "source": [
    "def add(num1 = 10, num2 = 5):\n",
    "    return num1 + num2\n",
    "\n",
    "add()"
   ]
  },
  {
   "cell_type": "markdown",
   "id": "e40f9ca6",
   "metadata": {},
   "source": [
    "## 가변 매개변수\n",
    "- 매개변수에 *을 붙인다.\n",
    "    - 입력한 값은 튜플로 담긴다.\n",
    "- 키워드 가변 매개변수\n",
    "    - 매개변수에 **을 붙인다.\n",
    "    - 딕셔너리 형태로 값이 담긴다."
   ]
  },
  {
   "cell_type": "code",
   "execution_count": 9,
   "id": "8adea144",
   "metadata": {},
   "outputs": [],
   "source": [
    "def calc(oper, *args):\n",
    "    result = 0\n",
    "    if oper == 'add':\n",
    "        for num in args: result += num\n",
    "    elif oper == 'mul':\n",
    "        result = 1\n",
    "        for num in args: result *= num\n",
    "    \n",
    "    return result"
   ]
  },
  {
   "cell_type": "code",
   "execution_count": 10,
   "id": "4c11ccb6",
   "metadata": {},
   "outputs": [
    {
     "data": {
      "text/plain": [
       "100"
      ]
     },
     "execution_count": 10,
     "metadata": {},
     "output_type": "execute_result"
    }
   ],
   "source": [
    "calc(\"add\", 10, 20, 30, 40)"
   ]
  },
  {
   "cell_type": "code",
   "execution_count": 11,
   "id": "d18cc1fa",
   "metadata": {},
   "outputs": [
    {
     "data": {
      "text/plain": [
       "240000"
      ]
     },
     "execution_count": 11,
     "metadata": {},
     "output_type": "execute_result"
    }
   ],
   "source": [
    "calc(\"mul\", 10, 20, 30, 40)"
   ]
  },
  {
   "cell_type": "code",
   "execution_count": 12,
   "id": "4d73a77e",
   "metadata": {},
   "outputs": [],
   "source": [
    "# 파이썬의 함수명 관례 - snake case\n",
    "def print_value(**kwargs):\n",
    "    print(kwargs)"
   ]
  },
  {
   "cell_type": "code",
   "execution_count": 13,
   "id": "b23983fb",
   "metadata": {},
   "outputs": [
    {
     "name": "stdout",
     "output_type": "stream",
     "text": [
      "{'name': '이이름', 'age': 40}\n"
     ]
    }
   ],
   "source": [
    "print_value(name='이이름', age=40)"
   ]
  },
  {
   "cell_type": "code",
   "execution_count": 14,
   "id": "ec170fc1",
   "metadata": {},
   "outputs": [
    {
     "ename": "TypeError",
     "evalue": "print_value() takes 0 positional arguments but 3 were given",
     "output_type": "error",
     "traceback": [
      "\u001b[31m---------------------------------------------------------------------------\u001b[39m",
      "\u001b[31mTypeError\u001b[39m                                 Traceback (most recent call last)",
      "\u001b[36mCell\u001b[39m\u001b[36m \u001b[39m\u001b[32mIn[14]\u001b[39m\u001b[32m, line 1\u001b[39m\n\u001b[32m----> \u001b[39m\u001b[32m1\u001b[39m \u001b[43mprint_value\u001b[49m\u001b[43m(\u001b[49m\u001b[32;43m10\u001b[39;49m\u001b[43m,\u001b[49m\u001b[43m \u001b[49m\u001b[32;43m20\u001b[39;49m\u001b[43m,\u001b[49m\u001b[43m \u001b[49m\u001b[32;43m30\u001b[39;49m\u001b[43m,\u001b[49m\u001b[43m \u001b[49m\u001b[43mname\u001b[49m\u001b[43m=\u001b[49m\u001b[33;43m'\u001b[39;49m\u001b[33;43m이이름\u001b[39;49m\u001b[33;43m'\u001b[39;49m\u001b[43m,\u001b[49m\u001b[43m \u001b[49m\u001b[43mage\u001b[49m\u001b[43m=\u001b[49m\u001b[32;43m40\u001b[39;49m\u001b[43m)\u001b[49m\n",
      "\u001b[31mTypeError\u001b[39m: print_value() takes 0 positional arguments but 3 were given"
     ]
    }
   ],
   "source": [
    "print_value(10, 20, 30, name='이이름', age=40)"
   ]
  },
  {
   "cell_type": "code",
   "execution_count": 15,
   "id": "27706c4c",
   "metadata": {},
   "outputs": [],
   "source": [
    "def print_value(*args, **kwargs):\n",
    "    print(\"args\", args)\n",
    "    print(\"kwargs\", kwargs)"
   ]
  },
  {
   "cell_type": "code",
   "execution_count": 16,
   "id": "55ee9230",
   "metadata": {},
   "outputs": [
    {
     "name": "stdout",
     "output_type": "stream",
     "text": [
      "args (10, 20, 30)\n",
      "kwargs {'name': '이이름', 'age': 40}\n"
     ]
    }
   ],
   "source": [
    "print_value(10, 20, 30, name='이이름', age=40)"
   ]
  },
  {
   "cell_type": "code",
   "execution_count": 17,
   "id": "1bc1d48d",
   "metadata": {},
   "outputs": [],
   "source": [
    "def calc(num1, num2):\n",
    "    return num1 + num2, num1 - num2, num1 * num2, num1 / num2"
   ]
  },
  {
   "cell_type": "code",
   "execution_count": 18,
   "id": "41fc1eea",
   "metadata": {},
   "outputs": [
    {
     "data": {
      "text/plain": [
       "(30, 10, 200, 2.0)"
      ]
     },
     "execution_count": 18,
     "metadata": {},
     "output_type": "execute_result"
    }
   ],
   "source": [
    "result = calc(20, 10)\n",
    "result"
   ]
  },
  {
   "cell_type": "code",
   "execution_count": 19,
   "id": "03f328be",
   "metadata": {},
   "outputs": [
    {
     "name": "stdout",
     "output_type": "stream",
     "text": [
      "30 10 200 2.0\n"
     ]
    }
   ],
   "source": [
    "add_result, sub_result, mul_result, div_result = calc(20, 10)\n",
    "print(add_result, sub_result, mul_result, div_result)"
   ]
  },
  {
   "cell_type": "markdown",
   "id": "22e4a2aa",
   "metadata": {},
   "source": [
    "## 전역변수, 지역변수\n",
    "\n",
    "- 순수함수 : 함수 내의 연산 결과가 전역 변수로 지정된 자원에 영향을 미치지 않는 함수 (부작용이 없는 함수)"
   ]
  },
  {
   "cell_type": "code",
   "execution_count": null,
   "id": "7d261edb",
   "metadata": {},
   "outputs": [],
   "source": [
    "a = 100 # 전역변수\n",
    "def calc():\n",
    "    global a # 전역변수를 지역 내에서 접근할 때\n",
    "    b = 200 # 지역변수\n",
    "    return a + b"
   ]
  },
  {
   "cell_type": "code",
   "execution_count": 21,
   "id": "9b7226ca",
   "metadata": {},
   "outputs": [
    {
     "data": {
      "text/plain": [
       "300"
      ]
     },
     "execution_count": 21,
     "metadata": {},
     "output_type": "execute_result"
    }
   ],
   "source": [
    "calc()"
   ]
  },
  {
   "cell_type": "markdown",
   "id": "1c573acf",
   "metadata": {},
   "source": [
    "## 15. 함수형 프로그래밍\n",
    "\n",
    "- 매개변수로 함수를 사용\n",
    "    - 사용자 정의 기능\n",
    "- 반환값으로 함수를 사용\n",
    "    - 팩토리 함수\n",
    "    - 고차 함수"
   ]
  },
  {
   "cell_type": "code",
   "execution_count": 26,
   "id": "cbdb8f2d",
   "metadata": {},
   "outputs": [],
   "source": [
    "def calc(callback):\n",
    "    num1 = 10\n",
    "    num2 = 20\n",
    "    result = callback(num1, num2)\n",
    "\n",
    "    return result * result"
   ]
  },
  {
   "cell_type": "code",
   "execution_count": 27,
   "id": "8c700fb0",
   "metadata": {},
   "outputs": [],
   "source": [
    "def add(num1, num2):\n",
    "    return num1 + num2"
   ]
  },
  {
   "cell_type": "code",
   "execution_count": 28,
   "id": "d8ab58f7",
   "metadata": {},
   "outputs": [
    {
     "data": {
      "text/plain": [
       "900"
      ]
     },
     "execution_count": 28,
     "metadata": {},
     "output_type": "execute_result"
    }
   ],
   "source": [
    "calc(add)"
   ]
  },
  {
   "cell_type": "code",
   "execution_count": 29,
   "id": "01550462",
   "metadata": {},
   "outputs": [],
   "source": [
    "def sub(num1, num2):\n",
    "    return num1 - num2"
   ]
  },
  {
   "cell_type": "code",
   "execution_count": 30,
   "id": "78b2831a",
   "metadata": {},
   "outputs": [
    {
     "data": {
      "text/plain": [
       "100"
      ]
     },
     "execution_count": 30,
     "metadata": {},
     "output_type": "execute_result"
    }
   ],
   "source": [
    "calc(sub)"
   ]
  },
  {
   "cell_type": "code",
   "execution_count": 31,
   "id": "b6d48ea5",
   "metadata": {},
   "outputs": [
    {
     "data": {
      "text/plain": [
       "4"
      ]
     },
     "execution_count": 31,
     "metadata": {},
     "output_type": "execute_result"
    }
   ],
   "source": [
    "add = lambda a, b: a + b\n",
    "add(1, 3)"
   ]
  },
  {
   "cell_type": "code",
   "execution_count": 32,
   "id": "8b3b980b",
   "metadata": {},
   "outputs": [
    {
     "data": {
      "text/plain": [
       "40000"
      ]
     },
     "execution_count": 32,
     "metadata": {},
     "output_type": "execute_result"
    }
   ],
   "source": [
    "calc(lambda a, b: a * b)"
   ]
  },
  {
   "cell_type": "code",
   "execution_count": 33,
   "id": "305cc57f",
   "metadata": {},
   "outputs": [],
   "source": [
    "def add(num1):\n",
    "\n",
    "    def add2(num2):\n",
    "        return num1 + num2\n",
    "\n",
    "    return add2\n",
    "\n",
    "add10 = add(10)"
   ]
  },
  {
   "cell_type": "code",
   "execution_count": 34,
   "id": "46805802",
   "metadata": {},
   "outputs": [
    {
     "data": {
      "text/plain": [
       "30"
      ]
     },
     "execution_count": 34,
     "metadata": {},
     "output_type": "execute_result"
    }
   ],
   "source": [
    "add10(20)"
   ]
  },
  {
   "cell_type": "code",
   "execution_count": 35,
   "id": "88063faf",
   "metadata": {},
   "outputs": [
    {
     "data": {
      "text/plain": [
       "30"
      ]
     },
     "execution_count": 35,
     "metadata": {},
     "output_type": "execute_result"
    }
   ],
   "source": [
    "add(10)(20)"
   ]
  },
  {
   "cell_type": "markdown",
   "id": "a4ca97c6",
   "metadata": {},
   "source": [
    "# 함수 안에 함수를 정의하고 실행\n",
    "- 응용 사례: 데코레이터"
   ]
  },
  {
   "cell_type": "code",
   "execution_count": 54,
   "id": "489d6fd1",
   "metadata": {},
   "outputs": [],
   "source": [
    "import time\n",
    "\n",
    "def time_lapse(func):\n",
    "    def wrapper(*args, **kwargs):\n",
    "        start = time.time() # 함수 실행 전 시간 측정\n",
    "\n",
    "        result = func(*args, **kwargs)\n",
    "\n",
    "        end = time.time()   # 함수 실행 후 시간 측정\n",
    "        print(\"걸린 시간 %d\" % (end - start))\n",
    "        return result\n",
    "\n",
    "    return wrapper"
   ]
  },
  {
   "cell_type": "code",
   "execution_count": 55,
   "id": "2dd729bc",
   "metadata": {},
   "outputs": [],
   "source": [
    "@time_lapse\n",
    "def somefunc():\n",
    "    print(\"어떤 기능 실행...\")"
   ]
  },
  {
   "cell_type": "code",
   "execution_count": 58,
   "id": "13dd272f",
   "metadata": {},
   "outputs": [
    {
     "name": "stdout",
     "output_type": "stream",
     "text": [
      "어떤 기능 실행...\n",
      "걸린 시간 0\n"
     ]
    }
   ],
   "source": [
    "somefunc()"
   ]
  },
  {
   "cell_type": "code",
   "execution_count": 59,
   "id": "740dcb2a",
   "metadata": {},
   "outputs": [],
   "source": [
    "@time_lapse\n",
    "def factorial(num):\n",
    "    if num < 1:\n",
    "        return 1\n",
    "    \n",
    "    return num * factorial(num - 1)"
   ]
  },
  {
   "cell_type": "code",
   "execution_count": 60,
   "id": "a88091f1",
   "metadata": {},
   "outputs": [
    {
     "name": "stdout",
     "output_type": "stream",
     "text": [
      "걸린 시간 0\n",
      "걸린 시간 0\n",
      "걸린 시간 0\n",
      "걸린 시간 0\n",
      "걸린 시간 0\n",
      "걸린 시간 0\n",
      "걸린 시간 0\n",
      "걸린 시간 0\n",
      "걸린 시간 0\n",
      "걸린 시간 0\n",
      "걸린 시간 0\n"
     ]
    },
    {
     "data": {
      "text/plain": [
       "3628800"
      ]
     },
     "execution_count": 60,
     "metadata": {},
     "output_type": "execute_result"
    }
   ],
   "source": [
    "factorial(10)"
   ]
  },
  {
   "cell_type": "code",
   "execution_count": 61,
   "id": "aec4e7b0",
   "metadata": {},
   "outputs": [],
   "source": [
    "fact = time_lapse(factorial)"
   ]
  },
  {
   "cell_type": "code",
   "execution_count": 62,
   "id": "3fc88f82",
   "metadata": {},
   "outputs": [
    {
     "name": "stdout",
     "output_type": "stream",
     "text": [
      "걸린 시간 0\n",
      "걸린 시간 0\n",
      "걸린 시간 0\n",
      "걸린 시간 0\n",
      "걸린 시간 0\n",
      "걸린 시간 0\n",
      "걸린 시간 0\n",
      "걸린 시간 0\n",
      "걸린 시간 0\n",
      "걸린 시간 0\n",
      "걸린 시간 0\n",
      "걸린 시간 0\n"
     ]
    },
    {
     "data": {
      "text/plain": [
       "3628800"
      ]
     },
     "execution_count": 62,
     "metadata": {},
     "output_type": "execute_result"
    }
   ],
   "source": [
    "fact(10)"
   ]
  },
  {
   "cell_type": "code",
   "execution_count": null,
   "id": "4363420d",
   "metadata": {},
   "outputs": [],
   "source": []
  }
 ],
 "metadata": {
  "kernelspec": {
   "display_name": "basic",
   "language": "python",
   "name": "python3"
  },
  "language_info": {
   "codemirror_mode": {
    "name": "ipython",
    "version": 3
   },
   "file_extension": ".py",
   "mimetype": "text/x-python",
   "name": "python",
   "nbconvert_exporter": "python",
   "pygments_lexer": "ipython3",
   "version": "3.12.10"
  }
 },
 "nbformat": 4,
 "nbformat_minor": 5
}
