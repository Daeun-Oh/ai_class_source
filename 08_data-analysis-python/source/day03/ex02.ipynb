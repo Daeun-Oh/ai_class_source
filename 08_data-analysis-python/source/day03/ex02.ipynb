{
 "cells": [
  {
   "cell_type": "code",
   "execution_count": null,
   "id": "180dc793",
   "metadata": {},
   "outputs": [
    {
     "name": "stdout",
     "output_type": "stream",
     "text": [
      "2500\n"
     ]
    }
   ],
   "source": [
    "# while문을 사용하여 1부터 100까지 더하시오\n",
    "# 홀수만 더하시오\n",
    "# 증가 감소 연산자(++, --) 사용 불가, 복합 대입 연산자 가능\n",
    "\n",
    "sum = 0\n",
    "i = 1\n",
    "while i <= 100:\n",
    "    if (i % 2 == 0):\n",
    "        i += 1\n",
    "        continue\n",
    "    sum += i\n",
    "    i += 1\n",
    "print(sum)"
   ]
  },
  {
   "cell_type": "markdown",
   "id": "49828d3f",
   "metadata": {},
   "source": [
    "## 1. for 문의 기본 구조\n",
    "\n",
    "```python\n",
    "for 변수 in 리스트, 튜플 또는 반복 가능한 객체 - 이터레이터 등, 문자열:\n",
    "\t\t반복 수행될 코드\n",
    "```"
   ]
  },
  {
   "cell_type": "code",
   "execution_count": 7,
   "id": "26baa359",
   "metadata": {},
   "outputs": [
    {
     "name": "stdout",
     "output_type": "stream",
     "text": [
      "Apple\n",
      "Orange\n",
      "Melon\n",
      "Mango\n"
     ]
    }
   ],
   "source": [
    "fruits = ['Apple', 'Orange', 'Melon', 'Mango']\n",
    "\n",
    "for fruit in fruits:\n",
    "    print(fruit)"
   ]
  },
  {
   "cell_type": "code",
   "execution_count": 8,
   "id": "34aec6c2",
   "metadata": {},
   "outputs": [
    {
     "data": {
      "text/plain": [
       "dict_items([('name', '이이름'), ('age', 40), ('address', '주소')])"
      ]
     },
     "execution_count": 8,
     "metadata": {},
     "output_type": "execute_result"
    }
   ],
   "source": [
    "person = {\"name\": \"이이름\", \"age\": 40, \"address\": \"주소\"}\n",
    "\n",
    "person.items()"
   ]
  },
  {
   "cell_type": "code",
   "execution_count": 10,
   "id": "e74bb0eb",
   "metadata": {},
   "outputs": [
    {
     "name": "stdout",
     "output_type": "stream",
     "text": [
      "name 이이름\n",
      "age 40\n",
      "address 주소\n"
     ]
    }
   ],
   "source": [
    "for key, value in person.items():\n",
    "    print(key, value)"
   ]
  },
  {
   "cell_type": "markdown",
   "id": "7cba89d7",
   "metadata": {},
   "source": [
    "## 횟수가 있는 반복문\n",
    "```python\n",
    "range(반복횟수) # 0 이상, 반복횟수 미만\n",
    "range(시작번호, 종료번호) # 시작번호 이상, 종료번호 미만\n",
    "```"
   ]
  },
  {
   "cell_type": "code",
   "execution_count": 13,
   "id": "2e8c49c9",
   "metadata": {},
   "outputs": [
    {
     "data": {
      "text/plain": [
       "range(1, 10)"
      ]
     },
     "execution_count": 13,
     "metadata": {},
     "output_type": "execute_result"
    }
   ],
   "source": [
    "range(1, 10) # 1 ~ 9"
   ]
  },
  {
   "cell_type": "code",
   "execution_count": 14,
   "id": "9dbd1cfe",
   "metadata": {},
   "outputs": [
    {
     "name": "stdout",
     "output_type": "stream",
     "text": [
      "반복 0\n",
      "반복 1\n",
      "반복 2\n",
      "반복 3\n",
      "반복 4\n",
      "반복 5\n",
      "반복 6\n",
      "반복 7\n",
      "반복 8\n",
      "반복 9\n"
     ]
    }
   ],
   "source": [
    "for i in range(10): # 0 ~ 9\n",
    "    print(\"반복\", i)"
   ]
  },
  {
   "cell_type": "code",
   "execution_count": 16,
   "id": "1f9a31f2",
   "metadata": {},
   "outputs": [
    {
     "name": "stdout",
     "output_type": "stream",
     "text": [
      "2\n",
      "3\n",
      "4\n",
      "5\n",
      "6\n",
      "7\n",
      "8\n",
      "9\n",
      "10\n"
     ]
    }
   ],
   "source": [
    "for i in range(2, 11): # 2~10\n",
    "    print(i)"
   ]
  },
  {
   "cell_type": "code",
   "execution_count": 17,
   "id": "fe6a9e95",
   "metadata": {},
   "outputs": [
    {
     "name": "stdout",
     "output_type": "stream",
     "text": [
      "1\n",
      "3\n",
      "5\n",
      "7\n",
      "9\n"
     ]
    }
   ],
   "source": [
    "for i in range(1, 11, 2):\n",
    "    print(i)"
   ]
  },
  {
   "cell_type": "code",
   "execution_count": 19,
   "id": "ecf63cd0",
   "metadata": {},
   "outputs": [
    {
     "name": "stdout",
     "output_type": "stream",
     "text": [
      "---------- 2 단 ----------\n",
      "2 * 1 = 2\n",
      "2 * 2 = 4\n",
      "2 * 3 = 6\n",
      "2 * 4 = 8\n",
      "2 * 5 = 10\n",
      "2 * 6 = 12\n",
      "2 * 7 = 14\n",
      "2 * 8 = 16\n",
      "2 * 9 = 18\n",
      "---------- 3 단 ----------\n",
      "3 * 1 = 3\n",
      "3 * 2 = 6\n",
      "3 * 3 = 9\n",
      "3 * 4 = 12\n",
      "3 * 5 = 15\n",
      "3 * 6 = 18\n",
      "3 * 7 = 21\n",
      "3 * 8 = 24\n",
      "3 * 9 = 27\n",
      "---------- 4 단 ----------\n",
      "4 * 1 = 4\n",
      "4 * 2 = 8\n",
      "4 * 3 = 12\n",
      "4 * 4 = 16\n",
      "4 * 5 = 20\n",
      "4 * 6 = 24\n",
      "4 * 7 = 28\n",
      "4 * 8 = 32\n",
      "4 * 9 = 36\n",
      "---------- 5 단 ----------\n",
      "5 * 1 = 5\n",
      "5 * 2 = 10\n",
      "5 * 3 = 15\n",
      "5 * 4 = 20\n",
      "5 * 5 = 25\n",
      "5 * 6 = 30\n",
      "5 * 7 = 35\n",
      "5 * 8 = 40\n",
      "5 * 9 = 45\n",
      "---------- 6 단 ----------\n",
      "6 * 1 = 6\n",
      "6 * 2 = 12\n",
      "6 * 3 = 18\n",
      "6 * 4 = 24\n",
      "6 * 5 = 30\n",
      "6 * 6 = 36\n",
      "6 * 7 = 42\n",
      "6 * 8 = 48\n",
      "6 * 9 = 54\n",
      "---------- 7 단 ----------\n",
      "7 * 1 = 7\n",
      "7 * 2 = 14\n",
      "7 * 3 = 21\n",
      "7 * 4 = 28\n",
      "7 * 5 = 35\n",
      "7 * 6 = 42\n",
      "7 * 7 = 49\n",
      "7 * 8 = 56\n",
      "7 * 9 = 63\n",
      "---------- 8 단 ----------\n",
      "8 * 1 = 8\n",
      "8 * 2 = 16\n",
      "8 * 3 = 24\n",
      "8 * 4 = 32\n",
      "8 * 5 = 40\n",
      "8 * 6 = 48\n",
      "8 * 7 = 56\n",
      "8 * 8 = 64\n",
      "8 * 9 = 72\n",
      "---------- 9 단 ----------\n",
      "9 * 1 = 9\n",
      "9 * 2 = 18\n",
      "9 * 3 = 27\n",
      "9 * 4 = 36\n",
      "9 * 5 = 45\n",
      "9 * 6 = 54\n",
      "9 * 7 = 63\n",
      "9 * 8 = 72\n",
      "9 * 9 = 81\n"
     ]
    }
   ],
   "source": [
    "for i in range(2, 10): # 2 ~ 9\n",
    "    print(\"-\" * 10, i , '단', \"-\" * 10)\n",
    "    for j in range(1, 10): # 1 ~ 9\n",
    "        print(f\"{i} * {j} = {i*j}\")"
   ]
  },
  {
   "cell_type": "code",
   "execution_count": 22,
   "id": "ea0e8cf0",
   "metadata": {},
   "outputs": [
    {
     "data": {
      "text/plain": [
       "[1, 4, 9, 16, 25, 36, 49, 64, 81, 100]"
      ]
     },
     "execution_count": 22,
     "metadata": {},
     "output_type": "execute_result"
    }
   ],
   "source": [
    "nums = [1, 2, 3, 4, 5, 6, 7, 8, 9, 10]\n",
    "nums2 = []\n",
    "\n",
    "for num in nums:\n",
    "    nums2.append(num * num)\n",
    "\n",
    "nums2"
   ]
  },
  {
   "cell_type": "markdown",
   "id": "96f00cfd",
   "metadata": {},
   "source": [
    "## 리스트 컴프리헨션\n",
    "- 리스트 내에서 for문과 if문을 사용하여 바로 변환하고 값을 할당"
   ]
  },
  {
   "cell_type": "code",
   "execution_count": 23,
   "id": "bc045589",
   "metadata": {},
   "outputs": [
    {
     "data": {
      "text/plain": [
       "[1, 4, 9, 16, 25, 36, 49, 64, 81, 100]"
      ]
     },
     "execution_count": 23,
     "metadata": {},
     "output_type": "execute_result"
    }
   ],
   "source": [
    "nums3 = [num * num for num in nums]\n",
    "nums3"
   ]
  },
  {
   "cell_type": "code",
   "execution_count": 24,
   "id": "6af33314",
   "metadata": {},
   "outputs": [
    {
     "data": {
      "text/plain": [
       "[4, 16, 36, 64, 100]"
      ]
     },
     "execution_count": 24,
     "metadata": {},
     "output_type": "execute_result"
    }
   ],
   "source": [
    "nums4 = [num * num for num in nums if num % 2 == 0]\n",
    "nums4"
   ]
  },
  {
   "cell_type": "code",
   "execution_count": 26,
   "id": "87318eeb",
   "metadata": {},
   "outputs": [
    {
     "data": {
      "text/plain": [
       "[10,\n",
       " 20,\n",
       " 30,\n",
       " 40,\n",
       " 50,\n",
       " 60,\n",
       " 70,\n",
       " 80,\n",
       " 90,\n",
       " 100,\n",
       " 20,\n",
       " 40,\n",
       " 60,\n",
       " 80,\n",
       " 100,\n",
       " 120,\n",
       " 140,\n",
       " 160,\n",
       " 180,\n",
       " 200,\n",
       " 30,\n",
       " 60,\n",
       " 90,\n",
       " 120,\n",
       " 150,\n",
       " 180,\n",
       " 210,\n",
       " 240,\n",
       " 270,\n",
       " 300,\n",
       " 40,\n",
       " 80,\n",
       " 120,\n",
       " 160,\n",
       " 200,\n",
       " 240,\n",
       " 280,\n",
       " 320,\n",
       " 360,\n",
       " 400,\n",
       " 50,\n",
       " 100,\n",
       " 150,\n",
       " 200,\n",
       " 250,\n",
       " 300,\n",
       " 350,\n",
       " 400,\n",
       " 450,\n",
       " 500,\n",
       " 60,\n",
       " 120,\n",
       " 180,\n",
       " 240,\n",
       " 300,\n",
       " 360,\n",
       " 420,\n",
       " 480,\n",
       " 540,\n",
       " 600,\n",
       " 70,\n",
       " 140,\n",
       " 210,\n",
       " 280,\n",
       " 350,\n",
       " 420,\n",
       " 490,\n",
       " 560,\n",
       " 630,\n",
       " 700,\n",
       " 80,\n",
       " 160,\n",
       " 240,\n",
       " 320,\n",
       " 400,\n",
       " 480,\n",
       " 560,\n",
       " 640,\n",
       " 720,\n",
       " 800,\n",
       " 90,\n",
       " 180,\n",
       " 270,\n",
       " 360,\n",
       " 450,\n",
       " 540,\n",
       " 630,\n",
       " 720,\n",
       " 810,\n",
       " 900,\n",
       " 100,\n",
       " 200,\n",
       " 300,\n",
       " 400,\n",
       " 500,\n",
       " 600,\n",
       " 700,\n",
       " 800,\n",
       " 900,\n",
       " 1000]"
      ]
     },
     "execution_count": 26,
     "metadata": {},
     "output_type": "execute_result"
    }
   ],
   "source": [
    "nums1 = [1, 2, 3, 4, 5, 6, 7, 8, 9, 10]\n",
    "nums2 = [10, 20, 30, 40, 50, 60, 70, 80, 90, 100]\n",
    "\n",
    "nums3 = [num1 * num2 for num1 in nums1\n",
    "                    for num2 in nums2]\n",
    "nums3                    "
   ]
  },
  {
   "cell_type": "code",
   "execution_count": null,
   "id": "52f86f6d",
   "metadata": {},
   "outputs": [],
   "source": []
  }
 ],
 "metadata": {
  "kernelspec": {
   "display_name": "basic",
   "language": "python",
   "name": "python3"
  },
  "language_info": {
   "codemirror_mode": {
    "name": "ipython",
    "version": 3
   },
   "file_extension": ".py",
   "mimetype": "text/x-python",
   "name": "python",
   "nbconvert_exporter": "python",
   "pygments_lexer": "ipython3",
   "version": "3.12.10"
  }
 },
 "nbformat": 4,
 "nbformat_minor": 5
}
