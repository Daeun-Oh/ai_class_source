{
 "cells": [
  {
   "cell_type": "markdown",
   "id": "f9c82c62",
   "metadata": {},
   "source": [
    "## 내장함수"
   ]
  },
  {
   "cell_type": "code",
   "execution_count": 2,
   "id": "c51c10c6",
   "metadata": {},
   "outputs": [
    {
     "name": "stdout",
     "output_type": "stream",
     "text": [
      "0 Apple\n",
      "1 Orange\n",
      "2 Banana\n",
      "3 Melon\n",
      "4 Mango\n"
     ]
    }
   ],
   "source": [
    "fruits = ['Apple', 'Orange', 'Banana', 'Melon', 'Mango']\n",
    "\n",
    "i = 0\n",
    "for item in fruits:\n",
    "    print(i, item)\n",
    "    i += 1"
   ]
  },
  {
   "cell_type": "code",
   "execution_count": 8,
   "id": "2c91c503",
   "metadata": {},
   "outputs": [
    {
     "name": "stdout",
     "output_type": "stream",
     "text": [
      "0 Apple\n",
      "1 Orange\n",
      "2 Banana\n",
      "3 Melon\n",
      "4 Mango\n"
     ]
    }
   ],
   "source": [
    "# enumerate: for 문으로 반복할 경우 반복 순서 번호와 함께 추출\n",
    "for i, item in enumerate(fruits):\n",
    "    print(i, item)"
   ]
  },
  {
   "cell_type": "code",
   "execution_count": 6,
   "id": "b39eeb4b",
   "metadata": {},
   "outputs": [
    {
     "data": {
      "text/plain": [
       "str"
      ]
     },
     "execution_count": 6,
     "metadata": {},
     "output_type": "execute_result"
    }
   ],
   "source": [
    "data = \"[1, 2, 3, 4]\"\n",
    "type(data)"
   ]
  },
  {
   "cell_type": "code",
   "execution_count": 11,
   "id": "4aa26240",
   "metadata": {},
   "outputs": [
    {
     "name": "stdout",
     "output_type": "stream",
     "text": [
      "[1, 2, 3, 4]\n",
      "<class 'list'>\n"
     ]
    }
   ],
   "source": [
    "# eval: 문자열로 되어 있는 파이썬 코드 문자열을 실제 파이썬 코드로 변환해서 실행\n",
    "data2 = eval(data)\n",
    "print(data2)\n",
    "print(type(data2))"
   ]
  },
  {
   "cell_type": "code",
   "execution_count": 20,
   "id": "31cfc1c6",
   "metadata": {},
   "outputs": [],
   "source": [
    "# filter(조건을_판별하는_함수, 리스트_또는_튜플…)\n",
    "# -> 반환값은 필터 객체\n",
    "\n",
    "nums = list(range(0, 101))  # [0, 1, 2, ... , 99, 100]"
   ]
  },
  {
   "cell_type": "code",
   "execution_count": 21,
   "id": "1d900773",
   "metadata": {},
   "outputs": [
    {
     "data": {
      "text/plain": [
       "[1, 3, 5, 7, 9, 11, 13, 15, 17, 19, 21, 23, 25, 27, 29, 31, 33, 35, 37, 39]"
      ]
     },
     "execution_count": 21,
     "metadata": {},
     "output_type": "execute_result"
    }
   ],
   "source": [
    "def predicate(x):\n",
    "    return x % 2 == 1\n",
    "\n",
    "odds = list(filter(predicate, nums))\n",
    "odds[:20]"
   ]
  },
  {
   "cell_type": "code",
   "execution_count": 22,
   "id": "3250fa10",
   "metadata": {},
   "outputs": [
    {
     "data": {
      "text/plain": [
       "[1, 3, 5, 7, 9, 11, 13, 15, 17, 19, 21, 23, 25, 27, 29, 31, 33, 35, 37, 39]"
      ]
     },
     "execution_count": 22,
     "metadata": {},
     "output_type": "execute_result"
    }
   ],
   "source": [
    "odds = list(filter(lambda x: x % 2 == 1, nums))\n",
    "odds[:20]"
   ]
  },
  {
   "cell_type": "code",
   "execution_count": 24,
   "id": "534f2654",
   "metadata": {},
   "outputs": [
    {
     "data": {
      "text/plain": [
       "True"
      ]
     },
     "execution_count": 24,
     "metadata": {},
     "output_type": "execute_result"
    }
   ],
   "source": [
    "# isinstance: 참조하는 객체의 출처 확인\n",
    "# - 자바 또는 자바스크립트 instanceof 연산자 역할\n",
    "\n",
    "a = IndexError()\n",
    "isinstance(a, Exception)"
   ]
  },
  {
   "cell_type": "code",
   "execution_count": 25,
   "id": "e99d7734",
   "metadata": {},
   "outputs": [
    {
     "data": {
      "text/plain": [
       "True"
      ]
     },
     "execution_count": 25,
     "metadata": {},
     "output_type": "execute_result"
    }
   ],
   "source": [
    "isinstance(a, IndexError)"
   ]
  },
  {
   "cell_type": "code",
   "execution_count": null,
   "id": "b7281bad",
   "metadata": {},
   "outputs": [
    {
     "data": {
      "text/plain": [
       "[5, 6, 6, 5, 5]"
      ]
     },
     "execution_count": 27,
     "metadata": {},
     "output_type": "execute_result"
    }
   ],
   "source": [
    "# map: 변환 작업\n",
    "# - map(변환_로직이_정의된_함수, 리스트_또는_튜플)\n",
    "# - 반환값은 map 객체\n",
    "\n",
    "fruits = ['Apple', 'Orange', 'Banana', 'Melon', 'Mango']\n",
    "\n",
    "list(map(len, fruits))"
   ]
  },
  {
   "cell_type": "code",
   "execution_count": 28,
   "id": "9ba5dbe6",
   "metadata": {},
   "outputs": [
    {
     "data": {
      "text/plain": [
       "['♥Apple♥', '♥Orange♥', '♥Banana♥', '♥Melon♥', '♥Mango♥']"
      ]
     },
     "execution_count": 28,
     "metadata": {},
     "output_type": "execute_result"
    }
   ],
   "source": [
    "fruits2 = list(map(lambda s: '♥' + s + '♥', fruits))\n",
    "fruits2"
   ]
  },
  {
   "cell_type": "code",
   "execution_count": 29,
   "id": "3894c9ce",
   "metadata": {},
   "outputs": [
    {
     "name": "stdout",
     "output_type": "stream",
     "text": [
      "8\n",
      "8\n"
     ]
    }
   ],
   "source": [
    "# pow: ** 연산자와 동일\n",
    "\n",
    "print(pow(2, 3))\n",
    "print(2 ** 3)"
   ]
  },
  {
   "cell_type": "code",
   "execution_count": 32,
   "id": "4f399bc4",
   "metadata": {},
   "outputs": [
    {
     "data": {
      "text/plain": [
       "[(10, 'A'), (20, 'B'), (30, 'C')]"
      ]
     },
     "execution_count": 32,
     "metadata": {},
     "output_type": "execute_result"
    }
   ],
   "source": [
    "# zip: 2개의 리스트 또는 튜플을 쌍으로 묶어주는 기능\n",
    "# 반환값은 zip 객체\n",
    "# 요소가 적은 쪽의 객체에 맞춰서 slice 됨\n",
    "\n",
    "nums = [10, 20, 30, 40, 50]\n",
    "alpha = ['A', 'B', 'C']\n",
    "\n",
    "data = list(zip(nums, alpha))\n",
    "data"
   ]
  }
 ],
 "metadata": {
  "kernelspec": {
   "display_name": "basic",
   "language": "python",
   "name": "python3"
  },
  "language_info": {
   "codemirror_mode": {
    "name": "ipython",
    "version": 3
   },
   "file_extension": ".py",
   "mimetype": "text/x-python",
   "name": "python",
   "nbconvert_exporter": "python",
   "pygments_lexer": "ipython3",
   "version": "3.12.10"
  }
 },
 "nbformat": 4,
 "nbformat_minor": 5
}
