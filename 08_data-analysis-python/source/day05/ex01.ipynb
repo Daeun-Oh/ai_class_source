{
 "cells": [
  {
   "cell_type": "code",
   "execution_count": 1,
   "id": "29af16e0",
   "metadata": {},
   "outputs": [
    {
     "name": "stdout",
     "output_type": "stream",
     "text": [
      "<module 'sys' (built-in)>\n"
     ]
    }
   ],
   "source": [
    "import sys\n",
    "sys.path.append(\"C:/Users/admin/Desktop/Daeun-ai/08 Data-Analysis-Python/source/my_module\")\n",
    "print(sys)"
   ]
  },
  {
   "cell_type": "code",
   "execution_count": 2,
   "id": "02b10956",
   "metadata": {},
   "outputs": [
    {
     "name": "stdout",
     "output_type": "stream",
     "text": [
      "초기화 작업 중...\n"
     ]
    }
   ],
   "source": [
    "from game.graphic import echo_test"
   ]
  },
  {
   "cell_type": "code",
   "execution_count": 3,
   "id": "ad5c14c7",
   "metadata": {},
   "outputs": [
    {
     "data": {
      "text/plain": [
       "<function game.sound.echo.echo_test()>"
      ]
     },
     "execution_count": 3,
     "metadata": {},
     "output_type": "execute_result"
    }
   ],
   "source": [
    "echo_test"
   ]
  },
  {
   "cell_type": "code",
   "execution_count": 4,
   "id": "bfeef512",
   "metadata": {},
   "outputs": [],
   "source": [
    "import game"
   ]
  }
 ],
 "metadata": {
  "kernelspec": {
   "display_name": "basic",
   "language": "python",
   "name": "python3"
  },
  "language_info": {
   "codemirror_mode": {
    "name": "ipython",
    "version": 3
   },
   "file_extension": ".py",
   "mimetype": "text/x-python",
   "name": "python",
   "nbconvert_exporter": "python",
   "pygments_lexer": "ipython3",
   "version": "3.12.10"
  }
 },
 "nbformat": 4,
 "nbformat_minor": 5
}
