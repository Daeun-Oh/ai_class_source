{
 "cells": [
  {
   "cell_type": "markdown",
   "id": "66d67839",
   "metadata": {},
   "source": [
    "## 클래스\n",
    "```python\n",
    "class ...\n",
    "    def __call__(self, 매개변수...):\n",
    "        ...\n",
    "```\n",
    "- 객체 참조 변수를 함수처럼 호출하면 `__call__` 함수가 호출됨"
   ]
  },
  {
   "cell_type": "code",
   "execution_count": 2,
   "id": "6d2942e1",
   "metadata": {},
   "outputs": [
    {
     "data": {
      "text/plain": [
       "10"
      ]
     },
     "execution_count": 2,
     "metadata": {},
     "output_type": "execute_result"
    }
   ],
   "source": [
    "class Accumulator:\n",
    "    def __init__(self):\n",
    "        self.num = 0\n",
    "    \n",
    "    def __call__(self, num):\n",
    "        self.num += num\n",
    "        return self.num\n",
    "\n",
    "acc = Accumulator()\n",
    "acc(10)"
   ]
  }
 ],
 "metadata": {
  "kernelspec": {
   "display_name": "basic",
   "language": "python",
   "name": "python3"
  },
  "language_info": {
   "codemirror_mode": {
    "name": "ipython",
    "version": 3
   },
   "file_extension": ".py",
   "mimetype": "text/x-python",
   "name": "python",
   "nbconvert_exporter": "python",
   "pygments_lexer": "ipython3",
   "version": "3.12.10"
  }
 },
 "nbformat": 4,
 "nbformat_minor": 5
}
