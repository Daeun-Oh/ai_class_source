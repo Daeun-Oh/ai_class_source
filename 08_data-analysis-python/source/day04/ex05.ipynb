{
 "cells": [
  {
   "cell_type": "markdown",
   "id": "a6b1d9f8",
   "metadata": {},
   "source": [
    "## 클래스\n",
    "\n",
    "class ...\n",
    "    def __str__(self):\n",
    "        return \"문자열\"\n",
    "\n",
    "- 객체의 참조 변수를 출력하면 자도 호출되는 메서드\n",
    "    - 자바의 `toString()`과 동일한 역할"
   ]
  },
  {
   "cell_type": "code",
   "execution_count": 6,
   "id": "877aecc3",
   "metadata": {},
   "outputs": [],
   "source": [
    "class Calculator:\n",
    "    def __init__(self, a, b):\n",
    "        self.a = a\n",
    "        self.b = b\n",
    "\n",
    "    def add(self):\n",
    "        return self.a + self.b\n",
    "\n",
    "    def sub(self):\n",
    "        return self.a - self.b\n",
    "\n",
    "    def mul(self):\n",
    "        return self.a * self.b\n",
    "\n",
    "    def div(self):\n",
    "        return self.a / self.b\n",
    "\n",
    "    def __str__(self):\n",
    "        return f\"a={self.a}, b={self.b}\""
   ]
  },
  {
   "cell_type": "code",
   "execution_count": 7,
   "id": "fc921642",
   "metadata": {},
   "outputs": [
    {
     "name": "stdout",
     "output_type": "stream",
     "text": [
      "a=200, b=10\n"
     ]
    }
   ],
   "source": [
    "cal1 = Calculator(200, 10)\n",
    "\n",
    "print(cal1)"
   ]
  },
  {
   "cell_type": "markdown",
   "id": "dee40737",
   "metadata": {},
   "source": [
    "## 클래스의 상속\n",
    "\n",
    "```python\n",
    "class 자식클래스(부모클래스1, 부모클래스2, ...):\n",
    "    ...\n",
    "```\n",
    "- 다중 상속이 가능\n",
    "- 하위 클래스에서 상위클래스에 정의된 동일한 메서드를 정의해서 기능을 변경 -> 메서드 재정의"
   ]
  },
  {
   "cell_type": "code",
   "execution_count": null,
   "id": "f26ccfd4",
   "metadata": {},
   "outputs": [],
   "source": [
    "class MoreCalculator(Calculator):\n",
    "    def div(self):  # 메서드 재정의\n",
    "        if self.b == 0:\n",
    "            return 0\n",
    "\n",
    "        return Calculator.div(self) # super와 같은 기능\n"
   ]
  },
  {
   "cell_type": "code",
   "execution_count": 15,
   "id": "c2290211",
   "metadata": {},
   "outputs": [
    {
     "name": "stdout",
     "output_type": "stream",
     "text": [
      "0\n",
      "0.3\n"
     ]
    }
   ],
   "source": [
    "cal1 = MoreCalculator(10, 0)\n",
    "print(cal1.div())\n",
    "\n",
    "cal2 = MoreCalculator(15, 50)\n",
    "print(cal2.div())"
   ]
  },
  {
   "cell_type": "code",
   "execution_count": null,
   "id": "5f2238bd",
   "metadata": {},
   "outputs": [],
   "source": []
  }
 ],
 "metadata": {
  "kernelspec": {
   "display_name": "basic",
   "language": "python",
   "name": "python3"
  },
  "language_info": {
   "codemirror_mode": {
    "name": "ipython",
    "version": 3
   },
   "file_extension": ".py",
   "mimetype": "text/x-python",
   "name": "python",
   "nbconvert_exporter": "python",
   "pygments_lexer": "ipython3",
   "version": "3.12.10"
  }
 },
 "nbformat": 4,
 "nbformat_minor": 5
}
