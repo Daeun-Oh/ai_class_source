{
 "cells": [
  {
   "cell_type": "markdown",
   "id": "b039131c",
   "metadata": {},
   "source": [
    "## 다른 디렉토리에 있는 모듈을 불러오는 방법\n",
    "- sys.path에 불러올 모듈 경로 추가\n",
    "- set PYTHONPATH=모듈경로 / 윈도우즈 기준\n",
    "- export PYTHONPATH=모듈경로 / 리눅스, 맥 긱준"
   ]
  },
  {
   "cell_type": "code",
   "execution_count": 5,
   "id": "bce6ea7a",
   "metadata": {},
   "outputs": [
    {
     "data": {
      "text/plain": [
       "['C:\\\\Users\\\\admin\\\\AppData\\\\Local\\\\Programs\\\\Python\\\\Python312\\\\python312.zip',\n",
       " 'C:\\\\Users\\\\admin\\\\AppData\\\\Local\\\\Programs\\\\Python\\\\Python312\\\\DLLs',\n",
       " 'C:\\\\Users\\\\admin\\\\AppData\\\\Local\\\\Programs\\\\Python\\\\Python312\\\\Lib',\n",
       " 'C:\\\\Users\\\\admin\\\\AppData\\\\Local\\\\Programs\\\\Python\\\\Python312',\n",
       " 'c:\\\\Users\\\\admin\\\\Desktop\\\\Daeun-ai\\\\08 Data-Analysis-Python\\\\source\\\\basic',\n",
       " '',\n",
       " 'c:\\\\Users\\\\admin\\\\Desktop\\\\Daeun-ai\\\\08 Data-Analysis-Python\\\\source\\\\basic\\\\Lib\\\\site-packages',\n",
       " 'c:\\\\Users\\\\admin\\\\Desktop\\\\Daeun-ai\\\\08 Data-Analysis-Python\\\\source\\\\basic\\\\Lib\\\\site-packages\\\\win32',\n",
       " 'c:\\\\Users\\\\admin\\\\Desktop\\\\Daeun-ai\\\\08 Data-Analysis-Python\\\\source\\\\basic\\\\Lib\\\\site-packages\\\\win32\\\\lib',\n",
       " 'c:\\\\Users\\\\admin\\\\Desktop\\\\Daeun-ai\\\\08 Data-Analysis-Python\\\\source\\\\basic\\\\Lib\\\\site-packages\\\\Pythonwin',\n",
       " 'C:/Users/admin\\\\Desktop\\\\Daeun-ai/08 Data-Analysis-Python\\\\source\\\\day04\\\\my_module']"
      ]
     },
     "execution_count": 5,
     "metadata": {},
     "output_type": "execute_result"
    }
   ],
   "source": [
    "import sys\n",
    "sys.path\n",
    "#sys.path.append(\"C:/Users/admin\\Desktop\\Daeun-ai/08 Data-Analysis-Python\\source\\day04\\my_module\")"
   ]
  },
  {
   "cell_type": "code",
   "execution_count": 4,
   "id": "f5ca62c7",
   "metadata": {},
   "outputs": [],
   "source": [
    "import mod1"
   ]
  }
 ],
 "metadata": {
  "kernelspec": {
   "display_name": "basic",
   "language": "python",
   "name": "python3"
  },
  "language_info": {
   "codemirror_mode": {
    "name": "ipython",
    "version": 3
   },
   "file_extension": ".py",
   "mimetype": "text/x-python",
   "name": "python",
   "nbconvert_exporter": "python",
   "pygments_lexer": "ipython3",
   "version": "3.12.10"
  }
 },
 "nbformat": 4,
 "nbformat_minor": 5
}
