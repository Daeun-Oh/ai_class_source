{
 "cells": [
  {
   "cell_type": "markdown",
   "id": "9cffac11",
   "metadata": {},
   "source": [
    "# 패키지"
   ]
  },
  {
   "cell_type": "code",
   "execution_count": 1,
   "id": "5d453340",
   "metadata": {},
   "outputs": [],
   "source": [
    "import sys\n",
    "sys.path.append(\"C:/Users/admin/Desktop/Daeun-ai/08 Data-Analysis-Python/source/day04/my_module\")"
   ]
  },
  {
   "cell_type": "code",
   "execution_count": 2,
   "id": "2b342016",
   "metadata": {},
   "outputs": [],
   "source": [
    "import game.sound.echo"
   ]
  },
  {
   "cell_type": "code",
   "execution_count": 5,
   "id": "43e0c52f",
   "metadata": {},
   "outputs": [
    {
     "name": "stdout",
     "output_type": "stream",
     "text": [
      "echo\n"
     ]
    }
   ],
   "source": [
    "game.sound.echo.echo_test()"
   ]
  },
  {
   "cell_type": "code",
   "execution_count": 2,
   "id": "b7612718",
   "metadata": {},
   "outputs": [],
   "source": [
    "import game"
   ]
  },
  {
   "cell_type": "code",
   "execution_count": 3,
   "id": "5b7b2004",
   "metadata": {},
   "outputs": [
    {
     "ename": "AttributeError",
     "evalue": "module 'game' has no attribute 'sound'",
     "output_type": "error",
     "traceback": [
      "\u001b[31m---------------------------------------------------------------------------\u001b[39m",
      "\u001b[31mAttributeError\u001b[39m                            Traceback (most recent call last)",
      "\u001b[36mCell\u001b[39m\u001b[36m \u001b[39m\u001b[32mIn[3]\u001b[39m\u001b[32m, line 1\u001b[39m\n\u001b[32m----> \u001b[39m\u001b[32m1\u001b[39m \u001b[43mgame\u001b[49m\u001b[43m.\u001b[49m\u001b[43msound\u001b[49m.echo.echo_test()\n",
      "\u001b[31mAttributeError\u001b[39m: module 'game' has no attribute 'sound'"
     ]
    }
   ],
   "source": [
    "game.sound.echo.echo_test()"
   ]
  },
  {
   "cell_type": "code",
   "execution_count": 4,
   "id": "5c0f289a",
   "metadata": {},
   "outputs": [],
   "source": [
    "from game.sound.echo import echo_test"
   ]
  },
  {
   "cell_type": "code",
   "execution_count": 5,
   "id": "c298024f",
   "metadata": {},
   "outputs": [
    {
     "name": "stdout",
     "output_type": "stream",
     "text": [
      "echo\n"
     ]
    }
   ],
   "source": [
    "echo_test()"
   ]
  },
  {
   "cell_type": "markdown",
   "id": "bc1153ae",
   "metadata": {},
   "source": [
    "### __init__.py\n",
    "- 디렉토리가 패키지의 일부임을 알려주는 파일\n",
    "- 패키지 수준에서의 자원 공유\n",
    "- 모듈을 로드했을 때 최초에 실행, 초기화 작업 시에도 주로 사용"
   ]
  },
  {
   "cell_type": "code",
   "execution_count": 1,
   "id": "b1a161a2",
   "metadata": {},
   "outputs": [],
   "source": [
    "import sys\n",
    "sys.path.append(\"C:/Users/admin/Desktop/Daeun-ai/08 Data-Analysis-Python/source/day04/my_module\")"
   ]
  },
  {
   "cell_type": "code",
   "execution_count": 2,
   "id": "711b43a3",
   "metadata": {},
   "outputs": [
    {
     "data": {
      "text/plain": [
       "3.12"
      ]
     },
     "execution_count": 2,
     "metadata": {},
     "output_type": "execute_result"
    }
   ],
   "source": [
    "import game\n",
    "game.VERSION"
   ]
  },
  {
   "cell_type": "code",
   "execution_count": 3,
   "id": "95a16217",
   "metadata": {},
   "outputs": [
    {
     "name": "stdout",
     "output_type": "stream",
     "text": [
      "파이썬 버전은 3.12 입니다.\n"
     ]
    }
   ],
   "source": [
    "game.print_version_info()"
   ]
  },
  {
   "cell_type": "code",
   "execution_count": 5,
   "id": "20e3521b",
   "metadata": {},
   "outputs": [
    {
     "ename": "AttributeError",
     "evalue": "module 'game.sound' has no attribute 'VERSION'",
     "output_type": "error",
     "traceback": [
      "\u001b[31m---------------------------------------------------------------------------\u001b[39m",
      "\u001b[31mAttributeError\u001b[39m                            Traceback (most recent call last)",
      "\u001b[36mCell\u001b[39m\u001b[36m \u001b[39m\u001b[32mIn[5]\u001b[39m\u001b[32m, line 1\u001b[39m\n\u001b[32m----> \u001b[39m\u001b[32m1\u001b[39m \u001b[43mgame\u001b[49m\u001b[43m.\u001b[49m\u001b[43msound\u001b[49m\u001b[43m.\u001b[49m\u001b[43mVERSION\u001b[49m\n",
      "\u001b[31mAttributeError\u001b[39m: module 'game.sound' has no attribute 'VERSION'"
     ]
    }
   ],
   "source": [
    "game.sound.VERSION"
   ]
  },
  {
   "cell_type": "code",
   "execution_count": null,
   "id": "614e60b4",
   "metadata": {},
   "outputs": [],
   "source": []
  }
 ],
 "metadata": {
  "kernelspec": {
   "display_name": "basic",
   "language": "python",
   "name": "python3"
  },
  "language_info": {
   "codemirror_mode": {
    "name": "ipython",
    "version": 3
   },
   "file_extension": ".py",
   "mimetype": "text/x-python",
   "name": "python",
   "nbconvert_exporter": "python",
   "pygments_lexer": "ipython3",
   "version": "3.12.10"
  }
 },
 "nbformat": 4,
 "nbformat_minor": 5
}
