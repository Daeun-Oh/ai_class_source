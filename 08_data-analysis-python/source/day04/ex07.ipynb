{
 "cells": [
  {
   "cell_type": "markdown",
   "id": "7bd486d2",
   "metadata": {},
   "source": [
    "# 모듈\n",
    "## 1. 모듈이란?\n",
    "\n",
    "- 함수나 변수 또는 클래스를 모아 놓은 파이썬 파일\n",
    "- 다른 파이썬 프로그램에서 불러와 사용할 수 있도록 만든 파이썬 파일\n",
    "\n",
    "## 2. 모듈 만들기\n",
    "\n",
    "## 3. 모듈 불러오기\n",
    "```python\n",
    "import 모듈명\n",
    "from 모듈_이름을_포함한_패키지_경로 import 함수_또는_변수,_클래스명...\n",
    "from 모듈_이름을_포함한_패키지_경로 import * -> 해당 모듈의 모든 함수, 변수, 클래스 등\n",
    "```\n",
    "> 모듈명은 확장자를 제외한 파일명\n",
    "\n",
    "- 모듈 사용하기\n",
    "\n",
    "```python\n",
    "모듈명.함수명(..)\n",
    "모듈명.변수명\n",
    "```"
   ]
  },
  {
   "cell_type": "code",
   "execution_count": 5,
   "id": "a6d36dae",
   "metadata": {},
   "outputs": [
    {
     "data": {
      "text/plain": [
       "7"
      ]
     },
     "execution_count": 5,
     "metadata": {},
     "output_type": "execute_result"
    }
   ],
   "source": [
    "import mod1\n",
    "\n",
    "mod1.add(2, 5)"
   ]
  },
  {
   "cell_type": "code",
   "execution_count": 2,
   "id": "ce9736ba",
   "metadata": {},
   "outputs": [
    {
     "data": {
      "text/plain": [
       "8"
      ]
     },
     "execution_count": 2,
     "metadata": {},
     "output_type": "execute_result"
    }
   ],
   "source": [
    "# from mod1 import add, sub\n",
    "from mod1 import *\n",
    "\n",
    "add(2, 6)"
   ]
  },
  {
   "cell_type": "code",
   "execution_count": 1,
   "id": "758b9355",
   "metadata": {},
   "outputs": [],
   "source": [
    "import mod1"
   ]
  },
  {
   "cell_type": "markdown",
   "id": "d5102115",
   "metadata": {},
   "source": [
    "## __name__ : 모듈 이름\n",
    "- 파이썬 파일을 실행하는 모듈 주로 `__main__` 이름의 모듈\n",
    "- import를 통해서 불러오는 모듈의 이름은 `모듈명`"
   ]
  },
  {
   "cell_type": "code",
   "execution_count": 3,
   "id": "5cb6584a",
   "metadata": {},
   "outputs": [
    {
     "data": {
      "text/plain": [
       "'__main__'"
      ]
     },
     "execution_count": 3,
     "metadata": {},
     "output_type": "execute_result"
    }
   ],
   "source": [
    "__name__"
   ]
  },
  {
   "cell_type": "code",
   "execution_count": 4,
   "id": "05d2797b",
   "metadata": {},
   "outputs": [],
   "source": [
    "from mod2 import Circle, PI"
   ]
  },
  {
   "cell_type": "code",
   "execution_count": 5,
   "id": "2338d98a",
   "metadata": {},
   "outputs": [
    {
     "data": {
      "text/plain": [
       "314.1592"
      ]
     },
     "execution_count": 5,
     "metadata": {},
     "output_type": "execute_result"
    }
   ],
   "source": [
    "c = Circle()\n",
    "c.area(10)"
   ]
  },
  {
   "cell_type": "code",
   "execution_count": null,
   "id": "1b95b07d",
   "metadata": {},
   "outputs": [],
   "source": []
  }
 ],
 "metadata": {
  "kernelspec": {
   "display_name": "basic",
   "language": "python",
   "name": "python3"
  },
  "language_info": {
   "codemirror_mode": {
    "name": "ipython",
    "version": 3
   },
   "file_extension": ".py",
   "mimetype": "text/x-python",
   "name": "python",
   "nbconvert_exporter": "python",
   "pygments_lexer": "ipython3",
   "version": "3.12.10"
  }
 },
 "nbformat": 4,
 "nbformat_minor": 5
}
