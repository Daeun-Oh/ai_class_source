{
 "cells": [
  {
   "cell_type": "code",
   "execution_count": 2,
   "id": "b4d3f135",
   "metadata": {},
   "outputs": [
    {
     "data": {
      "text/plain": [
       "'김건우'"
      ]
     },
     "execution_count": 2,
     "metadata": {},
     "output_type": "execute_result"
    }
   ],
   "source": [
    "from faker import Faker\n",
    "\n",
    "faker = Faker(\"ko-KR\")\n",
    "faker.name()"
   ]
  },
  {
   "cell_type": "code",
   "execution_count": 3,
   "id": "77fe730f",
   "metadata": {},
   "outputs": [
    {
     "data": {
      "text/plain": [
       "[('서하은', '대전광역시 강북구 학동52길 781 (성호김마을)'),\n",
       " ('이승민', '세종특별자치시 북구 언주2길 지하982 (준영김권읍)'),\n",
       " ('오성진', '강원도 부여군 압구정길 420 (지혜이동)'),\n",
       " ('권옥자', '경상북도 당진시 논현616가 876-40'),\n",
       " ('남영일', '전라북도 증평군 오금가 지하454'),\n",
       " ('한은경', '부산광역시 은평구 삼성로 538-71'),\n",
       " ('이예원', '광주광역시 관악구 테헤란9가 511'),\n",
       " ('이현정', '경상남도 안양시 만안구 영동대15가 981-43'),\n",
       " ('김영호', '강원도 성남시 분당구 봉은사가 266-80'),\n",
       " ('김예원', '충청북도 청주시 서원구 서초중앙196가 394 (상호홍배읍)'),\n",
       " ('송경자', '경상남도 청양군 언주길 663-10 (영숙심리)'),\n",
       " ('최동현', '강원도 고양시 일산서구 서초대길 916'),\n",
       " ('박하은', '인천광역시 송파구 가락로 256 (경자이리)'),\n",
       " ('이정웅', '대전광역시 구로구 영동대로 135-72'),\n",
       " ('이은주', '인천광역시 남구 테헤란0가 214-94'),\n",
       " ('박옥자', '세종특별자치시 서구 영동대1거리 179 (경희김김마을)'),\n",
       " ('이윤서', '충청남도 안성시 봉은사가 205'),\n",
       " ('김유진', '충청남도 홍성군 백제고분로 111-45 (현지강김읍)'),\n",
       " ('황영길', '경상북도 연천군 언주길 지하601 (영길남성동)'),\n",
       " ('김경자', '경상북도 성남시 수정구 백제고분7길 647'),\n",
       " ('김정순', '충청남도 용인시 선릉가 지하598 (영자김면)'),\n",
       " ('김진우', '광주광역시 동구 오금8길 853 (서현김김면)'),\n",
       " ('이성훈', '전라북도 동두천시 테헤란길 394 (정남안읍)'),\n",
       " ('배정호', '대전광역시 중랑구 서초대거리 727 (경자백동)'),\n",
       " ('안선영', '전라남도 의정부시 영동대가 462 (영길김김마을)'),\n",
       " ('김현우', '경상북도 고양시 일산동구 백제고분77가 294 (성민김마을)'),\n",
       " ('이정희', '대구광역시 동구 테헤란85로 612-14'),\n",
       " ('윤영길', '충청남도 단양군 서초중앙02가 206-65 (보람이마을)'),\n",
       " ('윤동현', '충청북도 과천시 백제고분로 445-33'),\n",
       " ('김현주', '서울특별시 구로구 백제고분가 307')]"
      ]
     },
     "execution_count": 3,
     "metadata": {},
     "output_type": "execute_result"
    }
   ],
   "source": [
    "members = [(faker.name(), faker.address()) for _ in range(30)]\n",
    "members"
   ]
  },
  {
   "cell_type": "code",
   "execution_count": 4,
   "id": "6b348555",
   "metadata": {},
   "outputs": [],
   "source": [
    "str = \"이이름\".encode(\"euc-kr\")"
   ]
  },
  {
   "cell_type": "code",
   "execution_count": 5,
   "id": "4b8f5926",
   "metadata": {},
   "outputs": [
    {
     "data": {
      "text/plain": [
       "'이이름'"
      ]
     },
     "execution_count": 5,
     "metadata": {},
     "output_type": "execute_result"
    }
   ],
   "source": [
    "str2 = str.decode(\"euc-kr\")\n",
    "str2"
   ]
  },
  {
   "cell_type": "code",
   "execution_count": null,
   "id": "adb0e316",
   "metadata": {},
   "outputs": [],
   "source": []
  }
 ],
 "metadata": {
  "kernelspec": {
   "display_name": "basic",
   "language": "python",
   "name": "python3"
  },
  "language_info": {
   "codemirror_mode": {
    "name": "ipython",
    "version": 3
   },
   "file_extension": ".py",
   "mimetype": "text/x-python",
   "name": "python",
   "nbconvert_exporter": "python",
   "pygments_lexer": "ipython3",
   "version": "3.12.10"
  }
 },
 "nbformat": 4,
 "nbformat_minor": 5
}
